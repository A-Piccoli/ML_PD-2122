{
 "cells": [
  {
   "cell_type": "markdown",
   "source": [
    "# Analisi statistica di un testo\n",
    "\n",
    "* Importare il testo contenuto nel file \"I promessi sposi.txt\"\n",
    "* Elaborare il file importato per ottenere una lista di tutte le parole utilizzate\n",
    "* Stampare nell'ordine alcune informazioni sul testo:\n",
    "    * Numero di frasi, Numero di capitoli\n",
    "    * Numero di parole utilizzate in totale\n",
    "    * Numero di parole univoche utilizzate\n",
    "    * Parola utilizzata di piu'\n",
    "    * Parola piu' lunga\n",
    "    * Parola utilizzata di piu' escludendo congiunzioni e articoli\n",
    "    * Lunghezza media delle parole\n",
    "    * lunghezza media delle frasi\n",
    "    * lunghezza media dei capitoli\n",
    "* Utilizzare le espressioni regolari per rispondere alle seguenti domande:\n",
    "    * Quanti caratteri di newline (\\n) sono stati utilizzati nel testo\n",
    "    * Quanti caratteri di spazio sono stati utilizzati\n",
    "* Quale e' la lettera piu' utilizzata e quella meno utilizzata\n",
    "* Visualizzare un diagramma a barre con le 10 parole piu' utilizzate escluse congiunzioni e articoli\n",
    "* Visualizzare un diagramma che metta evidenza il numero di parole che hanno un determinato numero di lettere\n",
    "* Salvare i risultati della ricerca su un file di tipo csv creato appositamente per il salvataggio dei dati.\n",
    "\n",
    "Cercate online il testo di un altra opera letteraria. [Questo](https://www.liberliber.it/online/opere/libri/istruzioni/) e' un ottimo sito da cui partire per scaricarla legalmente. Ripetere l'analisi.\n",
    "NB: In caso il libro non fosse disponibile in formato .txt, tentare un copia incolla da un file odt. creando la propria versione di testo semplice.\n"
   ],
   "metadata": {
    "collapsed": false,
    "pycharm": {
     "name": "#%% md\n"
    }
   }
  },
  {
   "cell_type": "markdown",
   "source": [
    "# Sentiment Analisys\n",
    "* Cercare online due liste di parole, una che identifichi un sentimento positivo (\"bello\", \"buono\", \"simpatico\" ecc..) una che identifichi dei sentimenti negativi (\"brutto\",\"cattivo\",\"antipatico\", ecc.. ecc..).\n",
    "* Scrivere uno script che prenda in esame un testo e valuti se questo esprime pensieri positivi o negtivi andando a contare le occorrenze nei due gruppi. Testare lo script su ciascun capitolo dei promessi sposi e poi su alcuni tweet reperibili online."
   ],
   "metadata": {
    "collapsed": false,
    "pycharm": {
     "name": "#%% md\n"
    }
   }
  },
  {
   "cell_type": "markdown",
   "source": [
    "# Semplice filtro anti_spam\n",
    "* Scarica online o dalla tua casella di posta una serie dei piu' comuni messaggi spam. Salva questi messaggi in un file di testo accessibile.\n",
    "* Crea con essi una lista di 30 parole o frasi, che piu' comunemente compaiono nei messaggi di spam.\n",
    "* Scrivi uno script che riceva in input dall'utente una mail proveniente dalla sua casella di posta e valuti, assegnando un \"punteggio spam\" generato contando le occorrenze delle parole individuate nel punto precedente, se il messaggio e' o non e' un messaggio di spam."
   ],
   "metadata": {
    "collapsed": false,
    "pycharm": {
     "name": "#%% md\n"
    }
   }
  },
  {
   "cell_type": "markdown",
   "source": [
    "# Espressioni regolari\n",
    "Per ciascuna delle seguenti, scrivere un testo su cui testare il proprio codice.\n",
    "* Scrivi una espressione regolare che individui in un testo gli indirizzi web del tipo: `http:\\\\www.nome_dominio.estensione` ove _estensione_ e' un gruppo di 2 o piu' lettere.\n",
    "* Scrivere uno script che utilizzi delle espressioni regolari per individuare in un testo alcune date, tenendo presente che potrebbero essere scritte in questi 3 modi:\n",
    "    * 310180\n",
    "    * 31011980\n",
    "    * 31/01/1980\n",
    "* Scrivere uno script che permetta di validare delle password utilizzando delle espressioni regolari. Le password da validare potranno essere di due tipi:\n",
    "    * passfrase formate da almeno 5 parole separate da trattini, trattini bassi, punti o virgole\n",
    "    * password di almeno 8 caratteri tra i quali almeno un numero, una lettera minuscola, una lettera maiuscola e un carattere di punteggiatura"
   ],
   "metadata": {
    "collapsed": false,
    "pycharm": {
     "name": "#%% md\n"
    }
   }
  },
  {
   "cell_type": "markdown",
   "source": [
    "# Analisi dei discorsi dei presidenti della repubblica\n",
    "Su questo sito [del quirinale](https://www.quirinale.it/ricerca/discorsi) sono disponibili tutti i discorsi dell'attuale presidente della repubblica.<br>\n",
    " Cercate nell'archivio i discorsi relativi al messaggio di fine anno su 3 anni consecutivi a vostra scelta, copiate e incollate i testi su altrettanti file di testo e realizzate un'analisi statistica su ciascun testo, mettendo a confronto i risultati anche con diagrammi e tabelle (conteggio delle parole, lunghezza delle frasi, 10 parole piu' lunghe ecc...).<br>\n",
    " Utilizzate opportunamente il codice eventualmente gia' a vostra disposizione utilizzato nel primo degli esercizi di questa pagina.<br>\n",
    " [Qui](https://presidenti.quirinale.it) sono disponibili anche tutti i discorsi di tutti i presidenti della repubblica della storia della repubblica.<br>\n",
    " Ripetere la ricerca con un altro presidente della repubblica, sempre su 3 discorsi di fine anno consecutivi distinti.<br>\n",
    " Mettere a confronto i risultati ottenuti tra i due presidenti."
   ],
   "metadata": {
    "collapsed": false,
    "pycharm": {
     "name": "#%% md\n"
    }
   }
  },
  {
   "cell_type": "markdown",
   "metadata": {
    "collapsed": true,
    "pycharm": {
     "name": "#%% md\n"
    }
   },
   "source": []
  }
 ],
 "metadata": {
  "kernelspec": {
   "display_name": "Python 3",
   "language": "python",
   "name": "python3"
  },
  "language_info": {
   "codemirror_mode": {
    "name": "ipython",
    "version": 2
   },
   "file_extension": ".py",
   "mimetype": "text/x-python",
   "name": "python",
   "nbconvert_exporter": "python",
   "pygments_lexer": "ipython2",
   "version": "2.7.6"
  }
 },
 "nbformat": 4,
 "nbformat_minor": 0
}