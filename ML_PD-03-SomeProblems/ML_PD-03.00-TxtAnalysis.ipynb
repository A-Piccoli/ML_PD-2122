{
 "cells": [
  {
   "cell_type": "markdown",
   "metadata": {
    "pycharm": {
     "name": "#%% md\n"
    }
   },
   "source": [
    "# Analisi statistica di un testo\n",
    "\n",
    "* Importare il testo contenuto nel file \"I promessi sposi.txt\"\n",
    "* Elaborare il file importato per ottenere una lista di tutte le parole\n",
    "* Stampare nell'ordine alcune informazioni sul testo:\n",
    "    * Numero di frasi, Numero di capitoli\n",
    "    * Numero di parole utilizzate in totale\n",
    "    * Numero di parole univoche utilizzate\n",
    "    * Parola utilizzata di piu'\n",
    "    * Parola piu' lunga\n",
    "    * Parola utilizzata di piu' escludendo congiunzioni e articoli\n",
    "    * Lunghezza media delle parole\n",
    "    * lunghezza media delle frasi\n",
    "    * lunghezza media dei capitoli\n",
    "* Utilizzare le espressioni regolari per rispondere alle seguenti domande:\n",
    "    * Quanti caratteri di newline (\\n) sono stati utilizzati nel testo\n",
    "    * Quanti caratteri di spazio sono stati utilizzati\n",
    "* Quale e' la lettera piu' utilizzata e quella meno utilizzata\n",
    "* Visualizzare un diagramma a barre con le 10 parole piu' utilizzate escluse congiunzioni e articoli\n",
    "* Visualizzare un diagramma che metta evidenza il numero di parole che hanno un determinato numero di lettere\n",
    "* Salvare i risultati della ricerca su un file di tipo csv creato appositamente per il salvataggio dei dati.\n",
    "\n",
    "Cercate online il testo di un altra opera letteraria. [Questo](https://www.liberliber.it/online/opere/libri/istruzioni/) e' un ottimo sito da cui partire per scaricarla legalmente. Ripetere l'analisi.\n",
    "NB: In caso il libro non fosse disponibile in formato .txt, tentare un copia incolla da un file odt. creando la propria versione di testo semplice.\n"
   ]
  },
  {
   "cell_type": "markdown",
   "metadata": {},
   "source": [
    "## Importare il testo contenuto nel file \"I promessi sposi.txt\""
   ]
  },
  {
   "cell_type": "code",
   "execution_count": 1,
   "metadata": {
    "pycharm": {
     "name": "#%%\n"
    }
   },
   "outputs": [],
   "source": [
    "file_name = \"manzoni_i_promessi_sposi.txt\"\n",
    "\n",
    "with open(file_name, encoding = \"ANSI\") as my_file:\n",
    "    \n",
    "    entire_file = my_file.read()\n",
    "    "
   ]
  },
  {
   "cell_type": "code",
   "execution_count": 2,
   "metadata": {},
   "outputs": [
    {
     "data": {
      "text/plain": [
       "'INTRODUZIONE\\n  \"L\\'Historia si può veramente deffinire una guerra illustre contro il Tempo, perché togliendoli di mano gl\\'anni suoi prigionieri, anzi già fatti cadaueri, li richiama in vita, li passa in rassegna, e li schiera di nuovo in battaglia. Ma gl\\'illustri Campioni che in tal Arringo fanno messe di Palme e d\\'Allori, rapiscono solo che le sole spoglie più sfarzose e brillanti, imbalsamando co\\' loro inchiostri le Imprese de Prencipi e Potentati, e qualificati Personaggj, e trapontando coll\\'ago finissimo dell\\'ingegno i fili d\\'oro e di seta, che formano un perpetuo ricamo di Attioni gloriose. Però alla mia debolezza non è lecito solleuarsi a tal\\'argomenti, e sublimità pericolose, con aggirarsi tra Labirinti de\\' Politici maneggj, et il rimbombo de\\' bellici Oricalchi: solo che hauendo hauuto notitia di fatti memorabili, se ben capitorno a gente meccaniche, e di piccol affare, mi accingo di lasciarne memoria a Posteri, con far di tutto schietta e genuinamente il Racconto, ouuero sia Rel'"
      ]
     },
     "execution_count": 2,
     "metadata": {},
     "output_type": "execute_result"
    }
   ],
   "source": [
    "entire_file[:1000]"
   ]
  },
  {
   "cell_type": "code",
   "execution_count": 3,
   "metadata": {},
   "outputs": [
    {
     "data": {
      "text/plain": [
       "\" – e io, – disse un giorno al suo moralista, – cosa volete che abbia imparato? Io non sono andata a cercare i guai: son loro che sono venuti a cercar me. Quando non voleste dire, – aggiunse, soavemente sorridendo, – che il mio sproposito sia stato quello di volervi bene, e di promettermi a voi.\\n  Renzo, alla prima, rimase impicciato. Dopo un lungo dibattere e cercare insieme, conclusero che i guai vengono bensì spesso, perché ci si è dato cagione; ma che la condotta più cauta e più innocente non basta a tenerli lontani; e che quando vengono, o per colpa o senza colpa, la fiducia in Dio li raddolcisce, e li rende utili per una vita migliore. Questa conclusione, benché trovata da povera gente, c'è parsa così giusta, che abbiam pensato di metterla qui, come il sugo di tutta la storia.\\n  La quale, se non v'è dispiaciuta affatto, vogliatene bene a chi l'ha scritta, e anche un pochino a chi l'ha raccomodata. Ma se in vece fossimo riusciti ad annoiarvi, credete che non s'è fatto apposta.\\n10\\n\\n\""
      ]
     },
     "execution_count": 3,
     "metadata": {},
     "output_type": "execute_result"
    }
   ],
   "source": [
    "entire_file[-1000:]"
   ]
  },
  {
   "cell_type": "code",
   "execution_count": 4,
   "metadata": {},
   "outputs": [
    {
     "data": {
      "text/plain": [
       "1312445"
      ]
     },
     "execution_count": 4,
     "metadata": {},
     "output_type": "execute_result"
    }
   ],
   "source": [
    "len(entire_file)"
   ]
  },
  {
   "cell_type": "markdown",
   "metadata": {},
   "source": [
    "## Elaborare il file importato per ottenere una lista di tutte le parole utilizzate"
   ]
  },
  {
   "cell_type": "code",
   "execution_count": 5,
   "metadata": {},
   "outputs": [],
   "source": [
    "import re\n"
   ]
  },
  {
   "cell_type": "code",
   "execution_count": 8,
   "metadata": {},
   "outputs": [
    {
     "data": {
      "text/plain": [
       "'ta  Ma se in vece fossimo riusciti ad annoiarvi  credete che non s   fatto apposta      '"
      ]
     },
     "execution_count": 8,
     "metadata": {},
     "output_type": "execute_result"
    }
   ],
   "source": []
  },
  {
   "cell_type": "code",
   "execution_count": 27,
   "metadata": {},
   "outputs": [],
   "source": [
    "pattern = \"[\\W\\d]\" # ruppo che contiene tutti i caratteri non alphanumerici e tutti i numeri\n",
    "entire_file = entire_file.lower()\n",
    "\n",
    "list_of_w = re.sub(pattern,\" \", entire_file).split()\n"
   ]
  },
  {
   "cell_type": "code",
   "execution_count": 31,
   "metadata": {
    "scrolled": true
   },
   "outputs": [
    {
     "name": "stdout",
     "output_type": "stream",
     "text": [
      "numero di parole = 223783\n",
      "numero di parole univoche = 19579\n"
     ]
    }
   ],
   "source": [
    "print(f\"numero di parole = {len(list_of_w)}\")\n",
    "print(f\"numero di parole univoche = {len(set(list_of_w))}\")"
   ]
  },
  {
   "cell_type": "code",
   "execution_count": null,
   "metadata": {},
   "outputs": [],
   "source": []
  },
  {
   "cell_type": "code",
   "execution_count": null,
   "metadata": {},
   "outputs": [],
   "source": []
  },
  {
   "cell_type": "markdown",
   "metadata": {
    "pycharm": {
     "name": "#%% md\n"
    }
   },
   "source": [
    "# Sentiment Analisys\n",
    "* Cercare online due liste di parole, una che identifichi un sentimento positivo (\"bello\", \"buono\", \"simpatico\" ecc..) una che identifichi dei sentimenti negativi (\"brutto\",\"cattivo\",\"antipatico\", ecc.. ecc..).\n",
    "* Scrivere uno script che prenda in esame un testo e valuti se questo esprime pensieri positivi o negtivi andando a contare le occorrenze nei due gruppi. Testare lo script su ciascun capitolo dei promessi sposi e poi su alcuni tweet reperibili online."
   ]
  },
  {
   "cell_type": "markdown",
   "metadata": {
    "pycharm": {
     "name": "#%% md\n"
    }
   },
   "source": [
    "# Semplice filtro anti_spam\n",
    "* Scarica online o dalla tua casella di posta una serie dei piu' comuni messaggi spam. Salva questi messaggi in un file di testo accessibile.\n",
    "* Crea con essi una lista di 30 parole o frasi, che piu' comunemente compaiono nei messaggi di spam.\n",
    "* Scrivi uno script che riceva in input dall'utente una mail proveniente dalla sua casella di posta e valuti, assegnando un \"punteggio spam\" generato contando le occorrenze delle parole individuate nel punto precedente, se il messaggio e' o non e' un messaggio di spam."
   ]
  },
  {
   "cell_type": "markdown",
   "metadata": {
    "pycharm": {
     "name": "#%% md\n"
    }
   },
   "source": [
    "# Espressioni regolari\n",
    "Per ciascuna delle seguenti, scrivere un testo su cui testare il proprio codice.\n",
    "* Scrivi una espressione regolare che individui in un testo gli indirizzi web del tipo: `http:\\\\www.nome_dominio.estensione` ove _estensione_ e' un gruppo di 2 o piu' lettere.\n",
    "* Scrivere uno script che utilizzi delle espressioni regolari per individuare in un testo alcune date, tenendo presente che potrebbero essere scritte in questi 3 modi:\n",
    "    * 310180\n",
    "    * 31011980\n",
    "    * 31/01/1980\n",
    "* Scrivere uno script che permetta di validare delle password utilizzando delle espressioni regolari. Le password da validare potranno essere di due tipi:\n",
    "    * passfrase formate da almeno 5 parole separate da trattini, trattini bassi, punti o virgole\n",
    "    * password di almeno 8 caratteri tra i quali almeno un numero, una lettera minuscola, una lettera maiuscola e un carattere di punteggiatura"
   ]
  },
  {
   "cell_type": "markdown",
   "metadata": {
    "pycharm": {
     "name": "#%% md\n"
    }
   },
   "source": [
    "# Analisi dei discorsi dei presidenti della repubblica\n",
    "Su questo sito [del quirinale](https://www.quirinale.it/ricerca/discorsi) sono disponibili tutti i discorsi dell'attuale presidente della repubblica.<br>\n",
    " Cercate nell'archivio i discorsi relativi al messaggio di fine anno su 3 anni consecutivi a vostra scelta, copiate e incollate i testi su altrettanti file di testo e realizzate un'analisi statistica su ciascun testo, mettendo a confronto i risultati anche con diagrammi e tabelle (conteggio delle parole, lunghezza delle frasi, 10 parole piu' lunghe ecc...).<br>\n",
    " Utilizzate opportunamente il codice eventualmente gia' a vostra disposizione utilizzato nel primo degli esercizi di questa pagina.<br>\n",
    " [Qui](https://presidenti.quirinale.it) sono disponibili anche tutti i discorsi di tutti i presidenti della repubblica della storia della repubblica.<br>\n",
    " Ripetere la ricerca con un altro presidente della repubblica, sempre su 3 discorsi di fine anno consecutivi distinti.<br>\n",
    " Mettere a confronto i risultati ottenuti tra i due presidenti."
   ]
  },
  {
   "cell_type": "markdown",
   "metadata": {
    "collapsed": true,
    "pycharm": {
     "name": "#%% md\n"
    }
   },
   "source": []
  }
 ],
 "metadata": {
  "kernelspec": {
   "display_name": "Python 3 (ipykernel)",
   "language": "python",
   "name": "python3"
  },
  "language_info": {
   "codemirror_mode": {
    "name": "ipython",
    "version": 3
   },
   "file_extension": ".py",
   "mimetype": "text/x-python",
   "name": "python",
   "nbconvert_exporter": "python",
   "pygments_lexer": "ipython3",
   "version": "3.9.7"
  },
  "toc": {
   "base_numbering": 1,
   "nav_menu": {},
   "number_sections": true,
   "sideBar": true,
   "skip_h1_title": false,
   "title_cell": "Table of Contents",
   "title_sidebar": "Contents",
   "toc_cell": false,
   "toc_position": {},
   "toc_section_display": true,
   "toc_window_display": false
  },
  "varInspector": {
   "cols": {
    "lenName": 16,
    "lenType": 16,
    "lenVar": 40
   },
   "kernels_config": {
    "python": {
     "delete_cmd_postfix": "",
     "delete_cmd_prefix": "del ",
     "library": "var_list.py",
     "varRefreshCmd": "print(var_dic_list())"
    },
    "r": {
     "delete_cmd_postfix": ") ",
     "delete_cmd_prefix": "rm(",
     "library": "var_list.r",
     "varRefreshCmd": "cat(var_dic_list()) "
    }
   },
   "types_to_exclude": [
    "module",
    "function",
    "builtin_function_or_method",
    "instance",
    "_Feature"
   ],
   "window_display": false
  }
 },
 "nbformat": 4,
 "nbformat_minor": 1
}