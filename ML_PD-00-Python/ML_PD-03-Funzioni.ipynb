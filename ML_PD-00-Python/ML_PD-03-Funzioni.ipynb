{
 "cells": [
  {
   "cell_type": "markdown",
   "id": "4150e841",
   "metadata": {
    "toc": true
   },
   "source": [
    "<h1>Indice<span class=\"tocSkip\"></span></h1>\n",
    "<div class=\"toc\"><ul class=\"toc-item\"><li><span><a href=\"#Positional-e-keyword-argument\" data-toc-modified-id=\"Positional-e-keyword-argument-1\"><span class=\"toc-item-num\">1&nbsp;&nbsp;</span>Positional e keyword argument</a></span></li><li><span><a href=\"#Restituzione-di-piu'-valori\" data-toc-modified-id=\"Restituzione-di-piu'-valori-2\"><span class=\"toc-item-num\">2&nbsp;&nbsp;</span>Restituzione di piu' valori</a></span></li><li><span><a href=\"#*args:-un-numero-imprecisato-di-argomenti\" data-toc-modified-id=\"*args:-un-numero-imprecisato-di-argomenti-3\"><span class=\"toc-item-num\">3&nbsp;&nbsp;</span>*args: un numero imprecisato di argomenti</a></span></li><li><span><a href=\"#Variabili-locali-e-globali\" data-toc-modified-id=\"Variabili-locali-e-globali-4\"><span class=\"toc-item-num\">4&nbsp;&nbsp;</span>Variabili locali e globali</a></span></li></ul></div>"
   ]
  },
  {
   "cell_type": "markdown",
   "id": "994e22ea",
   "metadata": {},
   "source": [
    "# Le funzioni su Python"
   ]
  },
  {
   "cell_type": "markdown",
   "id": "0efea109",
   "metadata": {
    "pycharm": {
     "name": "#%% md\n"
    }
   },
   "source": [
    "Le funzioni su python si definiscono con il comando 'def':<br>\n",
    "```python\n",
    "def nomefunzione(parametri):\n",
    "    \"\"\"docstirng con descrizione\"\"\"\n",
    "    <corpo_della_funzione>\n",
    "    return variabile_da_restituire\n",
    "```\n"
   ]
  },
  {
   "cell_type": "code",
   "execution_count": 1,
   "id": "87a0d28d",
   "metadata": {
    "pycharm": {
     "name": "#%%\n"
    }
   },
   "outputs": [],
   "source": [
    "# definisco la funzione radQ che agisce su \"parametro_numero\"\n",
    "def radQ(parametro_numero):\n",
    "    \"\"\"Funzione che calcola la radice quadrata di un numero\n",
    "    parametro_numero: il numero di cui faremo la radice quadrata\n",
    "    \"\"\"\n",
    "    \n",
    "    risultato = parametro_numero ** 0.5\n",
    "    \n",
    "    return risultato"
   ]
  },
  {
   "cell_type": "code",
   "execution_count": 2,
   "id": "bbc43a08",
   "metadata": {
    "pycharm": {
     "name": "#%%\n"
    }
   },
   "outputs": [
    {
     "data": {
      "text/plain": [
       "2.449489742783178"
      ]
     },
     "execution_count": 2,
     "metadata": {},
     "output_type": "execute_result"
    }
   ],
   "source": [
    "# pre eseguirla \"la chiamo\", fornendo un valore numerico al parametro\n",
    "radQ(6)"
   ]
  },
  {
   "cell_type": "code",
   "execution_count": 3,
   "id": "67b0cce5",
   "metadata": {
    "pycharm": {
     "name": "#%%\n"
    }
   },
   "outputs": [],
   "source": [
    "# Se ho piu' parametri:\n",
    "def somma(num1, num2):\n",
    "    \"\"\"Restituisce la somma di due numeri\n",
    "    num1: numero\n",
    "    num2: numero\n",
    "    \"\"\"\n",
    "    \n",
    "    return num1 + num2"
   ]
  },
  {
   "cell_type": "code",
   "execution_count": 4,
   "id": "e60c08ff",
   "metadata": {
    "pycharm": {
     "name": "#%%\n"
    }
   },
   "outputs": [
    {
     "name": "stdout",
     "output_type": "stream",
     "text": [
      "Help on function somma in module __main__:\n",
      "\n",
      "somma(num1, num2)\n",
      "    Restituisce la somma di due numeri\n",
      "    num1: numero\n",
      "    num2: numero\n",
      "\n"
     ]
    }
   ],
   "source": [
    "# Chiamare l'help sulla funzione ne stampa a a monitor la Docstring\n",
    "help(somma)"
   ]
  },
  {
   "cell_type": "code",
   "execution_count": 5,
   "id": "64b678fb",
   "metadata": {
    "pycharm": {
     "name": "#%%\n"
    }
   },
   "outputs": [
    {
     "data": {
      "text/plain": [
       "57"
      ]
     },
     "execution_count": 5,
     "metadata": {},
     "output_type": "execute_result"
    }
   ],
   "source": [
    "# L'assegnazione dei parametri avviene per posizione: primo parametro, num1\n",
    "# secondo parametro num2\n",
    "\n",
    "somma(12, 45)"
   ]
  },
  {
   "cell_type": "code",
   "execution_count": 6,
   "id": "06b90d63",
   "metadata": {
    "pycharm": {
     "name": "#%%\n"
    }
   },
   "outputs": [
    {
     "data": {
      "text/plain": [
       "'pippopluto'"
      ]
     },
     "execution_count": 6,
     "metadata": {},
     "output_type": "execute_result"
    }
   ],
   "source": [
    "# La funzione prova ad essere eseguita a prescindere dal tipo di parametro che gli passo:\n",
    "somma(\"pippo\", \"pluto\")"
   ]
  },
  {
   "cell_type": "code",
   "execution_count": 7,
   "id": "cfd41ea8",
   "metadata": {
    "pycharm": {
     "name": "#%%\n"
    }
   },
   "outputs": [
    {
     "ename": "TypeError",
     "evalue": "unsupported operand type(s) for +: 'int' and 'str'",
     "output_type": "error",
     "traceback": [
      "\u001B[1;31m---------------------------------------------------------------------------\u001B[0m",
      "\u001B[1;31mTypeError\u001B[0m                                 Traceback (most recent call last)",
      "\u001B[1;32m~\\AppData\\Local\\Temp/ipykernel_13648/2937595042.py\u001B[0m in \u001B[0;36m<module>\u001B[1;34m\u001B[0m\n\u001B[0;32m      1\u001B[0m \u001B[1;31m# Se fallisce attiva viene lanciato un Errore\u001B[0m\u001B[1;33m\u001B[0m\u001B[1;33m\u001B[0m\u001B[1;33m\u001B[0m\u001B[0m\n\u001B[1;32m----> 2\u001B[1;33m \u001B[0msomma\u001B[0m\u001B[1;33m(\u001B[0m\u001B[1;36m4\u001B[0m\u001B[1;33m,\u001B[0m \u001B[1;34m\"pluto\"\u001B[0m\u001B[1;33m)\u001B[0m\u001B[1;33m\u001B[0m\u001B[1;33m\u001B[0m\u001B[0m\n\u001B[0m",
      "\u001B[1;32m~\\AppData\\Local\\Temp/ipykernel_13648/1507511191.py\u001B[0m in \u001B[0;36msomma\u001B[1;34m(num1, num2)\u001B[0m\n\u001B[0;32m      6\u001B[0m     \"\"\"\n\u001B[0;32m      7\u001B[0m \u001B[1;33m\u001B[0m\u001B[0m\n\u001B[1;32m----> 8\u001B[1;33m     \u001B[1;32mreturn\u001B[0m \u001B[0mnum1\u001B[0m \u001B[1;33m+\u001B[0m \u001B[0mnum2\u001B[0m\u001B[1;33m\u001B[0m\u001B[1;33m\u001B[0m\u001B[0m\n\u001B[0m",
      "\u001B[1;31mTypeError\u001B[0m: unsupported operand type(s) for +: 'int' and 'str'"
     ]
    }
   ],
   "source": [
    "# Se fallisce attiva viene lanciato un Errore\n",
    "somma(4, \"pluto\")"
   ]
  },
  {
   "cell_type": "code",
   "execution_count": null,
   "id": "0508168a",
   "metadata": {
    "pycharm": {
     "name": "#%%\n"
    }
   },
   "outputs": [],
   "source": [
    "# Posso definire nella funzione dei valori di default\n",
    "\n",
    "def peso_planetario(massa, gravita = 9.81):\n",
    "    \"\"\"calcolo il peso su un pianeta, restituisce il peso in Newton\n",
    "    massa: in Kilogrammi\n",
    "    gravita: del pianeta in oggetto\"\"\"\n",
    "    \n",
    "    peso = massa * gravita\n",
    "    \n",
    "    return peso"
   ]
  },
  {
   "cell_type": "code",
   "execution_count": 8,
   "id": "29de6a4b",
   "metadata": {
    "pycharm": {
     "name": "#%%\n"
    }
   },
   "outputs": [
    {
     "ename": "NameError",
     "evalue": "name 'peso_planetario' is not defined",
     "output_type": "error",
     "traceback": [
      "\u001B[1;31m---------------------------------------------------------------------------\u001B[0m",
      "\u001B[1;31mNameError\u001B[0m                                 Traceback (most recent call last)",
      "\u001B[1;32m~\\AppData\\Local\\Temp/ipykernel_13648/1401833566.py\u001B[0m in \u001B[0;36m<module>\u001B[1;34m\u001B[0m\n\u001B[0;32m      1\u001B[0m \u001B[1;31m# Se nei parametri non compaiono alternative viene calcolato con il default.\u001B[0m\u001B[1;33m\u001B[0m\u001B[1;33m\u001B[0m\u001B[1;33m\u001B[0m\u001B[0m\n\u001B[0;32m      2\u001B[0m \u001B[1;33m\u001B[0m\u001B[0m\n\u001B[1;32m----> 3\u001B[1;33m \u001B[0mpeso_planetario\u001B[0m\u001B[1;33m(\u001B[0m\u001B[1;36m80\u001B[0m\u001B[1;33m)\u001B[0m\u001B[1;33m\u001B[0m\u001B[1;33m\u001B[0m\u001B[0m\n\u001B[0m",
      "\u001B[1;31mNameError\u001B[0m: name 'peso_planetario' is not defined"
     ]
    }
   ],
   "source": [
    "# Se nei parametri non compaiono alternative viene calcolato con il default.\n",
    "\n",
    "peso_planetario(80)"
   ]
  },
  {
   "cell_type": "code",
   "execution_count": 9,
   "id": "e4f6b983",
   "metadata": {
    "pycharm": {
     "name": "#%%\n"
    }
   },
   "outputs": [
    {
     "ename": "NameError",
     "evalue": "name 'peso_planetario' is not defined",
     "output_type": "error",
     "traceback": [
      "\u001B[1;31m---------------------------------------------------------------------------\u001B[0m",
      "\u001B[1;31mNameError\u001B[0m                                 Traceback (most recent call last)",
      "\u001B[1;32m~\\AppData\\Local\\Temp/ipykernel_13648/4015928761.py\u001B[0m in \u001B[0;36m<module>\u001B[1;34m\u001B[0m\n\u001B[0;32m      1\u001B[0m \u001B[1;31m# L'assegnazione dei parametri e' sempre posizionale, la presenza di un secondo parametro\u001B[0m\u001B[1;33m\u001B[0m\u001B[1;33m\u001B[0m\u001B[1;33m\u001B[0m\u001B[0m\n\u001B[0;32m      2\u001B[0m \u001B[1;31m# potra' in questo caso sovrascrivere il default\u001B[0m\u001B[1;33m\u001B[0m\u001B[1;33m\u001B[0m\u001B[1;33m\u001B[0m\u001B[0m\n\u001B[1;32m----> 3\u001B[1;33m \u001B[0mpeso_planetario\u001B[0m\u001B[1;33m(\u001B[0m\u001B[1;36m80\u001B[0m\u001B[1;33m,\u001B[0m \u001B[1;36m1.1\u001B[0m\u001B[1;33m)\u001B[0m\u001B[1;33m\u001B[0m\u001B[1;33m\u001B[0m\u001B[0m\n\u001B[0m",
      "\u001B[1;31mNameError\u001B[0m: name 'peso_planetario' is not defined"
     ]
    }
   ],
   "source": [
    "# L'assegnazione dei parametri e' sempre posizionale, la presenza di un secondo parametro\n",
    "# potra' in questo caso sovrascrivere il default\n",
    "peso_planetario(80, 1.1)"
   ]
  },
  {
   "cell_type": "code",
   "execution_count": 10,
   "id": "88837fd4",
   "metadata": {
    "pycharm": {
     "name": "#%%\n"
    }
   },
   "outputs": [
    {
     "ename": "NameError",
     "evalue": "name 'peso_planetario' is not defined",
     "output_type": "error",
     "traceback": [
      "\u001B[1;31m---------------------------------------------------------------------------\u001B[0m",
      "\u001B[1;31mNameError\u001B[0m                                 Traceback (most recent call last)",
      "\u001B[1;32m~\\AppData\\Local\\Temp/ipykernel_13648/2974593738.py\u001B[0m in \u001B[0;36m<module>\u001B[1;34m\u001B[0m\n\u001B[0;32m      1\u001B[0m \u001B[1;31m# Se non passo nessun parametro e non sono definiti dei default, viene visualizzato un errore:\u001B[0m\u001B[1;33m\u001B[0m\u001B[1;33m\u001B[0m\u001B[1;33m\u001B[0m\u001B[0m\n\u001B[1;32m----> 2\u001B[1;33m \u001B[0mpeso_planetario\u001B[0m\u001B[1;33m(\u001B[0m\u001B[1;33m)\u001B[0m\u001B[1;33m\u001B[0m\u001B[1;33m\u001B[0m\u001B[0m\n\u001B[0m",
      "\u001B[1;31mNameError\u001B[0m: name 'peso_planetario' is not defined"
     ]
    }
   ],
   "source": [
    "# Se non passo nessun parametro e non sono definiti dei default, viene visualizzato un errore:\n",
    "peso_planetario()"
   ]
  },
  {
   "cell_type": "code",
   "execution_count": 11,
   "id": "dcc0d7e2",
   "metadata": {
    "pycharm": {
     "name": "#%%\n"
    }
   },
   "outputs": [
    {
     "ename": "SyntaxError",
     "evalue": "non-default argument follows default argument (Temp/ipykernel_13648/4257254299.py, line 4)",
     "output_type": "error",
     "traceback": [
      "\u001B[1;36m  File \u001B[1;32m\"C:\\Users\\simon\\AppData\\Local\\Temp/ipykernel_13648/4257254299.py\"\u001B[1;36m, line \u001B[1;32m4\u001B[0m\n\u001B[1;33m    def peso_planetario(gravita = 9.81, massa):\u001B[0m\n\u001B[1;37m                        ^\u001B[0m\n\u001B[1;31mSyntaxError\u001B[0m\u001B[1;31m:\u001B[0m non-default argument follows default argument\n"
     ]
    }
   ],
   "source": [
    "# In fase di definizione della funzione\n",
    "# non posso definire un valore default prima di uno non default:\n",
    "\n",
    "def peso_planetario(gravita = 9.81, massa):\n",
    "    \"\"\"calcolo il peso su un pianeta, restituisce il peso in Newton\n",
    "    massa: in kilogrammi\n",
    "    gravita: del pianeta in oggetto\"\"\"\n",
    "    \n",
    "    peso = massa * gravita\n",
    "    \n",
    "    return peso"
   ]
  },
  {
   "cell_type": "markdown",
   "id": "4a415b25",
   "metadata": {
    "pycharm": {
     "name": "#%% md\n"
    }
   },
   "source": [
    "## Positional e keyword argument"
   ]
  },
  {
   "cell_type": "code",
   "execution_count": 12,
   "id": "875e010d",
   "metadata": {
    "pycharm": {
     "name": "#%%\n"
    }
   },
   "outputs": [],
   "source": [
    "# Base e altezza sono rispettivamente il primo e il secondo argomento della funzione:\n",
    "\n",
    "def calcolo_area_triangolo(base, altezza):\n",
    "    \"\"\"Calcolo dell'area di un triangolo nota base ed altezza\"\"\"\n",
    "    \n",
    "    area = base * altezza / 2\n",
    "    \n",
    "    return area"
   ]
  },
  {
   "cell_type": "code",
   "execution_count": 13,
   "id": "5f95b910",
   "metadata": {
    "pycharm": {
     "name": "#%%\n"
    }
   },
   "outputs": [
    {
     "data": {
      "text/plain": [
       "4.0"
      ]
     },
     "execution_count": 13,
     "metadata": {},
     "output_type": "execute_result"
    }
   ],
   "source": [
    "# base sara' qundi 2, altezza, 4\n",
    "calcolo_area_triangolo(2, 4)"
   ]
  },
  {
   "cell_type": "code",
   "execution_count": 14,
   "id": "3aac4524",
   "metadata": {
    "pycharm": {
     "name": "#%%\n"
    }
   },
   "outputs": [
    {
     "data": {
      "text/plain": [
       "4.0"
      ]
     },
     "execution_count": 14,
     "metadata": {},
     "output_type": "execute_result"
    }
   ],
   "source": [
    "# Ma posso anche chiamarli per nome, specificando in fase di chiamata che base e' 2 e altezza 4\n",
    "calcolo_area_triangolo(base = 2, altezza = 4)"
   ]
  },
  {
   "cell_type": "code",
   "execution_count": 15,
   "id": "6df18ab6",
   "metadata": {
    "pycharm": {
     "name": "#%%\n"
    }
   },
   "outputs": [
    {
     "data": {
      "text/plain": [
       "4.0"
      ]
     },
     "execution_count": 15,
     "metadata": {},
     "output_type": "execute_result"
    }
   ],
   "source": [
    "# Se specifico che base e' 2 e altezza e' 4, non ha importanza qualche scrivo epr primo\n",
    "# Sto usando keywords argument. Gli argomenti chiamati per chiave.\n",
    "calcolo_area_triangolo(altezza = 4, base = 2)"
   ]
  },
  {
   "cell_type": "code",
   "execution_count": 16,
   "id": "8148131d",
   "metadata": {
    "pycharm": {
     "name": "#%%\n"
    }
   },
   "outputs": [
    {
     "data": {
      "text/plain": [
       "4.0"
      ]
     },
     "execution_count": 16,
     "metadata": {},
     "output_type": "execute_result"
    }
   ],
   "source": [
    "# Posso anche usare una tecnica mista, ma se non specifico i nomi degli argomenti, quelli anonimi\n",
    "# saranno \"posizionali\" e devono essere chiamati per primi e in ordine corretto:\n",
    "# qui sotto base sara' pari a 2\n",
    "\n",
    "calcolo_area_triangolo(2, altezza = 4)"
   ]
  },
  {
   "cell_type": "code",
   "execution_count": 17,
   "id": "3911be3b",
   "metadata": {
    "pycharm": {
     "name": "#%%\n"
    }
   },
   "outputs": [
    {
     "ename": "SyntaxError",
     "evalue": "positional argument follows keyword argument (Temp/ipykernel_13648/3240450970.py, line 3)",
     "output_type": "error",
     "traceback": [
      "\u001B[1;36m  File \u001B[1;32m\"C:\\Users\\simon\\AppData\\Local\\Temp/ipykernel_13648/3240450970.py\"\u001B[1;36m, line \u001B[1;32m3\u001B[0m\n\u001B[1;33m    calcolo_area_triangolo(altezza = 4, 2)\u001B[0m\n\u001B[1;37m                                        ^\u001B[0m\n\u001B[1;31mSyntaxError\u001B[0m\u001B[1;31m:\u001B[0m positional argument follows keyword argument\n"
     ]
    }
   ],
   "source": [
    "# Se provo a chiamare un argomento con chiave prima di un argomento \"posizionale\"\n",
    "# viene generato un errore\n",
    "calcolo_area_triangolo(altezza = 4, 2)"
   ]
  },
  {
   "cell_type": "code",
   "execution_count": 18,
   "id": "c22fb31d",
   "metadata": {
    "pycharm": {
     "name": "#%%\n"
    }
   },
   "outputs": [
    {
     "ename": "SyntaxError",
     "evalue": "positional argument follows keyword argument (Temp/ipykernel_13648/3288492431.py, line 2)",
     "output_type": "error",
     "traceback": [
      "\u001B[1;36m  File \u001B[1;32m\"C:\\Users\\simon\\AppData\\Local\\Temp/ipykernel_13648/3288492431.py\"\u001B[1;36m, line \u001B[1;32m2\u001B[0m\n\u001B[1;33m    calcolo_area_triangolo(base = 4, 2)\u001B[0m\n\u001B[1;37m                                     ^\u001B[0m\n\u001B[1;31mSyntaxError\u001B[0m\u001B[1;31m:\u001B[0m positional argument follows keyword argument\n"
     ]
    }
   ],
   "source": [
    "# L'errore si genera anche se gli argomenti chiamati per chiave sono nell'ordine corretto\n",
    "calcolo_area_triangolo(base = 4, 2)"
   ]
  },
  {
   "cell_type": "markdown",
   "id": "7831e0d3",
   "metadata": {
    "pycharm": {
     "name": "#%% md\n"
    }
   },
   "source": [
    "## Restituzione di piu' valori"
   ]
  },
  {
   "cell_type": "code",
   "execution_count": 19,
   "id": "82e33f36",
   "metadata": {
    "pycharm": {
     "name": "#%%\n"
    }
   },
   "outputs": [],
   "source": [
    "# E' possibile scrivere funzioni che restituiscano piu' oggetti:\n",
    "# in questo caso area_perimetro_cerchio restituisce nell'ordine\n",
    "# prima l'area e poi il perimentro di un cerchio di raggio = raggio\n",
    "def area_perimetro_cerchio(raggio):\n",
    "    \"\"\"Calcolo area e perimetro di un cerchio\n",
    "    r: raggio del cerchio\n",
    "    \n",
    "    return area, perimentro\"\"\"\n",
    "    \n",
    "    from math import pi\n",
    "    \n",
    "    area = pi * raggio ** 2\n",
    "    perimetro = 2 * pi * raggio\n",
    "    \n",
    "    return area, perimetro"
   ]
  },
  {
   "cell_type": "code",
   "execution_count": 20,
   "id": "0014d60a",
   "metadata": {
    "pycharm": {
     "name": "#%%\n"
    }
   },
   "outputs": [
    {
     "data": {
      "text/plain": [
       "(314.1592653589793, 62.83185307179586)"
      ]
     },
     "execution_count": 20,
     "metadata": {},
     "output_type": "execute_result"
    }
   ],
   "source": [
    "# A monitor viene stamapata un \"tupla\" contenente i due valori\n",
    "area_perimetro_cerchio(10)"
   ]
  },
  {
   "cell_type": "code",
   "execution_count": 21,
   "id": "eb8b315d",
   "metadata": {
    "pycharm": {
     "name": "#%%\n"
    }
   },
   "outputs": [
    {
     "name": "stdout",
     "output_type": "stream",
     "text": [
      "L'area vale, 314.1592653589793\n",
      "Il perimentro vale, 62.83185307179586\n"
     ]
    }
   ],
   "source": [
    "# posso spacchettare area a perimentro in due variabili distinte\n",
    "# assegnandole con il segno uguale:\n",
    "\n",
    "a, p = area_perimetro_cerchio(10)\n",
    "print(\"L'area vale,\", a)\n",
    "print(\"Il perimentro vale,\", p)"
   ]
  },
  {
   "cell_type": "code",
   "execution_count": 22,
   "id": "f09681e2",
   "metadata": {
    "pycharm": {
     "name": "#%%\n"
    }
   },
   "outputs": [
    {
     "name": "stdout",
     "output_type": "stream",
     "text": [
      "Salvo l'area sulla variabile _  1256.6370614359173\n",
      "Il perimentro vale, 125.66370614359172\n"
     ]
    }
   ],
   "source": [
    "# Se non sono interessatoa  salvare uno dei valori posso usare il simbolo di\n",
    "# underscore \"_\" per ignorare il primo risultato\n",
    "# _ restera' comunque accessibile e conterra' il valore dell'area\n",
    "\n",
    "_,p2 = area_perimetro_cerchio(20)\n",
    "print(\"Salvo l'area sulla variabile _ \", _)\n",
    "print(\"Il perimentro vale,\", p2)"
   ]
  },
  {
   "cell_type": "markdown",
   "id": "cb09f75a",
   "metadata": {
    "pycharm": {
     "name": "#%% md\n"
    }
   },
   "source": [
    "## *args: un numero imprecisato di argomenti"
   ]
  },
  {
   "cell_type": "code",
   "execution_count": 23,
   "id": "cf8e107c",
   "metadata": {
    "pycharm": {
     "name": "#%%\n"
    }
   },
   "outputs": [],
   "source": [
    "# Se non so quanti valori potrei dover passare alla funzione posso usare\n",
    "# il simbolo * prima del nome della variabile\n",
    "# Questa variabile raccogliera' in se tutte i parametri della funzione in un iterabile\n",
    "# Nella funzione che segue, \"argomenti\" e' un iterabile che contiene tutti gli oggetti\n",
    "# passati come paramentro alla funzione\n",
    "\n",
    "def somma_piu_variabili(*argomenti):\n",
    "    \"\"\"somma variabili \"\"\"\n",
    "\n",
    "    somma = 0\n",
    "    \n",
    "    for elem in argomenti: # argomenti e' una lista che contiene 1,2,3,4,56\n",
    "        # elem scorre tra tutti gli argomenti dal primo all'ultimo\n",
    "        somma += elem\n",
    "        \n",
    "    return somma\n"
   ]
  },
  {
   "cell_type": "code",
   "execution_count": 24,
   "id": "e9baa8ca",
   "metadata": {
    "pycharm": {
     "name": "#%%\n"
    }
   },
   "outputs": [
    {
     "name": "stdout",
     "output_type": "stream",
     "text": [
      "66\n",
      "97\n"
     ]
    }
   ],
   "source": [
    "# In questo modo posso sommare 5 parametri,\n",
    "print(somma_piu_variabili(1,2,3,4,56))\n",
    "\n",
    "# o 10 parametri:\n",
    "print(somma_piu_variabili(1,2,3,4,56, 8, 7, 5, 6, 5))\n",
    "\n"
   ]
  },
  {
   "cell_type": "markdown",
   "id": "60dac315",
   "metadata": {},
   "source": [
    "## Variabili locali e globali"
   ]
  },
  {
   "cell_type": "code",
   "execution_count": 25,
   "id": "fda7eed0",
   "metadata": {
    "pycharm": {
     "name": "#%%\n"
    }
   },
   "outputs": [
    {
     "name": "stdout",
     "output_type": "stream",
     "text": [
      "io vengo prima\n",
      "io vengo prima\n",
      "io vengo prima\n"
     ]
    }
   ],
   "source": [
    "x = \"io vengo prima\"\n",
    "print(x)\n",
    "\n",
    "def pippo():\n",
    "    # global x\n",
    "    # x = \"ma io ti cambio\"\n",
    "    print(x)\n",
    "\n",
    "pippo()\n",
    "\n",
    "print(x)"
   ]
  }
 ],
 "metadata": {
  "kernelspec": {
   "display_name": "Python 3 (ipykernel)",
   "language": "python",
   "name": "python3"
  },
  "language_info": {
   "codemirror_mode": {
    "name": "ipython",
    "version": 3
   },
   "file_extension": ".py",
   "mimetype": "text/x-python",
   "name": "python",
   "nbconvert_exporter": "python",
   "pygments_lexer": "ipython3",
   "version": "3.8.12"
  },
  "toc": {
   "base_numbering": 1,
   "nav_menu": {},
   "number_sections": true,
   "sideBar": true,
   "skip_h1_title": true,
   "title_cell": "Indice",
   "title_sidebar": "Contents",
   "toc_cell": true,
   "toc_position": {
    "height": "calc(100% - 180px)",
    "left": "10px",
    "top": "150px",
    "width": "272px"
   },
   "toc_section_display": true,
   "toc_window_display": true
  },
  "varInspector": {
   "cols": {
    "lenName": 16,
    "lenType": 16,
    "lenVar": 40
   },
   "kernels_config": {
    "python": {
     "delete_cmd_postfix": "",
     "delete_cmd_prefix": "del ",
     "library": "var_list.py",
     "varRefreshCmd": "print(var_dic_list())"
    },
    "r": {
     "delete_cmd_postfix": ") ",
     "delete_cmd_prefix": "rm(",
     "library": "var_list.r",
     "varRefreshCmd": "cat(var_dic_list()) "
    }
   },
   "types_to_exclude": [
    "module",
    "function",
    "builtin_function_or_method",
    "instance",
    "_Feature"
   ],
   "window_display": false
  }
 },
 "nbformat": 4,
 "nbformat_minor": 5
}