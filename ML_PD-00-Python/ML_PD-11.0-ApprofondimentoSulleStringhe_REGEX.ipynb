{
 "cells": [
  {
   "cell_type": "markdown",
   "metadata": {
    "collapsed": true,
    "pycharm": {
     "name": "#%% md\n"
    }
   },
   "source": [
    "# Approfondimenti sulle Stringhe e RegEx"
   ]
  },
  {
   "cell_type": "markdown",
   "metadata": {
    "pycharm": {
     "name": "#%% md\n"
    }
   },
   "source": [
    "## Formattazione delle stringhe"
   ]
  },
  {
   "cell_type": "markdown",
   "metadata": {
    "pycharm": {
     "name": "#%% md\n"
    }
   },
   "source": [
    "https://docs.python.org/3/library/string.html#format-specification-mini-language\n",
    "```\n",
    "format_spec     ::=  [[fill]align][sign][#][0][width][grouping_option][.precision][type]\n",
    "fill            ::=  <any character>\n",
    "align           ::=  \"<\" | \">\" | \"=\" | \"^\"\n",
    "sign            ::=  \"+\" | \"-\" | \" \"\n",
    "width           ::=  digit+\n",
    "grouping_option ::=  \"_\" | \",\"   Separatore delle migliaia\n",
    "precision       ::=  digit+\n",
    "type            ::=  \"b\" | \"c\" | \"d\" | \"e\" | \"E\" | \"f\" | \"F\" | \"g\" | \"G\" | \"n\" | \"o\" | \"s\" | \"x\" | \"X\" | \"%\"\n",
    "```"
   ]
  },
  {
   "cell_type": "code",
   "execution_count": 1,
   "metadata": {},
   "outputs": [
    {
     "name": "stdout",
     "output_type": "stream",
     "text": [
      "123\n"
     ]
    }
   ],
   "source": [
    "# Una stringa formattata puo' essere creata utilizzando la \"f notation\"\n",
    "\n",
    "a = 123\n",
    "\n",
    "print(f\"{a}\")"
   ]
  },
  {
   "cell_type": "markdown",
   "metadata": {},
   "source": [
    "### Type - Formattazione delle stringhe contenenti numeri\n",
    "All'interno della stringa posso eprimere le modalita' con cui rappresentare la variabile proposta:<br>\n",
    "`type::=  \"b\" | \"c\" | \"d\" | \"e\" | \"E\" | \"f\" | \"F\" | \"g\" | \"G\" | \"n\" | \"o\" | \"s\" | \"x\" | \"X\" | \"%\"`"
   ]
  },
  {
   "cell_type": "code",
   "execution_count": 2,
   "metadata": {},
   "outputs": [
    {
     "name": "stdout",
     "output_type": "stream",
     "text": [
      "1111011\n"
     ]
    }
   ],
   "source": [
    "# type b: binario\n",
    "\n",
    "a = 123\n",
    "\n",
    "print(f\"{a:b}\")"
   ]
  },
  {
   "cell_type": "code",
   "execution_count": 3,
   "metadata": {},
   "outputs": [
    {
     "name": "stdout",
     "output_type": "stream",
     "text": [
      "{\n",
      "ᣖ\n"
     ]
    }
   ],
   "source": [
    "# in formato carattere unicode (in cui al 123 corrisponde la parentesi graffa)\n",
    "a = 123\n",
    "print(f\"{a:c}\")\n",
    "\n",
    "a = 6358\n",
    "print(f\"{a:c}\")"
   ]
  },
  {
   "cell_type": "code",
   "execution_count": 4,
   "metadata": {},
   "outputs": [
    {
     "name": "stdout",
     "output_type": "stream",
     "text": [
      "12300.255980%\n"
     ]
    }
   ],
   "source": [
    "# in formato percentuale ecc.. ecc..\n",
    "\n",
    "a = 123.0025598\n",
    "print(f\"{a:%}\")"
   ]
  },
  {
   "cell_type": "markdown",
   "metadata": {},
   "source": [
    "### Rappresentazione di numeri con la virgola fissa: type `f` (float)\n",
    "Inserendo il codice `.#f` definisco il numero di cifre da stamapre dopo la virgola"
   ]
  },
  {
   "cell_type": "code",
   "execution_count": 5,
   "metadata": {},
   "outputs": [
    {
     "name": "stdout",
     "output_type": "stream",
     "text": [
      "3.252\n"
     ]
    }
   ],
   "source": [
    "# float, formato a virgola fissa, default --> 6 cifre dopo la  virgola\n",
    "\n",
    "a = 1.002\n",
    "b = 2.25\n",
    "\n",
    "# in formato carattere unicode (in cui al 123 corrisponde la parentesi graffa)\n",
    "print(f\"{a+b:.3f}\")"
   ]
  },
  {
   "cell_type": "markdown",
   "metadata": {},
   "source": [
    "### Separatore delle migliaia"
   ]
  },
  {
   "cell_type": "code",
   "execution_count": 6,
   "metadata": {},
   "outputs": [
    {
     "name": "stdout",
     "output_type": "stream",
     "text": [
      "1_000_002_000_202_020.000\n"
     ]
    }
   ],
   "source": [
    "# Python accetta l'inserimento di numeri usando \n",
    "# l'underscore come separatore delle cifre (viene ignrato)\n",
    "a = 1_000_002_000_202_020\n",
    "\n",
    "# Posso anche stamparare i numeri usando questo separatore per le migliaia\n",
    "print(f\"{a:_.3f}\")"
   ]
  },
  {
   "cell_type": "code",
   "execution_count": 7,
   "metadata": {},
   "outputs": [
    {
     "name": "stdout",
     "output_type": "stream",
     "text": [
      "1,000,002,000,202,020.000\n"
     ]
    }
   ],
   "source": [
    "# Posso anche indicare come separatore la virgola\n",
    "print(f\"{a:,.3f}\")"
   ]
  },
  {
   "cell_type": "markdown",
   "metadata": {},
   "source": [
    "### Larghezza di campo e allineamento\n",
    "Dopo i duepunti posso indicare il numero di cifre da utilizzare per la stampa del campo e l'allineamento:\n"
   ]
  },
  {
   "cell_type": "code",
   "execution_count": 8,
   "metadata": {},
   "outputs": [
    {
     "name": "stdout",
     "output_type": "stream",
     "text": [
      "_    -123.0_\n",
      "_-123.0    _\n",
      "_    -123.0_\n",
      "_+    123.0_\n",
      "_  -123.0  _\n"
     ]
    }
   ],
   "source": [
    "a = -123.00\n",
    "\n",
    "\n",
    "# stampo un campo largo 10 caratteri\n",
    "print(f\"_{a:10}_\")\n",
    "\n",
    "\n",
    "# stampo un campo largo 10 caratteri allineati a sinistra\n",
    "print(f\"_{a:<10}_\")\n",
    "\n",
    "# stampo un campo largo 10 caratteri allineati a destra (default)\n",
    "print(f\"_{a:>10}_\")\n",
    "\n",
    "# stampo un campo largo 10 caratteri allineando a sinistra il segno e a destra il numero\n",
    "print(f\"_{-a:=+10}_\")\n",
    "\n",
    "# stampo un campo largo 10 caratteri allineando al centro\n",
    "print(f\"_{a:^10}_\")"
   ]
  },
  {
   "cell_type": "code",
   "execution_count": 9,
   "metadata": {},
   "outputs": [
    {
     "name": "stdout",
     "output_type": "stream",
     "text": [
      "_xx-123.0xx_\n"
     ]
    }
   ],
   "source": [
    "# stampo un campo largo 10 caratteri allineando \n",
    "# al centro utilizzando un carattere di riempimento \n",
    "# diverso dallo spazio (default)\n",
    "print(f\"_{a:x^10}_\")"
   ]
  },
  {
   "cell_type": "code",
   "execution_count": 10,
   "metadata": {},
   "outputs": [
    {
     "name": "stdout",
     "output_type": "stream",
     "text": [
      "___-123.0___\n"
     ]
    }
   ],
   "source": [
    "# stampo un campo largo 10 caratteri allineando \n",
    "# al centro utilizzando un carattere di riempimento \n",
    "# diverso dallo spazio (default)\n",
    "print(f\"_{a:_^10}_\")"
   ]
  },
  {
   "cell_type": "code",
   "execution_count": 11,
   "metadata": {},
   "outputs": [
    {
     "name": "stdout",
     "output_type": "stream",
     "text": [
      "__pippo___\n"
     ]
    }
   ],
   "source": [
    "a = \"pippo\"\n",
    "# stampo un campo largo 10 caratteri allineando \n",
    "# al centro utilizzando un carattere di riempimento \n",
    "# diverso dallo spazio (default)\n",
    "print(f\"{a:_^10}\")"
   ]
  },
  {
   "cell_type": "markdown",
   "metadata": {},
   "source": [
    "### Esercizio: Stampa di un mazzo di carte su 4 colonne allineate"
   ]
  },
  {
   "cell_type": "markdown",
   "metadata": {},
   "source": [
    "#### Generiamo il Mazzo"
   ]
  },
  {
   "cell_type": "code",
   "execution_count": 12,
   "metadata": {},
   "outputs": [],
   "source": [
    "import random\n",
    "\n",
    "\n",
    "# Generiamo il mazzo:\n",
    "valori = [\"Asso\", \"Due\", \"Tre\", \n",
    "          \"Quattro\", \"Cinque\", \"Sei\", \n",
    "          \"Sette\", \"Fante\", \"Cavallo\", \"Re\"]\n",
    "\n",
    "semi = [\"Bastoni\", \"Spade\", \"Denari\", \"Coppe\"]\n",
    "\n",
    "mazzo = []\n",
    "\n",
    "for seme in semi:\n",
    "    for valore in valori:\n",
    "        mazzo.append((valore, seme))\n",
    "\n",
    "# print(mazzo)\n",
    "\n",
    "random.shuffle(mazzo)\n",
    "\n",
    "# print(mazzo)"
   ]
  },
  {
   "cell_type": "markdown",
   "metadata": {},
   "source": [
    "#### Stampiamo il mazzo"
   ]
  },
  {
   "cell_type": "code",
   "execution_count": 13,
   "metadata": {},
   "outputs": [
    {
     "name": "stdout",
     "output_type": "stream",
     "text": [
      "\n",
      "Cavallo di Denari    Cavallo di Bastoni   Due di Bastoni       Tre di Denari        \n",
      "Cinque di Spade      Asso di Bastoni      Due di Denari        Fante di Coppe       \n",
      "Sette di Denari      Cavallo di Spade     Re di Bastoni        Sei di Denari        \n",
      "Fante di Spade       Re di Coppe          Fante di Bastoni     Sei di Bastoni       \n",
      "Sei di Spade         Re di Denari         Cinque di Denari     Quattro di Bastoni   \n",
      "Asso di Spade        Tre di Coppe         Cinque di Coppe      Due di Spade         \n",
      "Quattro di Coppe     Fante di Denari      Tre di Spade         Sette di Spade       \n",
      "Asso di Denari       Asso di Coppe        Re di Spade          Quattro di Spade     \n",
      "Sette di Coppe       Tre di Bastoni       Due di Coppe         Sei di Coppe         \n",
      "Quattro di Denari    Cavallo di Coppe     Sette di Bastoni     Cinque di Bastoni    "
     ]
    }
   ],
   "source": [
    "for contatore, carta in enumerate(mazzo):\n",
    "    # genero una stringa che stampi il vlaore della carta in modo accettabile\n",
    "    stirnga_carta = f\"{carta[0]} di {carta[1]}\" # meglio usare .join (vedi giu')\n",
    "    #stampo la stringa:\n",
    "    if contatore%4 == 0:\n",
    "        print()\n",
    "    print(f\"{stirnga_carta:20}\", end=\" \")\n",
    "    \n",
    "    "
   ]
  },
  {
   "cell_type": "code",
   "execution_count": 14,
   "metadata": {},
   "outputs": [
    {
     "name": "stdout",
     "output_type": "stream",
     "text": [
      "\n",
      "Cavallo di Denari    Cavallo di Bastoni   Due di Bastoni       Tre di Denari        \n",
      "Cinque di Spade      Asso di Bastoni      Due di Denari        Fante di Coppe       \n",
      "Sette di Denari      Cavallo di Spade     Re di Bastoni        Sei di Denari        \n",
      "Fante di Spade       Re di Coppe          Fante di Bastoni     Sei di Bastoni       \n",
      "Sei di Spade         Re di Denari         Cinque di Denari     Quattro di Bastoni   \n",
      "Asso di Spade        Tre di Coppe         Cinque di Coppe      Due di Spade         \n",
      "Quattro di Coppe     Fante di Denari      Tre di Spade         Sette di Spade       \n",
      "Asso di Denari       Asso di Coppe        Re di Spade          Quattro di Spade     \n",
      "Sette di Coppe       Tre di Bastoni       Due di Coppe         Sei di Coppe         \n",
      "Quattro di Denari    Cavallo di Coppe     Sette di Bastoni     Cinque di Bastoni    "
     ]
    }
   ],
   "source": [
    "## nb: enumerate ci permette di non generare il contatore separatamente.\n",
    "\n",
    "lista_di_stringhe = []\n",
    "contatore = 0\n",
    "for carta in mazzo:\n",
    "    \n",
    "    stirnga_carta = f\"{carta[0]} di {carta[1]}\"\n",
    "    lista_di_stringhe.append(stirnga_carta)\n",
    "    \n",
    "    if contatore%4 == 0:\n",
    "        print()\n",
    "    print(f\"{stirnga_carta:20}\", end=\" \")\n",
    "    contatore += 1"
   ]
  },
  {
   "cell_type": "markdown",
   "metadata": {},
   "source": [
    "### Ricerca di sottostringhe"
   ]
  },
  {
   "cell_type": "code",
   "execution_count": 15,
   "metadata": {},
   "outputs": [],
   "source": [
    "stringa = \"Tre di Bastoni       Sei di Bastoni       Due di Denari        Tre di Denari\""
   ]
  },
  {
   "cell_type": "markdown",
   "metadata": {},
   "source": [
    "#### Contare le sottostringhe `count`"
   ]
  },
  {
   "cell_type": "code",
   "execution_count": 16,
   "metadata": {},
   "outputs": [
    {
     "data": {
      "text/plain": [
       "2"
      ]
     },
     "execution_count": 16,
     "metadata": {},
     "output_type": "execute_result"
    }
   ],
   "source": [
    "stringa.count(\"Tre\")"
   ]
  },
  {
   "cell_type": "markdown",
   "metadata": {
    "pycharm": {
     "name": "#%% md\n"
    }
   },
   "source": [
    "#### Individuare una sottostringa `index`"
   ]
  },
  {
   "cell_type": "code",
   "execution_count": 17,
   "metadata": {},
   "outputs": [
    {
     "data": {
      "text/plain": [
       "21"
      ]
     },
     "execution_count": 17,
     "metadata": {},
     "output_type": "execute_result"
    }
   ],
   "source": [
    "# Cerca all'interno della sottostringa la prima occorrenze dell'argomento \n",
    "# e restituisci l'indice del primo carattere:\n",
    "stringa.index(\"Sei\")"
   ]
  },
  {
   "cell_type": "code",
   "execution_count": 18,
   "metadata": {},
   "outputs": [
    {
     "data": {
      "text/plain": [
       "'S'"
      ]
     },
     "execution_count": 18,
     "metadata": {},
     "output_type": "execute_result"
    }
   ],
   "source": [
    "stringa[21]"
   ]
  },
  {
   "cell_type": "markdown",
   "metadata": {},
   "source": [
    "### Sostituire sottostringhe `replace`\n",
    "`stringa.replace(sottostringa_A, sottostringa_B)` <br>\n",
    "Sostituisce tutte le occorrenze della sottostringa A con la sottostringa B"
   ]
  },
  {
   "cell_type": "code",
   "execution_count": 19,
   "metadata": {},
   "outputs": [
    {
     "data": {
      "text/plain": [
       "'Tre di Bastoni       Sei di Bastoni       Due di Denari        Tre di Denari'"
      ]
     },
     "execution_count": 19,
     "metadata": {},
     "output_type": "execute_result"
    }
   ],
   "source": [
    "stringa"
   ]
  },
  {
   "cell_type": "code",
   "execution_count": 20,
   "metadata": {},
   "outputs": [
    {
     "data": {
      "text/plain": [
       "'Tre di Bastoni       Due di Bastoni       Due di Denari        Tre di Denari'"
      ]
     },
     "execution_count": 20,
     "metadata": {},
     "output_type": "execute_result"
    }
   ],
   "source": [
    "# sostituiamo tutte le occorrenze di \"Sei\" con \"Due\" all'interno di stringa\n",
    "stringa.replace(\"Sei\", \"Due\")"
   ]
  },
  {
   "cell_type": "markdown",
   "metadata": {},
   "source": [
    "### Unire le stringhe `join`\n",
    "\n",
    "Unisce gli oggetti di tipo stringa contenuti nell'iterabile \n",
    "con la stringa definita nel separatore <br>\n",
    "`separatore.join(iterabile)`"
   ]
  },
  {
   "cell_type": "code",
   "execution_count": 21,
   "metadata": {},
   "outputs": [],
   "source": [
    "for carta in mazzo:\n",
    "    # genero una stringa che stampi il vlaore della carta in modo accettabile\n",
    "    stirnga_carta = \" di \".join(carta) # f\"{carta[0]} di {carta[1]}\""
   ]
  },
  {
   "cell_type": "code",
   "execution_count": 22,
   "metadata": {},
   "outputs": [],
   "source": [
    "carta = ('Sette', 'Denari', 'Pippo', 'Pluto')"
   ]
  },
  {
   "cell_type": "code",
   "execution_count": 23,
   "metadata": {},
   "outputs": [
    {
     "data": {
      "text/plain": [
       "'Sette di Denari di Pippo di Pluto'"
      ]
     },
     "execution_count": 23,
     "metadata": {},
     "output_type": "execute_result"
    }
   ],
   "source": [
    "\" di \".join(carta)"
   ]
  },
  {
   "cell_type": "markdown",
   "metadata": {},
   "source": [
    "### Suddividere le stinghe `split`, `partition`, `rpartition`, `splitlines`\n",
    "* `stringa.split(separatore)` --> separa le stringhe in corrispondenza del separatore proposto\n",
    "* `stringa.partition(separatore)` -->  divide la stringa in 3, utilizzando il separatore come elemento centrale\n",
    "* `stringa.rpartition(separatore)` -->  come partition, ma inizia la ricerca dell'elemento centrale da destra\n",
    "* `stirnga.splitlines()`  --> come split, ma utilizza di default il carattere \"\\n\" come separatore"
   ]
  },
  {
   "cell_type": "code",
   "execution_count": 24,
   "metadata": {},
   "outputs": [
    {
     "data": {
      "text/plain": [
       "'Tre di Bastoni       Sei di Bastoni       Due di Denari        Tre di Denari'"
      ]
     },
     "execution_count": 24,
     "metadata": {},
     "output_type": "execute_result"
    }
   ],
   "source": [
    "stringa"
   ]
  },
  {
   "cell_type": "code",
   "execution_count": 25,
   "metadata": {},
   "outputs": [
    {
     "data": {
      "text/plain": [
       "['Tre',\n",
       " 'di',\n",
       " 'Bastoni',\n",
       " 'Sei',\n",
       " 'di',\n",
       " 'Bastoni',\n",
       " 'Due',\n",
       " 'di',\n",
       " 'Denari',\n",
       " 'Tre',\n",
       " 'di',\n",
       " 'Denari']"
      ]
     },
     "execution_count": 25,
     "metadata": {},
     "output_type": "execute_result"
    }
   ],
   "source": [
    "# separo la stringa in corrispondenza del separatore di default (spazio, newline, tab)\n",
    "stringa.split()"
   ]
  },
  {
   "cell_type": "code",
   "execution_count": 26,
   "metadata": {},
   "outputs": [
    {
     "data": {
      "text/plain": [
       "('Tre ', 'di', ' Bastoni')"
      ]
     },
     "execution_count": 26,
     "metadata": {},
     "output_type": "execute_result"
    }
   ],
   "source": [
    "# Partition, divido in tre la stringa\n",
    "'Tre di Bastoni'.partition(\"di\")"
   ]
  },
  {
   "cell_type": "code",
   "execution_count": 27,
   "metadata": {},
   "outputs": [
    {
     "data": {
      "text/plain": [
       "('Paolo', ':', ' 30, :28, 15')"
      ]
     },
     "execution_count": 27,
     "metadata": {},
     "output_type": "execute_result"
    }
   ],
   "source": [
    "\"Carlo: 23, 30, 45\"\n",
    "\"Paolo: 30, :28, 15\".partition(\":\")\n",
    "\n"
   ]
  },
  {
   "cell_type": "code",
   "execution_count": 28,
   "metadata": {},
   "outputs": [
    {
     "data": {
      "text/plain": [
       "('Paolo: 30, ', ':', '28, 15')"
      ]
     },
     "execution_count": 28,
     "metadata": {},
     "output_type": "execute_result"
    }
   ],
   "source": [
    "# rpartition: inizio la ricerca del separatore da destra:\n",
    "\"Paolo: 30, :28, 15\".rpartition(\":\")"
   ]
  },
  {
   "cell_type": "code",
   "execution_count": 29,
   "metadata": {},
   "outputs": [],
   "source": [
    "# splitlines: separa le righe\n",
    "stringa_multilinea = \"\"\"Tre di Bastoni       Sei di Bastoni       Due di Denari        Tre di Denari        \n",
    "Cavallo di Spade     Due di Bastoni       Quattro di Spade     Cavallo di Denari    \n",
    "Asso di Coppe        Tre di Spade         Sette di Coppe       Fante di Denari      \n",
    "Due di Spade         Fante di Spade       Quattro di Bastoni   Asso di Denari     \n",
    "\"\"\""
   ]
  },
  {
   "cell_type": "code",
   "execution_count": 30,
   "metadata": {},
   "outputs": [
    {
     "data": {
      "text/plain": [
       "['Tre di Bastoni       Sei di Bastoni       Due di Denari        Tre di Denari        ',\n",
       " 'Cavallo di Spade     Due di Bastoni       Quattro di Spade     Cavallo di Denari    ',\n",
       " 'Asso di Coppe        Tre di Spade         Sette di Coppe       Fante di Denari      ',\n",
       " 'Due di Spade         Fante di Spade       Quattro di Bastoni   Asso di Denari     ']"
      ]
     },
     "execution_count": 30,
     "metadata": {},
     "output_type": "execute_result"
    }
   ],
   "source": [
    "stringa_multilinea.splitlines()"
   ]
  },
  {
   "cell_type": "markdown",
   "metadata": {},
   "source": [
    "### Stinghe raw\n",
    "Le stringhe raw, grezze, sono stringhe che non vengono interpretate, in cui dunque nessun carattere di `escape` (\\n, \\t, ecc.. ecc.) viene rilevato."
   ]
  },
  {
   "cell_type": "code",
   "execution_count": 31,
   "metadata": {},
   "outputs": [
    {
     "name": "stdout",
     "output_type": "stream",
     "text": [
      "456.000000\n",
      "ciao\n"
     ]
    }
   ],
   "source": [
    "# In questa stringa formattata, la parentesi graffa individua un campo da formattare, \n",
    "# e il \\n manda a capo la stampa\n",
    "print(f\"{456:f}\\nciao\")"
   ]
  },
  {
   "cell_type": "code",
   "execution_count": 32,
   "metadata": {},
   "outputs": [
    {
     "name": "stdout",
     "output_type": "stream",
     "text": [
      "{456:f}\\nciao\n"
     ]
    }
   ],
   "source": [
    "# La stringa raw, identificata dalla \"r\" prima delle virgolette, non viene interpretata \n",
    "print(r\"{456:f}\\nciao\")"
   ]
  },
  {
   "cell_type": "code",
   "execution_count": 33,
   "metadata": {},
   "outputs": [
    {
     "name": "stdout",
     "output_type": "stream",
     "text": [
      "{456:f}\n",
      "ciao\n"
     ]
    }
   ],
   "source": [
    "print(\"{456:f}\\nciao\")"
   ]
  },
  {
   "cell_type": "markdown",
   "metadata": {},
   "source": [
    "## Espressioni Regolari: Regex\n",
    "\n",
    "Un \"espressione regolare\" e' una sequenza di caratteri che identifica un gruppo di stringhe."
   ]
  },
  {
   "cell_type": "markdown",
   "metadata": {},
   "source": [
    "### Modulo `re`"
   ]
  },
  {
   "cell_type": "code",
   "execution_count": 34,
   "metadata": {},
   "outputs": [],
   "source": [
    "import re #regular expression"
   ]
  },
  {
   "cell_type": "markdown",
   "metadata": {},
   "source": [
    "### `fullmatch`\n",
    "`re.fullmatch(pattern, stringa)`<br>\n",
    "L'intera stirnga deve coincidere con il pattern proposto."
   ]
  },
  {
   "cell_type": "code",
   "execution_count": 35,
   "metadata": {},
   "outputs": [],
   "source": [
    "stringa \n",
    "stringa_2 = \"Sei\""
   ]
  },
  {
   "cell_type": "code",
   "execution_count": 36,
   "metadata": {},
   "outputs": [
    {
     "name": "stdout",
     "output_type": "stream",
     "text": [
      "non Trovato\n"
     ]
    }
   ],
   "source": [
    "if re.fullmatch(\"9ei\", stringa_2):\n",
    "    print(\"Trovato\")\n",
    "else: \n",
    "    print(\"non Trovato\")"
   ]
  },
  {
   "cell_type": "markdown",
   "metadata": {},
   "source": [
    "#### Metacaratteri:\n",
    "* __`[] `__ per creare Categorie Personalizzate\n",
    "* __`{} `__ per definire quantiicatori personalizzati\n",
    "* __`() `__ per definire un gruppo\n",
    "* __`\\  `__ per definire una categoria di caratteri o come carattere di escape\n",
    "* __`*  `__ zero o piu' occorrenze\n",
    "* __`+  `__ una o piu' occorrenze\n",
    "* __`?  `__ zero o una occorrenza\n",
    "* __`^  `__ per negare una categoria corrispodente - posto a'inizio  di una ER indica un confronto con l'inizio della stringa\n",
    "* __`$  `__ posto alla fine di una ER indica un confronto con la fine della stringa\n",
    "* __`.  `__ der definire un qualsiasi carattere eccetto i newline"
   ]
  },
  {
   "cell_type": "markdown",
   "metadata": {},
   "source": [
    "### Categorie di Caratteri\n",
    "\n",
    "* `\\d`: tutti i caratteri che rappresentano numeri\n",
    "* `\\D`: tutti i caratteri che NON rappresentano numeri\n",
    "* `\\s`: tutti i caratteri che identificano una spazio (\\n, \\t, ...)\n",
    "* `\\S`: tutti i caratteri che NON identificano una spazio\n",
    "* `\\w`: tutti i caratteri alfanumerici [0-9a-zA-z]\n",
    "* `\\W`: tutti i caratteri NON alfanumerici"
   ]
  },
  {
   "cell_type": "code",
   "execution_count": 37,
   "metadata": {},
   "outputs": [
    {
     "name": "stdout",
     "output_type": "stream",
     "text": [
      "Numero NON Valido\n"
     ]
    }
   ],
   "source": [
    "stringa_2 = \"due\"\n",
    "\n",
    "# questo pattern identifica una qualsiasi sequenza di 3 caratteri\n",
    "# alfanumerici\n",
    "# 041-789987 \n",
    "pattern = \"\\d\\d\\d-\\d\\d\\d\\d\\d\\d\"\n",
    "\n",
    "if re.fullmatch(pattern, \"23-456459\"):\n",
    "    print(\"Numero Valido\")\n",
    "else: \n",
    "    print(\"Numero NON Valido\")"
   ]
  },
  {
   "cell_type": "code",
   "execution_count": 38,
   "metadata": {},
   "outputs": [
    {
     "name": "stdout",
     "output_type": "stream",
     "text": [
      "Numero Valido\n"
     ]
    }
   ],
   "source": [
    "stringa_2 = \"due\"\n",
    "\n",
    "# questo pattern identifica una qualsiasi sequenza di 3 caratteri\n",
    "# alfanumerici\n",
    "# 041-789987 \n",
    "pattern = \"\\d{3}-\\d{6}\"\n",
    "\n",
    "if re.fullmatch(pattern, \"230-456459\"):\n",
    "    print(\"Numero Valido\")\n",
    "else: \n",
    "    print(\"Numero NON Valido\")"
   ]
  },
  {
   "cell_type": "code",
   "execution_count": 39,
   "metadata": {},
   "outputs": [
    {
     "name": "stdout",
     "output_type": "stream",
     "text": [
      "Numero Valido\n"
     ]
    }
   ],
   "source": [
    "stringa_2 = \"due\"\n",
    "\n",
    "\n",
    "# Supponiamo che il trattino possa esserci o non esserci, \n",
    "# e che possa anche apparire piu' di una volta\n",
    "pattern = \"\\d{3}-*\\d{6}\"\n",
    "\n",
    "if re.fullmatch(pattern, \"230---456459\"):\n",
    "    print(\"Numero Valido\")\n",
    "else: \n",
    "    print(\"Numero NON Valido\")"
   ]
  },
  {
   "cell_type": "code",
   "execution_count": 40,
   "metadata": {},
   "outputs": [
    {
     "name": "stdout",
     "output_type": "stream",
     "text": [
      "Numero NON Valido\n"
     ]
    }
   ],
   "source": [
    "stringa_2 = \"due\"\n",
    "\n",
    "# Il trattino sarebbe piu' intelligente considerarlo \n",
    "# presente solo o 0 o 1 volta\n",
    "\n",
    "pattern = \"\\d{3}-?\\d{6}\"\n",
    "\n",
    "if re.fullmatch(pattern, \"230--456459\"):\n",
    "    print(\"Numero Valido\")\n",
    "else: \n",
    "    print(\"Numero NON Valido\")"
   ]
  },
  {
   "cell_type": "code",
   "execution_count": 41,
   "metadata": {},
   "outputs": [
    {
     "name": "stdout",
     "output_type": "stream",
     "text": [
      "Numero NON Valido\n"
     ]
    }
   ],
   "source": [
    "stringa_2 = \"due\"\n",
    "\n",
    "# Il trattino sarebbe piu' intelligente considerarlo \n",
    "# presente solo o 0 o 1 volta\n",
    "\n",
    "pattern = \"\\d+-?\\d+\"\n",
    "\n",
    "if re.fullmatch(pattern, \"2--459\"):\n",
    "    print(\"Numero Valido\")\n",
    "else: \n",
    "    print(\"Numero NON Valido\")"
   ]
  },
  {
   "cell_type": "markdown",
   "metadata": {},
   "source": [
    "#### Identfichiamo un indirizzo email:\n",
    "\n",
    "\n",
    "dg8lnlsd.naskj@dominio.it\n",
    "\n"
   ]
  },
  {
   "cell_type": "code",
   "execution_count": 42,
   "metadata": {},
   "outputs": [
    {
     "name": "stdout",
     "output_type": "stream",
     "text": [
      "NON Valido\n"
     ]
    }
   ],
   "source": [
    "\n",
    "pattern = \"\\w+[0-9a-zA-Z\\.]*\\w@\\w+[0-9a-zA-Z\\.]*\\.[a-zA-Z]{2,3}\"\n",
    "\n",
    "if re.fullmatch(pattern, \"098casa=casa.casas.it\"):\n",
    "    print(\"Valido\")\n",
    "else: \n",
    "    print(\"NON Valido\")"
   ]
  },
  {
   "cell_type": "code",
   "execution_count": 43,
   "metadata": {},
   "outputs": [
    {
     "name": "stdout",
     "output_type": "stream",
     "text": [
      "Valido\n"
     ]
    }
   ],
   "source": [
    "pattern = \".+@.+\\.[a-zA-Z]{2,3}\"\n",
    "\n",
    "if re.fullmatch(pattern, \"0.)=a@casa.casas.it\"):\n",
    "    print(\"Valido\")\n",
    "else: \n",
    "    print(\"NON Valido\")"
   ]
  },
  {
   "cell_type": "markdown",
   "metadata": {},
   "source": [
    "### `search`\n",
    "\n",
    "Cerca all'interno della stringa e restituisce la prima occorrenza in un oggetto di tipo Match"
   ]
  },
  {
   "cell_type": "code",
   "execution_count": 44,
   "metadata": {},
   "outputs": [
    {
     "data": {
      "text/plain": [
       "'Tre di Bastoni       Sei di Bastoni       Due di Denari        Tre di Denari'"
      ]
     },
     "execution_count": 44,
     "metadata": {},
     "output_type": "execute_result"
    }
   ],
   "source": [
    "stringa"
   ]
  },
  {
   "cell_type": "code",
   "execution_count": 45,
   "metadata": {},
   "outputs": [],
   "source": [
    "pattern = \"[A-Z][a-z]*\"\n",
    "\n",
    "oggetto_trovato = re.search(pattern ,stringa)"
   ]
  },
  {
   "cell_type": "markdown",
   "metadata": {},
   "source": [
    "### `match`\n",
    "\n",
    "Esegue la ricerca del pattern all'inizio della stringa"
   ]
  },
  {
   "cell_type": "code",
   "execution_count": 46,
   "metadata": {},
   "outputs": [
    {
     "data": {
      "text/plain": [
       "'Tre di Bastoni       Sei di Bastoni       Due di Denari        Tre di Denari'"
      ]
     },
     "execution_count": 46,
     "metadata": {},
     "output_type": "execute_result"
    }
   ],
   "source": [
    "stringa"
   ]
  },
  {
   "cell_type": "code",
   "execution_count": 47,
   "metadata": {},
   "outputs": [
    {
     "data": {
      "text/plain": [
       "<re.Match object; span=(0, 4), match='Tre '>"
      ]
     },
     "execution_count": 47,
     "metadata": {},
     "output_type": "execute_result"
    }
   ],
   "source": [
    "pattern = \"Tre \"\n",
    "\n",
    "re.match(pattern ,stringa)"
   ]
  },
  {
   "cell_type": "markdown",
   "metadata": {},
   "source": [
    "### `findall`\n",
    "Cerca il pattern all'interno della stringa e restituisce una lista contenente tutti gli oggetti trovati"
   ]
  },
  {
   "cell_type": "code",
   "execution_count": 48,
   "metadata": {},
   "outputs": [
    {
     "data": {
      "text/plain": [
       "'Tre di Bastoni       Sei di Bastoni       Due di Denari        Tre di Denari'"
      ]
     },
     "execution_count": 48,
     "metadata": {},
     "output_type": "execute_result"
    }
   ],
   "source": [
    "stringa"
   ]
  },
  {
   "cell_type": "code",
   "execution_count": 49,
   "metadata": {},
   "outputs": [
    {
     "data": {
      "text/plain": [
       "['Tre ', 'Sei ', 'Due ', 'Tre ']"
      ]
     },
     "execution_count": 49,
     "metadata": {},
     "output_type": "execute_result"
    }
   ],
   "source": [
    "pattern = \"[A-Z][a-z]{2} \"\n",
    "\n",
    "re.findall(pattern ,stringa)"
   ]
  },
  {
   "cell_type": "markdown",
   "metadata": {},
   "source": [
    "### `finditer`\n",
    "Restituisce un oggetto di tipo iteratore contenente una serie di oggetti di tipo Math, uno per ogni occorrenza del pattern trovato all'interno della stringa"
   ]
  },
  {
   "cell_type": "code",
   "execution_count": 50,
   "metadata": {},
   "outputs": [
    {
     "name": "stdout",
     "output_type": "stream",
     "text": [
      "Trovato\n",
      "Trovato\n",
      "Trovato\n",
      "Trovato\n"
     ]
    }
   ],
   "source": [
    "pattern = \"[A-Z][a-z]{2} \"\n",
    "\n",
    "for finded in re.finditer(pattern ,stringa):\n",
    "    print(\"Trovato\")"
   ]
  },
  {
   "cell_type": "markdown",
   "metadata": {},
   "source": [
    "### `sub(pattern, repl, string)`\n",
    "\n",
    "Sostituisce tutte le occorrenze del pattern con il replacement all'interno della stringa\n"
   ]
  },
  {
   "cell_type": "code",
   "execution_count": 51,
   "metadata": {},
   "outputs": [
    {
     "data": {
      "text/plain": [
       "'Tre di Bastoni       Sei di Bastoni       Due di Denari        Tre di Denari'"
      ]
     },
     "execution_count": 51,
     "metadata": {},
     "output_type": "execute_result"
    }
   ],
   "source": [
    "stringa"
   ]
  },
  {
   "cell_type": "code",
   "execution_count": 52,
   "metadata": {},
   "outputs": [
    {
     "name": "stdout",
     "output_type": "stream",
     "text": [
      "Tre di Bastoni\tSei di Bastoni\tDue di Denari\tTre di Denari\n"
     ]
    }
   ],
   "source": [
    "pattern = \"  +\"\n",
    "\n",
    "re.findall(pattern, stringa.strip())\n",
    "print(re.sub(pattern, \"\\t\", stringa))\n"
   ]
  },
  {
   "cell_type": "markdown",
   "metadata": {},
   "source": [
    "### Gruppi: `groups` e `group`\n",
    "\n",
    "Posso identificare all'interno del pattern dei \"sotto-pattern\" per accedere ad elementi specifici della stringa.\n",
    "\n",
    "I metodi dell'oggetto Match:<br>\n",
    "`oggetto_match.groups()` --> restituisce una tupla contenente tutti i sotto-gruppi trovati \n",
    "`oggetto_match.group(n_sottogruppo)` --> restituisce il sottogruppo specifico, tenendo presente che il sottogruppo 1 e' l'intero oggetto Match <br>\n",
    "\n",
    "E' anche possibile specificare un nome per il sotto pattern."
   ]
  },
  {
   "cell_type": "code",
   "execution_count": 53,
   "metadata": {
    "pycharm": {
     "name": "#%%\n"
    }
   },
   "outputs": [],
   "source": [
    " pattern = \"(.+)@(.+)\\.([a-zA-Z]{2,3})\"\n",
    "\n",
    "oggetto_match = re.match(pattern, \"unIndirizzo@casa.casas.it\")\n"
   ]
  },
  {
   "cell_type": "code",
   "execution_count": 54,
   "metadata": {},
   "outputs": [
    {
     "data": {
      "text/plain": [
       "('unIndirizzo', 'casa.casas', 'it')"
      ]
     },
     "execution_count": 54,
     "metadata": {},
     "output_type": "execute_result"
    }
   ],
   "source": [
    "oggetto_match.groups()"
   ]
  },
  {
   "cell_type": "code",
   "execution_count": 55,
   "metadata": {},
   "outputs": [
    {
     "data": {
      "text/plain": [
       "'unIndirizzo@casa.casas.it'"
      ]
     },
     "execution_count": 55,
     "metadata": {},
     "output_type": "execute_result"
    }
   ],
   "source": [
    "oggetto_match.group()"
   ]
  },
  {
   "cell_type": "code",
   "execution_count": null,
   "metadata": {},
   "outputs": [],
   "source": []
  },
  {
   "cell_type": "code",
   "execution_count": 56,
   "metadata": {},
   "outputs": [],
   "source": [
    "#E' possibile dare un nome ai gruppi specificandoli all'interno della\n",
    "# parentesi tonda in questo modo:\n",
    "    \n",
    "pattern = \"(?P<nome>.+)@(.+)\\.(?P<dominio>[a-zA-Z]{2,3})\"\n",
    "\n",
    "oggetto_match = re.match(pattern, \"unIndirizzo@casa.casas.it\")\n"
   ]
  },
  {
   "cell_type": "code",
   "execution_count": 57,
   "metadata": {},
   "outputs": [
    {
     "data": {
      "text/plain": [
       "'unIndirizzo'"
      ]
     },
     "execution_count": 57,
     "metadata": {},
     "output_type": "execute_result"
    }
   ],
   "source": [
    "# in tal modo l'accesso alle occorrenze del gruppo puo' essere fatta per nome:\n",
    "oggetto_match.group(\"nome\")"
   ]
  },
  {
   "cell_type": "code",
   "execution_count": 58,
   "metadata": {},
   "outputs": [
    {
     "data": {
      "text/plain": [
       "'unIndirizzo'"
      ]
     },
     "execution_count": 58,
     "metadata": {},
     "output_type": "execute_result"
    }
   ],
   "source": [
    "oggetto_match.group(1)"
   ]
  },
  {
   "cell_type": "code",
   "execution_count": 59,
   "metadata": {},
   "outputs": [
    {
     "data": {
      "text/plain": [
       "'it'"
      ]
     },
     "execution_count": 59,
     "metadata": {},
     "output_type": "execute_result"
    }
   ],
   "source": [
    "oggetto_match.group(\"dominio\")"
   ]
  }
 ],
 "metadata": {
  "kernelspec": {
   "display_name": "Python 3 (ipykernel)",
   "language": "python",
   "name": "python3"
  },
  "language_info": {
   "codemirror_mode": {
    "name": "ipython",
    "version": 3
   },
   "file_extension": ".py",
   "mimetype": "text/x-python",
   "name": "python",
   "nbconvert_exporter": "python",
   "pygments_lexer": "ipython3",
   "version": "3.9.7"
  },
  "toc": {
   "base_numbering": 1,
   "nav_menu": {},
   "number_sections": true,
   "sideBar": true,
   "skip_h1_title": true,
   "title_cell": "Table of Contents",
   "title_sidebar": "Contents",
   "toc_cell": false,
   "toc_position": {
    "height": "calc(100% - 180px)",
    "left": "10px",
    "top": "150px",
    "width": "349px"
   },
   "toc_section_display": true,
   "toc_window_display": false
  },
  "varInspector": {
   "cols": {
    "lenName": 16,
    "lenType": 16,
    "lenVar": 40
   },
   "kernels_config": {
    "python": {
     "delete_cmd_postfix": "",
     "delete_cmd_prefix": "del ",
     "library": "var_list.py",
     "varRefreshCmd": "print(var_dic_list())"
    },
    "r": {
     "delete_cmd_postfix": ") ",
     "delete_cmd_prefix": "rm(",
     "library": "var_list.r",
     "varRefreshCmd": "cat(var_dic_list()) "
    }
   },
   "types_to_exclude": [
    "module",
    "function",
    "builtin_function_or_method",
    "instance",
    "_Feature"
   ],
   "window_display": false
  }
 },
 "nbformat": 4,
 "nbformat_minor": 1
}