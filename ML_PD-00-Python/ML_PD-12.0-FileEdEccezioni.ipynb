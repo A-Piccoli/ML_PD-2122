{
 "cells": [
  {
   "cell_type": "markdown",
   "metadata": {
    "toc": true
   },
   "source": [
    "<h1>Table of Contents<span class=\"tocSkip\"></span></h1>\n",
    "<div class=\"toc\"><ul class=\"toc-item\"><li><span><a href=\"#Accederea-ad-un-file,-with,-open-e-close\" data-toc-modified-id=\"Accederea-ad-un-file,-with,-open-e-close-1\"><span class=\"toc-item-num\">1&nbsp;&nbsp;</span>Accederea ad un file, <code>with</code>, <code>open</code> e <code>close</code></a></span><ul class=\"toc-item\"><li><span><a href=\"#Scrivere-un-file-di-testo\" data-toc-modified-id=\"Scrivere-un-file-di-testo-1.1\"><span class=\"toc-item-num\">1.1&nbsp;&nbsp;</span>Scrivere un file di testo</a></span></li><li><span><a href=\"#Leggere-un-file-di-testo\" data-toc-modified-id=\"Leggere-un-file-di-testo-1.2\"><span class=\"toc-item-num\">1.2&nbsp;&nbsp;</span>Leggere un file di testo</a></span></li><li><span><a href=\"#Modificare,-aggiornare-un-file-di-testo\" data-toc-modified-id=\"Modificare,-aggiornare-un-file-di-testo-1.3\"><span class=\"toc-item-num\">1.3&nbsp;&nbsp;</span>Modificare, aggiornare un file di testo</a></span></li></ul></li><li><span><a href=\"#Serializzazione-e-Deserializzazione-con-JSON\" data-toc-modified-id=\"Serializzazione-e-Deserializzazione-con-JSON-2\"><span class=\"toc-item-num\">2&nbsp;&nbsp;</span>Serializzazione e Deserializzazione con JSON</a></span></li><li><span><a href=\"#Il-modulo-os\" data-toc-modified-id=\"Il-modulo-os-3\"><span class=\"toc-item-num\">3&nbsp;&nbsp;</span>Il modulo <code>os</code></a></span></li><li><span><a href=\"#Alcuni-esempi:\" data-toc-modified-id=\"Alcuni-esempi:-4\"><span class=\"toc-item-num\">4&nbsp;&nbsp;</span>Alcuni esempi:</a></span></li><li><span><a href=\"#Gestione-delle-eccezioni:-try,-except,-else,-finally\" data-toc-modified-id=\"Gestione-delle-eccezioni:-try,-except,-else,-finally-5\"><span class=\"toc-item-num\">5&nbsp;&nbsp;</span>Gestione delle eccezioni: <code>try, except, else, finally</code></a></span></li><li><span><a href=\"#Sollevare-un'eccezione-esplicitamente:\" data-toc-modified-id=\"Sollevare-un'eccezione-esplicitamente:-6\"><span class=\"toc-item-num\">6&nbsp;&nbsp;</span>Sollevare un'eccezione esplicitamente:</a></span></li><li><span><a href=\"#Stack-Traceback:\" data-toc-modified-id=\"Stack-Traceback:-7\"><span class=\"toc-item-num\">7&nbsp;&nbsp;</span>Stack Traceback:</a></span></li></ul></div>"
   ]
  },
  {
   "cell_type": "markdown",
   "metadata": {},
   "source": [
    "## File"
   ]
  },
  {
   "cell_type": "code",
   "execution_count": null,
   "metadata": {
    "pycharm": {
     "name": "#%%\n"
    }
   },
   "outputs": [],
   "source": []
  },
  {
   "cell_type": "markdown",
   "metadata": {
    "pycharm": {
     "name": "#%% md\n"
    }
   },
   "source": [
    "### Accederea ad un file, `with`, `open` e `close`\n",
    "* modo `w`--> Modalita' Scrittura, writing. Crea un nuovo file o __Sovrascrive gli esistenti!!!__\n",
    "* modo `r`--> Modalita' Lettura, reading. Posso leggere solo file che effettivamente esistono\n",
    "* modo `a`--> Modalita' Aggiungi in coda, append. Crea un nuovo file o apre senza cancellarlo un file esistene\n"
   ]
  },
  {
   "cell_type": "code",
   "execution_count": 26,
   "metadata": {},
   "outputs": [
    {
     "name": "stdout",
     "output_type": "stream",
     "text": [
      "I PROMESSI SPOSI\n",
      "CAPITOLO I\n",
      "\n",
      "\n",
      "Quel ramo del lago di Como che volge a mezzogiorno,\n",
      "tra due catene non\n"
     ]
    }
   ],
   "source": [
    "# Primo metodo: open e close\n",
    "file_name = \"ML_PD-12.2-IPromessiSposi.txt\"\n",
    "\n",
    "# Creo un oggeto di tipo \"file\" a cui posso accedere utilizzando i metodi propri dell'oggetto\n",
    "my_file = open(file_name)\n",
    "\n",
    "#possiamo verificare che il file e' accessibile e leggibile\n",
    "a = my_file.read()\n",
    "# opero sul file come previso\n",
    "\n",
    "# alla fine devo chiudere il file, rilasciare le risorse associate prima di terminare il programma\n",
    "my_file.close()\n",
    "\n",
    "\n",
    "print(a[:100])"
   ]
  },
  {
   "cell_type": "code",
   "execution_count": 16,
   "metadata": {},
   "outputs": [
    {
     "name": "stdout",
     "output_type": "stream",
     "text": [
      "File aperto\n",
      "<_io.TextIOWrapper name='ML_PD-12.2-IPromessiSposi.txt' mode='r' encoding='cp1252'>\n",
      "I PROMESSI SPOSI \n",
      "CAPITOLO I \n",
      "\n",
      "\n",
      "Quel ramo del lago di Como che volge a mezzogiorno, \n",
      "tra due catene \n",
      "File chiuso\n",
      "<_io.TextIOWrapper name='ML_PD-12.2-IPromessiSposi.txt' mode='r' encoding='cp1252'>\n"
     ]
    },
    {
     "ename": "ValueError",
     "evalue": "I/O operation on closed file.",
     "output_type": "error",
     "traceback": [
      "\u001B[1;31m---------------------------------------------------------------------------\u001B[0m",
      "\u001B[1;31mValueError\u001B[0m                                Traceback (most recent call last)",
      "\u001B[1;32m~\\AppData\\Local\\Temp/ipykernel_19652/1956098283.py\u001B[0m in \u001B[0;36m<module>\u001B[1;34m\u001B[0m\n\u001B[0;32m     11\u001B[0m \u001B[0mprint\u001B[0m\u001B[1;33m(\u001B[0m\u001B[1;34m\"File chiuso\"\u001B[0m\u001B[1;33m)\u001B[0m\u001B[1;33m\u001B[0m\u001B[1;33m\u001B[0m\u001B[0m\n\u001B[0;32m     12\u001B[0m \u001B[0mprint\u001B[0m\u001B[1;33m(\u001B[0m\u001B[0mmy_file\u001B[0m\u001B[1;33m)\u001B[0m \u001B[1;31m# l'oggetto file esiste ancora ma non e' accessibile\u001B[0m\u001B[1;33m\u001B[0m\u001B[1;33m\u001B[0m\u001B[0m\n\u001B[1;32m---> 13\u001B[1;33m \u001B[0mc\u001B[0m \u001B[1;33m=\u001B[0m \u001B[0mmy_file\u001B[0m\u001B[1;33m.\u001B[0m\u001B[0mread\u001B[0m\u001B[1;33m(\u001B[0m\u001B[1;33m)\u001B[0m \u001B[1;31m# se tento una lettura viene restituito un errore di I/O\u001B[0m\u001B[1;33m\u001B[0m\u001B[1;33m\u001B[0m\u001B[0m\n\u001B[0m\u001B[0;32m     14\u001B[0m \u001B[1;33m\u001B[0m\u001B[0m\n\u001B[0;32m     15\u001B[0m \u001B[0mprint\u001B[0m\u001B[1;33m(\u001B[0m\u001B[0mc\u001B[0m\u001B[1;33m[\u001B[0m\u001B[1;33m:\u001B[0m\u001B[1;36m0\u001B[0m\u001B[1;33m]\u001B[0m\u001B[1;33m)\u001B[0m\u001B[1;33m\u001B[0m\u001B[1;33m\u001B[0m\u001B[0m\n",
      "\u001B[1;31mValueError\u001B[0m: I/O operation on closed file."
     ]
    }
   ],
   "source": [
    "# La modalita' piu' utilizzata attualmente prevede invece l'uso dell'istruzione `with` \n",
    "# che esegue un tacito close() alla sua chiusura\n",
    "with open(file_name) as my_file:\n",
    "    print(\"File aperto\")\n",
    "    print(my_file)\n",
    "    b = my_file.read()\n",
    "# la variabile a esiste ed e' accessibile e contiene tutto il contenuto testuale del file    \n",
    "\n",
    "print(b[:100])\n",
    "\n",
    "print(\"File chiuso\")\n",
    "print(my_file) # l'oggetto file esiste ancora ma non e' accessibile\n",
    "c = my_file.read() # se tento una lettura viene restituito un errore di I/O \n",
    "\n",
    "# La riga precedente solleva un'eccezione e quindi non arrivo ad eseguire la print che segue\n",
    "print(c[:0])"
   ]
  },
  {
   "cell_type": "code",
   "execution_count": 20,
   "metadata": {},
   "outputs": [
    {
     "name": "stdout",
     "output_type": "stream",
     "text": [
      "a:\n",
      " I PROMESSI SPOSI \n",
      "CAPITOLO I \n",
      "\n",
      "\n",
      "Quel ramo del lago di Como che volge a mezzogiorno, \n",
      "tra due catene \n",
      "b:\n",
      " I PROMESSI SPOSI \n",
      "CAPITOLO I \n",
      "\n",
      "\n",
      "Quel ramo del lago di Como che volge a mezzogiorno, \n",
      "tra due catene non interrotte di monti, tutto a seni e a golfi, a \n",
      "seconda dello sporgere e del rientrare di quelli (tali notizie \n",
      "noi ricaviamo da un Manoscritto del Milleseicento, nel qua- \n",
      "le Ã¨ narrata la presen\n"
     ]
    }
   ],
   "source": [
    "# Ovviamente le variabili che creo a file aperto restano disponibili anche in seguito alla chiusura:\n",
    "print(\"a:\\n\",a[:100])\n",
    "print(\"b:\\n\",b[:300])"
   ]
  },
  {
   "cell_type": "code",
   "execution_count": 43,
   "metadata": {},
   "outputs": [
    {
     "ename": "FileNotFoundError",
     "evalue": "[Errno 2] No such file or directory: 'ML_PD-12.2-IPromessiSposi______.txt'",
     "output_type": "error",
     "traceback": [
      "\u001B[1;31m---------------------------------------------------------------------------\u001B[0m",
      "\u001B[1;31mFileNotFoundError\u001B[0m                         Traceback (most recent call last)",
      "\u001B[1;32m~\\AppData\\Local\\Temp/ipykernel_19652/111727103.py\u001B[0m in \u001B[0;36m<module>\u001B[1;34m\u001B[0m\n\u001B[0;32m      6\u001B[0m \u001B[1;31m# Di default, sembra che open lavori con \"CP1252\"\u001B[0m\u001B[1;33m\u001B[0m\u001B[1;33m\u001B[0m\u001B[0m\n\u001B[0;32m      7\u001B[0m \u001B[0mfile_name\u001B[0m \u001B[1;33m=\u001B[0m \u001B[1;34m\"ML_PD-12.2-IPromessiSposi______.txt\"\u001B[0m\u001B[1;33m\u001B[0m\u001B[1;33m\u001B[0m\u001B[0m\n\u001B[1;32m----> 8\u001B[1;33m \u001B[1;32mwith\u001B[0m \u001B[0mopen\u001B[0m\u001B[1;33m(\u001B[0m\u001B[0mfile_name\u001B[0m\u001B[1;33m,\u001B[0m \u001B[0mmode\u001B[0m\u001B[1;33m=\u001B[0m\u001B[1;34m\"r\"\u001B[0m\u001B[1;33m,\u001B[0m \u001B[0mencoding\u001B[0m\u001B[1;33m=\u001B[0m\u001B[1;34m\"UTF-8\"\u001B[0m\u001B[1;33m)\u001B[0m \u001B[1;32mas\u001B[0m \u001B[0mmy_file\u001B[0m\u001B[1;33m:\u001B[0m\u001B[1;33m\u001B[0m\u001B[1;33m\u001B[0m\u001B[0m\n\u001B[0m\u001B[0;32m      9\u001B[0m     \u001B[0mprint\u001B[0m\u001B[1;33m(\u001B[0m\u001B[1;34m\"File aperto\"\u001B[0m\u001B[1;33m)\u001B[0m\u001B[1;33m\u001B[0m\u001B[1;33m\u001B[0m\u001B[0m\n\u001B[0;32m     10\u001B[0m     \u001B[0mprint\u001B[0m\u001B[1;33m(\u001B[0m\u001B[0mmy_file\u001B[0m\u001B[1;33m)\u001B[0m\u001B[1;33m\u001B[0m\u001B[1;33m\u001B[0m\u001B[0m\n",
      "\u001B[1;31mFileNotFoundError\u001B[0m: [Errno 2] No such file or directory: 'ML_PD-12.2-IPromessiSposi______.txt'"
     ]
    }
   ],
   "source": [
    "# Posso specificare la modalita' di apertura del file:\n",
    "# mode \"r\",  reading, modalita' di lettura\n",
    "\n",
    "# QUesta e' la modalita' di default\n",
    "# E' importante anche verificare e scegliere il giusto encoding.\n",
    "# Di default, sembra che open lavori con \"CP1252\"\n",
    "file_name = \"ML_PD-12.2-IPromessiSposi.txt\"\n",
    "with open(file_name, mode=\"r\", encoding=\"UTF-8\") as my_file:\n",
    "    print(\"File aperto\")\n",
    "    print(my_file)\n",
    "    b = my_file.read()"
   ]
  },
  {
   "cell_type": "code",
   "execution_count": 22,
   "metadata": {},
   "outputs": [
    {
     "name": "stdout",
     "output_type": "stream",
     "text": [
      "I PROMESSI SPOSI \n",
      "CAPITOLO I \n",
      "\n",
      "\n",
      "Quel ramo del lago di Como che volge a mezzogiorno, \n",
      "tra due catene non interrotte di monti, tutto a seni e a golfi, a \n",
      "seconda dello sporgere e del rientrare di quelli (tali notizie \n",
      "noi ricaviamo da un Manoscritto del Milleseicento, nel qua- \n",
      "le è narrata la present\n"
     ]
    }
   ],
   "source": [
    "print(b[:300])"
   ]
  },
  {
   "cell_type": "code",
   "execution_count": 27,
   "metadata": {},
   "outputs": [
    {
     "name": "stdout",
     "output_type": "stream",
     "text": [
      "File aperto\n",
      "File chiuso\n"
     ]
    }
   ],
   "source": [
    "copia_promessi_sposi = \"ML_PD-12.2-IPromessiSposi_2.txt\"\n",
    "with open(copia_promessi_sposi, mode=\"w\", encoding=\"UTF-8\") as my_file:\n",
    "    print(\"File aperto\")\n",
    "    \n",
    "print(\"File chiuso\")\n"
   ]
  },
  {
   "cell_type": "code",
   "execution_count": 35,
   "metadata": {},
   "outputs": [
    {
     "name": "stdout",
     "output_type": "stream",
     "text": [
      "File aperto\n",
      "File chiuso\n"
     ]
    }
   ],
   "source": [
    "copia_promessi_sposi = \"ML_PD-12.2-IPromessiSposi_2.txt\"\n",
    "with open(copia_promessi_sposi, mode=\"a\", encoding=\"UTF-8\") as my_file:\n",
    "    print(\"File aperto\")\n",
    "    my_file.write(\"CIao io mi appendo al file\\n\")\n",
    "    \n",
    "print(\"File chiuso\")"
   ]
  },
  {
   "cell_type": "markdown",
   "metadata": {},
   "source": [
    "### Scrivere un file di testo"
   ]
  },
  {
   "cell_type": "code",
   "execution_count": 165,
   "metadata": {
    "pycharm": {
     "name": "#%%\n"
    }
   },
   "outputs": [
    {
     "ename": "ValueError",
     "evalue": "I/O operation on closed file.",
     "output_type": "error",
     "traceback": [
      "\u001B[1;31m---------------------------------------------------------------------------\u001B[0m",
      "\u001B[1;31mValueError\u001B[0m                                Traceback (most recent call last)",
      "\u001B[1;32m~\\AppData\\Local\\Temp/ipykernel_19652/1538758654.py\u001B[0m in \u001B[0;36m<module>\u001B[1;34m\u001B[0m\n\u001B[0;32m     17\u001B[0m         \u001B[0mmy_file\u001B[0m\u001B[1;33m.\u001B[0m\u001B[0mwrite\u001B[0m\u001B[1;33m(\u001B[0m\u001B[1;34mf\"riga aggiunta num.{j}\\n\"\u001B[0m\u001B[1;33m)\u001B[0m\u001B[1;33m\u001B[0m\u001B[1;33m\u001B[0m\u001B[0m\n\u001B[0;32m     18\u001B[0m \u001B[1;33m\u001B[0m\u001B[0m\n\u001B[1;32m---> 19\u001B[1;33m \u001B[0mmy_file\u001B[0m\u001B[1;33m.\u001B[0m\u001B[0mwrite\u001B[0m\u001B[1;33m(\u001B[0m\u001B[1;34mf\"riga aggiunta num\"\u001B[0m\u001B[1;33m)\u001B[0m\u001B[1;33m\u001B[0m\u001B[1;33m\u001B[0m\u001B[0m\n\u001B[0m",
      "\u001B[1;31mValueError\u001B[0m: I/O operation on closed file."
     ]
    }
   ],
   "source": [
    "# file=sys.stdout e' un file fittizio che viene visualizzato sul terminale\n",
    "# NB: Esistono altri due file standard di python\n",
    "# sys.stin per la lettura delle linee di comando da terminale (input())\n",
    "# sys.sterr per la visualizzazione sul termianle degli errori e delle eccezioni\n",
    "\n",
    "\n",
    "mio_nuovo_file = \"File_di_test.txt\"\n",
    "\n",
    "with open(mio_nuovo_file, mode=\"w\", encoding=\"utf-8\") as my_file:\n",
    "    \n",
    "    print(\"Questa e' una stringa\",  file=my_file)\n",
    "    print(\"Questa e' la seconda riga\",  file=my_file)\n",
    "    print(\"Questa e' una terza stringa\",  file=my_file)\n",
    "    my_file.write(\"Questa riga viene scritta con write\\n\")\n",
    "    my_file.writelines([\"a\\n\", \"b\\n\", \"c\\n\"])\n",
    "    for j in range(100):\n",
    "        my_file.write(f\"riga aggiunta num.{j}\\n\")\n",
    "\n",
    "my_file.write(f\"riga aggiunta num\")\n"
   ]
  },
  {
   "cell_type": "code",
   "execution_count": 166,
   "metadata": {
    "pycharm": {
     "name": "#%%\n"
    }
   },
   "outputs": [
    {
     "name": "stdout",
     "output_type": "stream",
     "text": [
      "Questa e' una stringa\n"
     ]
    }
   ],
   "source": [
    "import sys\n",
    "print(\"Questa e' una stringa\",  file=sys.stdout)"
   ]
  },
  {
   "cell_type": "code",
   "execution_count": 167,
   "metadata": {},
   "outputs": [],
   "source": [
    "mio_nuovo_file = \"Append_test.txt\"\n",
    "\n",
    "with open(mio_nuovo_file, mode=\"a\", encoding=\"utf-8\") as my_file:\n",
    "    \n",
    "    print(\"Questa e' una stringa\",  file=my_file)\n",
    "    print(\"Questa e' la seconda riga\",  file=my_file)\n",
    "    print(\"Questa e' una terza stringa\",  file=my_file)\n",
    "    my_file.write(\"Questa riga viene scritta con write\\n\")\n",
    "    my_file.writelines([\"a\\n\", \"b\\n\", \"c\\n\"])"
   ]
  },
  {
   "cell_type": "markdown",
   "metadata": {
    "pycharm": {
     "name": "#%% md\n"
    }
   },
   "source": [
    "### Leggere un file di testo\n",
    "* read\n",
    "* readline\n",
    "* readlines\n"
   ]
  },
  {
   "cell_type": "code",
   "execution_count": 168,
   "metadata": {
    "pycharm": {
     "name": "#%%\n"
    }
   },
   "outputs": [],
   "source": [
    "# read legge tutto il file dall-inizio alla fine  e mi permette di salvarne il contenuto \n",
    "# all'interno di una variabile\n",
    "file_name = \"ML_PD-12.2-IPromessiSposi.txt\"\n",
    "with open(file_name, mode=\"r\", encoding=\"UTF-8\") as my_file:\n",
    "    \n",
    "    b = my_file.read()\n"
   ]
  },
  {
   "cell_type": "code",
   "execution_count": 169,
   "metadata": {},
   "outputs": [],
   "source": [
    "b_splittato = b.split(\"\\n\")"
   ]
  },
  {
   "cell_type": "code",
   "execution_count": 170,
   "metadata": {
    "scrolled": false
   },
   "outputs": [
    {
     "data": {
      "text/plain": [
       "['I PROMESSI SPOSI',\n",
       " 'CAPITOLO I',\n",
       " '',\n",
       " '',\n",
       " 'Quel ramo del lago di Como che volge a mezzogiorno,',\n",
       " 'tra due catene non interrotte di monti, tutto a seni e a golfi, a',\n",
       " 'seconda dello sporgere e del rientrare di quelli (tali notizie',\n",
       " 'noi ricaviamo da un Manoscritto del Milleseicento, nel qua-',\n",
       " 'le è narrata la presente istoria) è un lago esclusivamente',\n",
       " \"d'acqua dolce, a differenza del Mar Caspio o del Mar Morto,\"]"
      ]
     },
     "execution_count": 170,
     "metadata": {},
     "output_type": "execute_result"
    }
   ],
   "source": [
    "b_splittato[:10]"
   ]
  },
  {
   "cell_type": "code",
   "execution_count": 171,
   "metadata": {},
   "outputs": [
    {
     "name": "stdout",
     "output_type": "stream",
     "text": [
      "I PROMESSI SPOSI\n",
      "\n",
      "CAPITOLO I\n",
      "\n",
      "\n",
      "\n",
      "\n",
      "\n",
      "Quel ramo del lago di Como che volge a mezzogiorno,\n",
      "\n",
      "tra due catene non interrotte di monti, tutto a seni e a golfi, a\n",
      "\n",
      "I PROMESSI SPOSI\n",
      "\n",
      "CAPITOLO I\n",
      "\n",
      "\n",
      "\n",
      "\n",
      "\n",
      "Quel ramo del lago di Como che volge a mezzogiorno,\n",
      "\n",
      "tra due catene non interrotte di monti, tutto a seni e a golfi, a\n",
      "\n",
      "I PROMESSI SPOSI\n",
      "\n",
      "CAPITOLO I\n",
      "\n",
      "\n",
      "\n",
      "\n",
      "\n",
      "Quel ramo del lago di Como che volge a mezzogiorno,\n",
      "\n",
      "tra due catene non interrotte di monti, tutto a seni e a golfi, a\n",
      "\n",
      "I PROMESSI SPOSI\n",
      "\n",
      "CAPITOLO I\n",
      "\n",
      "\n",
      "\n",
      "\n",
      "\n",
      "Quel ramo del lago di Como che volge a mezzogiorno,\n",
      "\n",
      "tra due catene non interrotte di monti, tutto a seni e a golfi, a\n",
      "\n",
      "I PROMESSI SPOSI\n",
      "\n",
      "CAPITOLO I\n",
      "\n",
      "\n",
      "\n",
      "\n",
      "\n",
      "Quel ramo del lago di Como che volge a mezzogiorno,\n",
      "\n",
      "tra due catene non interrotte di monti, tutto a seni e a golfi, a\n",
      "\n",
      "I PROMESSI SPOSI\n",
      "\n",
      "CAPITOLO I\n",
      "\n",
      "\n",
      "\n",
      "\n",
      "\n",
      "Quel ramo del lago di Como che volge a mezzogiorno,\n",
      "\n",
      "tra due catene non interrotte di monti, tutto a seni e a golfi, a\n",
      "\n",
      "I PROMESSI SPOSI\n",
      "\n",
      "CAPITOLO I\n",
      "\n",
      "\n",
      "\n",
      "\n",
      "\n",
      "Quel ramo del lago di Como che volge a mezzogiorno,\n",
      "\n",
      "tra due catene non interrotte di monti, tutto a seni e a golfi, a\n",
      "\n",
      "I PROMESSI SPOSI\n",
      "\n",
      "CAPITOLO I\n",
      "\n",
      "\n",
      "\n",
      "\n",
      "\n",
      "Quel ramo del lago di Como che volge a mezzogiorno,\n",
      "\n",
      "tra due catene non interrotte di monti, tutto a seni e a golfi, a\n",
      "\n",
      "I PROMESSI SPOSI\n",
      "\n",
      "CAPITOLO I\n",
      "\n",
      "\n",
      "\n",
      "\n",
      "\n",
      "Quel ramo del lago di Como che volge a mezzogiorno,\n",
      "\n",
      "tra due catene non interrotte di monti, tutto a seni e a golfi, a\n",
      "\n",
      "I PROMESSI SPOSI\n",
      "\n",
      "CAPITOLO I\n",
      "\n",
      "\n",
      "\n",
      "\n",
      "\n",
      "Quel ramo del lago di Como che volge a mezzogiorno,\n",
      "\n",
      "tra due catene non interrotte di monti, tutto a seni e a golfi, a\n",
      "\n",
      "I PROMESSI SPOSI\n",
      "\n",
      "CAPITOLO I\n",
      "\n",
      "\n",
      "\n",
      "\n",
      "\n",
      "Quel ramo del lago di Como che volge a mezzogiorno,\n",
      "\n",
      "tra due catene non interrotte di monti, tutto a seni e a golfi, a\n",
      "\n",
      "I PROMESSI SPOSI\n",
      "\n",
      "CAPITOLO I\n",
      "\n",
      "\n",
      "\n",
      "\n",
      "\n",
      "Quel ramo del lago di Como che volge a mezzogiorno,\n",
      "\n",
      "tra due catene non interrotte di monti, tutto a seni e a golfi, a\n",
      "\n",
      "I PROMESSI SPOSI\n",
      "\n",
      "CAPITOLO I\n",
      "\n",
      "\n",
      "\n",
      "\n",
      "\n",
      "Quel ramo del lago di Como che volge a mezzogiorno,\n",
      "\n",
      "tra due catene non interrotte di monti, tutto a seni e a golfi, a\n",
      "\n",
      "I PROMESSI SPOSI\n",
      "\n",
      "CAPITOLO I\n",
      "\n",
      "\n",
      "\n",
      "\n",
      "\n",
      "Quel ramo del lago di Como che volge a mezzogiorno,\n",
      "\n",
      "tra due catene non interrotte di monti, tutto a seni e a golfi, a\n",
      "\n",
      "I PROMESSI SPOSI\n",
      "\n",
      "CAPITOLO I\n",
      "\n",
      "\n",
      "\n",
      "\n",
      "\n",
      "Quel ramo del lago di Como che volge a mezzogiorno,\n",
      "\n",
      "tra due catene non interrotte di monti, tutto a seni e a golfi, a\n",
      "\n",
      "I PROMESSI SPOSI\n",
      "\n",
      "CAPITOLO I\n",
      "\n",
      "\n",
      "\n",
      "\n",
      "\n",
      "Quel ramo del lago di Como che volge a mezzogiorno,\n",
      "\n",
      "tra due catene non interrotte di monti, tutto a seni e a golfi, a\n",
      "\n",
      "I PROMESSI SPOSI\n",
      "\n",
      "CAPITOLO I\n",
      "\n",
      "\n",
      "\n",
      "\n",
      "\n",
      "Quel ramo del lago di Como che volge a mezzogiorno,\n",
      "\n",
      "tra due catene non interrotte di monti, tutto a seni e a golfi, a\n",
      "\n",
      "I PROMESSI SPOSI\n",
      "\n",
      "CAPITOLO I\n",
      "\n",
      "\n",
      "\n",
      "\n",
      "\n",
      "Quel ramo del lago di Como che volge a mezzogiorno,\n",
      "\n",
      "tra due catene non interrotte di monti, tutto a seni e a golfi, a\n",
      "\n",
      "I PROMESSI SPOSI\n",
      "\n",
      "CAPITOLO I\n",
      "\n",
      "\n",
      "\n",
      "\n",
      "\n",
      "Quel ramo del lago di Como che volge a mezzogiorno,\n",
      "\n",
      "tra due catene non interrotte di monti, tutto a seni e a golfi, a\n",
      "\n",
      "I PROMESSI SPOSI\n",
      "\n",
      "CAPITOLO I\n",
      "\n",
      "\n",
      "\n",
      "\n",
      "\n",
      "Quel ramo del lago di Como che volge a mezzogiorno,\n",
      "\n",
      "tra due catene non interrotte di monti, tutto a seni e a golfi, a\n",
      "\n",
      "I PROMESSI SPOSI\n",
      "\n",
      "CAPITOLO I\n",
      "\n",
      "\n",
      "\n",
      "\n",
      "\n",
      "Quel ramo del lago di Como che volge a mezzogiorno,\n",
      "\n",
      "tra due catene non interrotte di monti, tutto a seni e a golfi, a\n",
      "\n",
      "I PROMESSI SPOSI\n",
      "\n",
      "CAPITOLO I\n",
      "\n",
      "\n",
      "\n",
      "\n",
      "\n",
      "Quel ramo del lago di Como che volge a mezzogiorno,\n",
      "\n",
      "tra due catene non interrotte di monti, tutto a seni e a golfi, a\n",
      "\n",
      "I PROMESSI SPOSI\n",
      "\n",
      "CAPITOLO I\n",
      "\n",
      "\n",
      "\n",
      "\n",
      "\n",
      "Quel ramo del lago di Como che volge a mezzogiorno,\n",
      "\n",
      "tra due catene non interrotte di monti, tutto a seni e a golfi, a\n",
      "\n",
      "I PROMESSI SPOSI\n",
      "\n",
      "CAPITOLO I\n",
      "\n",
      "\n",
      "\n",
      "\n",
      "\n",
      "Quel ramo del lago di Como che volge a mezzogiorno,\n",
      "\n",
      "tra due catene non interrotte di monti, tutto a seni e a golfi, a\n",
      "\n",
      "I PROMESSI SPOSI\n",
      "\n",
      "CAPITOLO I\n",
      "\n",
      "\n",
      "\n",
      "\n",
      "\n",
      "Quel ramo del lago di Como che volge a mezzogiorno,\n",
      "\n",
      "tra due catene non interrotte di monti, tutto a seni e a golfi, a\n",
      "\n",
      "I PROMESSI SPOSI\n",
      "\n",
      "CAPITOLO I\n",
      "\n",
      "\n",
      "\n",
      "\n",
      "\n",
      "Quel ramo del lago di Como che volge a mezzogiorno,\n",
      "\n",
      "tra due catene non interrotte di monti, tutto a seni e a golfi, a\n",
      "\n",
      "I PROMESSI SPOSI\n",
      "\n",
      "CAPITOLO I\n",
      "\n",
      "\n",
      "\n",
      "\n",
      "\n",
      "Quel ramo del lago di Como che volge a mezzogiorno,\n",
      "\n",
      "tra due catene non interrotte di monti, tutto a seni e a golfi, a\n",
      "\n",
      "I PROMESSI SPOSI\n",
      "\n",
      "CAPITOLO I\n",
      "\n",
      "\n",
      "\n",
      "\n",
      "\n",
      "Quel ramo del lago di Como che volge a mezzogiorno,\n",
      "\n",
      "tra due catene non interrotte di monti, tutto a seni e a golfi, a\n",
      "\n",
      "I PROMESSI SPOSI\n",
      "\n",
      "CAPITOLO I\n",
      "\n",
      "\n",
      "\n",
      "\n",
      "\n",
      "Quel ramo del lago di Como che volge a mezzogiorno,\n",
      "\n",
      "tra due catene non interrotte di monti, tutto a seni e a golfi, a\n",
      "\n",
      "I PROMESSI SPOSI\n",
      "\n",
      "CAPITOLO I\n",
      "\n",
      "\n",
      "\n",
      "\n",
      "\n",
      "Quel ramo del lago di Como che volge a mezzogiorno,\n",
      "\n",
      "tra due catene non interrotte di monti, tutto a seni e a golfi, a\n",
      "\n",
      "I PROMESSI SPOSI\n",
      "\n",
      "CAPITOLO I\n",
      "\n",
      "\n",
      "\n",
      "\n",
      "\n",
      "Quel ramo del lago di Como che volge a mezzogiorno,\n",
      "\n",
      "tra due catene non interrotte di monti, tutto a seni e a golfi, a\n",
      "\n",
      "I PROMESSI SPOSI\n",
      "\n",
      "CAPITOLO I\n",
      "\n",
      "\n",
      "\n",
      "\n",
      "\n",
      "Quel ramo del lago di Como che volge a mezzogiorno,\n",
      "\n",
      "tra due catene non interrotte di monti, tutto a seni e a golfi, a\n",
      "\n",
      "I PROMESSI SPOSI\n",
      "\n",
      "CAPITOLO I\n",
      "\n",
      "\n",
      "\n",
      "\n",
      "\n",
      "Quel ramo del lago di Como che volge a mezzogiorno,\n",
      "\n",
      "tra due catene non interrotte di monti, tutto a seni e a golfi, a\n",
      "\n",
      "I PROMESSI SPOSI\n",
      "\n",
      "CAPITOLO I\n",
      "\n",
      "\n",
      "\n",
      "\n",
      "\n",
      "Quel ramo del lago di Como che volge a mezzogiorno,\n",
      "\n",
      "tra due catene non interrotte di monti, tutto a seni e a golfi, a\n",
      "\n",
      "I PROMESSI SPOSI\n",
      "\n",
      "CAPITOLO I\n",
      "\n",
      "\n",
      "\n",
      "\n",
      "\n",
      "Quel ramo del lago di Como che volge a mezzogiorno,\n",
      "\n",
      "tra due catene non interrotte di monti, tutto a seni e a golfi, a\n",
      "\n",
      "I PROMESSI SPOSI\n",
      "\n",
      "CAPITOLO I\n",
      "\n",
      "\n",
      "\n",
      "\n",
      "\n",
      "Quel ramo del lago di Como che volge a mezzogiorno,\n",
      "\n",
      "tra due catene non interrotte di monti, tutto a seni e a golfi, a\n",
      "\n",
      "I PROMESSI SPOSI\n",
      "\n",
      "CAPITOLO I\n",
      "\n",
      "\n",
      "\n",
      "\n",
      "\n",
      "Quel ramo del lago di Como che volge a mezzogiorno,\n",
      "\n",
      "tra due catene non interrotte di monti, tutto a seni e a golfi, a\n",
      "\n",
      "I PROMESSI SPOSI\n",
      "\n",
      "CAPITOLO I\n",
      "\n",
      "\n",
      "\n",
      "\n",
      "\n",
      "Quel ramo del lago di Como che volge a mezzogiorno,\n",
      "\n",
      "tra due catene non interrotte di monti, tutto a seni e a golfi, a\n",
      "\n",
      "I PROMESSI SPOSI\n",
      "\n",
      "CAPITOLO I\n",
      "\n",
      "\n",
      "\n",
      "\n",
      "\n",
      "Quel ramo del lago di Como che volge a mezzogiorno,\n",
      "\n",
      "tra due catene non interrotte di monti, tutto a seni e a golfi, a\n",
      "\n",
      "I PROMESSI SPOSI\n",
      "\n",
      "CAPITOLO I\n",
      "\n",
      "\n",
      "\n",
      "\n",
      "\n",
      "Quel ramo del lago di Como che volge a mezzogiorno,\n",
      "\n",
      "tra due catene non interrotte di monti, tutto a seni e a golfi, a\n",
      "\n",
      "I PROMESSI SPOSI\n",
      "\n",
      "CAPITOLO I\n",
      "\n",
      "\n",
      "\n",
      "\n",
      "\n",
      "Quel ramo del lago di Como che volge a mezzogiorno,\n",
      "\n",
      "tra due catene non interrotte di monti, tutto a seni e a golfi, a\n",
      "\n",
      "I PROMESSI SPOSI\n",
      "\n",
      "CAPITOLO I\n",
      "\n",
      "\n",
      "\n",
      "\n",
      "\n",
      "Quel ramo del lago di Como che volge a mezzogiorno,\n",
      "\n",
      "tra due catene non interrotte di monti, tutto a seni e a golfi, a\n",
      "\n",
      "I PROMESSI SPOSI\n",
      "\n",
      "CAPITOLO I\n",
      "\n",
      "\n",
      "\n",
      "\n",
      "\n",
      "Quel ramo del lago di Como che volge a mezzogiorno,\n",
      "\n",
      "tra due catene non interrotte di monti, tutto a seni e a golfi, a\n",
      "\n",
      "I PROMESSI SPOSI\n",
      "\n",
      "CAPITOLO I\n",
      "\n",
      "\n",
      "\n",
      "\n",
      "\n",
      "Quel ramo del lago di Como che volge a mezzogiorno,\n",
      "\n",
      "tra due catene non interrotte di monti, tutto a seni e a golfi, a\n",
      "\n",
      "I PROMESSI SPOSI\n",
      "\n",
      "CAPITOLO I\n",
      "\n",
      "\n",
      "\n",
      "\n",
      "\n",
      "Quel ramo del lago di Como che volge a mezzogiorno,\n",
      "\n",
      "tra due catene non interrotte di monti, tutto a seni e a golfi, a\n",
      "\n",
      "I PROMESSI SPOSI\n",
      "\n",
      "CAPITOLO I\n",
      "\n",
      "\n",
      "\n",
      "\n",
      "\n",
      "Quel ramo del lago di Como che volge a mezzogiorno,\n",
      "\n",
      "tra due catene non interrotte di monti, tutto a seni e a golfi, a\n",
      "\n",
      "I PROMESSI SPOSI\n",
      "\n",
      "CAPITOLO I\n",
      "\n",
      "\n",
      "\n",
      "\n",
      "\n",
      "Quel ramo del lago di Como che volge a mezzogiorno,\n",
      "\n",
      "tra due catene non interrotte di monti, tutto a seni e a golfi, a\n",
      "\n",
      "I PROMESSI SPOSI\n",
      "\n",
      "CAPITOLO I\n",
      "\n",
      "\n",
      "\n",
      "\n",
      "\n",
      "Quel ramo del lago di Como che volge a mezzogiorno,\n",
      "\n",
      "tra due catene non interrotte di monti, tutto a seni e a golfi, a\n",
      "\n",
      "I PROMESSI SPOSI\n",
      "\n",
      "CAPITOLO I\n",
      "\n",
      "\n",
      "\n",
      "\n",
      "\n",
      "Quel ramo del lago di Como che volge a mezzogiorno,\n",
      "\n",
      "tra due catene non interrotte di monti, tutto a seni e a golfi, a\n",
      "\n",
      "I PROMESSI SPOSI\n",
      "\n",
      "CAPITOLO I\n",
      "\n",
      "\n",
      "\n",
      "\n",
      "\n",
      "Quel ramo del lago di Como che volge a mezzogiorno,\n",
      "\n",
      "tra due catene non interrotte di monti, tutto a seni e a golfi, a\n",
      "\n",
      "I PROMESSI SPOSI\n",
      "\n",
      "CAPITOLO I\n",
      "\n",
      "\n",
      "\n",
      "\n",
      "\n",
      "Quel ramo del lago di Como che volge a mezzogiorno,\n",
      "\n",
      "tra due catene non interrotte di monti, tutto a seni e a golfi, a\n",
      "\n",
      "I PROMESSI SPOSI\n",
      "\n",
      "CAPITOLO I\n",
      "\n",
      "\n",
      "\n",
      "\n",
      "\n",
      "Quel ramo del lago di Como che volge a mezzogiorno,\n",
      "\n",
      "tra due catene non interrotte di monti, tutto a seni e a golfi, a\n",
      "\n",
      "I PROMESSI SPOSI\n",
      "\n",
      "CAPITOLO I\n",
      "\n",
      "\n",
      "\n",
      "\n",
      "\n",
      "Quel ramo del lago di Como che volge a mezzogiorno,\n",
      "\n",
      "tra due catene non interrotte di monti, tutto a seni e a golfi, a\n",
      "\n",
      "I PROMESSI SPOSI\n",
      "\n",
      "CAPITOLO I\n",
      "\n",
      "\n",
      "\n",
      "\n",
      "\n",
      "Quel ramo del lago di Como che volge a mezzogiorno,\n",
      "\n",
      "tra due catene non interrotte di monti, tutto a seni e a golfi, a\n",
      "\n",
      "I PROMESSI SPOSI\n",
      "\n",
      "CAPITOLO I\n",
      "\n",
      "\n",
      "\n",
      "\n",
      "\n",
      "Quel ramo del lago di Como che volge a mezzogiorno,\n",
      "\n",
      "tra due catene non interrotte di monti, tutto a seni e a golfi, a\n",
      "\n",
      "I PROMESSI SPOSI\n",
      "\n",
      "CAPITOLO I\n",
      "\n",
      "\n",
      "\n",
      "\n",
      "\n",
      "Quel ramo del lago di Como che volge a mezzogiorno,\n",
      "\n",
      "tra due catene non interrotte di monti, tutto a seni e a golfi, a\n",
      "\n",
      "I PROMESSI SPOSI\n",
      "\n",
      "CAPITOLO I\n",
      "\n",
      "\n",
      "\n",
      "\n",
      "\n",
      "Quel ramo del lago di Como che volge a mezzogiorno,\n",
      "\n",
      "tra due catene non interrotte di monti, tutto a seni e a golfi, a\n",
      "\n"
     ]
    },
    {
     "name": "stdout",
     "output_type": "stream",
     "text": [
      "I PROMESSI SPOSI\n",
      "\n",
      "CAPITOLO I\n",
      "\n",
      "\n",
      "\n",
      "\n",
      "\n",
      "Quel ramo del lago di Como che volge a mezzogiorno,\n",
      "\n",
      "tra due catene non interrotte di monti, tutto a seni e a golfi, a\n",
      "\n",
      "I PROMESSI SPOSI\n",
      "\n",
      "CAPITOLO I\n",
      "\n",
      "\n",
      "\n",
      "\n",
      "\n",
      "Quel ramo del lago di Como che volge a mezzogiorno,\n",
      "\n",
      "tra due catene non interrotte di monti, tutto a seni e a golfi, a\n",
      "\n",
      "I PROMESSI SPOSI\n",
      "\n",
      "CAPITOLO I\n",
      "\n",
      "\n",
      "\n",
      "\n",
      "\n",
      "Quel ramo del lago di Como che volge a mezzogiorno,\n",
      "\n",
      "tra due catene non interrotte di monti, tutto a seni e a golfi, a\n",
      "\n",
      "I PROMESSI SPOSI\n",
      "\n",
      "CAPITOLO I\n",
      "\n",
      "\n",
      "\n",
      "\n",
      "\n",
      "Quel ramo del lago di Como che volge a mezzogiorno,\n",
      "\n",
      "tra due catene non interrotte di monti, tutto a seni e a golfi, a\n",
      "\n",
      "I PROMESSI SPOSI\n",
      "\n",
      "CAPITOLO I\n",
      "\n",
      "\n",
      "\n",
      "\n",
      "\n",
      "Quel ramo del lago di Como che volge a mezzogiorno,\n",
      "\n",
      "tra due catene non interrotte di monti, tutto a seni e a golfi, a\n",
      "\n",
      "I PROMESSI SPOSI\n",
      "\n",
      "CAPITOLO I\n",
      "\n",
      "\n",
      "\n",
      "\n",
      "\n",
      "Quel ramo del lago di Como che volge a mezzogiorno,\n",
      "\n",
      "tra due catene non interrotte di monti, tutto a seni e a golfi, a\n",
      "\n",
      "I PROMESSI SPOSI\n",
      "\n",
      "CAPITOLO I\n",
      "\n",
      "\n",
      "\n",
      "\n",
      "\n",
      "Quel ramo del lago di Como che volge a mezzogiorno,\n",
      "\n",
      "tra due catene non interrotte di monti, tutto a seni e a golfi, a\n",
      "\n",
      "I PROMESSI SPOSI\n",
      "\n",
      "CAPITOLO I\n",
      "\n",
      "\n",
      "\n",
      "\n",
      "\n",
      "Quel ramo del lago di Como che volge a mezzogiorno,\n",
      "\n",
      "tra due catene non interrotte di monti, tutto a seni e a golfi, a\n",
      "\n",
      "I PROMESSI SPOSI\n",
      "\n",
      "CAPITOLO I\n",
      "\n",
      "\n",
      "\n",
      "\n",
      "\n",
      "Quel ramo del lago di Como che volge a mezzogiorno,\n",
      "\n",
      "tra due catene non interrotte di monti, tutto a seni e a golfi, a\n",
      "\n",
      "I PROMESSI SPOSI\n",
      "\n",
      "CAPITOLO I\n",
      "\n",
      "\n",
      "\n",
      "\n",
      "\n",
      "Quel ramo del lago di Como che volge a mezzogiorno,\n",
      "\n",
      "tra due catene non interrotte di monti, tutto a seni e a golfi, a\n",
      "\n",
      "I PROMESSI SPOSI\n",
      "\n",
      "CAPITOLO I\n",
      "\n",
      "\n",
      "\n",
      "\n",
      "\n",
      "Quel ramo del lago di Como che volge a mezzogiorno,\n",
      "\n",
      "tra due catene non interrotte di monti, tutto a seni e a golfi, a\n",
      "\n",
      "I PROMESSI SPOSI\n",
      "\n",
      "CAPITOLO I\n",
      "\n",
      "\n",
      "\n",
      "\n",
      "\n",
      "Quel ramo del lago di Como che volge a mezzogiorno,\n",
      "\n",
      "tra due catene non interrotte di monti, tutto a seni e a golfi, a\n",
      "\n",
      "I PROMESSI SPOSI\n",
      "\n",
      "CAPITOLO I\n",
      "\n",
      "\n",
      "\n",
      "\n",
      "\n",
      "Quel ramo del lago di Como che volge a mezzogiorno,\n",
      "\n",
      "tra due catene non interrotte di monti, tutto a seni e a golfi, a\n",
      "\n",
      "I PROMESSI SPOSI\n",
      "\n",
      "CAPITOLO I\n",
      "\n",
      "\n",
      "\n",
      "\n",
      "\n",
      "Quel ramo del lago di Como che volge a mezzogiorno,\n",
      "\n",
      "tra due catene non interrotte di monti, tutto a seni e a golfi, a\n",
      "\n",
      "I PROMESSI SPOSI\n",
      "\n",
      "CAPITOLO I\n",
      "\n",
      "\n",
      "\n",
      "\n",
      "\n",
      "Quel ramo del lago di Como che volge a mezzogiorno,\n",
      "\n",
      "tra due catene non interrotte di monti, tutto a seni e a golfi, a\n",
      "\n",
      "I PROMESSI SPOSI\n",
      "\n",
      "CAPITOLO I\n",
      "\n",
      "\n",
      "\n",
      "\n",
      "\n",
      "Quel ramo del lago di Como che volge a mezzogiorno,\n",
      "\n",
      "tra due catene non interrotte di monti, tutto a seni e a golfi, a\n",
      "\n",
      "I PROMESSI SPOSI\n",
      "\n",
      "CAPITOLO I\n",
      "\n",
      "\n",
      "\n",
      "\n",
      "\n",
      "Quel ramo del lago di Como che volge a mezzogiorno,\n",
      "\n",
      "tra due catene non interrotte di monti, tutto a seni e a golfi, a\n",
      "\n",
      "I PROMESSI SPOSI\n",
      "\n",
      "CAPITOLO I\n",
      "\n",
      "\n",
      "\n",
      "\n",
      "\n",
      "Quel ramo del lago di Como che volge a mezzogiorno,\n",
      "\n",
      "tra due catene non interrotte di monti, tutto a seni e a golfi, a\n",
      "\n",
      "I PROMESSI SPOSI\n",
      "\n",
      "CAPITOLO I\n",
      "\n",
      "\n",
      "\n",
      "\n",
      "\n",
      "Quel ramo del lago di Como che volge a mezzogiorno,\n",
      "\n",
      "tra due catene non interrotte di monti, tutto a seni e a golfi, a\n",
      "\n",
      "I PROMESSI SPOSI\n",
      "\n",
      "CAPITOLO I\n",
      "\n",
      "\n",
      "\n",
      "\n",
      "\n",
      "Quel ramo del lago di Como che volge a mezzogiorno,\n",
      "\n",
      "tra due catene non interrotte di monti, tutto a seni e a golfi, a\n",
      "\n",
      "I PROMESSI SPOSI\n",
      "\n",
      "CAPITOLO I\n",
      "\n",
      "\n",
      "\n",
      "\n",
      "\n",
      "Quel ramo del lago di Como che volge a mezzogiorno,\n",
      "\n",
      "tra due catene non interrotte di monti, tutto a seni e a golfi, a\n",
      "\n",
      "I PROMESSI SPOSI\n",
      "\n",
      "CAPITOLO I\n",
      "\n",
      "\n",
      "\n",
      "\n",
      "\n",
      "Quel ramo del lago di Como che volge a mezzogiorno,\n",
      "\n",
      "tra due catene non interrotte di monti, tutto a seni e a golfi, a\n",
      "\n",
      "I PROMESSI SPOSI\n",
      "\n",
      "CAPITOLO I\n",
      "\n",
      "\n",
      "\n",
      "\n",
      "\n",
      "Quel ramo del lago di Como che volge a mezzogiorno,\n",
      "\n",
      "tra due catene non interrotte di monti, tutto a seni e a golfi, a\n",
      "\n",
      "I PROMESSI SPOSI\n",
      "\n",
      "CAPITOLO I\n",
      "\n",
      "\n",
      "\n",
      "\n",
      "\n",
      "Quel ramo del lago di Como che volge a mezzogiorno,\n",
      "\n",
      "tra due catene non interrotte di monti, tutto a seni e a golfi, a\n",
      "\n",
      "28.4 ms ± 1.08 ms per loop (mean ± std. dev. of 7 runs, 10 loops each)\n"
     ]
    }
   ],
   "source": [
    "%%timeit\n",
    "# read legge tutto il file dall-inizio alla fine  e mi permette di salvarne il contenuto \n",
    "# all'interno di una variabile\n",
    "file_name = \"ML_PD-12.2-IPromessiSposi.txt\"\n",
    "my_file = open(file_name, mode=\"r\", encoding=\"UTF-8\")\n",
    "\n",
    "una_riga = my_file.readline()\n",
    "print(una_riga)\n",
    "una_riga = my_file.readline()\n",
    "print(una_riga)\n",
    "una_riga = my_file.readline()\n",
    "print(una_riga)\n",
    "una_riga = my_file.readline()\n",
    "print(una_riga)\n",
    "una_riga = my_file.readline()\n",
    "print(una_riga)\n",
    "una_riga = my_file.readline()\n",
    "print(una_riga)\n",
    "\n",
    "while una_riga != \"\":\n",
    "    # elabora una_riga\n",
    "    una_riga = my_file.readline()\n",
    "#     print(una_riga)\n",
    "    "
   ]
  },
  {
   "cell_type": "code",
   "execution_count": 172,
   "metadata": {},
   "outputs": [
    {
     "ename": "ValueError",
     "evalue": "I/O operation on closed file.",
     "output_type": "error",
     "traceback": [
      "\u001B[1;31m---------------------------------------------------------------------------\u001B[0m",
      "\u001B[1;31mValueError\u001B[0m                                Traceback (most recent call last)",
      "\u001B[1;32m~\\AppData\\Local\\Temp/ipykernel_19652/1419349922.py\u001B[0m in \u001B[0;36m<module>\u001B[1;34m\u001B[0m\n\u001B[1;32m----> 1\u001B[1;33m \u001B[0muna_riga\u001B[0m \u001B[1;33m=\u001B[0m \u001B[0mmy_file\u001B[0m\u001B[1;33m.\u001B[0m\u001B[0mreadline\u001B[0m\u001B[1;33m(\u001B[0m\u001B[1;33m)\u001B[0m\u001B[1;33m\u001B[0m\u001B[1;33m\u001B[0m\u001B[0m\n\u001B[0m\u001B[0;32m      2\u001B[0m \u001B[0mprint\u001B[0m\u001B[1;33m(\u001B[0m\u001B[0muna_riga\u001B[0m\u001B[1;33m)\u001B[0m\u001B[1;33m\u001B[0m\u001B[1;33m\u001B[0m\u001B[0m\n\u001B[0;32m      3\u001B[0m \u001B[0muna_riga\u001B[0m \u001B[1;33m=\u001B[0m \u001B[0mmy_file\u001B[0m\u001B[1;33m.\u001B[0m\u001B[0mreadline\u001B[0m\u001B[1;33m(\u001B[0m\u001B[1;33m)\u001B[0m\u001B[1;33m\u001B[0m\u001B[1;33m\u001B[0m\u001B[0m\n\u001B[0;32m      4\u001B[0m \u001B[0mprint\u001B[0m\u001B[1;33m(\u001B[0m\u001B[0muna_riga\u001B[0m\u001B[1;33m)\u001B[0m\u001B[1;33m\u001B[0m\u001B[1;33m\u001B[0m\u001B[0m\n\u001B[0;32m      5\u001B[0m \u001B[0muna_riga\u001B[0m \u001B[1;33m=\u001B[0m \u001B[0mmy_file\u001B[0m\u001B[1;33m.\u001B[0m\u001B[0mreadline\u001B[0m\u001B[1;33m(\u001B[0m\u001B[1;33m)\u001B[0m\u001B[1;33m\u001B[0m\u001B[1;33m\u001B[0m\u001B[0m\n",
      "\u001B[1;31mValueError\u001B[0m: I/O operation on closed file."
     ]
    }
   ],
   "source": [
    "una_riga = my_file.readline()\n",
    "print(una_riga)\n",
    "una_riga = my_file.readline()\n",
    "print(una_riga)\n",
    "una_riga = my_file.readline()\n",
    "print(una_riga)\n",
    "una_riga = my_file.readline()\n",
    "print(una_riga)\n",
    "una_riga = my_file.readline()\n",
    "print(una_riga)\n",
    "una_riga = my_file.readline()\n",
    "print(una_riga)"
   ]
  },
  {
   "cell_type": "code",
   "execution_count": null,
   "metadata": {},
   "outputs": [],
   "source": [
    "my_file.close()"
   ]
  },
  {
   "cell_type": "code",
   "execution_count": null,
   "metadata": {},
   "outputs": [],
   "source": [
    "# readlines legge tutto il file dall-inizio alla fine e salva ciascuna \n",
    "# riga come elemento di una lista\n",
    "file_name = \"ML_PD-12.2-IPromessiSposi.txt\"\n",
    "with open(file_name, mode=\"r\", encoding=\"UTF-8\") as my_file:\n",
    "    \n",
    "    tutte_le_righe = my_file.readlines()\n",
    "\n",
    "print(tutte_le_righe[:10])"
   ]
  },
  {
   "cell_type": "markdown",
   "metadata": {
    "pycharm": {
     "name": "#%% md\n"
    }
   },
   "source": [
    "### Modificare, aggiornare un file di testo"
   ]
  },
  {
   "cell_type": "code",
   "execution_count": 173,
   "metadata": {
    "pycharm": {
     "name": "#%%\n"
    }
   },
   "outputs": [],
   "source": [
    "# Creo un file di testo che contiene alcuni dati su gli allievi del corso:\n",
    "nome_file = \"allievi.txt\"\n",
    "\n",
    "testo = \"\"\"Nome, Cognome, Età, Sesso, Data Esame\n",
    "Pinco, Pallino, 18, F, 10-10-2020\n",
    "Aldo, Pollo, 34, M, 16-11-1980\n",
    "Anna, Annina, 19, F, 19-03-2019\n",
    "\"\"\"\n",
    "\n",
    "with open(nome_file, mode=\"w\", encoding= \"utf-8\") as my_file:\n",
    "    my_file.write(testo)"
   ]
  },
  {
   "cell_type": "code",
   "execution_count": 174,
   "metadata": {},
   "outputs": [
    {
     "name": "stdout",
     "output_type": "stream",
     "text": [
      "['Nome, Cognome, Età, Sesso, Data Esame\\n', 'Pinco, Pallino, 18, F, 10-10-2020\\n', 'Aldo, Pollo, 34, M, 16-11-1980\\n', 'Anna, Annina, 19, F, 19-03-2019\\n']\n"
     ]
    }
   ],
   "source": [
    "# Mi accorgo che una delle righe contiene un errore. Per modificarla l'unica modalita' che \n",
    "# Python nativamente mi permette di utilizzare e' la riscrittura dell'intero file.\n",
    "# Leggo il file e salvo il contenuto in una variabile:\n",
    "with open(nome_file, mode=\"r\", encoding= \"utf-8\") as my_file:\n",
    "    backUp_file = my_file.readlines()\n",
    "print(backUp_file)"
   ]
  },
  {
   "cell_type": "code",
   "execution_count": 175,
   "metadata": {},
   "outputs": [
    {
     "name": "stdout",
     "output_type": "stream",
     "text": [
      "['Nome, Cognome, Età, Sesso, Data Esame\\n', 'Pinco, Pallino, 18, M, 10-10-2020\\n', 'Aldo, Pollo, 34, M, 16-11-1980\\n', 'Anna, Annina, 19, F, 19-03-2019\\n']\n"
     ]
    }
   ],
   "source": [
    "# modifico puntualmente cia' che deve essere modificato: \n",
    "backUp_file[1] = 'Pinco, Pallino, 18, M, 10-10-2020\\n'\n",
    "print(backUp_file)"
   ]
  },
  {
   "cell_type": "code",
   "execution_count": 176,
   "metadata": {},
   "outputs": [],
   "source": [
    "# Sovrascrivo l'intero file usando la modalita' \"w\"\n",
    "with open(nome_file, mode=\"w\", encoding= \"utf-8\") as my_file:\n",
    "    my_file.writelines(backUp_file)"
   ]
  },
  {
   "cell_type": "markdown",
   "metadata": {
    "pycharm": {
     "name": "#%% md\n"
    }
   },
   "source": [
    "## Serializzazione e Deserializzazione con JSON\n",
    "JavaScript Object Notation\n",
    "\n",
    "* `dump` --> scrive un file json su disco partendo da un dizionario\n",
    "* `load` --> legge un file json e lo trasforma in un dizionario\n"
   ]
  },
  {
   "cell_type": "code",
   "execution_count": 177,
   "metadata": {
    "pycharm": {
     "name": "#%%\n"
    }
   },
   "outputs": [],
   "source": [
    "import json"
   ]
  },
  {
   "cell_type": "code",
   "execution_count": 178,
   "metadata": {},
   "outputs": [],
   "source": [
    "file_name = \"ML_PD-12.1-jsonExample.json\"\n",
    "\n",
    "with open(file_name, \"r\") as my_json_file:\n",
    "    \n",
    "    file_deserializzato = json.load(my_json_file)\n"
   ]
  },
  {
   "cell_type": "code",
   "execution_count": 179,
   "metadata": {},
   "outputs": [
    {
     "data": {
      "text/plain": [
       "dict_keys(['servlet', 'servlet-mapping', 'taglib'])"
      ]
     },
     "execution_count": 179,
     "metadata": {},
     "output_type": "execute_result"
    }
   ],
   "source": [
    "file_deserializzato['web-app'].keys()"
   ]
  },
  {
   "cell_type": "code",
   "execution_count": 180,
   "metadata": {},
   "outputs": [],
   "source": [
    "mio_dict = {\"Pinco Pallino\" :\"18, F, 10-10-2020\",\n",
    "\"Aldo Pollo\"    :\"34, M, 16-11-1980\",\n",
    "\"Anna Annina\":\"19, F, 19-03-2019\"}\n",
    "    "
   ]
  },
  {
   "cell_type": "code",
   "execution_count": 181,
   "metadata": {},
   "outputs": [
    {
     "data": {
      "text/plain": [
       "{'Pinco Pallino': '18, F, 10-10-2020',\n",
       " 'Aldo Pollo': '34, M, 16-11-1980',\n",
       " 'Anna Annina': '19, F, 19-03-2019'}"
      ]
     },
     "execution_count": 181,
     "metadata": {},
     "output_type": "execute_result"
    }
   ],
   "source": [
    "mio_dict"
   ]
  },
  {
   "cell_type": "code",
   "execution_count": 182,
   "metadata": {},
   "outputs": [],
   "source": [
    "file_name = \"mio_file_json.json\"\n",
    "\n",
    "with open(file_name, \"w\") as my_json_file:\n",
    "    \n",
    "    json.dump(mio_dict, my_json_file)"
   ]
  },
  {
   "cell_type": "markdown",
   "metadata": {},
   "source": [
    "## Il modulo `os`\n",
    "* `remove`\n",
    "* `rename`\n",
    "* ..."
   ]
  },
  {
   "cell_type": "markdown",
   "metadata": {},
   "source": [
    "# Eccezioni"
   ]
  },
  {
   "cell_type": "markdown",
   "metadata": {},
   "source": [
    "## Alcuni esempi:\n",
    " * ZeroDivisionError\n",
    " * ValueError"
   ]
  },
  {
   "cell_type": "code",
   "execution_count": 183,
   "metadata": {},
   "outputs": [
    {
     "ename": "ZeroDivisionError",
     "evalue": "division by zero",
     "output_type": "error",
     "traceback": [
      "\u001B[1;31m---------------------------------------------------------------------------\u001B[0m",
      "\u001B[1;31mZeroDivisionError\u001B[0m                         Traceback (most recent call last)",
      "\u001B[1;32m~\\AppData\\Local\\Temp/ipykernel_19652/3673824243.py\u001B[0m in \u001B[0;36m<module>\u001B[1;34m\u001B[0m\n\u001B[0;32m      1\u001B[0m \u001B[0ma\u001B[0m \u001B[1;33m=\u001B[0m \u001B[1;36m10\u001B[0m\u001B[1;33m\u001B[0m\u001B[1;33m\u001B[0m\u001B[0m\n\u001B[0;32m      2\u001B[0m \u001B[0mb\u001B[0m \u001B[1;33m=\u001B[0m \u001B[1;36m0\u001B[0m\u001B[1;33m\u001B[0m\u001B[1;33m\u001B[0m\u001B[0m\n\u001B[1;32m----> 3\u001B[1;33m \u001B[0mc\u001B[0m \u001B[1;33m=\u001B[0m \u001B[0ma\u001B[0m\u001B[1;33m/\u001B[0m\u001B[0mb\u001B[0m\u001B[1;33m\u001B[0m\u001B[1;33m\u001B[0m\u001B[0m\n\u001B[0m\u001B[0;32m      4\u001B[0m \u001B[1;33m\u001B[0m\u001B[0m\n\u001B[0;32m      5\u001B[0m \u001B[0mc\u001B[0m\u001B[1;33m\u001B[0m\u001B[1;33m\u001B[0m\u001B[0m\n",
      "\u001B[1;31mZeroDivisionError\u001B[0m: division by zero"
     ]
    }
   ],
   "source": [
    "a = 10\n",
    "b = 0\n",
    "c = a/b\n",
    "\n",
    "c"
   ]
  },
  {
   "cell_type": "code",
   "execution_count": null,
   "metadata": {},
   "outputs": [],
   "source": [
    "a = int(input(\"Inseridsci a\"))\n",
    "b = int(input(\"Inseridsci b\"))\n",
    "c = a/b\n",
    "\n",
    "c\n"
   ]
  },
  {
   "cell_type": "code",
   "execution_count": null,
   "metadata": {},
   "outputs": [],
   "source": [
    "import math\n",
    "a = -10\n",
    "b = math.sqrt(a)\n",
    "\n",
    "b"
   ]
  },
  {
   "cell_type": "code",
   "execution_count": null,
   "metadata": {},
   "outputs": [],
   "source": []
  },
  {
   "cell_type": "code",
   "execution_count": null,
   "metadata": {},
   "outputs": [],
   "source": []
  },
  {
   "cell_type": "markdown",
   "metadata": {},
   "source": [
    "## Gestione delle eccezioni: `try, except, else, finally`\n",
    "\n",
    "* `try:` --> posto davanti ad uno spezzone di codice, prova ad eseguirlo e in caso di errori accede ad una delle sezioni except che seguono senza interrompere il flusso del programma e senza visualizzare il traceback e l'errore stesso\n",
    "* `except /<nome eccezione/>:` --> In caso di errore viene eseguito il codice contenuto nella clausola except. Se l'eccezione e' riconducibile ed una delle eccezioni richiamate si esegue lo spezzone di codice specifico per quell'eccezione.\n",
    "* `except:` --> In caso di errore generico, se includo la clausolo `except:` si accede ad uno spezzone di codice previsto in questo caso\n",
    "* `finally:` --> Se presente questa clausola contiene uno spezzone di codice che viene eseguita sempre, anche in caso di erroro non gestiti.\n"
   ]
  },
  {
   "cell_type": "code",
   "execution_count": 184,
   "metadata": {},
   "outputs": [
    {
     "name": "stdout",
     "output_type": "stream",
     "text": [
      "Inserisci a \n",
      "E' stato inserito un input non valido\n",
      "\n",
      "\n",
      "\n",
      "La clausolo finally viene eseguita sempre\n",
      "\n",
      "\n",
      "\n",
      "E qui sto facendo altro\n"
     ]
    }
   ],
   "source": [
    "try:\n",
    "    a = int(input(\"Inserisci a \"))\n",
    "    b = int(input(\"Inserisci b \"))\n",
    "    c = a / b\n",
    "    \n",
    "except ValueError:\n",
    "    # Se si verifica un errore di tipo ValueError il codice che viene eseguito \n",
    "    # E' quello qui dentro.\n",
    "    print(\"E' stato inserito un input non valido\")\n",
    "  \n",
    "# except ZeroDivisionError:   \n",
    "#     print(\"Divisione per Zero!\")\n",
    "\n",
    "# except:\n",
    "#     # In caso compaia questa clausolo qualcisasi errore anche non previsto fa accedere 7\n",
    "#     # a questo spezzone di codice\n",
    "#     print(\"Errore generico\")\n",
    "    \n",
    "else:\n",
    "    # Questa parte di codice viene eseguita solo se non ci sono errori nel try  \n",
    "    print(f\"Il risultato di {a}/{b} e': {c}\")\n",
    "\n",
    "finally:\n",
    "    # Questa clausola viene eseguita sempre, indipendentemente da cosa e' accaduto prima.\n",
    "    # anche se il codice si rompe indipendentemente dalle eccezioni previste.\n",
    "    \n",
    "    print(\"\\n\\n\\nLa clausolo finally viene eseguita sempre\")\n",
    "    \n",
    "    \n",
    "\n",
    "# Tutto quello che compare fuori dalla suite try, except, finally NON viene eseguito in caso\n",
    "# venga sollevata un'eccezione\n",
    "\n",
    "print(\"\\n\\n\\nE qui sto facendo altro\")\n",
    "\n",
    "\n",
    "    \n",
    "        "
   ]
  },
  {
   "cell_type": "code",
   "execution_count": 185,
   "metadata": {},
   "outputs": [
    {
     "name": "stdout",
     "output_type": "stream",
     "text": [
      "Inserisci a \n",
      "Deve essere un numero intero\n",
      "Inserisci a \n",
      "Deve essere un numero intero\n",
      "Inserisci a \n",
      "Deve essere un numero intero\n",
      "Inserisci a \n",
      "Deve essere un numero intero\n",
      "Inserisci a \n",
      "Deve essere un numero intero\n",
      "Inserisci a \n",
      "Deve essere un numero intero\n",
      "Inserisci a \n",
      "Deve essere un numero intero\n",
      "Inserisci a \n",
      "Deve essere un numero intero\n",
      "Inserisci a \n",
      "Deve essere un numero intero\n",
      "Inserisci a \n",
      "Deve essere un numero intero\n",
      "Inserisci a \n",
      "Deve essere un numero intero\n",
      "Inserisci a \n",
      "Deve essere un numero intero\n",
      "Inserisci a 3\n"
     ]
    },
    {
     "data": {
      "text/plain": [
       "3"
      ]
     },
     "execution_count": 185,
     "metadata": {},
     "output_type": "execute_result"
    }
   ],
   "source": [
    "# Esempio di rischiesta di input\n",
    "def chiedi_input():\n",
    "    try:\n",
    "        a = int(input(\"Inserisci a \"))\n",
    "    except:\n",
    "        print(\"Deve essere un numero intero\")\n",
    "        a = chiedi_input()\n",
    "\n",
    "    return a\n",
    "\n",
    "chiedi_input()\n"
   ]
  },
  {
   "cell_type": "markdown",
   "metadata": {},
   "source": [
    "## Sollevare un'eccezione esplicitamente:\n",
    "https://docs.python.org/3/library/exceptions.html\n",
    "\n",
    " * `raise NomeClasseEccezione(messaggio)`"
   ]
  },
  {
   "cell_type": "code",
   "execution_count": 186,
   "metadata": {},
   "outputs": [
    {
     "ename": "ValueError",
     "evalue": "Numero Negativo NON accetabile",
     "output_type": "error",
     "traceback": [
      "\u001B[1;31m---------------------------------------------------------------------------\u001B[0m",
      "\u001B[1;31mValueError\u001B[0m                                Traceback (most recent call last)",
      "\u001B[1;32m~\\AppData\\Local\\Temp/ipykernel_19652/755798316.py\u001B[0m in \u001B[0;36m<module>\u001B[1;34m\u001B[0m\n\u001B[0;32m      3\u001B[0m \u001B[1;32mif\u001B[0m \u001B[0ma\u001B[0m \u001B[1;33m<\u001B[0m \u001B[1;36m0\u001B[0m\u001B[1;33m:\u001B[0m\u001B[1;33m\u001B[0m\u001B[1;33m\u001B[0m\u001B[0m\n\u001B[0;32m      4\u001B[0m \u001B[1;33m\u001B[0m\u001B[0m\n\u001B[1;32m----> 5\u001B[1;33m     \u001B[1;32mraise\u001B[0m \u001B[0mValueError\u001B[0m\u001B[1;33m(\u001B[0m\u001B[1;34m\"Numero Negativo NON accetabile\"\u001B[0m\u001B[1;33m)\u001B[0m\u001B[1;33m\u001B[0m\u001B[1;33m\u001B[0m\u001B[0m\n\u001B[0m\u001B[0;32m      6\u001B[0m \u001B[1;33m\u001B[0m\u001B[0m\n\u001B[0;32m      7\u001B[0m \u001B[1;33m\u001B[0m\u001B[0m\n",
      "\u001B[1;31mValueError\u001B[0m: Numero Negativo NON accetabile"
     ]
    }
   ],
   "source": [
    "a = -10\n",
    "\n",
    "if a < 0:\n",
    "    \n",
    "    raise ValueError(\"Numero Negativo NON accetabile\")\n",
    "\n",
    "\n",
    "b = a ** 0.5\n",
    "\n",
    "print(b)"
   ]
  },
  {
   "cell_type": "markdown",
   "metadata": {
    "pycharm": {
     "name": "#%% md\n"
    }
   },
   "source": [
    "## Stack Traceback:\n",
    "\n"
   ]
  },
  {
   "cell_type": "code",
   "execution_count": 187,
   "metadata": {
    "pycharm": {
     "name": "#%%\n"
    }
   },
   "outputs": [
    {
     "ename": "ValueError",
     "evalue": "Errore!!!",
     "output_type": "error",
     "traceback": [
      "\u001B[1;31m---------------------------------------------------------------------------\u001B[0m",
      "\u001B[1;31mValueError\u001B[0m                                Traceback (most recent call last)",
      "\u001B[1;32m~\\AppData\\Local\\Temp/ipykernel_19652/2124033036.py\u001B[0m in \u001B[0;36m<module>\u001B[1;34m\u001B[0m\n\u001B[0;32m      6\u001B[0m \u001B[1;33m\u001B[0m\u001B[0m\n\u001B[0;32m      7\u001B[0m \u001B[1;33m\u001B[0m\u001B[0m\n\u001B[1;32m----> 8\u001B[1;33m \u001B[0mfunzione1\u001B[0m\u001B[1;33m(\u001B[0m\u001B[1;33m)\u001B[0m\u001B[1;33m\u001B[0m\u001B[1;33m\u001B[0m\u001B[0m\n\u001B[0m",
      "\u001B[1;32m~\\AppData\\Local\\Temp/ipykernel_19652/2124033036.py\u001B[0m in \u001B[0;36mfunzione1\u001B[1;34m()\u001B[0m\n\u001B[0;32m      1\u001B[0m \u001B[1;32mdef\u001B[0m \u001B[0mfunzione1\u001B[0m\u001B[1;33m(\u001B[0m\u001B[1;33m)\u001B[0m\u001B[1;33m:\u001B[0m\u001B[1;33m\u001B[0m\u001B[1;33m\u001B[0m\u001B[0m\n\u001B[1;32m----> 2\u001B[1;33m     \u001B[0mfunzione2\u001B[0m\u001B[1;33m(\u001B[0m\u001B[1;33m)\u001B[0m\u001B[1;33m\u001B[0m\u001B[1;33m\u001B[0m\u001B[0m\n\u001B[0m\u001B[0;32m      3\u001B[0m \u001B[1;33m\u001B[0m\u001B[0m\n\u001B[0;32m      4\u001B[0m \u001B[1;32mdef\u001B[0m \u001B[0mfunzione2\u001B[0m\u001B[1;33m(\u001B[0m\u001B[1;33m)\u001B[0m\u001B[1;33m:\u001B[0m\u001B[1;33m\u001B[0m\u001B[1;33m\u001B[0m\u001B[0m\n\u001B[0;32m      5\u001B[0m     \u001B[1;32mraise\u001B[0m \u001B[0mValueError\u001B[0m\u001B[1;33m(\u001B[0m\u001B[1;34m\"Errore!!!\"\u001B[0m\u001B[1;33m)\u001B[0m\u001B[1;33m\u001B[0m\u001B[1;33m\u001B[0m\u001B[0m\n",
      "\u001B[1;32m~\\AppData\\Local\\Temp/ipykernel_19652/2124033036.py\u001B[0m in \u001B[0;36mfunzione2\u001B[1;34m()\u001B[0m\n\u001B[0;32m      3\u001B[0m \u001B[1;33m\u001B[0m\u001B[0m\n\u001B[0;32m      4\u001B[0m \u001B[1;32mdef\u001B[0m \u001B[0mfunzione2\u001B[0m\u001B[1;33m(\u001B[0m\u001B[1;33m)\u001B[0m\u001B[1;33m:\u001B[0m\u001B[1;33m\u001B[0m\u001B[1;33m\u001B[0m\u001B[0m\n\u001B[1;32m----> 5\u001B[1;33m     \u001B[1;32mraise\u001B[0m \u001B[0mValueError\u001B[0m\u001B[1;33m(\u001B[0m\u001B[1;34m\"Errore!!!\"\u001B[0m\u001B[1;33m)\u001B[0m\u001B[1;33m\u001B[0m\u001B[1;33m\u001B[0m\u001B[0m\n\u001B[0m\u001B[0;32m      6\u001B[0m \u001B[1;33m\u001B[0m\u001B[0m\n\u001B[0;32m      7\u001B[0m \u001B[1;33m\u001B[0m\u001B[0m\n",
      "\u001B[1;31mValueError\u001B[0m: Errore!!!"
     ]
    }
   ],
   "source": [
    "def funzione1():    \n",
    "    funzione2()\n",
    "    \n",
    "def funzione2():\n",
    "    raise ValueError(\"Errore!!!\")\n",
    "    \n",
    "    \n",
    "funzione1()"
   ]
  }
 ],
 "metadata": {
  "kernelspec": {
   "display_name": "Python 3 (ipykernel)",
   "language": "python",
   "name": "python3"
  },
  "language_info": {
   "codemirror_mode": {
    "name": "ipython",
    "version": 3
   },
   "file_extension": ".py",
   "mimetype": "text/x-python",
   "name": "python",
   "nbconvert_exporter": "python",
   "pygments_lexer": "ipython3",
   "version": "3.9.7"
  },
  "toc": {
   "base_numbering": 1,
   "nav_menu": {},
   "number_sections": true,
   "sideBar": true,
   "skip_h1_title": true,
   "title_cell": "Table of Contents",
   "title_sidebar": "Contents",
   "toc_cell": true,
   "toc_position": {
    "height": "calc(100% - 180px)",
    "left": "10px",
    "top": "150px",
    "width": "299.2px"
   },
   "toc_section_display": true,
   "toc_window_display": true
  },
  "varInspector": {
   "cols": {
    "lenName": 16,
    "lenType": 16,
    "lenVar": 40
   },
   "kernels_config": {
    "python": {
     "delete_cmd_postfix": "",
     "delete_cmd_prefix": "del ",
     "library": "var_list.py",
     "varRefreshCmd": "print(var_dic_list())"
    },
    "r": {
     "delete_cmd_postfix": ") ",
     "delete_cmd_prefix": "rm(",
     "library": "var_list.r",
     "varRefreshCmd": "cat(var_dic_list()) "
    }
   },
   "types_to_exclude": [
    "module",
    "function",
    "builtin_function_or_method",
    "instance",
    "_Feature"
   ],
   "window_display": false
  }
 },
 "nbformat": 4,
 "nbformat_minor": 1
}