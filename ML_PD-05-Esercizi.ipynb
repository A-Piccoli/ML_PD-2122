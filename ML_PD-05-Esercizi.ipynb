{
 "cells": [
  {
   "cell_type": "markdown",
   "metadata": {
    "toc": true
   },
   "source": [
    "<h1>Table of Contents<span class=\"tocSkip\"></span></h1>\n",
    "<div class=\"toc\"><ul class=\"toc-item\"><li><span><a href=\"#Indovina-il-numero\" data-toc-modified-id=\"Indovina-il-numero-1\"><span class=\"toc-item-num\">1&nbsp;&nbsp;</span>Indovina il numero</a></span></li><li><span><a href=\"#Arbitrary-argument-List\" data-toc-modified-id=\"Arbitrary-argument-List-2\"><span class=\"toc-item-num\">2&nbsp;&nbsp;</span>Arbitrary argument List</a></span></li><li><span><a href=\"#Impariamo-le-tabelline\" data-toc-modified-id=\"Impariamo-le-tabelline-3\"><span class=\"toc-item-num\">3&nbsp;&nbsp;</span>Impariamo le tabelline</a></span><ul class=\"toc-item\"><li><span><a href=\"#Ottimizzazione:\" data-toc-modified-id=\"Ottimizzazione:-3.1\"><span class=\"toc-item-num\">3.1&nbsp;&nbsp;</span>Ottimizzazione:</a></span></li><li><span><a href=\"#Livelli-di-difficolta':\" data-toc-modified-id=\"Livelli-di-difficolta':-3.2\"><span class=\"toc-item-num\">3.2&nbsp;&nbsp;</span>Livelli di difficolta':</a></span></li><li><span><a href=\"#Variazioni-sul-tema:\" data-toc-modified-id=\"Variazioni-sul-tema:-3.3\"><span class=\"toc-item-num\">3.3&nbsp;&nbsp;</span>Variazioni sul tema:</a></span></li></ul></li></ul></div>"
   ]
  },
  {
   "cell_type": "markdown",
   "metadata": {
    "collapsed": true,
    "pycharm": {
     "name": "#%% md\n"
    }
   },
   "source": [
    "# Esercizi proposti\n",
    "Risovere gli esercizi che seguono, strutturando opportunamente il codice in funzioni."
   ]
  },
  {
   "cell_type": "markdown",
   "metadata": {
    "pycharm": {
     "name": "#%% md\n"
    }
   },
   "source": [
    "## Indovina il numero\n",
    "```\n",
    "Scrivi uno script che ci permetta di giocare una partita a \"Indovina il numero\"\n",
    "Lo script deve pescare un numero casuale tra 1 e 1000 senza rivelarlo all'utente e chiedere al\n",
    "giocatore di indovinare il numero con il minor numeor di mosse possibili.\n",
    "Il giocatore inserisce il suo primo tentativo e se il numero e' troppo grande verra' visualizzato un\n",
    "messaggio \"Troppo grande, riprova!\" o se troppo piccolo \"Troppo piccolo. Riprova!\"\n",
    "QUando il numero viene indovinato verra' visualizzato il messaggio \"Bravo hai indovinato in X mosse\".\n",
    "Chiedere all'utente se vuole fare un'altra partita.\n",
    "```\n"
   ]
  },
  {
   "cell_type": "markdown",
   "metadata": {
    "pycharm": {
     "name": "#%% md\n"
    }
   },
   "source": [
    "## Arbitrary argument List\n",
    "```\n",
    "Scrivi una funzione che calcoli il prodotto di un numero non definito di interi che gli vengono passati.\n",
    "Testa la funzione con una serie di chiamate, ciascuna con un numero diverso di argomenti\n",
    "```"
   ]
  },
  {
   "cell_type": "markdown",
   "metadata": {
    "pycharm": {
     "name": "#%% md\n"
    }
   },
   "source": [
    "## Impariamo le tabelline\n",
    "```\n",
    "Scrivi una funzione che proponga ad un bambino una coppia di numeri interi compresi tra 1 e 10 e\n",
    "chieda di inserire il risultaato della motiplicazione, e dica infine se il risultato e' corretto o no:\n",
    "\n",
    "\"Quanto fa 7 x 9 ?\"\n",
    "45\n",
    "\"NO! Riprova\"\n",
    "63\n",
    "\"E' corretto\"\n",
    "\n",
    "\"Quanto fa 5 x 5 ?\"\n",
    "25\n",
    "\"Bravo, hai indovinato al primo tentativo!\"\n",
    "```"
   ]
  },
  {
   "cell_type": "markdown",
   "metadata": {
    "pycharm": {
     "name": "#%% md\n"
    }
   },
   "source": [
    "### Ottimizzazione:\n",
    "```\n",
    "Modifica il precedente esercizio cercando di far variare le risposte del computer:\n",
    "\"Ottimo lavoro\", \"Molto bene\" o \"Bravissimo\" quando si indovina il risultato.\n",
    "\"No, Riprova\", \"Sbagliato, prova di nuovo\", \"No, ancora un tentativo\", se si risonde in modo scorretto.\n",
    "Pesca un numero da uno a tre e usa una delle tre modalita' per dare il corretto feedback allo studente.\n",
    "```"
   ]
  },
  {
   "cell_type": "markdown",
   "metadata": {
    "pycharm": {
     "name": "#%% md\n"
    }
   },
   "source": [
    "### Livelli di difficolta':\n",
    "```\n",
    "Modifica gli script realizzati in precedenza per aggiungere un livello di difficolta' alle operazioni:\n",
    "Livello 1: operazioni a 1 cifra (3 x 4, 6 x 7).\n",
    "Livello 2: operazioni a 2 cifre (18 x 34).\n",
    "```\n"
   ]
  },
  {
   "cell_type": "markdown",
   "metadata": {},
   "source": [
    "### Variazioni sul tema:\n",
    "```\n",
    "Modifica il lavoro svolto in precedenza affinche' l'esercizio possa essere svolto scegliendo volta per volta\n",
    "tra le 4 operazioni:\n",
    "1: Somma\n",
    "2: Sottrazione\n",
    "3: Prodotto\n",
    "4: Divisione (impedendo la divisione per zero)\n",
    "5: Operazione casuale\n",
    "```"
   ]
  },
  {
   "cell_type": "code",
   "execution_count": 0,
   "metadata": {
    "pycharm": {
     "name": "#%%\n"
    }
   },
   "outputs": [],
   "source": []
  }
 ],
 "metadata": {
  "kernelspec": {
   "display_name": "Python 3 (ipykernel)",
   "language": "python",
   "name": "python3"
  },
  "language_info": {
   "codemirror_mode": {
    "name": "ipython",
    "version": 3
   },
   "file_extension": ".py",
   "mimetype": "text/x-python",
   "name": "python",
   "nbconvert_exporter": "python",
   "pygments_lexer": "ipython3",
   "version": "3.8.12"
  },
  "toc": {
   "base_numbering": 1,
   "nav_menu": {},
   "number_sections": true,
   "sideBar": true,
   "skip_h1_title": true,
   "title_cell": "Table of Contents",
   "title_sidebar": "Contents",
   "toc_cell": true,
   "toc_position": {},
   "toc_section_display": true,
   "toc_window_display": true
  },
  "varInspector": {
   "cols": {
    "lenName": 16,
    "lenType": 16,
    "lenVar": 40
   },
   "kernels_config": {
    "python": {
     "delete_cmd_postfix": "",
     "delete_cmd_prefix": "del ",
     "library": "var_list.py",
     "varRefreshCmd": "print(var_dic_list())"
    },
    "r": {
     "delete_cmd_postfix": ") ",
     "delete_cmd_prefix": "rm(",
     "library": "var_list.r",
     "varRefreshCmd": "cat(var_dic_list()) "
    }
   },
   "types_to_exclude": [
    "module",
    "function",
    "builtin_function_or_method",
    "instance",
    "_Feature"
   ],
   "window_display": false
  }
 },
 "nbformat": 4,
 "nbformat_minor": 1
}