{
 "cells": [
  {
   "cell_type": "markdown",
   "metadata": {
    "collapsed": true,
    "pycharm": {
     "name": "#%% md\n"
    }
   },
   "source": [
    "# Esercizi proposti\n",
    "Risovere gli esercizi che seguono, strutturando opportunamente il codice in funzioni."
   ]
  },
  {
   "cell_type": "markdown",
   "source": [
    "## Indovina il numero\n",
    "```\n",
    "Scrivi uno script che ci permetta di giocare una partita a \"Indovina il numero\"\n",
    "Lo script deve pescare un numero casuale tra 1 e 1000 senza rivelarlo all'utente e chiedere al\n",
    "giocatore di indovinare il numero con il minor numeor di mosse possibili.\n",
    "Il giocatore inserisce il suo primo tentativo e se il numero e' troppo grande verra' visualizzato un\n",
    "messaggio \"Troppo grande, riprova!\" o se troppo piccolo \"Troppo piccolo. Riprova!\"\n",
    "QUando il numero viene indovinato verra' visualizzato il messaggio \"Bravo hai indovinato in X mosse\".\n",
    "Chiedere all'utente se vuole fare un'altra partita.\n",
    "```\n"
   ],
   "metadata": {
    "collapsed": false,
    "pycharm": {
     "name": "#%% md\n"
    }
   }
  },
  {
   "cell_type": "markdown",
   "source": [
    "## Arbitrary argument List\n",
    "```\n",
    "Scrivi una funzione che calcoli il prodotto di un numero non definito di interi che gli vengono passati.\n",
    "Testa la funzione con una serie di chiamate, ciascuna con un numero diverso di argomenti\n",
    "```"
   ],
   "metadata": {
    "collapsed": false,
    "pycharm": {
     "name": "#%% md\n"
    }
   }
  },
  {
   "cell_type": "markdown",
   "source": [
    "## Impariamo le tabelline\n",
    "```\n",
    "Scrivi una funzione che proponga ad un bambino una coppia di numeri interi compresi tra 1 e 10 e\n",
    "chieda di inserire il risultaato della motiplicazione, e dica infine se il risultato e' corretto o no:\n",
    "\n",
    "\"Quanto fa 7 x 9 ?\"\n",
    "45\n",
    "\"NO! Riprova\"\n",
    "63\n",
    "\"E' corretto\"\n",
    "\n",
    "\"Quanto fa 5 x 5 ?\"\n",
    "25\n",
    "\"Bravo, hai indovinato al primo tentativo!\"\n",
    "```"
   ],
   "metadata": {
    "collapsed": false,
    "pycharm": {
     "name": "#%% md\n"
    }
   }
  },
  {
   "cell_type": "markdown",
   "source": [
    "### Ottimizzazione:\n",
    "```\n",
    "Modifica il precedente esercizio cercando di far variare le risposte del computer:\n",
    "\"Ottimo lavoro\", \"Molto bene\" o \"Bravissimo\" quando si indovina il risultato.\n",
    "\"No, Riprova\", \"Sbagliato, prova di nuovo\", \"No, ancora un tentativo\", se si risonde in modo scorretto.\n",
    "Pesca un numero da uno a tre e usa una delle tre modalita' per dare il corretto feedback allo studente.\n",
    "```"
   ],
   "metadata": {
    "collapsed": false,
    "pycharm": {
     "name": "#%% md\n"
    }
   }
  },
  {
   "cell_type": "markdown",
   "source": [
    "### Livelli di difficolta':\n",
    "```\n",
    "Modifica gli script realizzati in precedenza per aggiungere un livello di difficolta' alle operazioni:\n",
    "Livello 1: operazioni a 1 cifra (3 x 4, 6 x 7).\n",
    "Livello 2: operazioni a 2 cifre (18 x 34).\n",
    "```\n"
   ],
   "metadata": {
    "collapsed": false,
    "pycharm": {
     "name": "#%% md\n"
    }
   }
  },
  {
   "cell_type": "markdown",
   "source": [
    "### Variazioni sul tema:\n",
    "```\n",
    "Modifica il lavoro svolto in precedenza affinche' l'esercizio possa essere svolto scegliendo volta per volta\n",
    "tra le 4 operazioni:\n",
    "1: Somma\n",
    "2: Sottrazione\n",
    "3: Prodotto\n",
    "4: Divisione (impedendo la divisione per zero)\n",
    "5: Operazione casuale\n",
    "```"
   ],
   "metadata": {
    "collapsed": false
   }
  },
  {
   "cell_type": "code",
   "execution_count": 0,
   "outputs": [],
   "source": [],
   "metadata": {
    "collapsed": false,
    "pycharm": {
     "name": "#%%\n"
    }
   }
  }
 ],
 "metadata": {
  "kernelspec": {
   "display_name": "Python 3",
   "language": "python",
   "name": "python3"
  },
  "language_info": {
   "codemirror_mode": {
    "name": "ipython",
    "version": 2
   },
   "file_extension": ".py",
   "mimetype": "text/x-python",
   "name": "python",
   "nbconvert_exporter": "python",
   "pygments_lexer": "ipython2",
   "version": "2.7.6"
  }
 },
 "nbformat": 4,
 "nbformat_minor": 0
}