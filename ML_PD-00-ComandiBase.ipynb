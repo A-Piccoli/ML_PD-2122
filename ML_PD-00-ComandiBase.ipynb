{
 "cells": [
  {
   "cell_type": "markdown",
   "id": "fc745086",
   "metadata": {
    "toc": true
   },
   "source": [
    "<h1>Table of Contents<span class=\"tocSkip\"></span></h1>\n",
    "<div class=\"toc\"><ul class=\"toc-item\"><li><ul class=\"toc-item\"><li><span><a href=\"#Comandi-su-Anaconda-Prompr:\" data-toc-modified-id=\"Comandi-su-Anaconda-Prompr:-0.1\"><span class=\"toc-item-num\">0.1&nbsp;&nbsp;</span>Comandi su Anaconda Prompr:</a></span></li><li><span><a href=\"#Comandi-su-Jupyter-Notebook\" data-toc-modified-id=\"Comandi-su-Jupyter-Notebook-0.2\"><span class=\"toc-item-num\">0.2&nbsp;&nbsp;</span>Comandi su Jupyter Notebook</a></span></li></ul></li><li><span><a href=\"#Python\" data-toc-modified-id=\"Python-1\"><span class=\"toc-item-num\">1&nbsp;&nbsp;</span>Python</a></span><ul class=\"toc-item\"><li><span><a href=\"#Variabili-e-Assegnazioni\" data-toc-modified-id=\"Variabili-e-Assegnazioni-1.1\"><span class=\"toc-item-num\">1.1&nbsp;&nbsp;</span>Variabili e Assegnazioni</a></span><ul class=\"toc-item\"><li><span><a href=\"#Python-Style\" data-toc-modified-id=\"Python-Style-1.1.1\"><span class=\"toc-item-num\">1.1.1&nbsp;&nbsp;</span>Python Style</a></span></li><li><span><a href=\"#Tipi\" data-toc-modified-id=\"Tipi-1.1.2\"><span class=\"toc-item-num\">1.1.2&nbsp;&nbsp;</span>Tipi</a></span></li></ul></li><li><span><a href=\"#Aritmetica\" data-toc-modified-id=\"Aritmetica-1.2\"><span class=\"toc-item-num\">1.2&nbsp;&nbsp;</span>Aritmetica</a></span></li><li><span><a href=\"#Esercizietti:\" data-toc-modified-id=\"Esercizietti:-1.3\"><span class=\"toc-item-num\">1.3&nbsp;&nbsp;</span>Esercizietti:</a></span></li><li><span><a href=\"#Escape-Character\" data-toc-modified-id=\"Escape-Character-1.4\"><span class=\"toc-item-num\">1.4&nbsp;&nbsp;</span>Escape Character</a></span></li><li><span><a href=\"#Formattzione-delle-stringhe:\" data-toc-modified-id=\"Formattzione-delle-stringhe:-1.5\"><span class=\"toc-item-num\">1.5&nbsp;&nbsp;</span>Formattzione delle stringhe:</a></span></li></ul></li></ul></div>"
   ]
  },
  {
   "cell_type": "markdown",
   "id": "7584c2c8",
   "metadata": {},
   "source": [
    "## Comandi su Anaconda Prompr:\n",
    "\n",
    "* cd nomeCartella\n",
    "* cd..\n",
    "* dir \n",
    "* NomeDrive:  [J:]\n",
    "* pip\n",
    "* conda\n",
    "* jupyter notebook"
   ]
  },
  {
   "cell_type": "markdown",
   "id": "20239b26",
   "metadata": {},
   "source": [
    "## Comandi su Jupyter Notebook\n",
    "* Da File Explorer: new \"python3 Kernel\"\n",
    "* esc: esce dall'editing di una cella\n",
    "* a: aggiunge una cella sopra alla cella selezionata\n",
    "* b: aggiunge una cella sotto alla cella selezionata\n",
    "* m: trasforma la cella selezionata in cella di Markdown\n",
    "* y: trasforma la cella selezionata in cella di codice\n",
    "* x, c, v: taglia, copia e incolla la cella selzionata\n",
    "* z: annulla l'ultima operazione su celle eseguita\n",
    "* l: mostra/nascondi i numeri di riga\n",
    "* shift m: unisci celle selezionate\n",
    "* ctrl+shift+meno(-): dividi le celle al cursore\n",
    "* shift + invio: esegue la cella e passa alla cella successiva\n",
    "* ctrl + invio: esegue la cella e resta sulla stessa cella"
   ]
  },
  {
   "cell_type": "markdown",
   "id": "27793ce0",
   "metadata": {},
   "source": [
    "Per sapere come scrivere ottimamente i markdown su Jupyter:<br>\n",
    "https://medium.com/analytics-vidhya/the-ultimate-markdown-guide-for-jupyter-notebook-d5e5abf728fd"
   ]
  },
  {
   "cell_type": "markdown",
   "id": "90d57ca9",
   "metadata": {},
   "source": [
    "# Python\n",
    "\n"
   ]
  },
  {
   "cell_type": "markdown",
   "id": "3906810b",
   "metadata": {},
   "source": [
    "## Variabili e Assegnazioni"
   ]
  },
  {
   "cell_type": "code",
   "execution_count": 1,
   "id": "08217f8e",
   "metadata": {},
   "outputs": [],
   "source": [
    "\n",
    "# Questa riga e' un commento e verra' ignorata dal kernel\n",
    "\"\"\"\n",
    "L'operatore \"=\" e' l'operatore di assegnazione\n",
    "che assegna all'identificatore che ho a sinistra dell'uguale\n",
    "il risultato di cio' che ho a destra dell'uguale\n",
    "\"\"\"\n",
    "\n",
    "a = 5\n",
    "b = 7"
   ]
  },
  {
   "cell_type": "code",
   "execution_count": 2,
   "id": "6183c3ba",
   "metadata": {},
   "outputs": [],
   "source": [
    "c = a + b"
   ]
  },
  {
   "cell_type": "markdown",
   "id": "6ece53e2",
   "metadata": {},
   "source": [
    "**ATTENZIONE:** Python e' **Case Sensitive** distingue quindi le maiuscole dalle minuscole:\n",
    "* casa non e' uguale ad Casa\n",
    "* a non e' uguale ad A\n",
    "\n"
   ]
  },
  {
   "cell_type": "markdown",
   "id": "233eb62e",
   "metadata": {},
   "source": [
    "### Python Style\n",
    "_Style for Python Code_: https://www.python.org/dev/peps/pep-0008/\n",
    "\n",
    "* identificatori (nomi delle variabili) vanno scirtti in lettere minuscole con parole separate da underscore _ \n",
    "* l'identificatore deve esprimere chiaramente cosa contiene\n",
    "* preferibilmente in lingua inglese"
   ]
  },
  {
   "cell_type": "markdown",
   "id": "dfa69991",
   "metadata": {},
   "source": [
    "### Tipi \n",
    "* int: numero intero \n",
    "* float\n",
    "* boolean\n",
    "* str"
   ]
  },
  {
   "cell_type": "code",
   "execution_count": 25,
   "id": "36e3e3b3",
   "metadata": {},
   "outputs": [
    {
     "data": {
      "text/plain": [
       "int"
      ]
     },
     "execution_count": 25,
     "metadata": {},
     "output_type": "execute_result"
    }
   ],
   "source": [
    "type(a)"
   ]
  },
  {
   "cell_type": "code",
   "execution_count": 26,
   "id": "32a57794",
   "metadata": {},
   "outputs": [],
   "source": [
    "float_number = 5.23122\n",
    "Float_number = 1.2345\n",
    "\n",
    "# Float_number NON E' float_number"
   ]
  },
  {
   "cell_type": "code",
   "execution_count": 5,
   "id": "42217f7a",
   "metadata": {},
   "outputs": [
    {
     "data": {
      "text/plain": [
       "5.23122"
      ]
     },
     "execution_count": 5,
     "metadata": {},
     "output_type": "execute_result"
    }
   ],
   "source": [
    "float_number"
   ]
  },
  {
   "cell_type": "code",
   "execution_count": 6,
   "id": "e881577d",
   "metadata": {},
   "outputs": [
    {
     "data": {
      "text/plain": [
       "float"
      ]
     },
     "execution_count": 6,
     "metadata": {},
     "output_type": "execute_result"
    }
   ],
   "source": [
    "type(float_number)"
   ]
  },
  {
   "cell_type": "code",
   "execution_count": 7,
   "id": "bee3c203",
   "metadata": {},
   "outputs": [],
   "source": [
    "operatore_booleano_1 = True\n",
    "operatore_booleano_2 = False"
   ]
  },
  {
   "cell_type": "code",
   "execution_count": 8,
   "id": "c0aa5a00",
   "metadata": {},
   "outputs": [
    {
     "data": {
      "text/plain": [
       "bool"
      ]
     },
     "execution_count": 8,
     "metadata": {},
     "output_type": "execute_result"
    }
   ],
   "source": [
    "type(operatore_booleano_1)"
   ]
  },
  {
   "cell_type": "code",
   "execution_count": 9,
   "id": "1fe6e669",
   "metadata": {},
   "outputs": [],
   "source": [
    "una_stringa = \"ciao\""
   ]
  },
  {
   "cell_type": "code",
   "execution_count": 10,
   "id": "fb84250c",
   "metadata": {},
   "outputs": [],
   "source": [
    "anche_questa_e_una_stringa = \"45\""
   ]
  },
  {
   "cell_type": "code",
   "execution_count": 11,
   "id": "1eba1504",
   "metadata": {},
   "outputs": [],
   "source": [
    "questo_e_un_numero = 45"
   ]
  },
  {
   "cell_type": "code",
   "execution_count": 12,
   "id": "4f9f71d0",
   "metadata": {},
   "outputs": [
    {
     "data": {
      "text/plain": [
       "str"
      ]
     },
     "execution_count": 12,
     "metadata": {},
     "output_type": "execute_result"
    }
   ],
   "source": [
    "type(una_stringa)"
   ]
  },
  {
   "cell_type": "code",
   "execution_count": 13,
   "id": "3212366b",
   "metadata": {},
   "outputs": [
    {
     "data": {
      "text/plain": [
       "str"
      ]
     },
     "execution_count": 13,
     "metadata": {},
     "output_type": "execute_result"
    }
   ],
   "source": [
    "type(anche_questa_e_una_stringa)"
   ]
  },
  {
   "cell_type": "markdown",
   "id": "5be0e27f",
   "metadata": {},
   "source": [
    "## Aritmetica\n",
    "\n",
    "* \\+ somma\n",
    "* \\- sottrazione\n",
    "* \\* moltiplicazione\n",
    "* \\*\\* elevazione  potenza\n",
    "* / divisione\n",
    "* // divisione intera (floor division), tronca il risultato\n",
    "* % resto della divisione intera (_mod_ in inglese)\n",
    "\n",
    "Nota stilistica: gli operatori vanno separati con degli spazi: <br>\n",
    "OK:<br>\n",
    "5 + 2<br>\n",
    "\n",
    "NON OK:<br>\n",
    "5+2<br>"
   ]
  },
  {
   "cell_type": "code",
   "execution_count": 14,
   "id": "3e12c61b",
   "metadata": {},
   "outputs": [
    {
     "data": {
      "text/plain": [
       "7"
      ]
     },
     "execution_count": 14,
     "metadata": {},
     "output_type": "execute_result"
    }
   ],
   "source": [
    "5+2"
   ]
  },
  {
   "cell_type": "code",
   "execution_count": 15,
   "id": "6ea1f302",
   "metadata": {},
   "outputs": [
    {
     "data": {
      "text/plain": [
       "3"
      ]
     },
     "execution_count": 15,
     "metadata": {},
     "output_type": "execute_result"
    }
   ],
   "source": [
    "5-2"
   ]
  },
  {
   "cell_type": "code",
   "execution_count": 16,
   "id": "755b44ad",
   "metadata": {},
   "outputs": [
    {
     "data": {
      "text/plain": [
       "10"
      ]
     },
     "execution_count": 16,
     "metadata": {},
     "output_type": "execute_result"
    }
   ],
   "source": [
    "5*2"
   ]
  },
  {
   "cell_type": "code",
   "execution_count": 17,
   "id": "0e760d34",
   "metadata": {},
   "outputs": [
    {
     "data": {
      "text/plain": [
       "25"
      ]
     },
     "execution_count": 17,
     "metadata": {},
     "output_type": "execute_result"
    }
   ],
   "source": [
    "# 5 alla seconda\n",
    "5**2"
   ]
  },
  {
   "cell_type": "code",
   "execution_count": 18,
   "id": "2448346d",
   "metadata": {},
   "outputs": [
    {
     "data": {
      "text/plain": [
       "2.5"
      ]
     },
     "execution_count": 18,
     "metadata": {},
     "output_type": "execute_result"
    }
   ],
   "source": [
    "5/2"
   ]
  },
  {
   "cell_type": "code",
   "execution_count": 19,
   "id": "79935557",
   "metadata": {},
   "outputs": [
    {
     "data": {
      "text/plain": [
       "2"
      ]
     },
     "execution_count": 19,
     "metadata": {},
     "output_type": "execute_result"
    }
   ],
   "source": [
    "# divisione intera di 5 per 2\n",
    "5//2"
   ]
  },
  {
   "cell_type": "code",
   "execution_count": 20,
   "id": "8a389b7c",
   "metadata": {},
   "outputs": [
    {
     "data": {
      "text/plain": [
       "1"
      ]
     },
     "execution_count": 20,
     "metadata": {},
     "output_type": "execute_result"
    }
   ],
   "source": [
    "# resto della divisione intera di 5 per 2\n",
    "5%2"
   ]
  },
  {
   "cell_type": "markdown",
   "id": "a230012c",
   "metadata": {},
   "source": [
    "Attenzione: gli errori su Python vengono messi in evidenza dalle **exception** che vengono sollevate da operazioni di **traceback**"
   ]
  },
  {
   "cell_type": "code",
   "execution_count": 21,
   "id": "396a1e73",
   "metadata": {},
   "outputs": [
    {
     "ename": "ZeroDivisionError",
     "evalue": "division by zero",
     "output_type": "error",
     "traceback": [
      "\u001B[1;31m---------------------------------------------------------------------------\u001B[0m",
      "\u001B[1;31mZeroDivisionError\u001B[0m                         Traceback (most recent call last)",
      "\u001B[1;32m~\\AppData\\Local\\Temp/ipykernel_6052/4047698792.py\u001B[0m in \u001B[0;36m<module>\u001B[1;34m\u001B[0m\n\u001B[1;32m----> 1\u001B[1;33m \u001B[1;36m21\u001B[0m\u001B[1;33m/\u001B[0m\u001B[1;36m0\u001B[0m\u001B[1;33m\u001B[0m\u001B[1;33m\u001B[0m\u001B[0m\n\u001B[0m\u001B[0;32m      2\u001B[0m \u001B[1;33m\u001B[0m\u001B[0m\n",
      "\u001B[1;31mZeroDivisionError\u001B[0m: division by zero"
     ]
    }
   ],
   "source": [
    "21/0"
   ]
  },
  {
   "cell_type": "code",
   "execution_count": null,
   "id": "0fa7f722",
   "metadata": {},
   "outputs": [],
   "source": [
    "sum(type(5))"
   ]
  },
  {
   "cell_type": "code",
   "execution_count": null,
   "id": "21360d66",
   "metadata": {},
   "outputs": [],
   "source": [
    "z + 8"
   ]
  },
  {
   "cell_type": "code",
   "execution_count": null,
   "id": "c251fad5",
   "metadata": {},
   "outputs": [],
   "source": [
    "# nelle operazioni aritmetiche le parentesi sono solo quelle tonde\n",
    "(5+2) * 3"
   ]
  },
  {
   "cell_type": "code",
   "execution_count": null,
   "id": "efac0652",
   "metadata": {},
   "outputs": [],
   "source": [
    "5 + 2 * 3 "
   ]
  },
  {
   "cell_type": "code",
   "execution_count": null,
   "id": "3f6d5ffe",
   "metadata": {},
   "outputs": [],
   "source": [
    "# sono ammesse le parentesi, anche rindondanti (ma meglio evitarle)\n",
    "(5+2) + ((3*(7+2)))"
   ]
  },
  {
   "cell_type": "code",
   "execution_count": null,
   "id": "08e13d2f",
   "metadata": {},
   "outputs": [],
   "source": [
    "# non posso usare le parentesi quadre e graffe nei calcoli matematici:\n",
    "\n",
    "[3+4] * 5"
   ]
  },
  {
   "cell_type": "code",
   "execution_count": null,
   "id": "91b22b5f",
   "metadata": {},
   "outputs": [],
   "source": [
    "{4*2} * 2"
   ]
  },
  {
   "cell_type": "code",
   "execution_count": null,
   "id": "5a21f4aa",
   "metadata": {},
   "outputs": [],
   "source": [
    "# il separatore decimale e' il punto:\n",
    "5.234\n"
   ]
  },
  {
   "cell_type": "code",
   "execution_count": null,
   "id": "baee5e70",
   "metadata": {},
   "outputs": [],
   "source": [
    "5,234"
   ]
  },
  {
   "cell_type": "code",
   "execution_count": null,
   "id": "d0ba85f3",
   "metadata": {},
   "outputs": [],
   "source": [
    "[5, 234]"
   ]
  },
  {
   "cell_type": "markdown",
   "id": "5957511a",
   "metadata": {},
   "source": [
    "## Esercizietti:\n",
    "* calcola y = a*z^3 +7 con **a** e **z** pari a due numeri a tua scelta.\n",
    "* confronta\n",
    "    * y = 4^3^2\n",
    "    * y = (4^3)^2\n",
    "    * y = 4^(3^2)\n"
   ]
  },
  {
   "cell_type": "code",
   "execution_count": null,
   "id": "1f460c2f",
   "metadata": {},
   "outputs": [],
   "source": [
    "a = 4/2\n",
    "a"
   ]
  },
  {
   "cell_type": "code",
   "execution_count": null,
   "id": "2fff7921",
   "metadata": {},
   "outputs": [],
   "source": [
    "b = 4//2\n",
    "b"
   ]
  },
  {
   "cell_type": "code",
   "execution_count": null,
   "id": "fcd198c1",
   "metadata": {},
   "outputs": [],
   "source": [
    "type(a) == type(b)"
   ]
  },
  {
   "cell_type": "code",
   "execution_count": null,
   "id": "502dff95",
   "metadata": {},
   "outputs": [],
   "source": [
    "\"Questa e' una stringa\""
   ]
  },
  {
   "cell_type": "code",
   "execution_count": null,
   "id": "2efea564",
   "metadata": {},
   "outputs": [],
   "source": [
    "'Questa e\\' un\\' altra stringa'"
   ]
  },
  {
   "cell_type": "code",
   "execution_count": null,
   "id": "7f967348",
   "metadata": {},
   "outputs": [],
   "source": [
    "b = \"questa e' una stringa\""
   ]
  },
  {
   "cell_type": "code",
   "execution_count": null,
   "id": "f3d2318c",
   "metadata": {},
   "outputs": [],
   "source": [
    "b = \"Marco m'ha detto \\\"Ciao mi chiamo Marco\\\". \"\n"
   ]
  },
  {
   "cell_type": "code",
   "execution_count": null,
   "id": "d2530f51",
   "metadata": {},
   "outputs": [],
   "source": [
    "print(b)"
   ]
  },
  {
   "cell_type": "markdown",
   "id": "469b197a",
   "metadata": {},
   "source": [
    "## Escape Character\n",
    "* \\' --> stampa apice singolo\n",
    "* \\\" --> stampa il doppio apice\n",
    "* \\t --> inserisce un carattere di tabulazione\n",
    "* \\n --> va a capo\n",
    "* \\\\ --> stampa il backslash"
   ]
  },
  {
   "cell_type": "code",
   "execution_count": null,
   "id": "767ec7cf",
   "metadata": {},
   "outputs": [],
   "source": [
    "print(\"Ciao \\t \\t sono lontano\")"
   ]
  },
  {
   "cell_type": "code",
   "execution_count": null,
   "id": "bb8ddfe9",
   "metadata": {},
   "outputs": [],
   "source": [
    "print(\"Ciao \\n\\\"Sono a capo\\\"\")"
   ]
  },
  {
   "cell_type": "code",
   "execution_count": null,
   "id": "a3b03801",
   "metadata": {},
   "outputs": [],
   "source": []
  },
  {
   "cell_type": "markdown",
   "id": "bd05fe47",
   "metadata": {
    "pycharm": {
     "name": "#%% md\n"
    }
   },
   "source": [
    "## Formattzione delle stringhe:\n",
    "https://cheatography.com/gaston/cheat-sheets/python-string-formatting/"
   ]
  },
  {
   "cell_type": "code",
   "execution_count": null,
   "id": "c946b295",
   "metadata": {
    "pycharm": {
     "name": "#%%\n"
    }
   },
   "outputs": [],
   "source": [
    "# Utilizzando le f-strings e' possibile specificare come stamapre a monitor alcuni valori:\n",
    "\n",
    "a = 123.4\n",
    "b = 12.34\n",
    "c = 1.234\n",
    "print(f\"{a:<20.25f}\")\n",
    "print(f\"{b:<20.25f}\")\n",
    "print(f\"{c:<20.25f}\")\n"
   ]
  }
 ],
 "metadata": {
  "kernelspec": {
   "display_name": "Python 3 (ipykernel)",
   "language": "python",
   "name": "python3"
  },
  "language_info": {
   "codemirror_mode": {
    "name": "ipython",
    "version": 3
   },
   "file_extension": ".py",
   "mimetype": "text/x-python",
   "name": "python",
   "nbconvert_exporter": "python",
   "pygments_lexer": "ipython3",
   "version": "3.8.12"
  },
  "toc": {
   "base_numbering": 1,
   "nav_menu": {},
   "number_sections": true,
   "sideBar": true,
   "skip_h1_title": false,
   "title_cell": "Table of Contents",
   "title_sidebar": "Contents",
   "toc_cell": true,
   "toc_position": {},
   "toc_section_display": true,
   "toc_window_display": true
  },
  "varInspector": {
   "cols": {
    "lenName": 16,
    "lenType": 16,
    "lenVar": 40
   },
   "kernels_config": {
    "python": {
     "delete_cmd_postfix": "",
     "delete_cmd_prefix": "del ",
     "library": "var_list.py",
     "varRefreshCmd": "print(var_dic_list())"
    },
    "r": {
     "delete_cmd_postfix": ") ",
     "delete_cmd_prefix": "rm(",
     "library": "var_list.r",
     "varRefreshCmd": "cat(var_dic_list()) "
    }
   },
   "types_to_exclude": [
    "module",
    "function",
    "builtin_function_or_method",
    "instance",
    "_Feature"
   ],
   "window_display": false
  }
 },
 "nbformat": 4,
 "nbformat_minor": 5
}