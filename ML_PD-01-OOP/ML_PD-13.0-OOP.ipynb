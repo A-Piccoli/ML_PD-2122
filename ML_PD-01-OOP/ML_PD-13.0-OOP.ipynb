{
 "cells": [
  {
   "cell_type": "markdown",
   "metadata": {
    "collapsed": true,
    "pycharm": {
     "name": "#%% md\n"
    }
   },
   "source": [
    "# Programmazione orientata agli Oggetti: OOP, Object Oriented Programming"
   ]
  },
  {
   "cell_type": "markdown",
   "metadata": {
    "pycharm": {
     "name": "#%% md\n"
    }
   },
   "source": [
    "## Le Classi in Python\n",
    "* concetto di Classe e Istanza di una classe\n",
    "* Interfaccia di una classe: metodi e attributi\n",
    "    - metodi sono delle funzioni che appartengono alla classe\n",
    "    - attributi sono delle variabili propire della classe\n",
    "* inizializzare un istanza: `__init__(self,...)`\n",
    "* `self`\n",
    "* class namespace `__dict__`\n",
    "* variabili di classe `classvariables`\n"
   ]
  },
  {
   "cell_type": "code",
   "execution_count": 1,
   "metadata": {
    "pycharm": {
     "name": "#%%\n"
    }
   },
   "outputs": [],
   "source": [
    "# definisco una classe chiamata Students:\n",
    "# Il nome della classe si definisce con la CamelNotation\n",
    "class Students:\n",
    "     \n",
    "    pass\n",
    "\n",
    "# Creo un'istanza della classe students semplicemente assegnando:\n",
    "primo_studente = Students()\n",
    "\n",
    "# una seconda istanza della classe students\n",
    "secondo_studente = Students()\n",
    "\n",
    "a = 0 # e' una variabile\n",
    "primo_studente.a = 0 # e' una variabile che afferisce all'istanza primo_studente\n",
    "# se definisco una variabile all'interno di una classe la chiamo attributo\n",
    "\n",
    "# definisco alcuni attributi per primo e secondo studente:\n",
    "primo_studente.eta = 30\n",
    "secondo_studente.eta = 35\n",
    "\n",
    "primo_studente.name = \"Pinco\"\n",
    "secondo_studente.name = \"Pallino\""
   ]
  },
  {
   "cell_type": "code",
   "execution_count": 16,
   "metadata": {},
   "outputs": [
    {
     "data": {
      "text/plain": [
       "{'eta': 30, 'name': 'Pinco'}"
      ]
     },
     "execution_count": 16,
     "metadata": {},
     "output_type": "execute_result"
    }
   ],
   "source": [
    "# Gli attributi di una classe sono disponibili nell'NameSpace dell'istanza: __dict__\n",
    "primo_studente.__dict__"
   ]
  },
  {
   "cell_type": "code",
   "execution_count": 19,
   "metadata": {},
   "outputs": [
    {
     "data": {
      "text/plain": [
       "{'eta': 35, 'name': 'Pallino', 'nmae': 'Pallino'}"
      ]
     },
     "execution_count": 19,
     "metadata": {},
     "output_type": "execute_result"
    }
   ],
   "source": [
    "secondo_studente.__dict__"
   ]
  },
  {
   "cell_type": "code",
   "execution_count": 149,
   "metadata": {},
   "outputs": [],
   "source": [
    "# Se definisco un attributo, e ne sbaglio la digitazione (nmae al posto di name)\n",
    "# python accetta senza fiatare\n",
    "secondo_studente.nmae = \"Pallino\"\n",
    "\n",
    "# Per questa ragione e' preferibile utilizzare il metodo __init__()"
   ]
  },
  {
   "cell_type": "markdown",
   "metadata": {},
   "source": [
    "### Il costruttore in python: `__init__()`"
   ]
  },
  {
   "cell_type": "code",
   "execution_count": 37,
   "metadata": {},
   "outputs": [],
   "source": [
    "# Non e' opportuno creare una classe e in un secoondo momento definire degli attributi \n",
    "# legati alle singole istanze della classe.\n",
    "# Solitamente un \"costruttore\" si occupa di definire gli attributi della classe in modo automatico\n",
    "# limitando le possibilita' di errori:\n",
    "\n",
    "class StudentsConCostruttore:\n",
    "    \"\"\" Definizione della classe studenti con \n",
    "    inizializzatore\n",
    "    \"\"\"\n",
    "    \n",
    "    def __init__(self, name, eta):\n",
    "        \n",
    "        # attributo = varibile passata al costruttore\n",
    "        self.name = name\n",
    "        self.eta = eta\n",
    "    \n",
    "    def print_name(self):\n",
    "        # definiamo un metodo di questa classe\n",
    "        print(f\"Studente {self.name} di {self.eta} anni\")\n",
    "        \n",
    "    "
   ]
  },
  {
   "cell_type": "code",
   "execution_count": 38,
   "metadata": {},
   "outputs": [],
   "source": [
    "student_3 =  StudentsConCostruttore(\"Simone\", 42)\n",
    "student_4 = StudentsConCostruttore(\"Giulia\", 36)"
   ]
  },
  {
   "cell_type": "code",
   "execution_count": 39,
   "metadata": {},
   "outputs": [
    {
     "data": {
      "text/plain": [
       "{'name': 'Simone', 'eta': 42}"
      ]
     },
     "execution_count": 39,
     "metadata": {},
     "output_type": "execute_result"
    }
   ],
   "source": [
    "student_3.__dict__"
   ]
  },
  {
   "cell_type": "code",
   "execution_count": 40,
   "metadata": {},
   "outputs": [
    {
     "data": {
      "text/plain": [
       "{'name': 'Giulia', 'eta': 36}"
      ]
     },
     "execution_count": 40,
     "metadata": {},
     "output_type": "execute_result"
    }
   ],
   "source": [
    "student_4.__dict__"
   ]
  },
  {
   "cell_type": "code",
   "execution_count": 41,
   "metadata": {},
   "outputs": [
    {
     "data": {
      "text/plain": [
       "'Simone'"
      ]
     },
     "execution_count": 41,
     "metadata": {},
     "output_type": "execute_result"
    }
   ],
   "source": [
    "student_3.name"
   ]
  },
  {
   "cell_type": "code",
   "execution_count": 42,
   "metadata": {},
   "outputs": [
    {
     "data": {
      "text/plain": [
       "42"
      ]
     },
     "execution_count": 42,
     "metadata": {},
     "output_type": "execute_result"
    }
   ],
   "source": [
    "student_3.eta"
   ]
  },
  {
   "cell_type": "code",
   "execution_count": 43,
   "metadata": {},
   "outputs": [],
   "source": [
    "student_5 = StudentsConCostruttore(\"nome\", 45)\n",
    "\n"
   ]
  },
  {
   "cell_type": "markdown",
   "metadata": {},
   "source": [
    "### `self` in python"
   ]
  },
  {
   "cell_type": "code",
   "execution_count": 48,
   "metadata": {},
   "outputs": [
    {
     "name": "stdout",
     "output_type": "stream",
     "text": [
      "Studente Simone di 42 anni\n",
      "Studente Simone di 42 anni\n"
     ]
    }
   ],
   "source": [
    "# student_3 e' un'istanza della classe, e quando chiama il metodo \"print_name\"\n",
    "# esegue quanto previsto\n",
    "student_3.print_name()\n",
    "\n",
    "# e' equivalente a:\n",
    "StudentsConCostruttore.print_name(student_3)\n",
    "\n",
    "# StudentsConCostruttore e' la classse, e ha un metodo \"print_name\" che richiede un argomento \"self\", \n",
    "# l'argomento \"self\" e' un istanza della classe stessa, ed e' obligatorio.\n",
    "\n",
    "# Ogni metodo definito in una classe, salvo rari casi DEVE avere come primo argomento \"self\""
   ]
  },
  {
   "cell_type": "markdown",
   "metadata": {},
   "source": [
    "### Le DocString in python:\n",
    "\n"
   ]
  },
  {
   "cell_type": "code",
   "execution_count": 153,
   "metadata": {},
   "outputs": [],
   "source": [
    "# Le classi devono essere ben descritte: inserire le docstring \n",
    "# agevola la leggibilita' e permette di accedere all'help della classe\n",
    "# che stampa proprio le docstirng:\n",
    "\n",
    "class Lavoratore:\n",
    "    \"\"\" Questa docstring descrive la classe\"\"\"\n",
    "    \n",
    "    def __init__(self, nome, cognome,  stipendio):\n",
    "        \"\"\" Questa docstring descrive il costruttore\"\"\"\n",
    "        \n",
    "        # attributo = varibile passata al costruttore\n",
    "        self.nome = nome\n",
    "        self.cognome = cognome\n",
    "        \n",
    "        self.email = nome + \".\" + cognome + \"@company.it\"\n",
    "        \n",
    "        self.stipendio = float(stipendio)\n",
    "        \n",
    "    def stampa_lav(self):\n",
    "        \"\"\" Questa docstring descrive stampa_lav\"\"\"\n",
    "        \n",
    "        print(f\"{self.nome} -  RAL: {self.stipendio:.2f} Euro\")\n",
    "        \n",
    "    def aumento(self):\n",
    "        \"\"\" Questa docstring descrive il metodo aumento\"\"\"\n",
    "        self.percentuale = 1.04\n",
    "        \n",
    "        self.stipendio = self.percentuale * self.stipendio"
   ]
  },
  {
   "cell_type": "code",
   "execution_count": 154,
   "metadata": {},
   "outputs": [
    {
     "name": "stdout",
     "output_type": "stream",
     "text": [
      "Help on class Lavoratore in module __main__:\n",
      "\n",
      "class Lavoratore(builtins.object)\n",
      " |  Lavoratore(nome, cognome, stipendio)\n",
      " |  \n",
      " |  Questa docstring descrive la classe\n",
      " |  \n",
      " |  Methods defined here:\n",
      " |  \n",
      " |  __init__(self, nome, cognome, stipendio)\n",
      " |      Questa docstring descrive il costruttore\n",
      " |  \n",
      " |  aumento(self)\n",
      " |      Questa docstring descrive il metodo aumento\n",
      " |  \n",
      " |  stampa_lav(self)\n",
      " |      Questa docstring descrive stampa_lav\n",
      " |  \n",
      " |  ----------------------------------------------------------------------\n",
      " |  Data descriptors defined here:\n",
      " |  \n",
      " |  __dict__\n",
      " |      dictionary for instance variables (if defined)\n",
      " |  \n",
      " |  __weakref__\n",
      " |      list of weak references to the object (if defined)\n",
      "\n"
     ]
    }
   ],
   "source": [
    "help(Lavoratore)"
   ]
  },
  {
   "cell_type": "code",
   "execution_count": 155,
   "metadata": {},
   "outputs": [
    {
     "name": "stdout",
     "output_type": "stream",
     "text": [
      "Help on function stampa_lav in module __main__:\n",
      "\n",
      "stampa_lav(self)\n",
      "    Questa docstring descrive stampa_lav\n",
      "\n"
     ]
    }
   ],
   "source": [
    "help(Lavoratore.stampa_lav)"
   ]
  },
  {
   "cell_type": "markdown",
   "metadata": {},
   "source": [
    "### Class Variables: Variabili di classe e variabili di istanza"
   ]
  },
  {
   "cell_type": "code",
   "execution_count": 94,
   "metadata": {},
   "outputs": [],
   "source": [
    "class Lavoratore:\n",
    "    \"\"\" Classe descrittiva di un lavoratore\"\"\"\n",
    "    \n",
    "    def __init__(self, nome, cognome,  stipendio):\n",
    "        \n",
    "        self.nome = nome\n",
    "        self.cognome = cognome\n",
    "        \n",
    "        self.email = nome + \".\" + cognome + \"@company.it\"\n",
    "        \n",
    "        self.stipendio = float(stipendio)\n",
    "        \n",
    "    def stampa_lav(self):\n",
    "        \"\"\" Questa docstring sescrive stampa_lav\"\"\"\n",
    "        \n",
    "        print(f\"{self.nome} -  RAL: {self.stipendio:.2f} Euro\")\n",
    "        \n",
    "    def aumento(self):\n",
    "        self.percentuale = 1.04\n",
    "        \n",
    "        self.stipendio = self.percentuale * self.stipendio\n",
    "        \n",
    "        \n",
    "        "
   ]
  },
  {
   "cell_type": "code",
   "execution_count": 95,
   "metadata": {},
   "outputs": [],
   "source": [
    "lavoratore_1 = Lavoratore(\"Mario\", \"Rossi\", 25000)\n",
    "lavoratore_2 = Lavoratore(\"Paolo\", \"Bianchi\", 30000)\n"
   ]
  },
  {
   "cell_type": "code",
   "execution_count": 69,
   "metadata": {},
   "outputs": [
    {
     "name": "stdout",
     "output_type": "stream",
     "text": [
      "<__main__.Lavoratore object at 0x000001D2F38BBAC0>\n"
     ]
    }
   ],
   "source": [
    "print(lavoratore_1)"
   ]
  },
  {
   "cell_type": "code",
   "execution_count": 96,
   "metadata": {},
   "outputs": [
    {
     "data": {
      "text/plain": [
       "{'nome': 'Mario',\n",
       " 'cognome': 'Rossi',\n",
       " 'email': 'Mario.Rossi@company.it',\n",
       " 'stipendio': 25000.0}"
      ]
     },
     "execution_count": 96,
     "metadata": {},
     "output_type": "execute_result"
    }
   ],
   "source": [
    "lavoratore_1.__dict__"
   ]
  },
  {
   "cell_type": "code",
   "execution_count": null,
   "metadata": {},
   "outputs": [],
   "source": []
  },
  {
   "cell_type": "code",
   "execution_count": 97,
   "metadata": {},
   "outputs": [
    {
     "name": "stdout",
     "output_type": "stream",
     "text": [
      "Mario -  RAL: 25000.00 Euro\n",
      "Paolo -  RAL: 30000.00 Euro\n",
      "Mario -  RAL: 26000.00 Euro\n",
      "Paolo -  RAL: 31200.00 Euro\n"
     ]
    }
   ],
   "source": [
    "lavoratore_1.stampa_lav()\n",
    "lavoratore_2.stampa_lav()\n",
    "\n",
    "lavoratore_1.aumento()\n",
    "lavoratore_2.aumento()\n",
    "\n",
    "lavoratore_1.stampa_lav()\n",
    "lavoratore_2.stampa_lav()"
   ]
  },
  {
   "cell_type": "code",
   "execution_count": 98,
   "metadata": {},
   "outputs": [
    {
     "data": {
      "text/plain": [
       "{'nome': 'Mario',\n",
       " 'cognome': 'Rossi',\n",
       " 'email': 'Mario.Rossi@company.it',\n",
       " 'stipendio': 26000.0,\n",
       " 'percentuale': 1.04}"
      ]
     },
     "execution_count": 98,
     "metadata": {},
     "output_type": "execute_result"
    }
   ],
   "source": [
    "lavoratore_1.__dict__"
   ]
  },
  {
   "cell_type": "code",
   "execution_count": 99,
   "metadata": {},
   "outputs": [
    {
     "data": {
      "text/plain": [
       "1.04"
      ]
     },
     "execution_count": 99,
     "metadata": {},
     "output_type": "execute_result"
    }
   ],
   "source": [
    "lavoratore_1.percentuale"
   ]
  },
  {
   "cell_type": "code",
   "execution_count": 100,
   "metadata": {},
   "outputs": [
    {
     "data": {
      "text/plain": [
       "{'nome': 'Paolo',\n",
       " 'cognome': 'Bianchi',\n",
       " 'email': 'Paolo.Bianchi@company.it',\n",
       " 'stipendio': 31200.0,\n",
       " 'percentuale': 1.04}"
      ]
     },
     "execution_count": 100,
     "metadata": {},
     "output_type": "execute_result"
    }
   ],
   "source": [
    "lavoratore_2.__dict__"
   ]
  },
  {
   "cell_type": "code",
   "execution_count": 101,
   "metadata": {},
   "outputs": [],
   "source": [
    "lavoratore_1.percentuale = 1.10"
   ]
  },
  {
   "cell_type": "code",
   "execution_count": 103,
   "metadata": {},
   "outputs": [
    {
     "data": {
      "text/plain": [
       "{'nome': 'Mario',\n",
       " 'cognome': 'Rossi',\n",
       " 'email': 'Mario.Rossi@company.it',\n",
       " 'stipendio': 26000.0,\n",
       " 'percentuale': 1.1}"
      ]
     },
     "execution_count": 103,
     "metadata": {},
     "output_type": "execute_result"
    }
   ],
   "source": [
    "lavoratore_1.__dict__"
   ]
  },
  {
   "cell_type": "code",
   "execution_count": 104,
   "metadata": {},
   "outputs": [
    {
     "data": {
      "text/plain": [
       "{'nome': 'Paolo',\n",
       " 'cognome': 'Bianchi',\n",
       " 'email': 'Paolo.Bianchi@company.it',\n",
       " 'stipendio': 31200.0,\n",
       " 'percentuale': 1.04}"
      ]
     },
     "execution_count": 104,
     "metadata": {},
     "output_type": "execute_result"
    }
   ],
   "source": [
    "lavoratore_2.__dict__"
   ]
  },
  {
   "cell_type": "code",
   "execution_count": null,
   "metadata": {},
   "outputs": [],
   "source": [
    "# self.percentuale e' una variabile di istanza"
   ]
  },
  {
   "cell_type": "code",
   "execution_count": 119,
   "metadata": {},
   "outputs": [],
   "source": [
    "class Lavoratore:\n",
    "    \"\"\" Questa docstring descrive la classe\"\"\"\n",
    "    \n",
    "    # Questa e' una variabile di classe\n",
    "    percentuale = 1.04\n",
    "    \n",
    "    def __init__(self, nome, cognome,  stipendio):\n",
    "        \n",
    "        # attributo = varibile passata al costruttore\n",
    "        self.nome = nome\n",
    "        self.cognome = cognome\n",
    "        \n",
    "        self.email = nome + \".\" + cognome + \"@company.it\"\n",
    "        \n",
    "        self.stipendio = float(stipendio)\n",
    "        \n",
    "    def stampa_lav(self):\n",
    "        \"\"\" Questa docstring sescrive stampa_lav\"\"\"\n",
    "        \n",
    "        print(f\"{self.nome} -  RAL: {self.stipendio:.2f} Euro, {self.percentuale}\")\n",
    "        \n",
    "    def aumento(self):\n",
    "        \n",
    "        \n",
    "        self.stipendio = self.percentuale * self.stipendio\n",
    "        "
   ]
  },
  {
   "cell_type": "code",
   "execution_count": 120,
   "metadata": {},
   "outputs": [],
   "source": [
    "lavoratore_3 = Lavoratore(\"Mario\", \"Rossi\", 25000)\n",
    "lavoratore_4 = Lavoratore(\"Paolo\", \"Bianchi\", 30000)\n"
   ]
  },
  {
   "cell_type": "code",
   "execution_count": 121,
   "metadata": {},
   "outputs": [],
   "source": [
    "lavoratore_3.aumento()"
   ]
  },
  {
   "cell_type": "code",
   "execution_count": 122,
   "metadata": {},
   "outputs": [
    {
     "data": {
      "text/plain": [
       "{'nome': 'Mario',\n",
       " 'cognome': 'Rossi',\n",
       " 'email': 'Mario.Rossi@company.it',\n",
       " 'stipendio': 26000.0}"
      ]
     },
     "execution_count": 122,
     "metadata": {},
     "output_type": "execute_result"
    }
   ],
   "source": [
    "lavoratore_3.__dict__"
   ]
  },
  {
   "cell_type": "code",
   "execution_count": 123,
   "metadata": {},
   "outputs": [
    {
     "data": {
      "text/plain": [
       "1.04"
      ]
     },
     "execution_count": 123,
     "metadata": {},
     "output_type": "execute_result"
    }
   ],
   "source": [
    "lavoratore_3.percentuale"
   ]
  },
  {
   "cell_type": "code",
   "execution_count": 124,
   "metadata": {},
   "outputs": [
    {
     "data": {
      "text/plain": [
       "1.04"
      ]
     },
     "execution_count": 124,
     "metadata": {},
     "output_type": "execute_result"
    }
   ],
   "source": [
    "lavoratore_4.percentuale"
   ]
  },
  {
   "cell_type": "code",
   "execution_count": 125,
   "metadata": {},
   "outputs": [
    {
     "name": "stdout",
     "output_type": "stream",
     "text": [
      "Mario -  RAL: 26000.00 Euro, 1.04\n",
      "Paolo -  RAL: 30000.00 Euro, 1.04\n",
      "Mario -  RAL: 27040.00 Euro, 1.04\n",
      "Paolo -  RAL: 31200.00 Euro, 1.04\n"
     ]
    }
   ],
   "source": [
    "lavoratore_3.stampa_lav()\n",
    "lavoratore_4.stampa_lav()\n",
    "\n",
    "lavoratore_3.aumento()\n",
    "lavoratore_4.aumento()\n",
    "\n",
    "lavoratore_3.stampa_lav()\n",
    "lavoratore_4.stampa_lav()"
   ]
  },
  {
   "cell_type": "code",
   "execution_count": 126,
   "metadata": {},
   "outputs": [],
   "source": [
    "# provo a modificare la percentuale solo per il alvoratore 4:\n",
    "lavoratore_4.percentuale = 1.1"
   ]
  },
  {
   "cell_type": "code",
   "execution_count": 127,
   "metadata": {},
   "outputs": [
    {
     "name": "stdout",
     "output_type": "stream",
     "text": [
      "Mario -  RAL: 27040.00 Euro, 1.04\n",
      "Paolo -  RAL: 31200.00 Euro, 1.1\n",
      "Mario -  RAL: 28121.60 Euro, 1.04\n",
      "Paolo -  RAL: 34320.00 Euro, 1.1\n"
     ]
    }
   ],
   "source": [
    "lavoratore_3.stampa_lav()\n",
    "lavoratore_4.stampa_lav()\n",
    "\n",
    "lavoratore_3.aumento()\n",
    "lavoratore_4.aumento()\n",
    "\n",
    "lavoratore_3.stampa_lav()\n",
    "lavoratore_4.stampa_lav()"
   ]
  },
  {
   "cell_type": "code",
   "execution_count": 128,
   "metadata": {},
   "outputs": [
    {
     "data": {
      "text/plain": [
       "{'nome': 'Mario',\n",
       " 'cognome': 'Rossi',\n",
       " 'email': 'Mario.Rossi@company.it',\n",
       " 'stipendio': 28121.600000000002}"
      ]
     },
     "execution_count": 128,
     "metadata": {},
     "output_type": "execute_result"
    }
   ],
   "source": [
    "lavoratore_3.__dict__"
   ]
  },
  {
   "cell_type": "code",
   "execution_count": 129,
   "metadata": {},
   "outputs": [
    {
     "data": {
      "text/plain": [
       "{'nome': 'Paolo',\n",
       " 'cognome': 'Bianchi',\n",
       " 'email': 'Paolo.Bianchi@company.it',\n",
       " 'stipendio': 34320.0,\n",
       " 'percentuale': 1.1}"
      ]
     },
     "execution_count": 129,
     "metadata": {},
     "output_type": "execute_result"
    }
   ],
   "source": [
    "lavoratore_4.__dict__"
   ]
  },
  {
   "cell_type": "code",
   "execution_count": 130,
   "metadata": {},
   "outputs": [
    {
     "data": {
      "text/plain": [
       "1.04"
      ]
     },
     "execution_count": 130,
     "metadata": {},
     "output_type": "execute_result"
    }
   ],
   "source": [
    "# esiste un attributo \"percentuale\" dell'istanza lavoratore_3 che pero'\n",
    "# deriva dalla class_variables di Lavoratore\n",
    "lavoratore_3.percentuale"
   ]
  },
  {
   "cell_type": "code",
   "execution_count": 131,
   "metadata": {},
   "outputs": [
    {
     "data": {
      "text/plain": [
       "1.1"
      ]
     },
     "execution_count": 131,
     "metadata": {},
     "output_type": "execute_result"
    }
   ],
   "source": [
    "# esiste un attributo \"percentuale\" dell'istanza lavoratore_4\n",
    "lavoratore_4.percentuale"
   ]
  },
  {
   "cell_type": "code",
   "execution_count": 134,
   "metadata": {},
   "outputs": [
    {
     "data": {
      "text/plain": [
       "1.04"
      ]
     },
     "execution_count": 134,
     "metadata": {},
     "output_type": "execute_result"
    }
   ],
   "source": [
    "# esiste anche una variabile propria della classe chiamata sempre percentuale\n",
    "Lavoratore.percentuale"
   ]
  },
  {
   "cell_type": "code",
   "execution_count": 135,
   "metadata": {},
   "outputs": [],
   "source": [
    "Lavoratore.percentuale = 2"
   ]
  },
  {
   "cell_type": "code",
   "execution_count": 136,
   "metadata": {},
   "outputs": [
    {
     "data": {
      "text/plain": [
       "{'nome': 'Mario',\n",
       " 'cognome': 'Rossi',\n",
       " 'email': 'Mario.Rossi@company.it',\n",
       " 'stipendio': 28121.600000000002}"
      ]
     },
     "execution_count": 136,
     "metadata": {},
     "output_type": "execute_result"
    }
   ],
   "source": [
    "lavoratore_3.__dict__"
   ]
  },
  {
   "cell_type": "code",
   "execution_count": 137,
   "metadata": {},
   "outputs": [
    {
     "data": {
      "text/plain": [
       "{'nome': 'Paolo',\n",
       " 'cognome': 'Bianchi',\n",
       " 'email': 'Paolo.Bianchi@company.it',\n",
       " 'stipendio': 34320.0,\n",
       " 'percentuale': 1.1}"
      ]
     },
     "execution_count": 137,
     "metadata": {},
     "output_type": "execute_result"
    }
   ],
   "source": [
    "lavoratore_4.__dict__"
   ]
  },
  {
   "cell_type": "code",
   "execution_count": 138,
   "metadata": {},
   "outputs": [
    {
     "name": "stdout",
     "output_type": "stream",
     "text": [
      "Mario -  RAL: 28121.60 Euro, 2\n",
      "Paolo -  RAL: 34320.00 Euro, 1.1\n",
      "Mario -  RAL: 56243.20 Euro, 2\n",
      "Paolo -  RAL: 37752.00 Euro, 1.1\n"
     ]
    }
   ],
   "source": [
    "lavoratore_3.stampa_lav()\n",
    "lavoratore_4.stampa_lav()\n",
    "\n",
    "lavoratore_3.aumento()\n",
    "lavoratore_4.aumento()\n",
    "\n",
    "lavoratore_3.stampa_lav()\n",
    "lavoratore_4.stampa_lav()"
   ]
  },
  {
   "cell_type": "code",
   "execution_count": 139,
   "metadata": {},
   "outputs": [],
   "source": [
    "lavoratore_5 = Lavoratore(\"Pinco\", \"Pallino\", 10000)"
   ]
  },
  {
   "cell_type": "code",
   "execution_count": 140,
   "metadata": {},
   "outputs": [
    {
     "name": "stdout",
     "output_type": "stream",
     "text": [
      "Pinco -  RAL: 10000.00 Euro, 2\n",
      "Pinco -  RAL: 20000.00 Euro, 2\n"
     ]
    }
   ],
   "source": [
    "lavoratore_5.stampa_lav()\n",
    "\n",
    "lavoratore_5.aumento()\n",
    "\n",
    "lavoratore_5.stampa_lav()"
   ]
  },
  {
   "cell_type": "code",
   "execution_count": 141,
   "metadata": {},
   "outputs": [],
   "source": [
    "class Lavoratore:\n",
    "    \"\"\" Questa docstring descrive la classe\"\"\"\n",
    "    \n",
    "    # Questa e' una variabile di classe\n",
    "    percentuale = 1.04\n",
    "    \n",
    "    def __init__(self, nome, cognome,  stipendio):\n",
    "        \n",
    "        # attributo = varibile passata al costruttore\n",
    "        self.nome = nome\n",
    "        self.cognome = cognome\n",
    "        \n",
    "        self.email = nome + \".\" + cognome + \"@company.it\"\n",
    "        \n",
    "        self.stipendio = float(stipendio)\n",
    "        \n",
    "    def stampa_lav(self):\n",
    "        \"\"\" Questa docstring sescrive stampa_lav\"\"\"\n",
    "        \n",
    "        print(f\"{self.nome} -  RAL: {self.stipendio:.2f} Euro, {Lavoratore.percentuale}\")\n",
    "        \n",
    "    def aumento(self):\n",
    "        \n",
    "        \n",
    "        self.stipendio = Lavoratore.percentuale * self.stipendio\n",
    "\n",
    "\n",
    "\n"
   ]
  },
  {
   "cell_type": "code",
   "execution_count": 143,
   "metadata": {},
   "outputs": [],
   "source": [
    "lavoratore_6 = Lavoratore(\"Mariuccio\", \"Rossi\", 25000)\n",
    "lavoratore_7 = Lavoratore(\"Paoluccio\", \"Bianchi\", 30000)"
   ]
  },
  {
   "cell_type": "code",
   "execution_count": 144,
   "metadata": {},
   "outputs": [
    {
     "name": "stdout",
     "output_type": "stream",
     "text": [
      "Mariuccio -  RAL: 25000.00 Euro, 1.04\n",
      "Paoluccio -  RAL: 30000.00 Euro, 1.04\n",
      "Mariuccio -  RAL: 26000.00 Euro, 1.04\n",
      "Paoluccio -  RAL: 31200.00 Euro, 1.04\n"
     ]
    }
   ],
   "source": [
    "lavoratore_6.stampa_lav()\n",
    "lavoratore_7.stampa_lav()\n",
    "\n",
    "lavoratore_6.aumento()\n",
    "lavoratore_7.aumento()\n",
    "\n",
    "lavoratore_6.stampa_lav()\n",
    "lavoratore_7.stampa_lav()"
   ]
  },
  {
   "cell_type": "code",
   "execution_count": 145,
   "metadata": {},
   "outputs": [],
   "source": [
    "Lavoratore.percentuale = 1.1"
   ]
  },
  {
   "cell_type": "code",
   "execution_count": 146,
   "metadata": {},
   "outputs": [
    {
     "name": "stdout",
     "output_type": "stream",
     "text": [
      "Mariuccio -  RAL: 26000.00 Euro, 1.1\n",
      "Paoluccio -  RAL: 31200.00 Euro, 1.1\n",
      "Mariuccio -  RAL: 28600.00 Euro, 1.1\n",
      "Paoluccio -  RAL: 34320.00 Euro, 1.1\n"
     ]
    }
   ],
   "source": [
    "lavoratore_6.stampa_lav()\n",
    "lavoratore_7.stampa_lav()\n",
    "\n",
    "lavoratore_6.aumento()\n",
    "lavoratore_7.aumento()\n",
    "\n",
    "lavoratore_6.stampa_lav()\n",
    "lavoratore_7.stampa_lav()"
   ]
  },
  {
   "cell_type": "code",
   "execution_count": 147,
   "metadata": {},
   "outputs": [],
   "source": [
    "# Se modifico l'attributo percentuale proprio di una istanza, \n",
    "# in realta' non agisco sulla variabile di classe, ma creo un self.percentuale\n",
    "# che non e' Lavoratore.percentuale\n",
    "\n",
    "lavoratore_6.percentuale = 2"
   ]
  },
  {
   "cell_type": "code",
   "execution_count": 148,
   "metadata": {},
   "outputs": [
    {
     "name": "stdout",
     "output_type": "stream",
     "text": [
      "Mariuccio -  RAL: 28600.00 Euro, 1.1\n",
      "Paoluccio -  RAL: 34320.00 Euro, 1.1\n",
      "Mariuccio -  RAL: 31460.00 Euro, 1.1\n",
      "Paoluccio -  RAL: 37752.00 Euro, 1.1\n"
     ]
    }
   ],
   "source": [
    "lavoratore_6.stampa_lav()\n",
    "lavoratore_7.stampa_lav()\n",
    "\n",
    "lavoratore_6.aumento()\n",
    "lavoratore_7.aumento()\n",
    "\n",
    "lavoratore_6.stampa_lav()\n",
    "lavoratore_7.stampa_lav()"
   ]
  },
  {
   "cell_type": "code",
   "execution_count": null,
   "metadata": {},
   "outputs": [],
   "source": []
  },
  {
   "cell_type": "markdown",
   "metadata": {
    "pycharm": {
     "name": "#%% md\n"
    }
   },
   "source": [
    "## Incapsulamento:"
   ]
  },
  {
   "cell_type": "code",
   "execution_count": null,
   "metadata": {},
   "outputs": [],
   "source": []
  },
  {
   "cell_type": "markdown",
   "metadata": {
    "pycharm": {
     "name": "#%% md\n"
    }
   },
   "source": [
    "### Convenzioni di denominazione: l'underscore in python\n",
    "* `_`\n",
    "* `__`"
   ]
  },
  {
   "cell_type": "markdown",
   "metadata": {
    "pycharm": {
     "name": "#%% md\n"
    }
   },
   "source": [
    "## Ereditarieta'\n",
    "\n"
   ]
  },
  {
   "cell_type": "markdown",
   "metadata": {
    "pycharm": {
     "name": "#%% md\n"
    }
   },
   "source": [
    "## [Special Methods:](https://docs.python.org/3/reference/datamodel.html#special-method-names) dunder methods\n",
    "dunder = double underscore\n",
    "* `__init__`\n",
    "* `__repr__`\n",
    "* `__str__`\n",
    "* `__add__`, `__sub__`, `__mult__`, ecc...\n",
    "* `__len__`\n"
   ]
  }
 ],
 "metadata": {
  "kernelspec": {
   "display_name": "Python 3 (ipykernel)",
   "language": "python",
   "name": "python3"
  },
  "language_info": {
   "codemirror_mode": {
    "name": "ipython",
    "version": 3
   },
   "file_extension": ".py",
   "mimetype": "text/x-python",
   "name": "python",
   "nbconvert_exporter": "python",
   "pygments_lexer": "ipython3",
   "version": "3.9.7"
  },
  "toc": {
   "base_numbering": 1,
   "nav_menu": {},
   "number_sections": true,
   "sideBar": true,
   "skip_h1_title": true,
   "title_cell": "Table of Contents",
   "title_sidebar": "Contents",
   "toc_cell": false,
   "toc_position": {},
   "toc_section_display": true,
   "toc_window_display": false
  },
  "varInspector": {
   "cols": {
    "lenName": 16,
    "lenType": 16,
    "lenVar": 40
   },
   "kernels_config": {
    "python": {
     "delete_cmd_postfix": "",
     "delete_cmd_prefix": "del ",
     "library": "var_list.py",
     "varRefreshCmd": "print(var_dic_list())"
    },
    "r": {
     "delete_cmd_postfix": ") ",
     "delete_cmd_prefix": "rm(",
     "library": "var_list.r",
     "varRefreshCmd": "cat(var_dic_list()) "
    }
   },
   "types_to_exclude": [
    "module",
    "function",
    "builtin_function_or_method",
    "instance",
    "_Feature"
   ],
   "window_display": false
  }
 },
 "nbformat": 4,
 "nbformat_minor": 1
}