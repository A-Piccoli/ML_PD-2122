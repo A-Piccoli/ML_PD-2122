{
 "cells": [
  {
   "cell_type": "markdown",
   "id": "542a4ce4",
   "metadata": {
    "pycharm": {
     "name": "#%% md\n"
    }
   },
   "source": [
    "Sviluppiamo in questo Notebook il gioco della lepre della tartaruga."
   ]
  },
  {
   "cell_type": "code",
   "execution_count": 1,
   "outputs": [],
   "source": [
    "# Tutti gli import legati al progetto vanno elencati all'inizio del file specificando nell'ordine:\n",
    "# Prima gli import delle librerie standard di python\n",
    "# Poi gli import legati alla specificita' del progetto che stiamo svolgendo di terze parti\n",
    "# Infine gli import legati a file locali sviluppati da noi\n",
    "\n",
    "import my_functions"
   ],
   "metadata": {
    "collapsed": false,
    "pycharm": {
     "name": "#%%\n"
    }
   }
  },
  {
   "cell_type": "code",
   "execution_count": 2,
   "id": "9ae36dab",
   "metadata": {},
   "outputs": [
    {
     "data": {
      "text/plain": "6"
     },
     "execution_count": 2,
     "metadata": {},
     "output_type": "execute_result"
    }
   ],
   "source": [
    "my_functions.lancio_dado()"
   ]
  },
  {
   "cell_type": "code",
   "execution_count": 8,
   "id": "25bfeb1b",
   "metadata": {},
   "outputs": [
    {
     "data": {
      "text/plain": "1"
     },
     "execution_count": 8,
     "metadata": {},
     "output_type": "execute_result"
    }
   ],
   "source": [
    "def lepre_step():\n",
    "    tiro = my_functions.lancio_dado(10)\n",
    "    if 1<=tiro<=2:\n",
    "        return 0\n",
    "    if 3<=tiro<=4:\n",
    "        return 9\n",
    "    if tiro == 5:\n",
    "        return -12\n",
    "    if 6<=tiro<=8:\n",
    "        return 1\n",
    "    if 9<=tiro<=10:\n",
    "        return -2\n",
    "lepre_step()"
   ]
  },
  {
   "cell_type": "code",
   "execution_count": 9,
   "id": "90f0ed4a",
   "metadata": {},
   "outputs": [
    {
     "data": {
      "text/plain": "-6"
     },
     "execution_count": 9,
     "metadata": {},
     "output_type": "execute_result"
    }
   ],
   "source": [
    "def tarta_step():\n",
    "    tiro = my_functions.lancio_dado(10)\n",
    "    if 1<=tiro<=5:\n",
    "        return 3\n",
    "    if 6<=tiro<=7:\n",
    "        return -6\n",
    "    if 8<=tiro<=10:\n",
    "        return 1\n",
    "\n",
    "tarta_step()"
   ]
  },
  {
   "cell_type": "code",
   "execution_count": 20,
   "outputs": [
    {
     "name": "stdout",
     "output_type": "stream",
     "text": [
      "|----------------------------------------------------------------------|\n",
      "|LT--------------------------------------------------------------------|\n",
      "|----T----L------------------------------------------------------------|\n",
      "|-----T----L-----------------------------------------------------------|\n",
      "|--------OUCH!!!-------------------------------------------------------|\n",
      "|--T---L---------------------------------------------------------------|\n",
      "|T--------------L------------------------------------------------------|\n",
      "|-T----------------------L---------------------------------------------|\n",
      "|--T----------------------L--------------------------------------------|\n",
      "|-----T-------------------L--------------------------------------------|\n",
      "|------T-------------------L-------------------------------------------|\n",
      "|---------T-------------------------L----------------------------------|\n",
      "|------------T-----------------------L---------------------------------|\n",
      "|---------------T---------------------L--------------------------------|\n",
      "|------------------T---------------------------L-----------------------|\n",
      "|------------T----------------------------------L----------------------|\n",
      "|---------------T-------------------------------L----------------------|\n",
      "|------------------T-----------------------------L---------------------|\n",
      "|---------------------T--------------------------L---------------------|\n",
      "|----------------------T--------------------------L--------------------|\n",
      "|-------------------------T---------------------L----------------------|\n",
      "|----------------------------T----------------L------------------------|\n",
      "|----------------------T-------------------------------L---------------|\n",
      "|-------------------------T----------------------------L---------------|\n",
      "|--------------------------T-------------------------L-----------------|\n",
      "|--------------------T--------------------------------L----------------|\n",
      "|-----------------------T------------------------------L---------------|\n",
      "|--------------------------T----------------------------L--------------|\n",
      "|---------------------------T----------------------------L-------------|\n",
      "|------------------------------T--------------------------L------------|\n",
      "|---------------------------------T-----------------------L------------|\n",
      "|------------------------------------T---------------------L-----------|\n",
      "|---------------------------------------T----------------L-------------|\n",
      "|------------------------------------------T--------------L------------|\n",
      "|---------------------------------------------T------------L-----------|\n",
      "|---------------------------------------T----------------L-------------|\n",
      "|------------------------------------------T----------------------L----|\n",
      "|-------------------------------------------T-------------------L------|\n",
      "|--------------------------------------------T-------------------L-----|\n",
      "|-----------------------------------------------T-------------------------L|\n",
      "Vince la Lepre\n"
     ]
    }
   ],
   "source": [
    "l_position = 1\n",
    "t_position = 1\n",
    "position = max(l_position, t_position)\n",
    "print(f\"|{70*'-'}|\")\n",
    "while position<70:\n",
    "    l_position += lepre_step()\n",
    "    t_position += tarta_step()\n",
    "    if l_position <1:\n",
    "        l_position=1\n",
    "    if t_position <1:\n",
    "        t_position=1\n",
    "    position= max(l_position, t_position)\n",
    "\n",
    "    # print(t_position, l_position)\n",
    "    # Stampo\n",
    "    if t_position == l_position:\n",
    "        print(f\"|{'-'*(position-1)}OUCH!!!{'-'*(64-position)}|\")\n",
    "    elif t_position > l_position:\n",
    "            print(f\"|{'-'*(l_position-1)}L{'-'*(t_position-l_position-1)}T{'-'*(70-t_position)}|\")\n",
    "    else:\n",
    "        print(f\"|{'-'*(t_position-1)}T{'-'*(l_position-t_position-1)}L{'-'*(70-l_position)}|\")\n",
    "if l_position > t_position:\n",
    "    print(\"Vince la Lepre\")\n",
    "else:\n",
    "    print(\"Vince la Tartaruga\")"
   ],
   "metadata": {
    "collapsed": false,
    "pycharm": {
     "name": "#%% \n"
    }
   }
  },
  {
   "cell_type": "code",
   "execution_count": 5,
   "id": "49213a73",
   "metadata": {},
   "outputs": [],
   "source": []
  }
 ],
 "metadata": {
  "kernelspec": {
   "display_name": "Python 3 (ipykernel)",
   "language": "python",
   "name": "python3"
  },
  "language_info": {
   "codemirror_mode": {
    "name": "ipython",
    "version": 3
   },
   "file_extension": ".py",
   "mimetype": "text/x-python",
   "name": "python",
   "nbconvert_exporter": "python",
   "pygments_lexer": "ipython3",
   "version": "3.8.12"
  }
 },
 "nbformat": 4,
 "nbformat_minor": 5
}