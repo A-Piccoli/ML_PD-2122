{
 "cells": [
  {
   "cell_type": "code",
   "execution_count": 1,
   "id": "542a4ce4",
   "metadata": {},
   "outputs": [],
   "source": [
    "import my_functions"
   ]
  },
  {
   "cell_type": "code",
   "execution_count": 2,
   "id": "9ae36dab",
   "metadata": {},
   "outputs": [
    {
     "data": {
      "text/plain": [
       "5"
      ]
     },
     "execution_count": 2,
     "metadata": {},
     "output_type": "execute_result"
    }
   ],
   "source": [
    "my_functions.lancio_n_dadi()"
   ]
  },
  {
   "cell_type": "code",
   "execution_count": 4,
   "id": "25bfeb1b",
   "metadata": {},
   "outputs": [
    {
     "name": "stdout",
     "output_type": "stream",
     "text": [
      "27703\n",
      "55578\n",
      "83035\n",
      "110738\n",
      "138957\n",
      "166599\n",
      "138840\n",
      "111335\n",
      "84057\n",
      "55406\n",
      "27752\n"
     ]
    }
   ],
   "source": [
    "my_functions.lancia_n_volte_2_dadi(1000000)"
   ]
  },
  {
   "cell_type": "code",
   "execution_count": 8,
   "id": "90f0ed4a",
   "metadata": {},
   "outputs": [
    {
     "name": "stdout",
     "output_type": "stream",
     "text": [
      "|                                                  L                   |\n",
      "|                                             T                        |\n"
     ]
    }
   ],
   "source": [
    "print(\"|\"+ 50 * \" \" + \"L\" + 19*\" \"+\"|\")\n",
    "print(\"|\"+ 45 * \" \" + \"T\" + 24*\" \"+\"|\")\n"
   ]
  },
  {
   "cell_type": "code",
   "execution_count": null,
   "id": "49213a73",
   "metadata": {},
   "outputs": [],
   "source": []
  }
 ],
 "metadata": {
  "kernelspec": {
   "display_name": "Python 3 (ipykernel)",
   "language": "python",
   "name": "python3"
  },
  "language_info": {
   "codemirror_mode": {
    "name": "ipython",
    "version": 3
   },
   "file_extension": ".py",
   "mimetype": "text/x-python",
   "name": "python",
   "nbconvert_exporter": "python",
   "pygments_lexer": "ipython3",
   "version": "3.8.12"
  }
 },
 "nbformat": 4,
 "nbformat_minor": 5
}
