{
 "cells": [
  {
   "cell_type": "markdown",
   "metadata": {
    "collapsed": true,
    "pycharm": {
     "name": "#%% md\n"
    }
   },
   "source": []
  },
  {
   "cell_type": "markdown",
   "source": [
    "## Elementi di data science\n",
    "Finalità, metodologie e strumenti della scienza dei dati\n",
    "* FINALITA'\n",
    "Offrire una panoramica dei concetti di base, delle tecniche e delle opportunità del mondo della data science attraverso casi di studio applicativi.\n",
    "* CONOSCENZE\n",
    "    - [ ] Cos’è la data science e di cosa si occupa il data scientist\n",
    "    - [ ] Cosa sono i Big Data\n",
    "    - [ ] Cosa sono le reti neurali e il deep learning\n",
    "    - [ ] Applicazioni di machine learning\n",
    "    - [ ] Cos’è il data mining\n",
    "    - [ ] Struttura di un progetto di data science\n",
    "* ABILITA'\n",
    "    - [ ] Distinguere le qualità che differenziano un data scientist da altri professionisti\n",
    "    - [ ] Comprendere un progetto di data science"
   ],
   "metadata": {
    "collapsed": false,
    "pycharm": {
     "name": "#%% md\n"
    }
   },
   "outputs": [
    {
     "ename": "SyntaxError",
     "evalue": "invalid syntax (Temp/ipykernel_19228/199968707.py, line 1)",
     "output_type": "error",
     "traceback": [
      "\u001B[1;36m  File \u001B[1;32m\"C:\\Users\\simon\\AppData\\Local\\Temp/ipykernel_19228/199968707.py\"\u001B[1;36m, line \u001B[1;32m1\u001B[0m\n\u001B[1;33m    -Elementi di data science\u001B[0m\n\u001B[1;37m              ^\u001B[0m\n\u001B[1;31mSyntaxError\u001B[0m\u001B[1;31m:\u001B[0m invalid syntax\n"
     ]
    }
   ],
   "execution_count": 1
  },
  {
   "cell_type": "markdown",
   "source": [
    "\n",
    "## Programmazione con Python\n",
    "* FINALITA'\n",
    "Acquisire i concetti e le competenze di base della programmazione con Python\n",
    "* CONOSCENZE\n",
    "    -[x] Struttura di un programma in Python\n",
    "    -[x] Espressioni e variabili\n",
    "    -[] Operazioni con le stringhe\n",
    "    -[x] Strutture di dati: liste, tuple, set, dizionari\n",
    "    -[x] Condizioni, branching, loop\n",
    "    -[x] Funzioni\n",
    "    -[] Oggetti e classi\n",
    "    -[] Caricamento dei dati\n",
    "    -[] Libreria Pandas\n",
    "    -[x] Principali funzioni di NumPy\n",
    "    -[] Metodologie di semplificazione e leggibilità del proprio codice\n",
    "    -[] Differenze tra Python2, Python3, e implementazioni alternative del linguaggio (pypy, pyston, jython)\n",
    "* ABILITA'\n",
    "    - [] Leggere e scrivere file con “open”\n",
    "    - [] Caricare i dati con Pandas\n",
    "    - [x] Implementare semplici moduli python a partire da requisiti funzionali\n",
    "    - [x] Importare librerie\n",
    "    - [] Automatizzare attività frequenti con script di utilità in Python\n",
    "    - [] Utilizzare i tool fondamentali: pip, virtualenv, python debugger\n",
    "\n",
    "## Data Science con Python\n",
    "* FINALITA'\n",
    "Approfondire la conoscenza e l’utilizzo di ambienti interattivi, collaborativi e cloud-based per l’organizzazione e lo sviluppo di progetti di data science.\n",
    "* CONOSCENZE\n",
    "    - [] Obiettivi di analisi: comprensione del problema di business e dei requisiti aziendali\n",
    "    - [] Approccio analitico per la soluzione del problema di business\n",
    "    - [] Data requirements: identificazione del contenuto, del formato e delle fonti di dati necessari per la raccolta dei dati\n",
    "    - [] Data collection: strumenti per la raccolta dei dati dalle fonti individuate\n",
    "    - [] Data understanding: controllo del tipo e degli attributi dei dati raccolti\n",
    "    - [] Data preparation: preparazione dei dati per la modellazione, normalizzazione, pulizia\n",
    "    - [] Implementazione del modello di machine learning\n",
    "    - [] Valutazione del modello: tecniche di hold-out e cross-validation\n",
    "    - [] Deployment del modello e feedback\n",
    "* ABILITA'\n",
    "    - [] Impostare un progetto\n",
    "    - [] Creare un progetto con Jupyter Notebook\n",
    "    - [] Eseguire una pipeline di analisi\n",
    "\n"
   ],
   "metadata": {
    "collapsed": false
   }
  }
 ],
 "metadata": {
  "kernelspec": {
   "display_name": "Python 3",
   "language": "python",
   "name": "python3"
  },
  "language_info": {
   "codemirror_mode": {
    "name": "ipython",
    "version": 2
   },
   "file_extension": ".py",
   "mimetype": "text/x-python",
   "name": "python",
   "nbconvert_exporter": "python",
   "pygments_lexer": "ipython2",
   "version": "2.7.6"
  }
 },
 "nbformat": 4,
 "nbformat_minor": 0
}