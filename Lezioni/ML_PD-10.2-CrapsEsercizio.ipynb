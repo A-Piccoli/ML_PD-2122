{
 "cells": [
  {
   "cell_type": "markdown",
   "metadata": {
    "collapsed": true,
    "pycharm": {
     "name": "#%% md\n"
    }
   },
   "source": [
    "## Craps - il gioco dei dadi\n",
    "\n",
    "Lanciate due dadi da 6 facce, ognuna contenente uno, due, tre, quattro, cinque o sei punti rispettivamente.\n",
    "Dopo il lancio si calcola la somma dei punti sulle due facce rivolte verso l’alto. Se al primo lancio la\n",
    "somma è 7 o 11, vincete. Se al primo lancio la somma è 2, 3 o 12 (chiamati “craps”), perdete (vince il\n",
    "banco). Se nel primo lancio la somma è 4, 5, 6, 8, 9 o 10, questo risultato diventa il vostro “punteggio”.\n",
    "Per vincere dovete continuare a lanciare i dadi finché non “fate il punteggio”. Se ottenete 7 prima di\n",
    "aver fatto il punteggio avete perso."
   ]
  },
  {
   "cell_type": "markdown",
   "source": [
    "### Fase 1\n",
    "Scrivi uno script che simuli una partita e stampi a video il risultato della partita:\n",
    "\"Hai Vinto\"\n",
    "\"Hai perso\"\n",
    "\n",
    "Al termine del singolo game sara' possibile scegliere se continuare con un nuovo game o terminare.\n"
   ],
   "metadata": {
    "collapsed": false,
    "pycharm": {
     "name": "#%% md\n"
    }
   }
  },
  {
   "cell_type": "code",
   "execution_count": null,
   "outputs": [],
   "source": [
    "import random"
   ],
   "metadata": {
    "collapsed": false,
    "pycharm": {
     "name": "#%%\n"
    }
   }
  },
  {
   "cell_type": "code",
   "execution_count": null,
   "outputs": [],
   "source": [
    "def roll_dice():\n",
    "    \"\"\" Funzione che simula un tiro di 2 dadi.\n",
    "    restituisce una tupla con il valore dei due dadi\n",
    "    :return tuple (d1, d2)\n",
    "    \"\"\"\n",
    "\n",
    "    pass\n",
    "\n",
    "def show_dice(dice):\n",
    "    \"\"\" Funzione che non restituisce niente,\n",
    "    stampa a monitor il risultato del tiro di dadi nella forma:\n",
    "    \"Hai realizzato D1 (valore del primo dado) e D2 (vslore del secondo dado) = D1 + D2\"\n",
    "    \"\"\"\n",
    "    pass\n",
    "\n",
    "\n",
    "def play_one_game():\n",
    "    \"\"\" Funzione che usa le funzioni roll_dice eshow_dice per simulare una mano di Craps\n",
    "    Non restituisce niente. Stampa a monitor i risulatati del tiro e del game.\n",
    "    \"\"\"\n",
    "\n",
    "    pass"
   ],
   "metadata": {
    "collapsed": false,
    "pycharm": {
     "name": "#%%\n"
    }
   }
  },
  {
   "cell_type": "markdown",
   "source": [
    "### Fase 2\n",
    "Modificare lo script facendo in modo che chieda quante partite giocare, e per questo numero definito di partite utilizzare\n",
    "due dizionari `winns` e `losses` per tener traccia del numero totale di partite vinte o perse al primo lancio, al secondo, al terzo, ecc.\n",
    "Eserguire lo script per giocare 1.000.000 di partite e riepilogate i risultati come segue:\n",
    "* Stampare una tabella impaginata che visualizzi quante partite sono state vinte e quante perse\n",
    "al primo lancio, al secondo, al terzo, ecc. Calcolare e stampare anche le percentuali.\n",
    "* Visualizzate un grafico a barre orizzontali che indichi quante partite sono state vinte e quante perse\n",
    "al primo lancio, al secondo, al terzo, ecc. Dato che il gioco può continuare all’infinito, potete tener\n",
    "traccia delle vincite/perdite per i primi 14 lanci, mantenendo due contatori per registrare le vincite/\n",
    "perdite dopo 12 lanci, a prescindere da quanto vada avanti il gioco. Create barre separate per le\n",
    "vincite e per le perdite.\n",
    "* Qual è la lunghezza media delle partite di Craps? La mediana? La moda?\n",
    "* Le possibilità di vincita aumentano all’allungarsi della partita?"
   ],
   "metadata": {
    "collapsed": false,
    "pycharm": {
     "name": "#%% md\n"
    }
   }
  },
  {
   "cell_type": "code",
   "execution_count": null,
   "outputs": [],
   "source": [],
   "metadata": {
    "collapsed": false,
    "pycharm": {
     "name": "#%%\n"
    }
   }
  },
  {
   "cell_type": "code",
   "execution_count": null,
   "outputs": [],
   "source": [],
   "metadata": {
    "collapsed": false,
    "pycharm": {
     "name": "#%%\n"
    }
   }
  },
  {
   "cell_type": "code",
   "execution_count": null,
   "outputs": [],
   "source": [],
   "metadata": {
    "collapsed": false,
    "pycharm": {
     "name": "#%%\n"
    }
   }
  },
  {
   "cell_type": "code",
   "execution_count": null,
   "outputs": [],
   "source": [],
   "metadata": {
    "collapsed": false,
    "pycharm": {
     "name": "#%%\n"
    }
   }
  }
 ],
 "metadata": {
  "kernelspec": {
   "display_name": "Python 3",
   "language": "python",
   "name": "python3"
  },
  "language_info": {
   "codemirror_mode": {
    "name": "ipython",
    "version": 2
   },
   "file_extension": ".py",
   "mimetype": "text/x-python",
   "name": "python",
   "nbconvert_exporter": "python",
   "pygments_lexer": "ipython2",
   "version": "2.7.6"
  }
 },
 "nbformat": 4,
 "nbformat_minor": 0
}