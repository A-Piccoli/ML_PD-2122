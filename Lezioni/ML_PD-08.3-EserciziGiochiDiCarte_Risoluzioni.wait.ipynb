{
 "cells": [
  {
   "cell_type": "markdown",
   "metadata": {
    "collapsed": true,
    "pycharm": {
     "name": "#%% md\n"
    }
   },
   "source": [
    "## Mischiare le carte\n",
    "Costruire una lista di tuple contenente tutte le carte di un mazzo da 40 (carte da scopa).\n",
    "Ogni tupla rappresenta una carta del mazzo e contiene un valore ('Asso', 'Due', 'Tre'..., 'Fante', 'Cavallo', 'Re')\n",
    "e una seme ('Denari', 'Spade', 'Bastoni', 'Coppe').<br>\n",
    "Creare una funzione inzialize_deck per inizializzare il mazzo con tuple da 'Asso' a 'Re' per ogni seme:\n",
    "```\n",
    "deck = [('Asso', 'Denari'), ('Due', 'Denari'), ...., ('Re','Denari'),\n",
    "        ('Asso', 'Spade'), ('Due', 'Spade'), ...., ('Re','Spade'),\n",
    "        ('Asso', 'Bastoni'), ('Due', 'Bastoni'), ...., ('Re','Bastoni'),\n",
    "        ('Asso', 'Coppe'), ('Due', 'Coppe'), ...., ('Re','Coppe')]\n",
    "```\n",
    "Prima di ritornare la lista, usate la funzione `shuffle` del modulo *random* per mischiare il mazzo.\n",
    "Prima di restituire il mazzo, stamparlo a monitor nel segunete formato a 4 colonne:\n",
    "```\n",
    "Fante di Bastoni    Asso di Bastoni     Cavallo di Spade    Due di Denari\n",
    "Sei di Coppe        Re di Spade         Fante di Denari     Cinque di Denari\n",
    "Cinque di Spade     Asso di Coppe       Sette di Coppe      Cavallo di Coppe\n",
    "Due di Spade        Quattro di Coppe    Sei di Bastoni      Cavallo di Bastoni\n",
    "Sette di Spade      Quattro di Spade    Sette di Bastoni    Re di Denari\n",
    "Sei di Denari       Cavallo di Denari   Asso di Denari      Re di Coppe\n",
    "Due di Coppe        Quattro di Bastoni  Asso di Spade       Tre di Spade\n",
    "Re di Bastoni       Cinque di Bastoni   Tre di Denari       Quattro di Denari\n",
    "Tre di Coppe        Tre di Bastoni      Cinque di Coppe     Sette di Denari\n",
    "Fante di Coppe      Fante di Spade      Sei di Spade        Due di Bastoni\n",
    "```"
   ]
  },
  {
   "cell_type": "code",
   "execution_count": 2,
   "metadata": {
    "pycharm": {
     "name": "#%%\n"
    }
   },
   "outputs": [
    {
     "name": "stdout",
     "output_type": "stream",
     "text": [
      "Quattro di Coppe    Sette di Spade      Due di Denari       Asso di Bastoni     \n",
      "Quattro di Denari   Cavallo di Bastoni  Cavallo di Spade    Cavallo di Coppe    \n",
      "Cinque di Denari    Quattro di Spade    Sei di Bastoni      Tre di Denari       \n",
      "Sei di Spade        Cinque di Bastoni   Asso di Spade       Sei di Denari       \n",
      "Sei di Coppe        Tre di Coppe        Asso di Denari      Due di Spade        \n",
      "Quattro di Bastoni  Sette di Bastoni    Fante di Denari     Due di Bastoni      \n",
      "Cinque di Spade     Sette di Denari     Sette di Coppe      Tre di Spade        \n",
      "Cinque di Coppe     Re di Denari        Re di Bastoni       Fante di Coppe      \n",
      "Re di Spade         Tre di Bastoni      Cavallo di Denari   Fante di Bastoni    \n",
      "Fante di Spade      Re di Coppe         Due di Coppe        Asso di Coppe       \n"
     ]
    },
    {
     "data": {
      "text/plain": "[('Quattro', 'Coppe'),\n ('Sette', 'Spade'),\n ('Due', 'Denari'),\n ('Asso', 'Bastoni'),\n ('Quattro', 'Denari'),\n ('Cavallo', 'Bastoni'),\n ('Cavallo', 'Spade'),\n ('Cavallo', 'Coppe'),\n ('Cinque', 'Denari'),\n ('Quattro', 'Spade'),\n ('Sei', 'Bastoni'),\n ('Tre', 'Denari'),\n ('Sei', 'Spade'),\n ('Cinque', 'Bastoni'),\n ('Asso', 'Spade'),\n ('Sei', 'Denari'),\n ('Sei', 'Coppe'),\n ('Tre', 'Coppe'),\n ('Asso', 'Denari'),\n ('Due', 'Spade'),\n ('Quattro', 'Bastoni'),\n ('Sette', 'Bastoni'),\n ('Fante', 'Denari'),\n ('Due', 'Bastoni'),\n ('Cinque', 'Spade'),\n ('Sette', 'Denari'),\n ('Sette', 'Coppe'),\n ('Tre', 'Spade'),\n ('Cinque', 'Coppe'),\n ('Re', 'Denari'),\n ('Re', 'Bastoni'),\n ('Fante', 'Coppe'),\n ('Re', 'Spade'),\n ('Tre', 'Bastoni'),\n ('Cavallo', 'Denari'),\n ('Fante', 'Bastoni'),\n ('Fante', 'Spade'),\n ('Re', 'Coppe'),\n ('Due', 'Coppe'),\n ('Asso', 'Coppe')]"
     },
     "execution_count": 2,
     "metadata": {},
     "output_type": "execute_result"
    }
   ],
   "source": [
    "import random\n",
    "\n",
    "def scopa_deck():\n",
    "    \"\"\"Funzione che forma un mazzo di carte da scopa e lo mischia\"\"\"\n",
    "\n",
    "    # Creo due liste, una con i numeri, la seconda con i semi\n",
    "    carte = [\"Asso\", \"Due\", \"Tre\", \"Quattro\", \"Cinque\", \"Sei\", \"Sette\", \"Fante\", \"Cavallo\", \"Re\"]\n",
    "    semi = [\"Denari\", \"Bastoni\", \"Coppe\", \"Spade\"]\n",
    "\n",
    "    # Creo una lista vuota dove costruiro' il mazzo\n",
    "    deck = []\n",
    "\n",
    "    for carta in carte:\n",
    "        for seme in semi:\n",
    "            deck.append((carta, seme))\n",
    "\n",
    "    #Mischio il mazzo con la funzione shuffle di Random\n",
    "    random.shuffle(deck)\n",
    "\n",
    "    # organizzo la stampa creando prima una lista di liste di 4 elementi\n",
    "    # stringa nel formato \"Asso di Bastoni\"\n",
    "    # e poi stampando ciascuna sublista su una riga con allineamenti a sinistra\n",
    "    # :<20 a 20 caratteri\n",
    "    for j in range(0, len(deck), 4):\n",
    "        cards = [f\"{deck[k][0]} di {deck[k][1]}\" for k in range(j, j + 4)]\n",
    "        print(f\"{cards[0]:<20}{cards[1]:<20}{cards[2]:<20}{cards[3]:<20}\")\n",
    "    # restituisco il mazzo\n",
    "    return deck\n",
    "\n",
    "\n",
    "scopa_deck()"
   ]
  },
  {
   "cell_type": "markdown",
   "metadata": {
    "pycharm": {
     "name": "#%% md\n"
    }
   },
   "source": [
    "## Valutare una mano di poker\n",
    "\n",
    "Modificare la funzione precedente per generare un mazzo di carte da poker mischiate (scrivere la funzione\n",
    "`pocker_deck()`) e una nuova funzione che riceve come argometo questo mazzo e restituisce le prime 5 carte\n",
    "(`serve_player(deck)`)\n",
    "<br>\n",
    "Fare in modo che una volta generate le 5 carte (tuple), le stesse carte vengano rimosse dal mazzo.<br>\n",
    "Se le carte nel mazzo non sono sufficienti a generare una mano il mazzo viene rigenerato e rimischiato. <br>\n",
    "Scrivere una serie di funzioni che valutino se la mano contiene i seguenti gruppi di carte:\n",
    "* una coppia `is_one_pair`\n",
    "* una doppia coppia `is_two_pairs`\n",
    "* un tris `is_three_of_a_kind`\n",
    "* una scala (5 carte di valore consecutivo) `is_straight`\n",
    "* colore (5 carte dello stesso seme) `is_flush`\n",
    "* un full (2 uguali + 3 uguali) `is_full_house`\n",
    "* un poker (4 uguali) `is_four_of_a_kind`\n",
    "* una scala reale (5 carte consecutive dello stesso seme) `is_straight_flush`\n",
    "\n",
    "Ulteriori dettagli su: [Regole del Poker](https://it.wikipedia.org/wiki/Punti_del_poker)"
   ]
  },
  {
   "cell_type": "code",
   "execution_count": 3,
   "metadata": {
    "pycharm": {
     "name": "#%%\n"
    }
   },
   "outputs": [],
   "source": [
    "import random\n",
    "\n",
    "\n",
    "# Rispetto all'analoga scopa_dek() cambia ivviamente il nome dei semi e il numero delle\n",
    "# carte, e viene eliminata la stampa in colonna\n",
    "\n",
    "def poker_deck(lower_card_value=2, verbose=False):\n",
    "    \"\"\"Funzione che forma un mazzo di carte da poker da 52 e lo mischia\n",
    "\n",
    "    :param lower_card_value: a volte il mazzo da poker non e' a 52 carte ma esclude\n",
    "    ad esempio le carte dal 2 al 6. QUesta e' il valore della carta piu' bassa da includere nel\n",
    "    mazzo escluso l'asso.\n",
    "    \"\"\"\n",
    "\n",
    "    num = [\"Asso\", \"Due\", \"Tre\", \"Quattro\", \"Cinque\",\n",
    "           \"Sei\", \"Sette\", \"Otto\", \"Nove\", \"Dieci\",\n",
    "           \"Jack\", \"Donna\", \"Re\"]\n",
    "\n",
    "    # Se il mazzo non è completo escludo le carte fino alla lower_card_value\n",
    "    num = [num[0]] + num[(lower_card_value - 1):]\n",
    "    semi = [\"Cuori\", \"Quadri\", \"Fiori\", \"Picche\"]\n",
    "    deck = []\n",
    "\n",
    "    # Costruisco il mazzo\n",
    "    for carta in num:\n",
    "        for seme in semi:\n",
    "            deck += [(carta, seme)]\n",
    "\n",
    "    # Mischio le carte\n",
    "    random.shuffle(deck)\n",
    "\n",
    "    # Per la stampa a monitor del mazzo utilizzo il seguente ciclo for\n",
    "    if verbose:\n",
    "        for j in range(0, len(deck), 4):\n",
    "            cards = [f\"{deck[k][0]} di {deck[k][1]}\" for k in range(j, j + 4)]\n",
    "            print(\"{:<20}{:<20}{:<20}{:<20}\".format(cards[0], cards[1], cards[2], cards[3]))\n",
    "    return deck\n",
    "\n",
    "\n",
    "def serve_player(deck, number_of_cards=5, verbose=False):\n",
    "    \"\"\"\n",
    "    Funzione per restituire (distribuire) 5 carte ad un ipotetico giocatore.\n",
    "    Il parametro deck, una lsita, passata come argomento della funzione viene modificata\n",
    "    da questa funzione, poiche' le carte che escono dal mazzo non saranno piu' nel mazzo stesso\n",
    "    nel caso di partita a piu' giocatori.\n",
    "\n",
    "    :param deck: Un mazzo di carte formato da tuple (\"Numero\", \"Seme\")\n",
    "    :param number_of_cards: Numero di carte da distribuire ai giocatori, default = 5.\n",
    "    :return: le prime 5 carte del mazzo che verranno rimosse dal mazzo stesso\n",
    "    \"\"\"\n",
    "\n",
    "    # Se non ho abbastanza carte nel mazzo, significa che ho troppi giocatori:\n",
    "    if len(deck) < 5:\n",
    "        raise ValueError(\"Too many players\")\n",
    "\n",
    "    five_card_hand = []\n",
    "    for card in deck[0:number_of_cards]:\n",
    "        five_card_hand.append(card)\n",
    "        deck.remove(card)\n",
    "    if verbose:\n",
    "        print(five_card_hand)\n",
    "    return five_card_hand"
   ]
  },
  {
   "cell_type": "code",
   "execution_count": 4,
   "metadata": {
    "pycharm": {
     "name": "#%%\n"
    }
   },
   "outputs": [],
   "source": [
    "import collections\n",
    "\n",
    "num = [\"Asso\", \"Due\", \"Tre\", \"Quattro\", \"Cinque\",\n",
    "       \"Sei\", \"Sette\", \"Otto\", \"Nove\", \"Dieci\",\n",
    "       \"Jack\", \"Donna\", \"Re\"]\n",
    "cards_name_number = {num[j]: j + 1 for j in range(len(num))}\n",
    "cards_name_value = cards_name_number.copy()\n",
    "cards_name_value[\"Asso\"] = 14\n",
    "\n",
    "\n",
    "def cards_name_number(name):\n",
    "    num = [\"Asso\", \"Due\", \"Tre\", \"Quattro\", \"Cinque\",\n",
    "           \"Sei\", \"Sette\", \"Otto\", \"Nove\", \"Dieci\",\n",
    "           \"Jack\", \"Donna\", \"Re\"]\n",
    "    return num.index(name) + 1\n",
    "\n",
    "\n",
    "def split_nums_sems(five_card_hand):\n",
    "    nums = []\n",
    "    sems = []\n",
    "    for num, sem in five_card_hand:\n",
    "        nums.append(cards_name_value[num])\n",
    "        sems.append(sem)\n",
    "    return sorted(nums, reverse=True), sems\n",
    "\n",
    "\n",
    "def is_higher_card(five_card_hand, verbose=False):\n",
    "    \"\"\" Verifico se nel mazzo c'e' una coppia - 1 \"\"\"\n",
    "    nums, sems = split_nums_sems(five_card_hand)\n",
    "    val = 0\n",
    "    if verbose:\n",
    "        print(nums)\n",
    "    for expo, c in enumerate(nums):\n",
    "        val += c / (14 * (10 ** (expo + 1)))\n",
    "    if verbose:\n",
    "        print(val)\n",
    "    return val\n",
    "\n",
    "\n",
    "def is_one_pair(five_card_hand, verbose=False):\n",
    "    \"\"\" Verifico se nel mazzo c'e' una coppia - 1 \"\"\"\n",
    "    nums, sems = split_nums_sems(five_card_hand)\n",
    "    freq = collections.Counter(nums)\n",
    "\n",
    "    if max(freq.values()) == 2:\n",
    "\n",
    "        val = 1\n",
    "        for expo, c in enumerate(freq.most_common()):\n",
    "            val += c[0] / (14 * (10 ** (expo + 1)))\n",
    "        return val\n",
    "    return False\n",
    "\n",
    "\n",
    "def is_two_pairs(five_card_hand, verbose=False):\n",
    "    nums, sems = split_nums_sems(five_card_hand)\n",
    "    freq = collections.Counter(nums)\n",
    "    if sorted(freq.values()) == [1, 2, 2]:\n",
    "\n",
    "        val = 2\n",
    "        for expo, c in enumerate(freq.most_common()):\n",
    "            val += c[0] / (14 * (10 ** (expo + 1)))\n",
    "\n",
    "        return val\n",
    "    return False\n",
    "\n",
    "\n",
    "def is_three_of_a_kind(five_card_hand, verbose=False):\n",
    "    nums, sems = split_nums_sems(five_card_hand)\n",
    "    freq = collections.Counter(nums)\n",
    "    if max(freq.values()) == 3:\n",
    "        # print(\"Poker:\", five_card_hand)\n",
    "        return 3 + freq.most_common()[0][0] / 140\n",
    "    return False\n",
    "\n",
    "\n",
    "def is_straight(five_card_hand, lower_card_value=2, verbose=False):\n",
    "    nums, sems = split_nums_sems(five_card_hand)\n",
    "\n",
    "    # if 14 in five_card_hand:\n",
    "\n",
    "    freq = collections.Counter(nums)\n",
    "    if max(freq.values()) > 1:\n",
    "        return False\n",
    "    # print(nums)\n",
    "    if max(nums) - min(nums) == 4:\n",
    "        return 4 + max(nums) / 140\n",
    "    if nums == [1] + [k for k in range(lower_card_value, lower_card_value + 4)]:\n",
    "        return 4 + max(nums) / 140\n",
    "    return False\n",
    "\n",
    "\n",
    "def is_flush(five_card_hand, verbose=False):\n",
    "    nums, sems = split_nums_sems(five_card_hand)\n",
    "\n",
    "    # print(sems)\n",
    "    if sems[0] == sems[1] == sems[2] == sems[3] == sems[4]:\n",
    "        return 5\n",
    "    return False\n",
    "\n",
    "\n",
    "def is_full_house(five_card_hand, verbose=False):\n",
    "    nums, sems = split_nums_sems(five_card_hand)\n",
    "\n",
    "    freq = collections.Counter(nums)\n",
    "    if sorted(freq.values()) == [2, 3]:\n",
    "        # print(\"Poker:\", five_card_hand)\n",
    "        return 6 + freq.most_common()[0][0] / 140 + freq.most_common()[1][0] / 1400\n",
    "    return False\n",
    "\n",
    "\n",
    "def is_four_of_a_kind(five_card_hand, verbose=False):\n",
    "    nums, sems = split_nums_sems(five_card_hand)\n",
    "    freq = collections.Counter(nums)\n",
    "    freq.most_common()\n",
    "    if max(freq.values()) == 4:\n",
    "        # print(\"Poker:\", five_card_hand)\n",
    "        return 7 + freq.most_common()[0][0] / 140\n",
    "    return False\n",
    "\n",
    "\n",
    "def is_straight_flush(five_card_hand, lower_card_value = 2, verbose=False):\n",
    "    nums, sems = split_nums_sems(five_card_hand)\n",
    "    freq = collections.Counter(nums)\n",
    "\n",
    "    if not sems[0] == sems[1] == sems[2] == sems[3] == sems[4]:\n",
    "        return False\n",
    "    if max(freq.values()) > 1:\n",
    "        return False\n",
    "\n",
    "    if max(nums) - min(nums) == 4:\n",
    "        if verbose:\n",
    "            print(\"Straight_flush: \", five_card_hand)\n",
    "        return 8 + max(nums) / 140\n",
    "    if nums == [1] + [k for k in range(lower_card_value, lower_card_value + 4)]:\n",
    "        if verbose:\n",
    "            print(\"Straight_flush: \", five_card_hand)\n",
    "        return 8 + max(nums) / 140\n",
    "    return False"
   ]
  },
  {
   "cell_type": "code",
   "execution_count": 5,
   "metadata": {
    "pycharm": {
     "name": "#%%\n"
    }
   },
   "outputs": [
    {
     "data": {
      "text/plain": "True"
     },
     "execution_count": 5,
     "metadata": {},
     "output_type": "execute_result"
    }
   ],
   "source": [
    "0 == False"
   ]
  },
  {
   "cell_type": "markdown",
   "metadata": {
    "pycharm": {
     "name": "#%% md\n"
    }
   },
   "source": [
    "## Giocare a poker\n",
    "Scrivere uno script che utilizzi i metodi di cui sopra per confrontare due mani di poker (due liste di 5 tuple)\n",
    "Per ogni game, lo script dora' generare due liste di 5 tuple (le due mani) e determinare quale delle due e' vincente.<br>\n",
    "Il gioco continua sino a che non sono esaurite le carte del mazzo ma offre la possibilita' di continuare con un altro mazzo<br>\n",
    "Salvare il numero di mani vinte da ciascun player su una variabile e stamapre a monitor il risultato."
   ]
  },
  {
   "cell_type": "markdown",
   "metadata": {
    "pycharm": {
     "name": "#%% md\n"
    }
   },
   "source": [
    "## Statistiche di gioco\n",
    "Ripetere una sessione di gioco per 100, 1 000, 10 000, 100 000 e 1 000 000 di volte. <br>\n",
    "Calcolare per ciascuna sessione quante volte si verifica ciascuna combinazione di punteggi.<br>\n",
    "Stampare a monitor i risultati in valore assoluto e in percentuale in un formato del tipo:\n",
    "```\n",
    "Su 100 mani ci sono state:\n",
    "33 coppie\n",
    "10 doppie coppie\n",
    "1 tris\n",
    "1 poker\n",
    "```"
   ]
  },
  {
   "cell_type": "code",
   "execution_count": 6,
   "metadata": {
    "pycharm": {
     "name": "#%%\n"
    }
   },
   "outputs": [
    {
     "data": {
      "text/plain": "{'straight_flush': 0,\n 'poker': 0,\n 'full_house': 0,\n 'flush': 0,\n 'straight': 1,\n 'three_of_a_kind': 0,\n 'two_pairs': 8,\n 'one_pair': 42,\n 'higher_card': 49}"
     },
     "execution_count": 6,
     "metadata": {},
     "output_type": "execute_result"
    }
   ],
   "source": [
    "\n",
    "\n",
    "history = {\n",
    "    'straight_flush': 0,\n",
    "    'poker': 0,\n",
    "    'full_house': 0,\n",
    "    'flush': 0,\n",
    "    'straight': 0,\n",
    "    'three_of_a_kind': 0,\n",
    "    'two_pairs': 0,\n",
    "    'one_pair': 0,\n",
    "    'higher_card': 0}\n",
    "\n",
    "\n",
    "def evaluate_hand(hand, history, verbose=False):\n",
    "    points = is_straight_flush(hand, verbose=verbose)\n",
    "    if points > 0:\n",
    "        history['straight_flush'] += 1\n",
    "        return points\n",
    "\n",
    "    points = is_four_of_a_kind(hand)\n",
    "    if points > 0:\n",
    "        history['poker'] += 1\n",
    "        return points\n",
    "\n",
    "    points = is_full_house(hand)\n",
    "    if points > 0:\n",
    "        history['full_house'] += 1\n",
    "        return points\n",
    "\n",
    "    points = is_flush(hand)\n",
    "    if points > 0:\n",
    "        history['flush'] += 1\n",
    "        return points\n",
    "\n",
    "    points = is_straight(hand)\n",
    "    if points > 0:\n",
    "        history['straight'] += 1\n",
    "        return points\n",
    "\n",
    "    points = is_three_of_a_kind(hand)\n",
    "    if points> 0:\n",
    "        history['three_of_a_kind'] += 1\n",
    "        return points\n",
    "\n",
    "    points = is_two_pairs(hand)\n",
    "    if points > 0:\n",
    "        history['two_pairs'] += 1\n",
    "        return points\n",
    "\n",
    "    points = is_one_pair(hand)\n",
    "    if points > 0:\n",
    "        history['one_pair'] += 1\n",
    "        return points\n",
    "\n",
    "    history['higher_card'] += 1\n",
    "    return is_higher_card(hand, verbose=verbose)\n",
    "\n",
    "\n",
    "# print(\"straight_flush\", straight_flush)\n",
    "# print(\"poker\", poker)\n",
    "# print(\"full_house\", full_house)\n",
    "# print(\"flush\", flush)\n",
    "# print(\"straight \", straight)\n",
    "# print(\"three_of_a_kind\", three_of_a_kind)\n",
    "# print(\"two_pairs \", two_pairs)\n",
    "# print(\"one_pair \", one_pair)\n",
    "number_of_games = 100\n",
    "for j in range(number_of_games):\n",
    "    deck = poker_deck()\n",
    "    hand = serve_player(deck)\n",
    "    evaluate_hand(hand, history, verbose=False)\n",
    "\n",
    "history\n",
    "\n"
   ]
  },
  {
   "cell_type": "code",
   "execution_count": 7,
   "metadata": {
    "pycharm": {
     "name": "#%%\n"
    }
   },
   "outputs": [],
   "source": [
    "number_of_player = 4\n",
    "history = {\n",
    "    'straight_flush': 0,\n",
    "    'poker': 0,\n",
    "    'full_house': 0,\n",
    "    'flush': 0,\n",
    "    'straight': 0,\n",
    "    'three_of_a_kind': 0,\n",
    "    'two_pairs': 0,\n",
    "    'one_pair': 0,\n",
    "    'higher_card': 0,\n",
    "    'wins' : 0}\n",
    "player_stats = {}\n",
    "for p_n in range(number_of_player):\n",
    "    player_stats[p_n] = history.copy()\n",
    "\n",
    "\n",
    "number_of_games = 1000000\n",
    "for plays in range(number_of_games):\n",
    "    deck = poker_deck()\n",
    "    hands = {}\n",
    "    for p_n in range(number_of_player):\n",
    "        hands[p_n] = serve_player(deck)\n",
    "\n",
    "    hand_result = []\n",
    "    for player, hand in hands.items():\n",
    "\n",
    "        hand_result.append(evaluate_hand(hand, history=player_stats[player]))\n",
    "    winner = hand_result.index(max(hand_result))\n",
    "    player_stats[winner][\"wins\"] += 1\n",
    "    # print(f\"{hand_result} - Winner: player {1+ winner}\")"
   ]
  },
  {
   "cell_type": "code",
   "execution_count": 8,
   "outputs": [
    {
     "data": {
      "text/plain": "{0: {'straight_flush': 12,\n  'poker': 264,\n  'full_house': 1488,\n  'flush': 1908,\n  'straight': 3544,\n  'three_of_a_kind': 21334,\n  'two_pairs': 47430,\n  'one_pair': 422152,\n  'higher_card': 501868,\n  'wins': 249636},\n 1: {'straight_flush': 20,\n  'poker': 240,\n  'full_house': 1449,\n  'flush': 1965,\n  'straight': 3593,\n  'three_of_a_kind': 21061,\n  'two_pairs': 47328,\n  'one_pair': 422848,\n  'higher_card': 501496,\n  'wins': 250637},\n 2: {'straight_flush': 10,\n  'poker': 225,\n  'full_house': 1420,\n  'flush': 2002,\n  'straight': 3512,\n  'three_of_a_kind': 21182,\n  'two_pairs': 47638,\n  'one_pair': 422424,\n  'higher_card': 501587,\n  'wins': 249599},\n 3: {'straight_flush': 11,\n  'poker': 241,\n  'full_house': 1376,\n  'flush': 1978,\n  'straight': 3606,\n  'three_of_a_kind': 21300,\n  'two_pairs': 47724,\n  'one_pair': 422771,\n  'higher_card': 500993,\n  'wins': 250128}}"
     },
     "execution_count": 8,
     "metadata": {},
     "output_type": "execute_result"
    }
   ],
   "source": [
    "player_stats"
   ],
   "metadata": {
    "collapsed": false,
    "pycharm": {
     "name": "#%%\n"
    }
   }
  },
  {
   "cell_type": "code",
   "execution_count": null,
   "outputs": [],
   "source": [],
   "metadata": {
    "collapsed": false,
    "pycharm": {
     "name": "#%%\n"
    }
   }
  }
 ],
 "metadata": {
  "kernelspec": {
   "display_name": "Python 3 (ipykernel)",
   "language": "python",
   "name": "python3"
  },
  "language_info": {
   "codemirror_mode": {
    "name": "ipython",
    "version": 3
   },
   "file_extension": ".py",
   "mimetype": "text/x-python",
   "name": "python",
   "nbconvert_exporter": "python",
   "pygments_lexer": "ipython3",
   "version": "3.8.12"
  },
  "toc": {
   "base_numbering": 1,
   "nav_menu": {},
   "number_sections": true,
   "sideBar": true,
   "skip_h1_title": false,
   "title_cell": "Table of Contents",
   "title_sidebar": "Contents",
   "toc_cell": false,
   "toc_position": {},
   "toc_section_display": true,
   "toc_window_display": false
  },
  "varInspector": {
   "cols": {
    "lenName": 16,
    "lenType": 16,
    "lenVar": 40
   },
   "kernels_config": {
    "python": {
     "delete_cmd_postfix": "",
     "delete_cmd_prefix": "del ",
     "library": "var_list.py",
     "varRefreshCmd": "print(var_dic_list())"
    },
    "r": {
     "delete_cmd_postfix": ") ",
     "delete_cmd_prefix": "rm(",
     "library": "var_list.r",
     "varRefreshCmd": "cat(var_dic_list()) "
    }
   },
   "types_to_exclude": [
    "module",
    "function",
    "builtin_function_or_method",
    "instance",
    "_Feature"
   ],
   "window_display": false
  }
 },
 "nbformat": 4,
 "nbformat_minor": 1
}