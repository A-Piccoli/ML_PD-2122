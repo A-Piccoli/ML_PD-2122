{
 "cells": [
  {
   "cell_type": "markdown",
   "metadata": {
    "collapsed": true,
    "pycharm": {
     "name": "#%% md\n"
    }
   },
   "source": [
    "# Programmazione Euristica: il percorso del Cavallo.\n",
    "\n",
    "https://it.wikipedia.org/wiki/Percorso_del_cavallo\n",
    "\n",
    "Il percorso del cavallo è un problema matematico riguardante lo spostarsi di un cavallo su una scacchiera. Il cavallo è posizionato sulla scacchiera vuota e, spostandosi secondo le regole degli scacchi, deve occupare ogni casa esattamente una volta.<br>\n",
    "\n",
    "https://it.wikipedia.org/wiki/Cavallo_(scacchi)\n",
    " Il movimento del cavallo può essere immaginato come la somma di uno spostamento orizzontale di una casa e di uno verticale di due o viceversa, descrivendo una \"L\". Il cavallo è inoltre l'unico pezzo che, nei suoi movimenti, può attraversare anche caselle già occupate da altri pezzi: si dice che può \"saltare\". Si noti che a ogni mossa il cavallo cambia il colore della casa in cui si trova.<br>\n",
    "\n",
    "Dobbiamo scrivere uno script che muova il cavallo sulla scacchiera, rappresentata da un vettore 8x8, inizializzato a 0. Se posizionato al centro, il cavallo potra muoversi in 8 possibili caselle che possiamo numerare da 1 a 8 seguendo il senso orario dal :\n",
    "![image info](../assets/cavallo.jpg)"
   ]
  },
  {
   "cell_type": "code",
   "execution_count": 85,
   "outputs": [],
   "source": [
    "# Rappresentiamo la Scacchiera come un array bidimensionale 8x8 chimato `board`:\n",
    "# Importiamo le librerie standard di python che ci serviranno in questo progetto:\n",
    "import random\n",
    "import collections\n",
    "\n",
    "# Le librerie dei framework specifici:\n",
    "import matplotlib.pyplot as plt # Motore grafico di python per realizzare diagrammi e fuznoni\n",
    "import numpy as np # Libreria che gestisce ad altissima efficienza gli array\n",
    "import seaborn as sns # Libreria che usa il motore grafico di MatplotLib con funzionalita' grafiche avanzate"
   ],
   "metadata": {
    "collapsed": false,
    "pycharm": {
     "name": "#%%\n"
    }
   }
  },
  {
   "cell_type": "markdown",
   "source": [
    "Descriviamo le possibili mosse del cavallo su una tupla (h - orizzontale, v - verticale) contente l'incremento lungo gli assi h e v: ad esempio, facendo riferimento alla foto sopra, dala posizione in cui si trova il cavallo (h=3,v=4), per spostarsi nella posizione 1, in (h=5, v=3), faremo riferimento alla tupla (+2,-1) (due a destra, una in su)."
   ],
   "metadata": {
    "collapsed": false,
    "pycharm": {
     "name": "#%% md\n"
    }
   }
  },
  {
   "cell_type": "code",
   "execution_count": null,
   "outputs": [],
   "source": [
    "def initialize_game(horse_default_position=True):\n",
    "    ''' Inzializza una scacchiera 8x8 costruita con un array numpy di zeri\n",
    "\n",
    "     horse_default_position:  True se il cavallo parte da una delle posizioni\n",
    "                                    iniziali del cavallo ((0, 2), (0, 5), (7, 2), (7, 5))\n",
    "    posiziona il cavallo in una posizione default o causale e tale posizione viene identificata con il numero 1\n",
    "\n",
    "    restituisce l'array 8x8\n",
    "    '''\n",
    "\n",
    "    pass\n",
    "\n",
    "\n",
    "def get_current_position(board):\n",
    "    '''\n",
    "    :parameter board - numpy array 8x8 con numeri compresi tra 0 e 64. Il numeor piu' alto identifica l'attuale posizione del cavallo\n",
    "\n",
    "    :return\n",
    "    '''\n",
    "       return current_move_number, (current_h, current_v)\n",
    "\n",
    "\n",
    "def get_available_moves(board):\n",
    "\n",
    "    return available_moves\n",
    "\n",
    "\n",
    "def move_horse(board, heuristic=False):\n",
    "    pass\n",
    "\n",
    "\n",
    "\n",
    "\n",
    "\n",
    "def random_move(available_moves):\n",
    "    pass\n"
   ],
   "metadata": {
    "collapsed": false,
    "pycharm": {
     "name": "#%%\n"
    }
   }
  }
 ],
 "metadata": {
  "kernelspec": {
   "display_name": "Python 3",
   "language": "python",
   "name": "python3"
  },
  "language_info": {
   "codemirror_mode": {
    "name": "ipython",
    "version": 2
   },
   "file_extension": ".py",
   "mimetype": "text/x-python",
   "name": "python",
   "nbconvert_exporter": "python",
   "pygments_lexer": "ipython2",
   "version": "2.7.6"
  }
 },
 "nbformat": 4,
 "nbformat_minor": 0
}