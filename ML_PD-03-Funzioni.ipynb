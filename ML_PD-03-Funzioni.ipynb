{
 "cells": [
  {
   "cell_type": "markdown",
   "source": [
    "# Le funzioni su Python"
   ],
   "metadata": {
    "collapsed": false
   }
  },
  {
   "cell_type": "markdown",
   "source": [
    "Le funzioni su python si definiscono con il comando 'def':<br>\n",
    "```python\n",
    "def nomefunzione(parametri):\n",
    "    \"\"\"docstirng con descrizione\"\"\"\n",
    "    <corpo_della_funzione>\n",
    "    return variabile_da_restituire\n",
    "```\n"
   ],
   "metadata": {
    "collapsed": false,
    "pycharm": {
     "name": "#%% md\n"
    }
   }
  },
  {
   "cell_type": "code",
   "execution_count": null,
   "outputs": [],
   "source": [
    "# definisco la funzione radQ che agisce su \"parametro_numero\"\n",
    "def radQ(parametro_numero):\n",
    "    \"\"\"Funzione che calcola la radice quadrata di un numero\n",
    "    parametro_numero: il numero di cui faremo la radice quadrata\n",
    "    \"\"\"\n",
    "    \n",
    "    risultato = parametro_numero ** 0.5\n",
    "    \n",
    "    return risultato"
   ],
   "metadata": {
    "collapsed": false,
    "pycharm": {
     "name": "#%%\n"
    }
   }
  },
  {
   "cell_type": "code",
   "execution_count": null,
   "outputs": [],
   "source": [
    "# pre eseguirla \"la chiamo\", fornendo un valore numerico al parametro\n",
    "radQ(6)"
   ],
   "metadata": {
    "collapsed": false,
    "pycharm": {
     "name": "#%%\n"
    }
   }
  },
  {
   "cell_type": "code",
   "execution_count": null,
   "outputs": [],
   "source": [
    "# Se ho piu' parametri:\n",
    "def somma(num1, num2):\n",
    "    \"\"\"Restituisce la somma di due numeri\n",
    "    num1: numero\n",
    "    num2: numero\n",
    "    \"\"\"\n",
    "    \n",
    "    return num1 + num2"
   ],
   "metadata": {
    "collapsed": false,
    "pycharm": {
     "name": "#%%\n"
    }
   }
  },
  {
   "cell_type": "code",
   "execution_count": null,
   "outputs": [],
   "source": [
    "# Chiamare l'help sulla funzione ne stampa a a monitor la Docstring\n",
    "help(somma)"
   ],
   "metadata": {
    "collapsed": false,
    "pycharm": {
     "name": "#%%\n"
    }
   }
  },
  {
   "cell_type": "code",
   "execution_count": null,
   "outputs": [],
   "source": [
    "# L'assegnazione dei parametri avviene per posizione: primo parametro, num1\n",
    "# secondo parametro num2\n",
    "\n",
    "somma(12, 45)"
   ],
   "metadata": {
    "collapsed": false,
    "pycharm": {
     "name": "#%%\n"
    }
   }
  },
  {
   "cell_type": "code",
   "execution_count": null,
   "outputs": [],
   "source": [
    "# La funzione prova ad essere eseguita a prescindere dal tipo di parametro che gli passo:\n",
    "somma(\"pippo\", \"pluto\")"
   ],
   "metadata": {
    "collapsed": false,
    "pycharm": {
     "name": "#%%\n"
    }
   }
  },
  {
   "cell_type": "code",
   "execution_count": null,
   "outputs": [],
   "source": [
    "# Se fallisce attiva viene lanciato un Errore\n",
    "somma(4, \"pluto\")"
   ],
   "metadata": {
    "collapsed": false,
    "pycharm": {
     "name": "#%%\n"
    }
   }
  },
  {
   "cell_type": "code",
   "execution_count": null,
   "outputs": [],
   "source": [
    "# Posso definire nella funzione dei valori di default\n",
    "\n",
    "def peso_planetario(massa, gravita = 9.81):\n",
    "    \"\"\"calcolo il peso su un pianeta, restituisce il peso in Newton\n",
    "    massa: in Kilogrammi\n",
    "    gravita: del pianeta in oggetto\"\"\"\n",
    "    \n",
    "    peso = massa * gravita\n",
    "    \n",
    "    return peso"
   ],
   "metadata": {
    "collapsed": false,
    "pycharm": {
     "name": "#%%\n"
    }
   }
  },
  {
   "cell_type": "code",
   "execution_count": null,
   "outputs": [],
   "source": [
    "# Se nei parametri non compaiono alternative viene calcolato con il default.\n",
    "\n",
    "peso_planetario(80)"
   ],
   "metadata": {
    "collapsed": false,
    "pycharm": {
     "name": "#%%\n"
    }
   }
  },
  {
   "cell_type": "code",
   "execution_count": null,
   "outputs": [],
   "source": [
    "# L'assegnazione dei parametri e' sempre posizionale, la presenza di un secondo parametro\n",
    "# potra' in questo caso sovrascrivere il default\n",
    "peso_planetario(80, 1.1)"
   ],
   "metadata": {
    "collapsed": false,
    "pycharm": {
     "name": "#%%\n"
    }
   }
  },
  {
   "cell_type": "code",
   "execution_count": null,
   "outputs": [],
   "source": [
    "# Se non passo nessun parametro e non sono definiti dei default, viene visualizzato un errore:\n",
    "peso_planetario()"
   ],
   "metadata": {
    "collapsed": false,
    "pycharm": {
     "name": "#%%\n"
    }
   }
  },
  {
   "cell_type": "code",
   "execution_count": null,
   "outputs": [],
   "source": [
    "# In fase di definizione della funzione\n",
    "# non posso definire un valore default prima di uno non default:\n",
    "\n",
    "def peso_planetario(gravita = 9.81, massa):\n",
    "    \"\"\"calcolo il peso su un pianeta, restituisce il peso in Newton\n",
    "    massa: in kilogrammi\n",
    "    gravita: del pianeta in oggetto\"\"\"\n",
    "    \n",
    "    peso = massa * gravita\n",
    "    \n",
    "    return peso"
   ],
   "metadata": {
    "collapsed": false,
    "pycharm": {
     "name": "#%%\n"
    }
   }
  },
  {
   "cell_type": "markdown",
   "source": [
    "### Positional e keyword argument"
   ],
   "metadata": {
    "collapsed": false,
    "pycharm": {
     "name": "#%% md\n"
    }
   }
  },
  {
   "cell_type": "code",
   "execution_count": null,
   "outputs": [],
   "source": [
    "# Base e altezza sono rispettivamente il primo e il secondo argomento della funzione:\n",
    "\n",
    "def calcolo_area_triangolo(base, altezza):\n",
    "    \"\"\"Calcolo dell'area di un triangolo nota base ed altezza\"\"\"\n",
    "    \n",
    "    area = base * altezza / 2\n",
    "    \n",
    "    return area"
   ],
   "metadata": {
    "collapsed": false,
    "pycharm": {
     "name": "#%%\n"
    }
   }
  },
  {
   "cell_type": "code",
   "execution_count": null,
   "outputs": [],
   "source": [
    "# base sara' qundi 2, altezza, 4\n",
    "calcolo_area_triangolo(2, 4)"
   ],
   "metadata": {
    "collapsed": false,
    "pycharm": {
     "name": "#%%\n"
    }
   }
  },
  {
   "cell_type": "code",
   "execution_count": null,
   "outputs": [],
   "source": [
    "# Ma posso anche chiamarli per nome, specificando in fase di chiamata che base e' 2 e altezza 4\n",
    "calcolo_area_triangolo(base = 2, altezza = 4)"
   ],
   "metadata": {
    "collapsed": false,
    "pycharm": {
     "name": "#%%\n"
    }
   }
  },
  {
   "cell_type": "code",
   "execution_count": null,
   "outputs": [],
   "source": [
    "# Se specifico che base e' 2 e altezza e' 4, non ha importanza qualche scrivo epr primo\n",
    "# Sto usando keywords argument. Gli argomenti chiamati per chiave.\n",
    "calcolo_area_triangolo(altezza = 4, base = 2)"
   ],
   "metadata": {
    "collapsed": false,
    "pycharm": {
     "name": "#%%\n"
    }
   }
  },
  {
   "cell_type": "code",
   "execution_count": null,
   "outputs": [],
   "source": [
    "# Posso anche usare una tecnica mista, ma se non specifico i nomi degli argomenti, quelli anonimi\n",
    "# saranno \"posizionali\" e devono essere chiamati per primi e in ordine corretto:\n",
    "# qui sotto base sara' pari a 2\n",
    "\n",
    "calcolo_area_triangolo(2, altezza = 4)"
   ],
   "metadata": {
    "collapsed": false,
    "pycharm": {
     "name": "#%%\n"
    }
   }
  },
  {
   "cell_type": "code",
   "execution_count": null,
   "outputs": [],
   "source": [
    "# Se provo a chiamare un argomento con chiave prima di un argomento \"posizionale\"\n",
    "# viene generato un errore\n",
    "calcolo_area_triangolo(altezza = 4, 2)"
   ],
   "metadata": {
    "collapsed": false,
    "pycharm": {
     "name": "#%%\n"
    }
   }
  },
  {
   "cell_type": "code",
   "execution_count": null,
   "outputs": [],
   "source": [
    "# L'errore si genera anche se gli argomenti chiamati per chiave sono nell'ordine corretto\n",
    "calcolo_area_triangolo(base = 4, 2)"
   ],
   "metadata": {
    "collapsed": false,
    "pycharm": {
     "name": "#%%\n"
    }
   }
  },
  {
   "cell_type": "markdown",
   "source": [
    "## Restituzione di piu' valori"
   ],
   "metadata": {
    "collapsed": false,
    "pycharm": {
     "name": "#%% md\n"
    }
   }
  },
  {
   "cell_type": "code",
   "execution_count": 3,
   "outputs": [],
   "source": [
    "# E' possibile scrivere funzioni che restituiscano piu' oggetti:\n",
    "# in questo caso area_perimetro_cerchio restituisce nell'ordine\n",
    "# prima l'area e poi il perimentro di un cerchio di raggio = raggio\n",
    "def area_perimetro_cerchio(raggio):\n",
    "    \"\"\"Calcolo area e perimetro di un cerchio\n",
    "    r: raggio del cerchio\n",
    "    \n",
    "    return area, perimentro\"\"\"\n",
    "    \n",
    "    from math import pi\n",
    "    \n",
    "    area = pi * raggio ** 2\n",
    "    perimetro = 2 * pi * raggio\n",
    "    \n",
    "    return area, perimetro"
   ],
   "metadata": {
    "collapsed": false,
    "pycharm": {
     "name": "#%%\n"
    }
   }
  },
  {
   "cell_type": "code",
   "execution_count": null,
   "outputs": [],
   "source": [
    "# A monitor viene stamapata un \"tupla\" contenente i due valori\n",
    "area_perimetro_cerchio(10)"
   ],
   "metadata": {
    "collapsed": false,
    "pycharm": {
     "name": "#%%\n"
    }
   }
  },
  {
   "cell_type": "code",
   "execution_count": null,
   "outputs": [],
   "source": [
    "# posso spacchettare area a perimentro in due variabili distinte\n",
    "# assegnandole con il segno uguale:\n",
    "\n",
    "a, p = area_perimetro_cerchio(10)\n",
    "print(\"L'area vale,\", a)\n",
    "print(\"Il perimentro vale,\", p)"
   ],
   "metadata": {
    "collapsed": false,
    "pycharm": {
     "name": "#%%\n"
    }
   }
  },
  {
   "cell_type": "code",
   "execution_count": 4,
   "outputs": [
    {
     "name": "stdout",
     "output_type": "stream",
     "text": [
      "Salvo l'area sulla variabile _  1256.6370614359173\n",
      "Il perimentro vale, 125.66370614359172\n"
     ]
    }
   ],
   "source": [
    "# Se non sono interessatoa  salvare uno dei valori posso usare il simbolo di\n",
    "# underscore \"_\" per ignorare il primo risultato\n",
    "# _ restera' comunque accessibile e conterra' il valore dell'area\n",
    "\n",
    "_,p2 = area_perimetro_cerchio(20)\n",
    "print(\"Salvo l'area sulla variabile _ \", _)\n",
    "print(\"Il perimentro vale,\", p2)"
   ],
   "metadata": {
    "collapsed": false,
    "pycharm": {
     "name": "#%%\n"
    }
   }
  },
  {
   "cell_type": "markdown",
   "source": [
    "## *args: un numero imprecisato di argomenti"
   ],
   "metadata": {
    "collapsed": false,
    "pycharm": {
     "name": "#%% md\n"
    }
   }
  },
  {
   "cell_type": "code",
   "execution_count": 7,
   "outputs": [],
   "source": [
    "# Se non so quanti valori potrei dover passare alla funzione posso usare\n",
    "# il simbolo * prima del nome della variabile\n",
    "# Questa variabile raccogliera' in se tutte i parametri della funzione in un iterabile\n",
    "# Nella funzione che segue, \"argomenti\" e' un iterabile che contiene tutti gli oggetti\n",
    "# passati come paramentro alla funzione\n",
    "def somma_piu_variabili(*argomenti):\n",
    "    \"\"\"somma variabili \"\"\"\n",
    "\n",
    "    somma = 0\n",
    "    \n",
    "    for elem in argomenti: # argomenti e' una lista che contiene 1,2,3,4,56\n",
    "        # elem scorre tra tutti gli argomenti dal primo all'ultimo\n",
    "        somma += elem\n",
    "        \n",
    "    return somma\n"
   ],
   "metadata": {
    "collapsed": false,
    "pycharm": {
     "name": "#%%\n"
    }
   }
  },
  {
   "cell_type": "code",
   "execution_count": 8,
   "outputs": [
    {
     "name": "stdout",
     "output_type": "stream",
     "text": [
      "1 1\n",
      "2 3\n",
      "3 6\n",
      "4 10\n",
      "56 66\n",
      "66\n",
      "1 1\n",
      "2 3\n",
      "3 6\n",
      "4 10\n",
      "56 66\n",
      "8 74\n",
      "7 81\n",
      "5 86\n",
      "6 92\n",
      "5 97\n",
      "97\n"
     ]
    }
   ],
   "source": [
    "# In questo modo posso sommare 5 parametri,\n",
    "print(somma_piu_variabili(1,2,3,4,56))\n",
    "\n",
    "# o 10 parametri:\n",
    "print(somma_piu_variabili(1,2,3,4,56, 8, 7, 5, 6, 5))\n"
   ],
   "metadata": {
    "collapsed": false,
    "pycharm": {
     "name": "#%%\n"
    }
   }
  },
  {
   "cell_type": "code",
   "execution_count": null,
   "outputs": [],
   "source": [
    "# Formattzione delle stringhe:\n",
    "# https://cheatography.com/gaston/cheat-sheets/python-string-formatting/\n",
    "# a = 123.4\n",
    "b = 12.34\n",
    "c = 1.234\n",
    "print(f\"{a:^20.25f}\")\n",
    "print(f\"{b:^20.25f}\")\n",
    "print(f\"{c:^20.25f}\")"
   ],
   "metadata": {
    "collapsed": false,
    "pycharm": {
     "name": "#%%\n"
    }
   }
  },
  {
   "cell_type": "code",
   "execution_count": null,
   "outputs": [],
   "source": [
    "import decimal"
   ],
   "metadata": {
    "collapsed": false,
    "pycharm": {
     "name": "#%%\n"
    }
   }
  },
  {
   "cell_type": "code",
   "execution_count": null,
   "outputs": [],
   "source": [
    "a = 123.4 "
   ],
   "metadata": {
    "collapsed": false,
    "pycharm": {
     "name": "#%%\n"
    }
   }
  },
  {
   "cell_type": "code",
   "execution_count": null,
   "outputs": [],
   "source": [
    "a = decimal.Decimal(\"123.4\")"
   ],
   "metadata": {
    "collapsed": false,
    "pycharm": {
     "name": "#%%\n"
    }
   }
  },
  {
   "cell_type": "code",
   "execution_count": null,
   "outputs": [],
   "source": [
    "a"
   ],
   "metadata": {
    "collapsed": false,
    "pycharm": {
     "name": "#%%\n"
    }
   }
  },
  {
   "cell_type": "markdown",
   "source": [
    "# Variabili locoali e globali"
   ],
   "metadata": {
    "collapsed": false
   }
  },
  {
   "cell_type": "code",
   "execution_count": null,
   "outputs": [],
   "source": [
    "x = \"io vengo prima\"\n",
    "print(x)\n",
    "\n",
    "def pippo():\n",
    "    # global x\n",
    "    # x = \"ma io ti cambio\"\n",
    "    print(x)\n",
    "\n",
    "pippo()\n",
    "\n",
    "print(x)"
   ],
   "metadata": {
    "collapsed": false,
    "pycharm": {
     "name": "#%%\n"
    }
   }
  },
  {
   "cell_type": "code",
   "execution_count": null,
   "outputs": [],
   "source": [],
   "metadata": {
    "collapsed": false,
    "pycharm": {
     "name": "#%%\n"
    }
   }
  },
  {
   "cell_type": "code",
   "execution_count": null,
   "outputs": [],
   "source": [],
   "metadata": {
    "collapsed": false,
    "pycharm": {
     "name": "#%%\n"
    }
   }
  },
  {
   "cell_type": "code",
   "execution_count": null,
   "outputs": [],
   "source": [],
   "metadata": {
    "collapsed": false,
    "pycharm": {
     "name": "#%%\n"
    }
   }
  },
  {
   "cell_type": "code",
   "execution_count": null,
   "outputs": [],
   "source": [],
   "metadata": {
    "collapsed": false,
    "pycharm": {
     "name": "#%%\n"
    }
   }
  },
  {
   "cell_type": "code",
   "execution_count": null,
   "outputs": [],
   "source": [],
   "metadata": {
    "collapsed": false,
    "pycharm": {
     "name": "#%%\n"
    }
   }
  },
  {
   "cell_type": "code",
   "execution_count": null,
   "outputs": [],
   "source": [],
   "metadata": {
    "collapsed": false,
    "pycharm": {
     "name": "#%%\n"
    }
   }
  },
  {
   "cell_type": "code",
   "execution_count": null,
   "outputs": [],
   "source": [],
   "metadata": {
    "collapsed": false,
    "pycharm": {
     "name": "#%%\n"
    }
   }
  },
  {
   "cell_type": "code",
   "execution_count": null,
   "outputs": [],
   "source": [],
   "metadata": {
    "collapsed": false,
    "pycharm": {
     "name": "#%%\n"
    }
   }
  }
 ],
 "metadata": {
  "kernelspec": {
   "display_name": "Python 3 (ipykernel)",
   "language": "python",
   "name": "python3"
  },
  "language_info": {
   "codemirror_mode": {
    "name": "ipython",
    "version": 3
   },
   "file_extension": ".py",
   "mimetype": "text/x-python",
   "name": "python",
   "nbconvert_exporter": "python",
   "pygments_lexer": "ipython3",
   "version": "3.8.12"
  }
 },
 "nbformat": 4,
 "nbformat_minor": 5
}