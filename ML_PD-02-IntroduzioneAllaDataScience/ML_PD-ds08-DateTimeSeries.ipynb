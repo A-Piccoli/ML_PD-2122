{
 "cells": [
  {
   "cell_type": "code",
   "execution_count": null,
   "metadata": {
    "pycharm": {
     "name": "#%%\n"
    }
   },
   "outputs": [],
   "source": []
  },
  {
   "cell_type": "markdown",
   "metadata": {
    "pycharm": {
     "name": "#%% md\n"
    }
   },
   "source": [
    "https://www.ecad.eu/\n",
    "www.ncei.noaa.gov/cag\n",
    "https://docs.python.org/3/library/datetime.html#strftime-and-strptime-behavior\n",
    "\n",
    "https://pandas.pydata.org/pandas-docs/stable/user_guide/timeseries.html#dateoffset-objects\n"
   ]
  },
  {
   "cell_type": "code",
   "execution_count": 1,
   "metadata": {
    "collapsed": true
   },
   "outputs": [],
   "source": [
    "import os\n",
    "\n",
    "import pandas as pd\n",
    "import numpy as np"
   ]
  },
  {
   "cell_type": "code",
   "execution_count": 12,
   "metadata": {
    "pycharm": {
     "name": "#%%\n"
    }
   },
   "outputs": [
    {
     "data": {
      "text/plain": [
       "'J:\\\\My Drive\\\\ITS_ML\\\\Materiali\\\\ML_PD-Appunti e Notebook\\\\ML_PD-02-IntroduzioneAllaDataScience'"
      ]
     },
     "execution_count": 12,
     "metadata": {},
     "output_type": "execute_result"
    }
   ],
   "source": [
    "# get current working directory\n",
    "os.getcwd()"
   ]
  },
  {
   "cell_type": "code",
   "execution_count": 15,
   "metadata": {},
   "outputs": [
    {
     "data": {
      "text/plain": [
       "['ML_PD-ds01-Visualization.ipynb',\n",
       " '.ipynb_checkpoints',\n",
       " 'diagramma.py',\n",
       " 'ML_PD-ds03-Numpy.ipynb',\n",
       " 'ML_PD-ds02-DinamicVisualization.ipynb',\n",
       " 'diagramma_Dinamico.py',\n",
       " 'ML_PD-ds05-NumpyEserciziSvolti.ipynb',\n",
       " 'ML_PD-ds06-Pandas.ipynb',\n",
       " 'data.txt',\n",
       " 'ML_PD-ds04-NumpyEsercizi.ipynb',\n",
       " 'ML_PD-ds07-Matplotlib.my.ipynb',\n",
       " 'ML_PD-ds07-Matplotlib_.ipynb',\n",
       " 'RAL_developers.png',\n",
       " 'ML_PD-ds07-Matplotlib_scatter.txt',\n",
       " 'ML_PD-ds08-DateTimeSeries.ipynb',\n",
       " 'Assets']"
      ]
     },
     "execution_count": 15,
     "metadata": {},
     "output_type": "execute_result"
    }
   ],
   "source": [
    "os.listdir()"
   ]
  },
  {
   "cell_type": "code",
   "execution_count": 53,
   "metadata": {},
   "outputs": [
    {
     "data": {
      "text/plain": [
       "[['STAID', ' SOUID', '    DATE', '   RR', ' Q_RR'],\n",
       " ['380', '115588', '19910101', '-9999', '    9'],\n",
       " ['380', '115588', '19910102', '-9999', '    9'],\n",
       " ['380', '115588', '19910103', '-9999', '    9'],\n",
       " ['380', '115588', '19910104', '-9999', '    9'],\n",
       " ['380', '115588', '19910105', '-9999', '    9'],\n",
       " ['380', '115588', '19910106', '-9999', '    9'],\n",
       " ['380', '115588', '19910107', '-9999', '    9'],\n",
       " ['380', '115588', '19910108', '-9999', '    9'],\n",
       " ['380', '115588', '19910109', '-9999', '    9']]"
      ]
     },
     "execution_count": 53,
     "metadata": {},
     "output_type": "execute_result"
    }
   ],
   "source": [
    "pth_file = os.getcwd() + \"\\\\Assets\\\\PrecipitazioniPadova\\\\\" + \"RR_SOUID115588.txt\"\n",
    "\n",
    "with open(pth_file) as f:\n",
    "    riga = f.readline()\n",
    "    while riga != ' STAID, SOUID,    DATE,   RR, Q_RR\\n':\n",
    "        riga = f.readline()\n",
    "        \n",
    "        \n",
    "    \n",
    "    my_csv = [riga.strip().split(\",\")]\n",
    "    riga = f.readline()\n",
    "    \n",
    "    while riga != \"\":\n",
    "        my_csv.append(riga.strip().split(\",\"))\n",
    "        riga = f.readline()\n",
    "\n",
    "my_csv[:10]"
   ]
  },
  {
   "cell_type": "code",
   "execution_count": 54,
   "metadata": {},
   "outputs": [
    {
     "data": {
      "text/plain": [
       "[['STAID', 'SOUID', 'DATE', 'RR', 'Q_RR'],\n",
       " ['380', '115588', '19910101', '-9999', '    9'],\n",
       " ['380', '115588', '19910102', '-9999', '    9'],\n",
       " ['380', '115588', '19910103', '-9999', '    9'],\n",
       " ['380', '115588', '19910104', '-9999', '    9'],\n",
       " ['380', '115588', '19910105', '-9999', '    9'],\n",
       " ['380', '115588', '19910106', '-9999', '    9'],\n",
       " ['380', '115588', '19910107', '-9999', '    9'],\n",
       " ['380', '115588', '19910108', '-9999', '    9'],\n",
       " ['380', '115588', '19910109', '-9999', '    9']]"
      ]
     },
     "execution_count": 54,
     "metadata": {},
     "output_type": "execute_result"
    }
   ],
   "source": [
    "my_csv[0] = [j.strip() for j in my_csv[0]]\n",
    "my_csv[:2]"
   ]
  },
  {
   "cell_type": "code",
   "execution_count": 56,
   "metadata": {},
   "outputs": [],
   "source": [
    "df = pd.DataFrame(my_csv[1:], columns = my_csv[0])"
   ]
  },
  {
   "cell_type": "code",
   "execution_count": 58,
   "metadata": {},
   "outputs": [
    {
     "data": {
      "text/plain": [
       "(11382, 5)"
      ]
     },
     "execution_count": 58,
     "metadata": {},
     "output_type": "execute_result"
    }
   ],
   "source": [
    "df.shape"
   ]
  },
  {
   "cell_type": "code",
   "execution_count": 61,
   "metadata": {},
   "outputs": [
    {
     "data": {
      "text/plain": [
       "STAID    object\n",
       "SOUID    object\n",
       "DATE     object\n",
       "RR       object\n",
       "Q_RR     object\n",
       "dtype: object"
      ]
     },
     "execution_count": 61,
     "metadata": {},
     "output_type": "execute_result"
    }
   ],
   "source": [
    "df.dtypes"
   ]
  },
  {
   "cell_type": "code",
   "execution_count": 64,
   "metadata": {},
   "outputs": [
    {
     "data": {
      "text/plain": [
       "0       1991-01-01\n",
       "1       1991-01-02\n",
       "2       1991-01-03\n",
       "3       1991-01-04\n",
       "4       1991-01-05\n",
       "           ...    \n",
       "11377   2022-02-24\n",
       "11378   2022-02-25\n",
       "11379   2022-02-26\n",
       "11380   2022-02-27\n",
       "11381   2022-02-28\n",
       "Name: DATE, Length: 11382, dtype: datetime64[ns]"
      ]
     },
     "execution_count": 64,
     "metadata": {},
     "output_type": "execute_result"
    }
   ],
   "source": [
    "pd.to_datetime(df.DATE)"
   ]
  },
  {
   "cell_type": "code",
   "execution_count": 66,
   "metadata": {},
   "outputs": [
    {
     "data": {
      "text/plain": [
       "0        380\n",
       "1        380\n",
       "2        380\n",
       "3        380\n",
       "4        380\n",
       "        ... \n",
       "11377    380\n",
       "11378    380\n",
       "11379    380\n",
       "11380    380\n",
       "11381    380\n",
       "Name: STAID, Length: 11382, dtype: int64"
      ]
     },
     "execution_count": 66,
     "metadata": {},
     "output_type": "execute_result"
    }
   ],
   "source": [
    "pd.to_numeric(df.STAID)"
   ]
  },
  {
   "cell_type": "code",
   "execution_count": 68,
   "metadata": {},
   "outputs": [],
   "source": [
    "df = df.astype(int)"
   ]
  },
  {
   "cell_type": "code",
   "execution_count": 69,
   "metadata": {},
   "outputs": [
    {
     "data": {
      "text/plain": [
       "STAID    int32\n",
       "SOUID    int32\n",
       "DATE     int32\n",
       "RR       int32\n",
       "Q_RR     int32\n",
       "dtype: object"
      ]
     },
     "execution_count": 69,
     "metadata": {},
     "output_type": "execute_result"
    }
   ],
   "source": [
    "df.dtypes"
   ]
  },
  {
   "cell_type": "code",
   "execution_count": 86,
   "metadata": {},
   "outputs": [],
   "source": [
    "df.DATE = pd.to_datetime(df.DATE, format = \"%Y%m%d\")"
   ]
  },
  {
   "cell_type": "code",
   "execution_count": 90,
   "metadata": {},
   "outputs": [],
   "source": [
    "df = df.set_index(\"DATE\")"
   ]
  },
  {
   "cell_type": "code",
   "execution_count": 95,
   "metadata": {},
   "outputs": [],
   "source": [
    "df_filtrato = df[df.RR != -9999]"
   ]
  },
  {
   "cell_type": "code",
   "execution_count": 104,
   "metadata": {},
   "outputs": [],
   "source": [
    "df_filtrato_mese = df_filtrato.resample('M').agg({'STAID':'mean', 'SOUID':'mean', 'RR':'sum', 'Q_RR':'mean'})"
   ]
  },
  {
   "cell_type": "code",
   "execution_count": 109,
   "metadata": {},
   "outputs": [
    {
     "data": {
      "text/plain": [
       "<AxesSubplot:xlabel='DATE'>"
      ]
     },
     "execution_count": 109,
     "metadata": {},
     "output_type": "execute_result"
    },
    {
     "data": {
      "image/png": "[encoded data removed]",
      "text/plain": [
       "<Figure size 432x288 with 1 Axes>"
      ]
     },
     "metadata": {
      "needs_background": "light"
     },
     "output_type": "display_data"
    }
   ],
   "source": [
    "df_filtrato_mese.RR.plot()"
   ]
  },
  {
   "cell_type": "code",
   "execution_count": null,
   "metadata": {},
   "outputs": [],
   "source": []
  },
  {
   "cell_type": "code",
   "execution_count": null,
   "metadata": {},
   "outputs": [],
   "source": []
  },
  {
   "cell_type": "code",
   "execution_count": null,
   "metadata": {},
   "outputs": [],
   "source": []
  },
  {
   "cell_type": "code",
   "execution_count": null,
   "metadata": {},
   "outputs": [],
   "source": []
  }
 ],
 "metadata": {
  "kernelspec": {
   "display_name": "Python 3 (ipykernel)",
   "language": "python",
   "name": "python3"
  },
  "language_info": {
   "codemirror_mode": {
    "name": "ipython",
    "version": 3
   },
   "file_extension": ".py",
   "mimetype": "text/x-python",
   "name": "python",
   "nbconvert_exporter": "python",
   "pygments_lexer": "ipython3",
   "version": "3.9.7"
  },
  "toc": {
   "base_numbering": 1,
   "nav_menu": {},
   "number_sections": true,
   "sideBar": true,
   "skip_h1_title": false,
   "title_cell": "Table of Contents",
   "title_sidebar": "Contents",
   "toc_cell": false,
   "toc_position": {},
   "toc_section_display": true,
   "toc_window_display": false
  },
  "varInspector": {
   "cols": {
    "lenName": 16,
    "lenType": 16,
    "lenVar": 40
   },
   "kernels_config": {
    "python": {
     "delete_cmd_postfix": "",
     "delete_cmd_prefix": "del ",
     "library": "var_list.py",
     "varRefreshCmd": "print(var_dic_list())"
    },
    "r": {
     "delete_cmd_postfix": ") ",
     "delete_cmd_prefix": "rm(",
     "library": "var_list.r",
     "varRefreshCmd": "cat(var_dic_list()) "
    }
   },
   "types_to_exclude": [
    "module",
    "function",
    "builtin_function_or_method",
    "instance",
    "_Feature"
   ],
   "window_display": false
  }
 },
 "nbformat": 4,
 "nbformat_minor": 1
}