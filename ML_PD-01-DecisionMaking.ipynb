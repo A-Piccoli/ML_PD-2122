{
 "cells": [
  {
   "cell_type": "markdown",
   "metadata": {
    "toc": true
   },
   "source": [
    "<h1>Table of Contents<span class=\"tocSkip\"></span></h1>\n",
    "<div class=\"toc\"><ul class=\"toc-item\"><li><span><a href=\"#Decision-Making:-La-struttura-if\" data-toc-modified-id=\"Decision-Making:-La-struttura-if-1\"><span class=\"toc-item-num\">1&nbsp;&nbsp;</span>Decision Making: La struttura <em>if</em></a></span><ul class=\"toc-item\"><li><span><a href=\"#Operatori-di-confronto:\" data-toc-modified-id=\"Operatori-di-confronto:-1.1\"><span class=\"toc-item-num\">1.1&nbsp;&nbsp;</span>Operatori di confronto:</a></span></li><li><span><a href=\"#Confronto-tra-litterals\" data-toc-modified-id=\"Confronto-tra-litterals-1.2\"><span class=\"toc-item-num\">1.2&nbsp;&nbsp;</span>Confronto tra litterals</a></span></li><li><span><a href=\"#Operatori-Booleani\" data-toc-modified-id=\"Operatori-Booleani-1.3\"><span class=\"toc-item-num\">1.3&nbsp;&nbsp;</span>Operatori Booleani</a></span></li><li><span><a href=\"#Struttura-if:\" data-toc-modified-id=\"Struttura-if:-1.4\"><span class=\"toc-item-num\">1.4&nbsp;&nbsp;</span>Struttura <em>if</em>:</a></span></li><li><span><a href=\"#Ciclo-While:-\" data-toc-modified-id=\"Ciclo-While:--1.5\"><span class=\"toc-item-num\">1.5&nbsp;&nbsp;</span>Ciclo While: <br></a></span><ul class=\"toc-item\"><li><span><a href=\"#continue-e-break\" data-toc-modified-id=\"continue-e-break-1.5.1\"><span class=\"toc-item-num\">1.5.1&nbsp;&nbsp;</span>continue e break</a></span></li></ul></li><li><span><a href=\"#Ciclo-for\" data-toc-modified-id=\"Ciclo-for-1.6\"><span class=\"toc-item-num\">1.6&nbsp;&nbsp;</span>Ciclo <em>for</em></a></span><ul class=\"toc-item\"><li><span><a href=\"#Esercizio:\" data-toc-modified-id=\"Esercizio:-1.6.1\"><span class=\"toc-item-num\">1.6.1&nbsp;&nbsp;</span>Esercizio:</a></span></li><li><span><a href=\"#Formatted-Strings\" data-toc-modified-id=\"Formatted-Strings-1.6.2\"><span class=\"toc-item-num\">1.6.2&nbsp;&nbsp;</span>Formatted Strings</a></span></li></ul></li></ul></li></ul></div>"
   ]
  },
  {
   "cell_type": "markdown",
   "metadata": {},
   "source": [
    "# Decision Making: prendere decisioni in Python"
   ]
  },
  {
   "cell_type": "markdown",
   "metadata": {},
   "source": [
    "## Operatori di confronto:\n",
    "Elenco degli operatori:\n",
    "* \\>\n",
    "* \\<\n",
    "* \\>=\n",
    "* \\<=\n",
    "* \\==\n",
    "* \\!= \n",
    "\n",
    "** Attenzione non confondere l'operatore di confronto \"==\" con l'operatore di assegnazione \"=\"."
   ]
  },
  {
   "cell_type": "code",
   "execution_count": 9,
   "metadata": {},
   "outputs": [
    {
     "data": {
      "text/plain": [
       "False"
      ]
     },
     "execution_count": 9,
     "metadata": {},
     "output_type": "execute_result"
    }
   ],
   "source": [
    "5 > 6"
   ]
  },
  {
   "cell_type": "code",
   "execution_count": 10,
   "metadata": {},
   "outputs": [
    {
     "data": {
      "text/plain": [
       "True"
      ]
     },
     "execution_count": 10,
     "metadata": {},
     "output_type": "execute_result"
    }
   ],
   "source": [
    "5 < 6"
   ]
  },
  {
   "cell_type": "code",
   "execution_count": 11,
   "metadata": {},
   "outputs": [
    {
     "data": {
      "text/plain": [
       "False"
      ]
     },
     "execution_count": 11,
     "metadata": {},
     "output_type": "execute_result"
    }
   ],
   "source": [
    "5 < 5"
   ]
  },
  {
   "cell_type": "code",
   "execution_count": 12,
   "metadata": {},
   "outputs": [
    {
     "data": {
      "text/plain": [
       "True"
      ]
     },
     "execution_count": 12,
     "metadata": {},
     "output_type": "execute_result"
    }
   ],
   "source": [
    "5 <= 5"
   ]
  },
  {
   "cell_type": "code",
   "execution_count": 13,
   "metadata": {},
   "outputs": [
    {
     "data": {
      "text/plain": [
       "True"
      ]
     },
     "execution_count": 13,
     "metadata": {},
     "output_type": "execute_result"
    }
   ],
   "source": [
    "5 >= 5"
   ]
  },
  {
   "cell_type": "code",
   "execution_count": 14,
   "metadata": {},
   "outputs": [
    {
     "data": {
      "text/plain": [
       "True"
      ]
     },
     "execution_count": 14,
     "metadata": {},
     "output_type": "execute_result"
    }
   ],
   "source": [
    "5 == 5"
   ]
  },
  {
   "cell_type": "code",
   "execution_count": 15,
   "metadata": {},
   "outputs": [
    {
     "ename": "SyntaxError",
     "evalue": "cannot assign to literal (Temp/ipykernel_18336/3114305227.py, line 1)",
     "output_type": "error",
     "traceback": [
      "\u001B[1;36m  File \u001B[1;32m\"C:\\Users\\simon\\AppData\\Local\\Temp/ipykernel_18336/3114305227.py\"\u001B[1;36m, line \u001B[1;32m1\u001B[0m\n\u001B[1;33m    5 = 5\u001B[0m\n\u001B[1;37m    ^\u001B[0m\n\u001B[1;31mSyntaxError\u001B[0m\u001B[1;31m:\u001B[0m cannot assign to literal\n"
     ]
    }
   ],
   "source": [
    "5 = 5"
   ]
  },
  {
   "cell_type": "code",
   "execution_count": null,
   "metadata": {},
   "outputs": [],
   "source": [
    "5 != 6"
   ]
  },
  {
   "cell_type": "code",
   "execution_count": null,
   "metadata": {},
   "outputs": [],
   "source": [
    "4 < 5 < 6"
   ]
  },
  {
   "cell_type": "markdown",
   "metadata": {},
   "source": [
    "## Confronto tra litterals"
   ]
  },
  {
   "cell_type": "code",
   "execution_count": null,
   "metadata": {},
   "outputs": [],
   "source": [
    "\"a\" == \"A\" "
   ]
  },
  {
   "cell_type": "code",
   "execution_count": null,
   "metadata": {},
   "outputs": [],
   "source": [
    "\"a\" > \"A\""
   ]
  },
  {
   "cell_type": "code",
   "execution_count": null,
   "metadata": {},
   "outputs": [],
   "source": [
    "\"albero\" > \"Cane\""
   ]
  },
  {
   "cell_type": "code",
   "execution_count": null,
   "metadata": {},
   "outputs": [],
   "source": [
    "\"cane\" > \"dado\""
   ]
  },
  {
   "cell_type": "code",
   "execution_count": null,
   "metadata": {},
   "outputs": [],
   "source": [
    "\"cane\" > \"ca\""
   ]
  },
  {
   "cell_type": "code",
   "execution_count": null,
   "metadata": {},
   "outputs": [],
   "source": [
    "\"57\" < \"6\""
   ]
  },
  {
   "cell_type": "code",
   "execution_count": null,
   "metadata": {},
   "outputs": [],
   "source": [
    "2**21"
   ]
  },
  {
   "cell_type": "code",
   "execution_count": null,
   "metadata": {},
   "outputs": [],
   "source": [
    "ർ = 45\n"
   ]
  },
  {
   "cell_type": "code",
   "execution_count": null,
   "metadata": {},
   "outputs": [],
   "source": [
    "ord(\"ർ\")"
   ]
  },
  {
   "cell_type": "code",
   "execution_count": null,
   "metadata": {},
   "outputs": [],
   "source": [
    "ord(\"2\")"
   ]
  },
  {
   "cell_type": "markdown",
   "metadata": {},
   "source": [
    "## Operatori Booleani"
   ]
  },
  {
   "cell_type": "markdown",
   "metadata": {},
   "source": [
    "* and --> Restituisce True se entrambi gli ingressi sono *True*\n",
    "    - True and True = True\n",
    "    - True and False = False\n",
    "    - False and True = False\n",
    "    - False and False = False\n",
    "* or --> Restituisce True se almeno uno degli ingressi e' *True*\n",
    "    - True or True = True\n",
    "    - True or False = True\n",
    "    - False or True = True\n",
    "    - False or False = False\n",
    "* not --> Restituisce True se l'ingresso e' False e vicersa\n",
    "    - not True = False\n",
    "    - not False = True\n",
    "\n"
   ]
  },
  {
   "cell_type": "code",
   "execution_count": null,
   "metadata": {},
   "outputs": [],
   "source": [
    "True and True"
   ]
  },
  {
   "cell_type": "code",
   "execution_count": null,
   "metadata": {},
   "outputs": [],
   "source": [
    "True and False"
   ]
  },
  {
   "cell_type": "code",
   "execution_count": null,
   "metadata": {},
   "outputs": [],
   "source": [
    "True or True"
   ]
  },
  {
   "cell_type": "code",
   "execution_count": null,
   "metadata": {},
   "outputs": [],
   "source": [
    "True or False"
   ]
  },
  {
   "cell_type": "code",
   "execution_count": null,
   "metadata": {},
   "outputs": [],
   "source": [
    "1 and 1"
   ]
  },
  {
   "cell_type": "code",
   "execution_count": null,
   "metadata": {},
   "outputs": [],
   "source": [
    "1 and 0"
   ]
  },
  {
   "cell_type": "code",
   "execution_count": null,
   "metadata": {},
   "outputs": [],
   "source": [
    "True == 1"
   ]
  },
  {
   "cell_type": "code",
   "execution_count": null,
   "metadata": {},
   "outputs": [],
   "source": [
    "(4 < 3) and 5 "
   ]
  },
  {
   "cell_type": "code",
   "execution_count": null,
   "metadata": {},
   "outputs": [],
   "source": [
    "not ( 4 < 3 )"
   ]
  },
  {
   "cell_type": "markdown",
   "metadata": {},
   "source": [
    "## Struttura *if*:\n",
    "\n",
    "if \\<condizione\\>: <br>\n",
    "\\<tab\\> *se vero*\n",
    "else:\n"
   ]
  },
  {
   "cell_type": "code",
   "execution_count": null,
   "metadata": {},
   "outputs": [],
   "source": [
    "a = 7\n",
    "\n",
    "if a==5:\n",
    "    print(\"a e' uguale a 5\")\n",
    "    print(\"lo stampo solo se a e' uguale a 5\")\n",
    "    \n",
    "print(\"Questa riga viene stampata sempre\")"
   ]
  },
  {
   "cell_type": "code",
   "execution_count": null,
   "metadata": {},
   "outputs": [],
   "source": [
    "\n",
    "if a==5:\n",
    "    print(\"a e' uguale a 5\")\n",
    "    print(\"lo stampo solo se a e' uguale a 5\")\n",
    "else:\n",
    "    print(\"a non e' uguale a 5, ma a =\", a)\n",
    "    \n",
    "print(\"Questa riga viene stampata sempre\")"
   ]
  },
  {
   "cell_type": "code",
   "execution_count": null,
   "metadata": {},
   "outputs": [],
   "source": [
    "run confrontoValori.py"
   ]
  },
  {
   "cell_type": "code",
   "execution_count": null,
   "metadata": {},
   "outputs": [],
   "source": [
    "if a > b:\n",
    "    print(\"a e' maggiore di b\")\n",
    "else:\n",
    "    if a == b:\n",
    "        print(\"a e' uguale a b\")\n",
    "    else:\n",
    "        if a < b:\n",
    "            print(\"a e' minore  a b\")\n",
    "        else:\n",
    "            if a == b:\n",
    "                print(\"a e' maggiore o uguale a b\")"
   ]
  },
  {
   "cell_type": "code",
   "execution_count": null,
   "metadata": {},
   "outputs": [],
   "source": [
    "if a > b:\n",
    "    print(\"a e' maggiore di b\")\n",
    "if a == b:\n",
    "    print(\"a e' uguale a b\")\n",
    "if a < b:\n",
    "    print(\"a e' minore  a b\")\n",
    "elif a == b:\n",
    "    print(\"a e' maggiore o uguale a b\")"
   ]
  },
  {
   "cell_type": "code",
   "execution_count": null,
   "metadata": {},
   "outputs": [],
   "source": [
    "# Scrivere uno scriptino che calcoli la media, il valore minimo e \n",
    "# il valore massimo, di tre valori di tipo float chiesti in input"
   ]
  },
  {
   "cell_type": "code",
   "execution_count": null,
   "metadata": {},
   "outputs": [],
   "source": [
    "min(3,4,6)"
   ]
  },
  {
   "cell_type": "code",
   "execution_count": null,
   "metadata": {},
   "outputs": [],
   "source": [
    "a = 123.45"
   ]
  },
  {
   "cell_type": "code",
   "execution_count": null,
   "metadata": {},
   "outputs": [],
   "source": [
    "print(f\"{a:.20f}\")"
   ]
  },
  {
   "cell_type": "code",
   "execution_count": null,
   "metadata": {},
   "outputs": [],
   "source": [
    "a = b = 7"
   ]
  },
  {
   "cell_type": "code",
   "execution_count": null,
   "metadata": {},
   "outputs": [],
   "source": [
    "a"
   ]
  },
  {
   "cell_type": "code",
   "execution_count": null,
   "metadata": {},
   "outputs": [],
   "source": [
    "b"
   ]
  },
  {
   "cell_type": "markdown",
   "metadata": {},
   "source": [
    "## Ciclo While: <br>\n",
    "Ciclo iterativo che viene svolto sintantoche' la condizione risulta verificata: <br>\n",
    "\n",
    "while \\<condizione\\>: <br>\n",
    "\\<tab\\> finche vero fai:\n",
    "    \n",
    "\n",
    "\n",
    "\n"
   ]
  },
  {
   "cell_type": "code",
   "execution_count": null,
   "metadata": {},
   "outputs": [],
   "source": [
    "# inizializzo la variabile di controllo\n",
    "x = 0\n",
    "\n",
    "# inizio il ciclo while\n",
    "while x < 10:\n",
    "    print(x)\n",
    "    # assegna a x il valore che ha x stesso piu' 1\n",
    "    # x = x + 1 \n",
    "    x += 1\n",
    "\n",
    "print(\"Fine ciclo\")\n",
    "    "
   ]
  },
  {
   "cell_type": "markdown",
   "metadata": {},
   "source": [
    "### continue e break"
   ]
  },
  {
   "cell_type": "code",
   "execution_count": null,
   "metadata": {},
   "outputs": [],
   "source": [
    "# inizializzo la variabile di controllo\n",
    "x = 0\n",
    "\n",
    "# inizio il ciclo while\n",
    "while x < 10:\n",
    "    if x == 5:\n",
    "        break\n",
    "    print(x)\n",
    "    # assegna a x il valore che ha x stesso piu' 1\n",
    "    # x = x + 1 \n",
    "    x += 1\n",
    "    \n",
    "print(\"Fine ciclo\")"
   ]
  },
  {
   "cell_type": "code",
   "execution_count": null,
   "metadata": {},
   "outputs": [],
   "source": [
    "# inizializzo la variabile di controllo\n",
    "x = 0\n",
    "\n",
    "# inizio il ciclo while\n",
    "while x < 10:\n",
    "    if x == 5:\n",
    "        x = 7\n",
    "        continue\n",
    "    print(x)\n",
    "    # assegna a x il valore che ha x stesso piu' 1\n",
    "    # x = x + 1 \n",
    "    x += 1\n",
    "    \n",
    "print(\"Fine ciclo\")"
   ]
  },
  {
   "cell_type": "markdown",
   "metadata": {},
   "source": [
    "## Ciclo *for*"
   ]
  },
  {
   "cell_type": "code",
   "execution_count": null,
   "metadata": {},
   "outputs": [],
   "source": [
    "for j in [1,2,3,4,5]:\n",
    "    print(j)"
   ]
  },
  {
   "cell_type": "code",
   "execution_count": null,
   "metadata": {},
   "outputs": [],
   "source": [
    "for j in [1,\"2\",3.2134,\"casa\",ord(\"3\"), x+3]:\n",
    "    print(j)"
   ]
  },
  {
   "cell_type": "code",
   "execution_count": null,
   "metadata": {},
   "outputs": [],
   "source": [
    "for j in range(5):\n",
    "    print(j, end=\"\\t\")"
   ]
  },
  {
   "cell_type": "code",
   "execution_count": null,
   "metadata": {},
   "outputs": [],
   "source": [
    "for j in range(5, 10):\n",
    "    print(j)"
   ]
  },
  {
   "cell_type": "code",
   "execution_count": null,
   "metadata": {},
   "outputs": [],
   "source": [
    "for j in range(1,10):\n",
    "    if j == 3:\n",
    "        break\n",
    "    print(j)"
   ]
  },
  {
   "cell_type": "code",
   "execution_count": null,
   "metadata": {},
   "outputs": [],
   "source": [
    "for j in range(1,10):\n",
    "    if j == 3:\n",
    "        continue\n",
    "    print(j)"
   ]
  },
  {
   "cell_type": "markdown",
   "metadata": {},
   "source": [
    "### Esercizio:\n",
    "Costriuire la tavola pitagorica da 1 a 10\n",
    "\n",
    "* Costruire la tabellina del 2 e stamparla su una riga ocn separatore: \\t"
   ]
  },
  {
   "cell_type": "code",
   "execution_count": null,
   "metadata": {},
   "outputs": [],
   "source": [
    "print(1,2,3, sep=\"\")\n",
    "print(4)"
   ]
  },
  {
   "cell_type": "code",
   "execution_count": null,
   "metadata": {},
   "outputs": [],
   "source": [
    "for k in range(1, 14):\n",
    "    for j in range(1, 14):\n",
    "        print(f\"{j * k:.1f}\", end = \"\\t\")\n",
    "#     if j * k == 100:\n",
    "#         break\n",
    "    print(\"\")"
   ]
  },
  {
   "cell_type": "markdown",
   "metadata": {},
   "source": [
    "### Formatted Strings"
   ]
  },
  {
   "cell_type": "code",
   "execution_count": null,
   "metadata": {},
   "outputs": [],
   "source": [
    "print(\"j = \", j,\",k = \", k)"
   ]
  },
  {
   "cell_type": "code",
   "execution_count": null,
   "metadata": {},
   "outputs": [],
   "source": [
    "print(f\"j = {j}, k = {k**2}\")"
   ]
  },
  {
   "cell_type": "code",
   "execution_count": null,
   "metadata": {},
   "outputs": [],
   "source": [
    "print(f\"j = {(j*k):.4f}\")"
   ]
  },
  {
   "cell_type": "code",
   "execution_count": null,
   "metadata": {},
   "outputs": [],
   "source": []
  },
  {
   "cell_type": "code",
   "execution_count": null,
   "metadata": {},
   "outputs": [],
   "source": []
  },
  {
   "cell_type": "code",
   "execution_count": null,
   "metadata": {},
   "outputs": [],
   "source": []
  }
 ],
 "metadata": {
  "kernelspec": {
   "display_name": "Python 3 (ipykernel)",
   "language": "python",
   "name": "python3"
  },
  "language_info": {
   "codemirror_mode": {
    "name": "ipython",
    "version": 3
   },
   "file_extension": ".py",
   "mimetype": "text/x-python",
   "name": "python",
   "nbconvert_exporter": "python",
   "pygments_lexer": "ipython3",
   "version": "3.8.12"
  },
  "toc": {
   "base_numbering": 1,
   "nav_menu": {},
   "number_sections": true,
   "sideBar": true,
   "skip_h1_title": false,
   "title_cell": "Table of Contents",
   "title_sidebar": "Contents",
   "toc_cell": true,
   "toc_position": {},
   "toc_section_display": true,
   "toc_window_display": true
  },
  "varInspector": {
   "cols": {
    "lenName": 16,
    "lenType": 16,
    "lenVar": 40
   },
   "kernels_config": {
    "python": {
     "delete_cmd_postfix": "",
     "delete_cmd_prefix": "del ",
     "library": "var_list.py",
     "varRefreshCmd": "print(var_dic_list())"
    },
    "r": {
     "delete_cmd_postfix": ") ",
     "delete_cmd_prefix": "rm(",
     "library": "var_list.r",
     "varRefreshCmd": "cat(var_dic_list()) "
    }
   },
   "types_to_exclude": [
    "module",
    "function",
    "builtin_function_or_method",
    "instance",
    "_Feature"
   ],
   "window_display": false
  }
 },
 "nbformat": 4,
 "nbformat_minor": 4
}