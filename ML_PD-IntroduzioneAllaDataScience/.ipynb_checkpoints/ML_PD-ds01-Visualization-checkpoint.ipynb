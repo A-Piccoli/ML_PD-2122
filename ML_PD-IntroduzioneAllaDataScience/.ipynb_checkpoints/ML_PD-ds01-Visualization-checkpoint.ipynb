{
 "cells": [
  {
   "cell_type": "markdown",
   "id": "72f9b9e2",
   "metadata": {},
   "source": [
    "Vogliamo visualizzare su un istogramma il numero di volte che un dado casca su ciascuna faccia.\n"
   ]
  },
  {
   "cell_type": "code",
   "execution_count": null,
   "id": "25b51394",
   "metadata": {
    "scrolled": true
   },
   "outputs": [],
   "source": [
    "# Da eseguire solo se necessara istallazione della libreria\n",
    "# !pip install matplotlib\n",
    "# !pip install numpy\n",
    "!pip install seaborn"
   ]
  },
  {
   "cell_type": "code",
   "execution_count": 1,
   "id": "beab4585",
   "metadata": {},
   "outputs": [],
   "source": [
    "import matplotlib.pyplot as plt\n",
    "import numpy as np\n",
    "import random\n",
    "import seaborn as sns\n",
    "import collections"
   ]
  },
  {
   "cell_type": "code",
   "execution_count": 2,
   "id": "a11dee32",
   "metadata": {},
   "outputs": [],
   "source": [
    "# Tiriamo un dado 600 volte e salviamo i risultati in una lista\n",
    "\n",
    "tiri = [random.randrange(1,7) for j in range(60000)]"
   ]
  },
  {
   "cell_type": "code",
   "execution_count": 3,
   "id": "d17e7c7c",
   "metadata": {},
   "outputs": [
    {
     "name": "stdout",
     "output_type": "stream",
     "text": [
      "60000\n"
     ]
    }
   ],
   "source": [
    "print(len(tiri))"
   ]
  },
  {
   "cell_type": "code",
   "execution_count": null,
   "id": "9dc09042",
   "metadata": {},
   "outputs": [],
   "source": [
    "%%time\n",
    "\n",
    "collections.Counter(tiri)"
   ]
  },
  {
   "cell_type": "code",
   "execution_count": 4,
   "id": "5541267e",
   "metadata": {},
   "outputs": [
    {
     "name": "stdout",
     "output_type": "stream",
     "text": [
      "Wall time: 4.95 ms\n"
     ]
    }
   ],
   "source": [
    "%%time\n",
    "# piu' efficiente e veloce se usiamo numpy\n",
    "valori, frequenza = np.unique(tiri, return_counts=True)"
   ]
  },
  {
   "cell_type": "code",
   "execution_count": null,
   "id": "6dd03473",
   "metadata": {},
   "outputs": [],
   "source": [
    "valori"
   ]
  },
  {
   "cell_type": "code",
   "execution_count": null,
   "id": "4f0c85a2",
   "metadata": {},
   "outputs": [],
   "source": [
    "frequenza"
   ]
  },
  {
   "cell_type": "code",
   "execution_count": 5,
   "id": "f0ac7ffd",
   "metadata": {
    "scrolled": true
   },
   "outputs": [
    {
     "data": {
      "image/png": "[encoded data removed]",
      "text/plain": [
       "<Figure size 432x288 with 1 Axes>"
      ]
     },
     "metadata": {},
     "output_type": "display_data"
    }
   ],
   "source": [
    "# imposto lo stile con sfondo grgietto\n",
    "sns.set_style(\"darkgrid\")\n",
    "\n",
    "# scrivo la stringa che contiene il titolo\n",
    "title = f\"Diagramma delle frequenze di {len(tiri)} tiri di dado\"\n",
    "# creo l'oggetto axes, il digramma vero e proprio\n",
    "axes = sns.barplot(x=valori, y=frequenza)\n",
    "\n",
    "# metto su axes il titolo\n",
    "axes.set_title(title, fontsize = 14)\n",
    "\n",
    "# metto le etichette sull'asse x e sull'asse y\n",
    "axes.set(xlabel = \"Valore\", ylabel = \"Frequenza\" )\n",
    "\n",
    "# alzo il limite massimo sull'asse y\n",
    "axes.set_ylim(top = max(frequenza) * 1.15)\n",
    "\n",
    "\n",
    "\n",
    "# per ciascun rettangolo nel diagramma:\n",
    "for bar, frequenza_bar in  zip(axes.patches, frequenza):\n",
    "    # recupera la posizione del rettangolo\n",
    "    x_text = bar.get_x() + bar.get_width()/2 \n",
    "    # bar.get_x( e' il punto in basso a sinistra del diagramma)\n",
    "    # a cui sommo mezza larghezza della barra\n",
    "    y_text = bar.get_y() + bar.get_height()\n",
    "    text = f\"{bar.get_height():.0f}\\n{100*bar.get_height()/len(tiri):.2f} %\"\n",
    "    axes.text(x_text, y_text, text,\n",
    "             ha = \"center\", # allinea il testo al centro orizzontalmente\n",
    "             va = \"bottom\", # allinea il testo in basso verticalmente\n",
    "             fontsize = 12  # imposto le dimensioni del carattere del text\n",
    "             )\n",
    "\n",
    "plt.show()"
   ]
  },
  {
   "cell_type": "code",
   "execution_count": 7,
   "id": "cd76f09e",
   "metadata": {},
   "outputs": [
    {
     "name": "stdout",
     "output_type": "stream",
     "text": [
      "The following commands were written to file `diagramma.py`:\n",
      "import matplotlib.pyplot as plt\n",
      "import numpy as np\n",
      "import random\n",
      "import seaborn as sns\n",
      "import collections\n",
      "# imposto lo stile con sfondo grgietto\n",
      "sns.set_style(\"darkgrid\")\n",
      "\n",
      "# scrivo la stringa che contiene il titolo\n",
      "title = f\"Diagramma delle frequenze di {len(tiri)} tiri di dado\"\n",
      "# creo l'oggetto axes, il digramma vero e proprio\n",
      "axes = sns.barplot(x=valori, y=frequenza)\n",
      "\n",
      "# metto su axes il titolo\n",
      "axes.set_title(title, fontsize = 14)\n",
      "\n",
      "# metto le etichette sull'asse x e sull'asse y\n",
      "axes.set(xlabel = \"Valore\", ylabel = \"Frequenza\" )\n",
      "\n",
      "# alzo il limite massimo sull'asse y\n",
      "axes.set_ylim(top = max(frequenza) * 1.15)\n",
      "\n",
      "\n",
      "\n",
      "# per ciascun rettangolo nel diagramma:\n",
      "for bar, frequenza_bar in  zip(axes.patches, frequenza):\n",
      "    # recupera la posizione del rettangolo\n",
      "    x_text = bar.get_x() + bar.get_width()/2 \n",
      "    # bar.get_x( e' il punto in basso a sinistra del diagramma)\n",
      "    # a cui sommo mezza larghezza della barra\n",
      "    y_text = bar.get_y() + bar.get_height()\n",
      "    text = f\"{bar.get_height():.0f}\\n{100*bar.get_height()/len(tiri):.2f} %\"\n",
      "    axes.text(x_text, y_text, text,\n",
      "             ha = \"center\", # allinea il testo al centro orizzontalmente\n",
      "             va = \"bottom\", # allinea il testo in basso verticalmente\n",
      "             fontsize = 12  # imposto le dimensioni del carattere del text\n",
      "             )\n",
      "\n",
      "plt.show()\n"
     ]
    }
   ],
   "source": [
    "# Salvo con un magic command di IPython (Jupyter) le celle dalla 1 alla 5 nel file diagramma.py\n",
    "%save diagramma.py 1 5"
   ]
  },
  {
   "cell_type": "code",
   "execution_count": null,
   "id": "dc4057e5",
   "metadata": {},
   "outputs": [],
   "source": []
  },
  {
   "cell_type": "code",
   "execution_count": null,
   "id": "1ab5b90f",
   "metadata": {},
   "outputs": [],
   "source": []
  },
  {
   "cell_type": "code",
   "execution_count": null,
   "id": "c3d27b1f",
   "metadata": {},
   "outputs": [],
   "source": []
  },
  {
   "cell_type": "code",
   "execution_count": null,
   "id": "738fa85c",
   "metadata": {},
   "outputs": [],
   "source": []
  },
  {
   "cell_type": "code",
   "execution_count": null,
   "id": "d335606f",
   "metadata": {},
   "outputs": [],
   "source": []
  },
  {
   "cell_type": "code",
   "execution_count": null,
   "id": "a208bcb3",
   "metadata": {},
   "outputs": [],
   "source": []
  }
 ],
 "metadata": {
  "kernelspec": {
   "display_name": "Python 3 (ipykernel)",
   "language": "python",
   "name": "python3"
  },
  "language_info": {
   "codemirror_mode": {
    "name": "ipython",
    "version": 3
   },
   "file_extension": ".py",
   "mimetype": "text/x-python",
   "name": "python",
   "nbconvert_exporter": "python",
   "pygments_lexer": "ipython3",
   "version": "3.8.12"
  },
  "toc": {
   "base_numbering": 1,
   "nav_menu": {},
   "number_sections": true,
   "sideBar": true,
   "skip_h1_title": false,
   "title_cell": "Table of Contents",
   "title_sidebar": "Contents",
   "toc_cell": false,
   "toc_position": {},
   "toc_section_display": true,
   "toc_window_display": false
  },
  "varInspector": {
   "cols": {
    "lenName": 16,
    "lenType": 16,
    "lenVar": 40
   },
   "kernels_config": {
    "python": {
     "delete_cmd_postfix": "",
     "delete_cmd_prefix": "del ",
     "library": "var_list.py",
     "varRefreshCmd": "print(var_dic_list())"
    },
    "r": {
     "delete_cmd_postfix": ") ",
     "delete_cmd_prefix": "rm(",
     "library": "var_list.r",
     "varRefreshCmd": "cat(var_dic_list()) "
    }
   },
   "types_to_exclude": [
    "module",
    "function",
    "builtin_function_or_method",
    "instance",
    "_Feature"
   ],
   "window_display": false
  }
 },
 "nbformat": 4,
 "nbformat_minor": 5
}
