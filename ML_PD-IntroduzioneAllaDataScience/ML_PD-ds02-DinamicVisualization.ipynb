{
 "cells": [
  {
   "cell_type": "markdown",
   "id": "211cdb1f",
   "metadata": {
    "toc": true
   },
   "source": [
    "<h1>Table of Contents<span class=\"tocSkip\"></span></h1>\n",
    "<div class=\"toc\"><ul class=\"toc-item\"><li><span><a href=\"#Libreirie\" data-toc-modified-id=\"Libreirie-1\"><span class=\"toc-item-num\">1&nbsp;&nbsp;</span>Libreirie</a></span></li><li><span><a href=\"#Tiri-di-dado\" data-toc-modified-id=\"Tiri-di-dado-2\"><span class=\"toc-item-num\">2&nbsp;&nbsp;</span>Tiri di dado</a></span></li><li><span><a href=\"#Frequenze\" data-toc-modified-id=\"Frequenze-3\"><span class=\"toc-item-num\">3&nbsp;&nbsp;</span>Frequenze</a></span></li><li><span><a href=\"#Istogramma\" data-toc-modified-id=\"Istogramma-4\"><span class=\"toc-item-num\">4&nbsp;&nbsp;</span>Istogramma</a></span></li></ul></div>"
   ]
  },
  {
   "cell_type": "markdown",
   "id": "72f9b9e2",
   "metadata": {},
   "source": [
    "# Realizzazione di un istogramma\n",
    "Vogliamo visualizzare su un istogramma il numero di volte che un dado casca su ciascuna faccia.\n"
   ]
  },
  {
   "cell_type": "code",
   "execution_count": 1,
   "id": "25b51394",
   "metadata": {
    "pycharm": {
     "name": "#%%\n"
    },
    "scrolled": true
   },
   "outputs": [],
   "source": [
    "# Da eseguire solo se necessara istallazione della libreria, in generale alla prima esecuzione\n",
    "# Il punto esclamativo sulle celle di IPython (Jupyter Nb) esegue un comando sul Terminale\n",
    "\n",
    "# !pip install matplotlib\n",
    "# !pip install numpy\n",
    "# !pip install seaborn"
   ]
  },
  {
   "cell_type": "markdown",
   "id": "beab4585",
   "metadata": {
    "pycharm": {
     "name": "#%% md\n"
    }
   },
   "source": [
    "## Libreirie"
   ]
  },
  {
   "cell_type": "code",
   "execution_count": 6,
   "id": "963cb430",
   "metadata": {
    "pycharm": {
     "name": "#%%\n"
    }
   },
   "outputs": [],
   "source": [
    "# Le librerie standard di python che ci serviranno in questo progetto:\n",
    "import random\n",
    "import collections\n",
    "\n",
    "# Le librerie dei framework specifici:\n",
    "import matplotlib.pyplot as plt # Motore grafico di python per realizzare diagrammi e fuznoni\n",
    "import numpy as np # Libreria che gestisce ad altissima efficienza gli array\n",
    "import seaborn as sns # Libreria che usa il motore grafico di MatplotLib con funzionalita' grafiche avanzate\n",
    "\n",
    "# Aggiungiamo alle precedenti uan libreria di visualizzazione dinamica:\n",
    "from matplotlib import animation\n",
    "\n"
   ]
  },
  {
   "cell_type": "markdown",
   "id": "a11dee32",
   "metadata": {
    "pycharm": {
     "name": "#%% md\n"
    }
   },
   "source": [
    "## Funzione `update()`"
   ]
  },
  {
   "cell_type": "code",
   "execution_count": 7,
   "id": "43ee8f22",
   "metadata": {
    "pycharm": {
     "name": "#%%\n"
    }
   },
   "outputs": [],
   "source": [
    "# scriviamo una funzione \"update\"\n",
    "\n",
    "def update(frame_number, rolls, faces, frequencies):\n",
    "    \"\"\"\n",
    "    Configura ciascuna bar per ciascun frame dell'animazione\n",
    "\n",
    "    frame_number: parametro che richiama il numero del frame da usare in FuncAnimation. E' un paramentro richiesto ma non utilizzato in  update\n",
    "    rolls: numero di lanci di dado per ogni frame dell'animazione\n",
    "    faces: i valori delle facce del dado che verranno utilizzati per rappresentare sull'asse X\n",
    "    frequencies: la lista nella quale riepiloghiamo le frequenza del dado\n",
    "\n",
    "    \"\"\"\n",
    "    # Lancio il dado e aggiorno le frequenze:\n",
    "    for i in range(rolls):\n",
    "        frequencies[random.randrange(1,7) - 1] += 1\n",
    "\n",
    "    plt.cla() # cancella il grafico attuale\n",
    "    axes = sns.barplot(faces, frequencies, palette=\"bright\")\n",
    "\n"
   ]
  },
  {
   "cell_type": "code",
   "execution_count": 10,
   "id": "a3fca551",
   "metadata": {
    "pycharm": {
     "name": "#%%\n"
    }
   },
   "outputs": [
    {
     "data": {
      "text/plain": [
       "<Figure size 432x288 with 0 Axes>"
      ]
     },
     "metadata": {},
     "output_type": "display_data"
    }
   ],
   "source": [
    "number_of_frames = 600\n",
    "rolls_per_frame = 10\n",
    "sns.set_style(\"whitegrid\")\n",
    "figure = plt.figure(\"Rolling\")\n",
    "values = list(range(1,7))\n",
    "frequencies = [0] * 6"
   ]
  },
  {
   "cell_type": "code",
   "execution_count": 12,
   "id": "d17e7c7c",
   "metadata": {},
   "outputs": [],
   "source": [
    "die_animation = animation.FuncAnimation(\n",
    "    figure, update, repeat=False, frames = number_of_frames, interval= 33,\n",
    "                                        fargs=(rolls_per_frame, values, frequencies))\n",
    "plt.show()"
   ]
  },
  {
   "cell_type": "markdown",
   "id": "9dc09042",
   "metadata": {
    "pycharm": {
     "name": "#%% md\n"
    }
   },
   "source": [
    "## Frequenze\n",
    "Per generare le frequenze con cui appaiono i singoli valori:\n",
    "possimao usare due strade:\n",
    "* Utiliziamo il metodo Counter della libreria collections: <br>\n",
    "restituisce un dizionario con \"tiro di dado\" e \"frequeza\" come \"chiave\" e \"valore\":\n",
    "> `collections.Counter(lista)`<br>\n",
    "\n",
    "* Utiliziamo la funzione unique della libreria Numpy,costruita per cercare i valori unici di un iterabile\n",
    "con il parametro \"return_counts = True\" restituisce anche le occorrenze di ciascun valore\n",
    "Restituisce due liste rispettivamente con l'elenco degli elementi unici ordinati e il numero di occorrenze per ciascuno\n",
    "di essi\n",
    "> `np.unique(lista, retunr_counts = True)`"
   ]
  },
  {
   "cell_type": "code",
   "execution_count": 14,
   "id": "3a1934b4",
   "metadata": {
    "pycharm": {
     "name": "#%%\n"
    }
   },
   "outputs": [
    {
     "data": {
      "text/plain": [
       "<matplotlib.animation.FuncAnimation at 0x1c098afc460>"
      ]
     },
     "execution_count": 14,
     "metadata": {},
     "output_type": "execute_result"
    },
    {
     "data": {
      "image/png": "[encoded data removed]",
      "text/plain": [
       "<Figure size 432x288 with 1 Axes>"
      ]
     },
     "metadata": {},
     "output_type": "display_data"
    }
   ],
   "source": [
    "def basic_animation(frames=100, interval=30):\n",
    "    \"\"\"Plot a basic sine wave with oscillating amplitude\"\"\"\n",
    "    fig = plt.figure()\n",
    "    ax = plt.axes(xlim=(0, 10), ylim=(-2, 2))\n",
    "    line, = ax.plot([], [], lw=2)\n",
    "\n",
    "    x = np.linspace(0, 10, 1000)\n",
    "\n",
    "    def init():\n",
    "        line.set_data([], [])\n",
    "        return line,\n",
    "\n",
    "    def animate(i):\n",
    "        y = np.cos(i * 0.02 * np.pi) * np.sin(x - i * 0.02 * np.pi)\n",
    "        line.set_data(x, y)\n",
    "        return line,\n",
    "\n",
    "    return animation.FuncAnimation(fig, animate, init_func=init,\n",
    "                                   frames=frames, interval=interval) \n",
    "basic_animation()"
   ]
  },
  {
   "cell_type": "code",
   "execution_count": 20,
   "id": "79de3ff0",
   "metadata": {
    "pycharm": {
     "name": "#%%\n"
    }
   },
   "outputs": [
    {
     "data": {
      "image/png": "[encoded data removed]",
      "text/plain": [
       "<Figure size 432x288 with 1 Axes>"
      ]
     },
     "metadata": {},
     "output_type": "display_data"
    }
   ],
   "source": [
    "import numpy as np\n",
    "import matplotlib.pyplot as plt\n",
    "import matplotlib.animation as animation\n",
    "\n",
    "fig = plt.figure()\n",
    "ax = fig.add_subplot(111)\n",
    "\n",
    "x = np.arange(0, 2 * np.pi, 0.01)\n",
    "line, = ax.plot(x, np.sin(x))\n",
    "\n",
    "\n",
    "def animate(i):\n",
    "    line.set_ydata(np.sin(x + i / 10))\n",
    "    return line,\n",
    "# note: no anim=animation.FuncAnimation(...) assignment\n",
    "anim  = animation.FuncAnimation(fig, animate)\n",
    "plt.show()"
   ]
  },
  {
   "cell_type": "code",
   "execution_count": 7,
   "id": "5541267e",
   "metadata": {},
   "outputs": [
    {
     "name": "stdout",
     "output_type": "stream",
     "text": [
      "Wall time: 0 ns\n"
     ]
    }
   ],
   "source": [
    "%%time\n",
    "\n",
    "valori, frequenza = np.unique(tiri, return_counts=True)"
   ]
  },
  {
   "cell_type": "markdown",
   "id": "6dd03473",
   "metadata": {
    "pycharm": {
     "name": "#%% md\n"
    }
   },
   "source": [
    "Osserviamo che nonostante le aspettative fossero diverse, la funzione Counter e' piu'\n",
    "veloce, probabilmente perche' non esegue l'ordinamento dei valori.<br>\n",
    "Ovviamente i risultato sono identici:"
   ]
  },
  {
   "cell_type": "code",
   "execution_count": 8,
   "id": "2093fca7",
   "metadata": {
    "pycharm": {
     "name": "#%%\n"
    }
   },
   "outputs": [
    {
     "name": "stdout",
     "output_type": "stream",
     "text": [
      "Da np.unique otteniamo:\n",
      "Il numero 1 e' uscito 115 volte\n",
      "Il numero 2 e' uscito 89 volte\n",
      "Il numero 3 e' uscito 96 volte\n",
      "Il numero 4 e' uscito 95 volte\n",
      "Il numero 5 e' uscito 110 volte\n",
      "Il numero 6 e' uscito 95 volte\n"
     ]
    }
   ],
   "source": [
    "# Diamo un'occhiata ai risultati:\n",
    "print(\"Da np.unique otteniamo:\")\n",
    "for val, freq in zip(valori, frequenza):\n",
    "    print(f\"Il numero {val} e' uscito {freq} volte\")"
   ]
  },
  {
   "cell_type": "markdown",
   "id": "f0ac7ffd",
   "metadata": {
    "pycharm": {
     "name": "#%% md\n"
    },
    "scrolled": true
   },
   "source": [
    "## Istogramma\n",
    "Per la visualizzazione dell'istogramma utilizzeremo la libreria Seaborn, costruita a partire da\n",
    "MatplotLib."
   ]
  },
  {
   "cell_type": "code",
   "execution_count": 9,
   "id": "d5f1177e",
   "metadata": {
    "pycharm": {
     "name": "#%%\n"
    }
   },
   "outputs": [
    {
     "data": {
      "image/png": "[encoded data removed]",
      "text/plain": [
       "<Figure size 432x288 with 1 Axes>"
      ]
     },
     "metadata": {},
     "output_type": "display_data"
    }
   ],
   "source": [
    "# imposto lo stile con sfondo grgietto\n",
    "sns.set_style(\"darkgrid\")\n",
    "\n",
    "# scrivo la stringa che contiene il titolo\n",
    "title = f\"Diagramma delle frequenze di {len(tiri)} tiri di dado\"\n",
    "# creo l'oggetto axes, il digramma vero e proprio\n",
    "axes = sns.barplot(x=valori, y=frequenza)\n",
    "\n",
    "# metto su axes il titolo\n",
    "axes.set_title(title, fontsize = 14)\n",
    "\n",
    "# metto le etichette sull'asse x e sull'asse y\n",
    "axes.set(xlabel = \"Valore\", ylabel = \"Frequenza\" )\n",
    "\n",
    "# alzo il limite massimo sull'asse y per farci stare alcune informazioni sulla\n",
    "axes.set_ylim(top = max(frequenza) * 1.15)\n",
    "\n",
    "# per ciascun rettangolo (axes.patches) e ciascuna frequenza ad esso associata (frequenza_bar) nel diagramma (axes):\n",
    "for bar, frequenza_bar in  zip(axes.patches, frequenza):\n",
    "    # recupera la posizione x del centro del rettangolo\n",
    "    x_text = bar.get_x() + bar.get_width()/2\n",
    "    # bar.get_x() e' il punto in basso a sinistra del diagramma\n",
    "    # a cui sommo mezza larghezza della barra\n",
    "    # recupero la posizione y del testo, ovvero sopra alla barra:\n",
    "    y_text = bar.get_y() + bar.get_height()\n",
    "    # bar.get_y() e' il punto piu' basso del rettangolo, a cui sommo l'altezza del rettangolo stesso \"bar.get_height()\"\n",
    "\n",
    "    # Il testo da scrivere sopra a ciascuna barra e' il numero di occorrenza (che ricavvo da \"get_height\")\n",
    "    # e la percentuale (che ricavo, dal get_height, diviso per il numero dei tiri, in percentuale:\n",
    "    text = f\"{bar.get_height():.0f}\\n{100*bar.get_height()/len(tiri):.2f} %\"\n",
    "\n",
    "    # Stampa sul diagramma il testo (axes.text(...))\n",
    "    axes.text(x_text, y_text, text,\n",
    "             ha = \"center\", # allinea il testo al centro orizzontalmente\n",
    "             va = \"bottom\", # allinea il testo in basso verticalmente\n",
    "             fontsize = 12  # imposto le dimensioni del carattere del text\n",
    "             )\n",
    "\n",
    "# mostra il diaramma a video (necessario su configurazioni non IPython)\n",
    "plt.show()"
   ]
  },
  {
   "cell_type": "code",
   "execution_count": 10,
   "id": "cd76f09e",
   "metadata": {
    "pycharm": {
     "name": "#%%\n"
    }
   },
   "outputs": [
    {
     "name": "stdout",
     "output_type": "stream",
     "text": [
      "The following commands were written to file `diagramma.py`:\n",
      "# Da eseguire solo se necessara istallazione della libreria, in generale alla prima esecuzione\n",
      "# Il punto esclamativo sulle celle di IPython (Jupyter Nb) esegue un comando sul Terminale\n",
      "\n",
      "# !pip install matplotlib\n",
      "# !pip install numpy\n",
      "# !pip install seaborn\n",
      "# Le librerie standard di python che ci serviranno in questo progetto:\n",
      "import random\n",
      "import collections\n",
      "\n",
      "# Le librerie dei framework specifici:\n",
      "import matplotlib.pyplot as plt # Motore grafico di python per realizzare diagrammi e fuznoni\n",
      "import numpy as np # Libreria che gestisce ad altissima efficienza gli array\n",
      "import seaborn as sns # Libreria che usa il motore grafico di MatplotLib con funzionalita' grafiche avanzate\n",
      "# Tiriamo un dado \"n\" volte e salviamo i risultati in una lista\n",
      "\n",
      "n_tiri = 600\n",
      "# Usiamo la list_comprehension per costruire una lista\n",
      "# di numeri casuali lunga n_tiri:\n",
      "# tiri = [genera un numero casuale per j che va da 0 al numero di tiri]\n",
      "tiri = [random.randrange(1,7) for j in range(n_tiri)]\n",
      "# Vediamo cosa e' venuto fuori\n",
      "print(f\"Abbiamo una lista con {len(tiri)} elementi\")\n",
      "# Stampiamo anche i primi 10 elemneti:\n",
      "print(f\"I primi elementi di 'tiri' sono: {tiri[:10]}\")\n",
      "get_ipython().run_cell_magic('time', '', '\\nfrequenze = collections.Counter(tiri)\\n')\n",
      "# Diamo un'occhiata ai risultati:\n",
      "print(\"Da Counter di collection otteniamo:\")\n",
      "for val, freq in frequenze.items():\n",
      "    print(f\"Il numero {val} e' uscito {freq} volte\")\n",
      "get_ipython().run_cell_magic('time', '', '\\nvalori, frequenza = np.unique(tiri, return_counts=True)\\n')\n",
      "# Diamo un'occhiata ai risultati:\n",
      "print(\"Da np.unique otteniamo:\")\n",
      "for val, freq in zip(valori, frequenza):\n",
      "    print(f\"Il numero {val} e' uscito {freq} volte\")\n",
      "# imposto lo stile con sfondo grgietto\n",
      "sns.set_style(\"darkgrid\")\n",
      "\n",
      "# scrivo la stringa che contiene il titolo\n",
      "title = f\"Diagramma delle frequenze di {len(tiri)} tiri di dado\"\n",
      "# creo l'oggetto axes, il digramma vero e proprio\n",
      "axes = sns.barplot(x=valori, y=frequenza)\n",
      "\n",
      "# metto su axes il titolo\n",
      "axes.set_title(title, fontsize = 14)\n",
      "\n",
      "# metto le etichette sull'asse x e sull'asse y\n",
      "axes.set(xlabel = \"Valore\", ylabel = \"Frequenza\" )\n",
      "\n",
      "# alzo il limite massimo sull'asse y per farci stare alcune informazioni sulla\n",
      "axes.set_ylim(top = max(frequenza) * 1.15)\n",
      "\n",
      "# per ciascun rettangolo (axes.patches) e ciascuna frequenza ad esso associata (frequenza_bar) nel diagramma (axes):\n",
      "for bar, frequenza_bar in  zip(axes.patches, frequenza):\n",
      "    # recupera la posizione x del centro del rettangolo\n",
      "    x_text = bar.get_x() + bar.get_width()/2\n",
      "    # bar.get_x() e' il punto in basso a sinistra del diagramma\n",
      "    # a cui sommo mezza larghezza della barra\n",
      "    # recupero la posizione y del testo, ovvero sopra alla barra:\n",
      "    y_text = bar.get_y() + bar.get_height()\n",
      "    # bar.get_y() e' il punto piu' basso del rettangolo, a cui sommo l'altezza del rettangolo stesso \"bar.get_height()\"\n",
      "\n",
      "    # Il testo da scrivere sopra a ciascuna barra e' il numero di occorrenza (che ricavvo da \"get_height\")\n",
      "    # e la percentuale (che ricavo, dal get_height, diviso per il numero dei tiri, in percentuale:\n",
      "    text = f\"{bar.get_height():.0f}\\n{100*bar.get_height()/len(tiri):.2f} %\"\n",
      "\n",
      "    # Stampa sul diagramma il testo (axes.text(...))\n",
      "    axes.text(x_text, y_text, text,\n",
      "             ha = \"center\", # allinea il testo al centro orizzontalmente\n",
      "             va = \"bottom\", # allinea il testo in basso verticalmente\n",
      "             fontsize = 12  # imposto le dimensioni del carattere del text\n",
      "             )\n",
      "\n",
      "# mostra il diaramma a video (necessario su configurazioni non IPython)\n",
      "plt.show()\n"
     ]
    }
   ],
   "source": [
    "# Salvo con un magic command di IPython (Jupyter) le celle dalla 1 alla 5 nel file diagramma.py\n",
    "\n",
    "%save diagramma.py 1-9"
   ]
  },
  {
   "cell_type": "code",
   "execution_count": null,
   "id": "e58a83fe",
   "metadata": {
    "pycharm": {
     "name": "#%%\n"
    }
   },
   "outputs": [],
   "source": []
  }
 ],
 "metadata": {
  "kernelspec": {
   "display_name": "Python 3 (ipykernel)",
   "language": "python",
   "name": "python3"
  },
  "language_info": {
   "codemirror_mode": {
    "name": "ipython",
    "version": 3
   },
   "file_extension": ".py",
   "mimetype": "text/x-python",
   "name": "python",
   "nbconvert_exporter": "python",
   "pygments_lexer": "ipython3",
   "version": "3.8.6"
  },
  "toc": {
   "base_numbering": 1,
   "nav_menu": {},
   "number_sections": true,
   "sideBar": true,
   "skip_h1_title": true,
   "title_cell": "Table of Contents",
   "title_sidebar": "Contents",
   "toc_cell": true,
   "toc_position": {},
   "toc_section_display": true,
   "toc_window_display": true
  },
  "varInspector": {
   "cols": {
    "lenName": 16,
    "lenType": 16,
    "lenVar": 40
   },
   "kernels_config": {
    "python": {
     "delete_cmd_postfix": "",
     "delete_cmd_prefix": "del ",
     "library": "var_list.py",
     "varRefreshCmd": "print(var_dic_list())"
    },
    "r": {
     "delete_cmd_postfix": ") ",
     "delete_cmd_prefix": "rm(",
     "library": "var_list.r",
     "varRefreshCmd": "cat(var_dic_list()) "
    }
   },
   "types_to_exclude": [
    "module",
    "function",
    "builtin_function_or_method",
    "instance",
    "_Feature"
   ],
   "window_display": false
  }
 },
 "nbformat": 4,
 "nbformat_minor": 5
}