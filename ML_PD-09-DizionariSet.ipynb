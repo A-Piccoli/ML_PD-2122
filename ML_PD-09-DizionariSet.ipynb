{
 "cells": [
  {
   "cell_type": "markdown",
   "metadata": {
    "toc": true
   },
   "source": [
    "<h1>Table of Contents<span class=\"tocSkip\"></span></h1>\n",
    "<div class=\"toc\"><ul class=\"toc-item\"><li><span><a href=\"#Dizionari\" data-toc-modified-id=\"Dizionari-1\"><span class=\"toc-item-num\">1&nbsp;&nbsp;</span>Dizionari</a></span><ul class=\"toc-item\"><li><span><a href=\"#Creazione-di-un-dizionario\" data-toc-modified-id=\"Creazione-di-un-dizionario-1.1\"><span class=\"toc-item-num\">1.1&nbsp;&nbsp;</span>Creazione di un dizionario</a></span></li><li><span><a href=\"#Iterare-su-un-dizionario\" data-toc-modified-id=\"Iterare-su-un-dizionario-1.2\"><span class=\"toc-item-num\">1.2&nbsp;&nbsp;</span>Iterare su un dizionario</a></span></li><li><span><a href=\"#Operazioni-sui-dizionari\" data-toc-modified-id=\"Operazioni-sui-dizionari-1.3\"><span class=\"toc-item-num\">1.3&nbsp;&nbsp;</span>Operazioni sui dizionari</a></span><ul class=\"toc-item\"><li><span><a href=\"#Accedere-al-valore-associato-ad-una-chiave\" data-toc-modified-id=\"Accedere-al-valore-associato-ad-una-chiave-1.3.1\"><span class=\"toc-item-num\">1.3.1&nbsp;&nbsp;</span>Accedere al valore associato ad una chiave</a></span></li><li><span><a href=\"#Aggiornare-un-valore-associato-ad-una-chiave\" data-toc-modified-id=\"Aggiornare-un-valore-associato-ad-una-chiave-1.3.2\"><span class=\"toc-item-num\">1.3.2&nbsp;&nbsp;</span>Aggiornare un valore associato ad una chiave</a></span></li><li><span><a href=\"#Rimuovere-una-coppia-chiave-valore-(pop)\" data-toc-modified-id=\"Rimuovere-una-coppia-chiave-valore-(pop)-1.3.3\"><span class=\"toc-item-num\">1.3.3&nbsp;&nbsp;</span>Rimuovere una coppia chiave-valore (pop)</a></span></li><li><span><a href=\"#Controllare-se-una-chiave-è-in-un-dizionario\" data-toc-modified-id=\"Controllare-se-una-chiave-è-in-un-dizionario-1.3.4\"><span class=\"toc-item-num\">1.3.4&nbsp;&nbsp;</span>Controllare se una chiave è in un dizionario</a></span></li></ul></li><li><span><a href=\"#keys-e-values\" data-toc-modified-id=\"keys-e-values-1.4\"><span class=\"toc-item-num\">1.4&nbsp;&nbsp;</span><em>keys</em> e <em>values</em></a></span></li><li><span><a href=\"#update\" data-toc-modified-id=\"update-1.5\"><span class=\"toc-item-num\">1.5&nbsp;&nbsp;</span><em>update</em></a></span></li><li><span><a href=\"#Dictionary-comprehension\" data-toc-modified-id=\"Dictionary-comprehension-1.6\"><span class=\"toc-item-num\">1.6&nbsp;&nbsp;</span>Dictionary comprehension</a></span></li></ul></li><li><span><a href=\"#Set-(insiemi)\" data-toc-modified-id=\"Set-(insiemi)-2\"><span class=\"toc-item-num\">2&nbsp;&nbsp;</span>Set (insiemi)</a></span><ul class=\"toc-item\"><li><span><a href=\"#Creazione-di-un-set\" data-toc-modified-id=\"Creazione-di-un-set-2.1\"><span class=\"toc-item-num\">2.1&nbsp;&nbsp;</span>Creazione di un <em>set</em></a></span></li><li><span><a href=\"#Operazioni-sui-set\" data-toc-modified-id=\"Operazioni-sui-set-2.2\"><span class=\"toc-item-num\">2.2&nbsp;&nbsp;</span>Operazioni sui <em>set</em></a></span><ul class=\"toc-item\"><li><span><a href=\"#Lunghezza-di-un-set\" data-toc-modified-id=\"Lunghezza-di-un-set-2.2.1\"><span class=\"toc-item-num\">2.2.1&nbsp;&nbsp;</span>Lunghezza di un set</a></span></li><li><span><a href=\"#Determinare-se-un-elemento-appartiene-a-un-set\" data-toc-modified-id=\"Determinare-se-un-elemento-appartiene-a-un-set-2.2.2\"><span class=\"toc-item-num\">2.2.2&nbsp;&nbsp;</span>Determinare se un elemento appartiene a un set</a></span></li><li><span><a href=\"#Iterare-in-un-set\" data-toc-modified-id=\"Iterare-in-un-set-2.2.3\"><span class=\"toc-item-num\">2.2.3&nbsp;&nbsp;</span>Iterare in un set</a></span></li></ul></li><li><span><a href=\"#Confronto-tra-set\" data-toc-modified-id=\"Confronto-tra-set-2.3\"><span class=\"toc-item-num\">2.3&nbsp;&nbsp;</span>Confronto tra set</a></span><ul class=\"toc-item\"><li><span><a href=\"#Sottoinsieme\" data-toc-modified-id=\"Sottoinsieme-2.3.1\"><span class=\"toc-item-num\">2.3.1&nbsp;&nbsp;</span>Sottoinsieme</a></span><ul class=\"toc-item\"><li><span><a href=\"#<,<=\" data-toc-modified-id=\"<,<=-2.3.1.1\"><span class=\"toc-item-num\">2.3.1.1&nbsp;&nbsp;</span><code>&lt;</code>,<code>&lt;=</code></a></span></li><li><span><a href=\"#issubset()\" data-toc-modified-id=\"issubset()-2.3.1.2\"><span class=\"toc-item-num\">2.3.1.2&nbsp;&nbsp;</span><code>issubset()</code></a></span></li></ul></li><li><span><a href=\"#Sovrainsieme\" data-toc-modified-id=\"Sovrainsieme-2.3.2\"><span class=\"toc-item-num\">2.3.2&nbsp;&nbsp;</span>Sovrainsieme</a></span><ul class=\"toc-item\"><li><span><a href=\"#>-e->=\" data-toc-modified-id=\">-e->=-2.3.2.1\"><span class=\"toc-item-num\">2.3.2.1&nbsp;&nbsp;</span><code>&gt;</code> e <code>&gt;=</code></a></span></li><li><span><a href=\"#set1.issuperset(set2)\" data-toc-modified-id=\"set1.issuperset(set2)-2.3.2.2\"><span class=\"toc-item-num\">2.3.2.2&nbsp;&nbsp;</span><code>set1.issuperset(set2)</code></a></span></li></ul></li><li><span><a href=\"#.isdisjoint()\" data-toc-modified-id=\".isdisjoint()-2.3.3\"><span class=\"toc-item-num\">2.3.3&nbsp;&nbsp;</span><code>.isdisjoint()</code></a></span></li></ul></li><li><span><a href=\"#Operazioni-tra-insiemi\" data-toc-modified-id=\"Operazioni-tra-insiemi-2.4\"><span class=\"toc-item-num\">2.4&nbsp;&nbsp;</span>Operazioni tra insiemi</a></span><ul class=\"toc-item\"><li><span><a href=\"#Unione-|-o-set1.union(set2)\" data-toc-modified-id=\"Unione-|-o-set1.union(set2)-2.4.1\"><span class=\"toc-item-num\">2.4.1&nbsp;&nbsp;</span>Unione <code>|</code> o <code>set1.union(set2)</code></a></span></li><li><span><a href=\"#Intersezione-&amp;-o-set1.intersection(set2)\" data-toc-modified-id=\"Intersezione-&amp;-o-set1.intersection(set2)-2.4.2\"><span class=\"toc-item-num\">2.4.2&nbsp;&nbsp;</span>Intersezione <code>&amp;</code> o <code>set1.intersection(set2)</code></a></span></li><li><span><a href=\"#Differenza-insiemistica---o-set1.difference(set2)\" data-toc-modified-id=\"Differenza-insiemistica---o-set1.difference(set2)-2.4.3\"><span class=\"toc-item-num\">2.4.3&nbsp;&nbsp;</span>Differenza insiemistica <code>-</code> o <code>set1.difference(set2)</code></a></span></li><li><span><a href=\"#Differenza-simmetrica-^-o-set1.symmetric_difference(set2)\" data-toc-modified-id=\"Differenza-simmetrica-^-o-set1.symmetric_difference(set2)-2.4.4\"><span class=\"toc-item-num\">2.4.4&nbsp;&nbsp;</span>Differenza simmetrica <code>^</code> o <code>set1.symmetric_difference(set2)</code></a></span></li></ul></li><li><span><a href=\"#Operazioni-che-agiscono-sul-set-stesso\" data-toc-modified-id=\"Operazioni-che-agiscono-sul-set-stesso-2.5\"><span class=\"toc-item-num\">2.5&nbsp;&nbsp;</span>Operazioni che agiscono sul set stesso</a></span></li></ul></li></ul></div>"
   ]
  },
  {
   "cell_type": "markdown",
   "metadata": {
    "collapsed": true,
    "pycharm": {
     "name": "#%% md\n"
    }
   },
   "source": [
    "# Dizionari e Set"
   ]
  },
  {
   "cell_type": "markdown",
   "metadata": {
    "pycharm": {
     "name": "#%% md\n"
    }
   },
   "source": [
    "## Dizionari\n",
    "\n",
    "E' una collezione **mutabile**, *non oridnata* di oggetti che memorizza **coppie chiave-valore**\n",
    "\n",
    "`my_dict = {chiave1: valore1, chiave2: valore2 ..}`"
   ]
  },
  {
   "cell_type": "markdown",
   "metadata": {
    "pycharm": {
     "name": "#%% md\n"
    }
   },
   "source": [
    "### Creazione di un dizionario"
   ]
  },
  {
   "cell_type": "code",
   "execution_count": null,
   "metadata": {},
   "outputs": [],
   "source": [
    "mio_dizionario = {\"Simone\" : 43, \"Marco\" : 44, \"Pippo\":60}"
   ]
  },
  {
   "cell_type": "code",
   "execution_count": null,
   "metadata": {},
   "outputs": [],
   "source": [
    "mio_dizionario"
   ]
  },
  {
   "cell_type": "code",
   "execution_count": null,
   "metadata": {},
   "outputs": [],
   "source": [
    "# La chiave deve essere un elemento immutabile e unico:\n",
    "mio_dizionario = {\"Simone\": 43, \"Simone\": 50}\n",
    "\n",
    "# Se la trovo piu' di una volta solo l'ultima occorrenza e'\n",
    "# l-unica che viene memorizzata\n",
    "mio_dizionario"
   ]
  },
  {
   "cell_type": "code",
   "execution_count": null,
   "metadata": {},
   "outputs": [],
   "source": [
    "# Nussun limite invece per quanto riguarda i valori:\n",
    "mio_dizionario = {\"Simone\" : 43, \"Marco\" : 43, \"Pippo\":43}\n",
    "mio_dizionario"
   ]
  },
  {
   "cell_type": "code",
   "execution_count": null,
   "metadata": {},
   "outputs": [],
   "source": [
    "# Posso aggiungere elemnti al dizionario con un'assegnazione:\n",
    "# my_dict[chiave] = valore\n",
    "mio_dizionario[\"Pinco\"] = 48\n",
    "mio_dizionario"
   ]
  },
  {
   "cell_type": "code",
   "execution_count": null,
   "metadata": {},
   "outputs": [],
   "source": [
    "cifrario_rot = {\"a\":\"n\", \"b\":\"o\", \"c\": \"p\"}\n",
    "cifrario_rot"
   ]
  },
  {
   "cell_type": "code",
   "execution_count": null,
   "metadata": {},
   "outputs": [],
   "source": [
    "# cifrario_rot[[\"a\",\"b\"]] = \"ciao\"\n",
    "cifrario_rot = {\"a\":\"n\", \"b\":\"o\", \"c\": \"p\", (\"a\",\"b\"): \"ciao\"}\n",
    "cifrario_rot"
   ]
  },
  {
   "cell_type": "markdown",
   "metadata": {
    "pycharm": {
     "name": "#%%\n"
    }
   },
   "source": [
    "### Iterare su un dizionario"
   ]
  },
  {
   "cell_type": "code",
   "execution_count": null,
   "metadata": {},
   "outputs": [],
   "source": [
    "mio_dizionario"
   ]
  },
  {
   "cell_type": "code",
   "execution_count": null,
   "metadata": {},
   "outputs": [],
   "source": [
    "for primo, secondo in mio_dizionario.items():\n",
    "    print(f\"la chiave e': {primo} a cui corrisponde {secondo}\")\n",
    "    "
   ]
  },
  {
   "cell_type": "code",
   "execution_count": null,
   "metadata": {},
   "outputs": [],
   "source": [
    "primo_elemento, secondo_elemento = (\"a\", \"b\")"
   ]
  },
  {
   "cell_type": "markdown",
   "metadata": {
    "pycharm": {
     "name": "#%%\n"
    }
   },
   "source": [
    "\n",
    "### Operazioni sui dizionari"
   ]
  },
  {
   "cell_type": "markdown",
   "metadata": {
    "pycharm": {
     "name": "#%%\n"
    }
   },
   "source": [
    "\n",
    "#### Accedere al valore associato ad una chiave"
   ]
  },
  {
   "cell_type": "code",
   "execution_count": null,
   "metadata": {},
   "outputs": [],
   "source": [
    "# Accesso al dizionario per chiave:\n",
    "mio_dizionario[\"Simone\"] #restituisce il valore associato alla chiave \"Simone\"\n"
   ]
  },
  {
   "cell_type": "code",
   "execution_count": null,
   "metadata": {},
   "outputs": [],
   "source": [
    "for primo, secondo in mio_dizionario.items():\n",
    "    print(f\"la chiave e': {primo} a cui corrisponde {mio_dizionario[primo]}\")\n",
    "    "
   ]
  },
  {
   "cell_type": "code",
   "execution_count": null,
   "metadata": {},
   "outputs": [],
   "source": [
    "mio_dizionario"
   ]
  },
  {
   "cell_type": "code",
   "execution_count": null,
   "metadata": {},
   "outputs": [],
   "source": [
    "mio_dizionario[\"Ginevra\"]"
   ]
  },
  {
   "cell_type": "markdown",
   "metadata": {
    "pycharm": {
     "name": "#%%\n"
    }
   },
   "source": [
    "\n",
    "#### Aggiornare un valore associato ad una chiave"
   ]
  },
  {
   "cell_type": "code",
   "execution_count": null,
   "metadata": {},
   "outputs": [],
   "source": [
    "mio_dizionario"
   ]
  },
  {
   "cell_type": "code",
   "execution_count": null,
   "metadata": {},
   "outputs": [],
   "source": [
    "mio_dizionario[\"Simone\"] = 45\n",
    "mio_dizionario"
   ]
  },
  {
   "cell_type": "markdown",
   "metadata": {
    "pycharm": {
     "name": "#%%\n"
    }
   },
   "source": [
    "\n",
    "#### Rimuovere una coppia chiave-valore (pop)"
   ]
  },
  {
   "cell_type": "code",
   "execution_count": null,
   "metadata": {},
   "outputs": [],
   "source": [
    "print(mio_dizionario)\n",
    "mio_dizionario.pop(\"Simone\")"
   ]
  },
  {
   "cell_type": "code",
   "execution_count": null,
   "metadata": {},
   "outputs": [],
   "source": [
    "mio_dizionario"
   ]
  },
  {
   "cell_type": "code",
   "execution_count": null,
   "metadata": {},
   "outputs": [],
   "source": [
    "mio_dizionario.pop(\"Geronimo\")"
   ]
  },
  {
   "cell_type": "markdown",
   "metadata": {
    "pycharm": {
     "name": "#%%\n"
    }
   },
   "source": [
    "\n",
    "#### Controllare se una chiave è in un dizionario"
   ]
  },
  {
   "cell_type": "code",
   "execution_count": null,
   "metadata": {},
   "outputs": [],
   "source": [
    "mio_dizionario"
   ]
  },
  {
   "cell_type": "code",
   "execution_count": null,
   "metadata": {},
   "outputs": [],
   "source": [
    "\"Marco\" in mio_dizionario"
   ]
  },
  {
   "cell_type": "code",
   "execution_count": null,
   "metadata": {},
   "outputs": [],
   "source": [
    "\"Geronimo\" in mio_dizionario"
   ]
  },
  {
   "cell_type": "code",
   "execution_count": null,
   "metadata": {},
   "outputs": [],
   "source": [
    "43 in mio_dizionario"
   ]
  },
  {
   "cell_type": "markdown",
   "metadata": {
    "pycharm": {
     "name": "#%%\n"
    }
   },
   "source": [
    "\n",
    "### _keys_ e _values_"
   ]
  },
  {
   "cell_type": "code",
   "execution_count": null,
   "metadata": {},
   "outputs": [],
   "source": [
    "mio_dizionario.keys()"
   ]
  },
  {
   "cell_type": "code",
   "execution_count": null,
   "metadata": {},
   "outputs": [],
   "source": [
    "mio_dizionario.values()"
   ]
  },
  {
   "cell_type": "code",
   "execution_count": null,
   "metadata": {},
   "outputs": [],
   "source": [
    "43 in mio_dizionario.values()"
   ]
  },
  {
   "cell_type": "markdown",
   "metadata": {
    "pycharm": {
     "name": "#%%\n"
    }
   },
   "source": [
    "\n",
    "### _update_"
   ]
  },
  {
   "cell_type": "code",
   "execution_count": null,
   "metadata": {},
   "outputs": [],
   "source": [
    "mio_dizionario"
   ]
  },
  {
   "cell_type": "code",
   "execution_count": null,
   "metadata": {},
   "outputs": [],
   "source": [
    "mio_dizionario.update({\"Marco\": 50, 'Pippo': 45, 'Pinco': 55, \"Geronimo\" : 65})"
   ]
  },
  {
   "cell_type": "code",
   "execution_count": null,
   "metadata": {},
   "outputs": [],
   "source": [
    "mio_dizionario"
   ]
  },
  {
   "cell_type": "code",
   "execution_count": null,
   "metadata": {},
   "outputs": [],
   "source": [
    "mio_dizionario[\"Marco\"] = 50"
   ]
  },
  {
   "cell_type": "markdown",
   "metadata": {
    "pycharm": {
     "name": "#%%\n"
    }
   },
   "source": [
    "\n",
    "### Dictionary comprehension"
   ]
  },
  {
   "cell_type": "code",
   "execution_count": null,
   "metadata": {
    "pycharm": {
     "name": "#%%\n"
    }
   },
   "outputs": [],
   "source": [
    "import string\n",
    "string.ascii_lowercase\n"
   ]
  },
  {
   "cell_type": "code",
   "execution_count": null,
   "metadata": {
    "pycharm": {
     "name": "#%%\n"
    }
   },
   "outputs": [],
   "source": [
    "{lettera: numero for numero, lettera in enumerate(string.ascii_lowercase)}"
   ]
  },
  {
   "cell_type": "code",
   "execution_count": null,
   "metadata": {
    "pycharm": {
     "name": "#%%\n"
    }
   },
   "outputs": [],
   "source": [
    "for elem in enumerate(string.ascii_lowercase):\n",
    "    print(elem)"
   ]
  },
  {
   "cell_type": "code",
   "execution_count": null,
   "metadata": {},
   "outputs": [],
   "source": [
    "voti_semestre = {\"Marco\": [18, 27,30], \"Paolo\": [24,27,21], \"Geronimo\": [15,12,20]} "
   ]
  },
  {
   "cell_type": "code",
   "execution_count": null,
   "metadata": {},
   "outputs": [],
   "source": [
    "media = {nome: sum(voti)/len(voti) for nome, voti in voti_semestre.items()}\n",
    "media = {\"Marco\": (18+27+30 / 3)}"
   ]
  },
  {
   "cell_type": "code",
   "execution_count": null,
   "metadata": {},
   "outputs": [],
   "source": [
    "media"
   ]
  },
  {
   "cell_type": "code",
   "execution_count": null,
   "metadata": {},
   "outputs": [],
   "source": [
    "sum([18,27,30])"
   ]
  },
  {
   "cell_type": "code",
   "execution_count": null,
   "metadata": {},
   "outputs": [],
   "source": [
    "len([18,27,30])"
   ]
  },
  {
   "cell_type": "code",
   "execution_count": null,
   "metadata": {},
   "outputs": [],
   "source": [
    "media = {nome: sum(voti)/len(voti) for nome, voti in voti_semestre.items()} = dict()"
   ]
  },
  {
   "cell_type": "markdown",
   "metadata": {
    "pycharm": {
     "name": "#%% md\n"
    }
   },
   "source": [
    "## Set (insiemi)\n",
    "\n",
    "E' una collezione **mutabile**, **non ordinata** di elementi **immutabili e unici**"
   ]
  },
  {
   "cell_type": "markdown",
   "metadata": {
    "pycharm": {
     "name": "#%%\n"
    }
   },
   "source": [
    "### Creazione di un *set*"
   ]
  },
  {
   "cell_type": "code",
   "execution_count": null,
   "metadata": {},
   "outputs": [],
   "source": [
    "mio_set = {3,4,5}"
   ]
  },
  {
   "cell_type": "code",
   "execution_count": null,
   "metadata": {},
   "outputs": [],
   "source": [
    "mio_set"
   ]
  },
  {
   "cell_type": "code",
   "execution_count": null,
   "metadata": {},
   "outputs": [],
   "source": [
    "# Per creare un set vuoto:\n",
    "non_cosi = {} # questo crea un dizioanrio\n",
    "set_vuoto = set()"
   ]
  },
  {
   "cell_type": "code",
   "execution_count": null,
   "metadata": {},
   "outputs": [],
   "source": [
    "type(set_vuoto)"
   ]
  },
  {
   "cell_type": "code",
   "execution_count": null,
   "metadata": {},
   "outputs": [],
   "source": [
    "type(non_cosi)"
   ]
  },
  {
   "cell_type": "code",
   "execution_count": null,
   "metadata": {},
   "outputs": [],
   "source": [
    "mio_set = {2, 2, 2, 3, 3, 3, 4, 5, 6, 6}"
   ]
  },
  {
   "cell_type": "code",
   "execution_count": null,
   "metadata": {},
   "outputs": [],
   "source": [
    "mio_set # Il set e' fatto di elementi unici"
   ]
  },
  {
   "cell_type": "code",
   "execution_count": null,
   "metadata": {},
   "outputs": [],
   "source": [
    "# Il set non puo' contenere elementi mutabili (liste, dizionari..)\n",
    "\n",
    "mio_set_che_non_funziona = {[2,3]}"
   ]
  },
  {
   "cell_type": "code",
   "execution_count": null,
   "metadata": {},
   "outputs": [],
   "source": [
    "mio_set_che_contiene_elementi_immutabili = {(3,4),5, 2,(9, 5,6), \"a\", \"stringhetta\"}\n",
    "mio_set_che_contiene_elementi_immutabili"
   ]
  },
  {
   "cell_type": "markdown",
   "metadata": {},
   "source": [
    "### Operazioni sui *set*"
   ]
  },
  {
   "cell_type": "markdown",
   "metadata": {},
   "source": [
    "#### Lunghezza di un set"
   ]
  },
  {
   "cell_type": "code",
   "execution_count": null,
   "metadata": {},
   "outputs": [],
   "source": [
    "len(mio_set)"
   ]
  },
  {
   "cell_type": "code",
   "execution_count": null,
   "metadata": {},
   "outputs": [],
   "source": [
    "len(mio_set_che_contiene_elementi_immutabili)"
   ]
  },
  {
   "cell_type": "markdown",
   "metadata": {},
   "source": [
    "#### Determinare se un elemento appartiene a un set"
   ]
  },
  {
   "cell_type": "code",
   "execution_count": null,
   "metadata": {},
   "outputs": [],
   "source": [
    "mio_set"
   ]
  },
  {
   "cell_type": "code",
   "execution_count": null,
   "metadata": {},
   "outputs": [],
   "source": [
    "2 in mio_set"
   ]
  },
  {
   "cell_type": "code",
   "execution_count": null,
   "metadata": {},
   "outputs": [],
   "source": [
    "10 in mio_set"
   ]
  },
  {
   "cell_type": "code",
   "execution_count": null,
   "metadata": {},
   "outputs": [],
   "source": [
    "3 in mio_set_che_contiene_elementi_immutabili"
   ]
  },
  {
   "cell_type": "code",
   "execution_count": null,
   "metadata": {},
   "outputs": [],
   "source": [
    "(3, 4) in mio_set_che_contiene_elementi_immutabili"
   ]
  },
  {
   "cell_type": "markdown",
   "metadata": {},
   "source": [
    "#### Iterare in un set "
   ]
  },
  {
   "cell_type": "code",
   "execution_count": null,
   "metadata": {},
   "outputs": [],
   "source": [
    "for elem in mio_set_che_contiene_elementi_immutabili:\n",
    "    print(elem)"
   ]
  },
  {
   "cell_type": "code",
   "execution_count": null,
   "metadata": {},
   "outputs": [],
   "source": [
    "# Non ha senso parlare di ordine nelle iterazioni di un set"
   ]
  },
  {
   "cell_type": "markdown",
   "metadata": {},
   "source": [
    "### Confronto tra set"
   ]
  },
  {
   "cell_type": "markdown",
   "metadata": {},
   "source": [
    "#### Sottoinsieme"
   ]
  },
  {
   "cell_type": "markdown",
   "metadata": {},
   "source": [
    "{2,3,4} < {2,3,4,5} <br>\n",
    "Il set di sinistra e' sottoinsieme del set di destra"
   ]
  },
  {
   "cell_type": "markdown",
   "metadata": {},
   "source": [
    "##### `<`,`<=`"
   ]
  },
  {
   "cell_type": "code",
   "execution_count": null,
   "metadata": {},
   "outputs": [],
   "source": [
    "a = {2,3,4}\n",
    "b = {2,3,4,5}\n",
    "c = {2,3,5}"
   ]
  },
  {
   "cell_type": "code",
   "execution_count": null,
   "metadata": {},
   "outputs": [],
   "source": [
    "a < b"
   ]
  },
  {
   "cell_type": "code",
   "execution_count": null,
   "metadata": {},
   "outputs": [],
   "source": [
    "a <= b"
   ]
  },
  {
   "cell_type": "code",
   "execution_count": null,
   "metadata": {},
   "outputs": [],
   "source": [
    "a == b"
   ]
  },
  {
   "cell_type": "code",
   "execution_count": null,
   "metadata": {},
   "outputs": [],
   "source": [
    "a < c"
   ]
  },
  {
   "cell_type": "code",
   "execution_count": null,
   "metadata": {},
   "outputs": [],
   "source": [
    "c < b"
   ]
  },
  {
   "cell_type": "markdown",
   "metadata": {},
   "source": [
    "##### `issubset()`"
   ]
  },
  {
   "cell_type": "code",
   "execution_count": null,
   "metadata": {},
   "outputs": [],
   "source": [
    "a.issubset(b) # a < b "
   ]
  },
  {
   "cell_type": "markdown",
   "metadata": {},
   "source": [
    "####  Sovrainsieme"
   ]
  },
  {
   "cell_type": "markdown",
   "metadata": {},
   "source": [
    "##### `>` e `>=`"
   ]
  },
  {
   "cell_type": "code",
   "execution_count": null,
   "metadata": {},
   "outputs": [],
   "source": [
    "a > b"
   ]
  },
  {
   "cell_type": "code",
   "execution_count": null,
   "metadata": {},
   "outputs": [],
   "source": [
    "b > a"
   ]
  },
  {
   "cell_type": "code",
   "execution_count": null,
   "metadata": {},
   "outputs": [],
   "source": [
    "c > a"
   ]
  },
  {
   "cell_type": "code",
   "execution_count": null,
   "metadata": {},
   "outputs": [],
   "source": [
    "c > b"
   ]
  },
  {
   "cell_type": "code",
   "execution_count": null,
   "metadata": {},
   "outputs": [],
   "source": [
    "b > c"
   ]
  },
  {
   "cell_type": "markdown",
   "metadata": {},
   "source": [
    "##### `set1.issuperset(set2)`"
   ]
  },
  {
   "cell_type": "code",
   "execution_count": null,
   "metadata": {},
   "outputs": [],
   "source": [
    "b.issuperset(a) # b > a"
   ]
  },
  {
   "cell_type": "markdown",
   "metadata": {},
   "source": [
    "#### `.isdisjoint()`\n",
    "Vero se nessun elemento di a e' in b e viceversa"
   ]
  },
  {
   "cell_type": "code",
   "execution_count": null,
   "metadata": {},
   "outputs": [],
   "source": [
    "a.isdisjoint(b)"
   ]
  },
  {
   "cell_type": "code",
   "execution_count": null,
   "metadata": {},
   "outputs": [],
   "source": [
    "d = {1,2,3}\n",
    "e = {4,5,6}"
   ]
  },
  {
   "cell_type": "code",
   "execution_count": null,
   "metadata": {},
   "outputs": [],
   "source": [
    "d.isdisjoint(e)"
   ]
  },
  {
   "cell_type": "markdown",
   "metadata": {},
   "source": [
    "### Operazioni tra insiemi\n",
    "Gli opepratori che seguono restituiscono un nuovo insieme."
   ]
  },
  {
   "cell_type": "markdown",
   "metadata": {},
   "source": [
    "#### Unione `|` o `set1.union(set2)`\n",
    "Insieme contenete tutti gli elementi dei due insiemi"
   ]
  },
  {
   "cell_type": "code",
   "execution_count": null,
   "metadata": {},
   "outputs": [],
   "source": [
    "a"
   ]
  },
  {
   "cell_type": "code",
   "execution_count": null,
   "metadata": {},
   "outputs": [],
   "source": [
    "b"
   ]
  },
  {
   "cell_type": "code",
   "execution_count": null,
   "metadata": {},
   "outputs": [],
   "source": [
    "a_unito_b = a | b"
   ]
  },
  {
   "cell_type": "code",
   "execution_count": null,
   "metadata": {},
   "outputs": [],
   "source": [
    "a_unito_b"
   ]
  },
  {
   "cell_type": "code",
   "execution_count": null,
   "metadata": {},
   "outputs": [],
   "source": [
    "a.union(b)"
   ]
  },
  {
   "cell_type": "code",
   "execution_count": null,
   "metadata": {},
   "outputs": [],
   "source": [
    "b.union(a)"
   ]
  },
  {
   "cell_type": "markdown",
   "metadata": {},
   "source": [
    "#### Intersezione `&` o `set1.intersection(set2)`\n",
    "Inseme contenenti gli elementi dei che  due insiemi hanno in comune"
   ]
  },
  {
   "cell_type": "code",
   "execution_count": null,
   "metadata": {},
   "outputs": [],
   "source": [
    "a"
   ]
  },
  {
   "cell_type": "code",
   "execution_count": null,
   "metadata": {},
   "outputs": [],
   "source": [
    "c"
   ]
  },
  {
   "cell_type": "code",
   "execution_count": null,
   "metadata": {},
   "outputs": [],
   "source": [
    "a & c"
   ]
  },
  {
   "cell_type": "code",
   "execution_count": null,
   "metadata": {},
   "outputs": [],
   "source": [
    "a.intersection(c)"
   ]
  },
  {
   "cell_type": "markdown",
   "metadata": {},
   "source": [
    "#### Differenza insiemistica `-` o `set1.difference(set2)`\n",
    "Insieme contenente gli elementi dell'insieme di sinistra che **non** sono in quello di destra"
   ]
  },
  {
   "cell_type": "code",
   "execution_count": 1,
   "metadata": {},
   "outputs": [],
   "source": [
    "a = {1,2,3,4}"
   ]
  },
  {
   "cell_type": "code",
   "execution_count": 2,
   "metadata": {},
   "outputs": [],
   "source": [
    "b = {2,3,4,5}"
   ]
  },
  {
   "cell_type": "code",
   "execution_count": null,
   "metadata": {},
   "outputs": [],
   "source": [
    "a - b"
   ]
  },
  {
   "cell_type": "code",
   "execution_count": null,
   "metadata": {},
   "outputs": [],
   "source": [
    "b - a"
   ]
  },
  {
   "cell_type": "code",
   "execution_count": null,
   "metadata": {},
   "outputs": [],
   "source": [
    "a.difference(b)"
   ]
  },
  {
   "cell_type": "markdown",
   "metadata": {},
   "source": [
    "#### Differenza simmetrica `^` o `set1.symmetric_difference(set2)`\n",
    "Insieme contenente gli elementi dell'insieme di sinistra che non sono in quello di destra e viceversa"
   ]
  },
  {
   "cell_type": "code",
   "execution_count": null,
   "metadata": {},
   "outputs": [],
   "source": [
    "a ^ b"
   ]
  },
  {
   "cell_type": "code",
   "execution_count": null,
   "metadata": {},
   "outputs": [],
   "source": [
    "b ^ a"
   ]
  },
  {
   "cell_type": "code",
   "execution_count": null,
   "metadata": {},
   "outputs": [],
   "source": [
    "a.symmetric_difference(b)"
   ]
  },
  {
   "cell_type": "code",
   "execution_count": null,
   "metadata": {},
   "outputs": [],
   "source": [
    "help(set)"
   ]
  },
  {
   "cell_type": "code",
   "execution_count": 3,
   "metadata": {},
   "outputs": [
    {
     "data": {
      "text/plain": [
       "{1, 2, 3, 4}"
      ]
     },
     "execution_count": 3,
     "metadata": {},
     "output_type": "execute_result"
    }
   ],
   "source": [
    "a"
   ]
  },
  {
   "cell_type": "code",
   "execution_count": 4,
   "metadata": {},
   "outputs": [
    {
     "data": {
      "text/plain": [
       "{2, 3, 4, 5}"
      ]
     },
     "execution_count": 4,
     "metadata": {},
     "output_type": "execute_result"
    }
   ],
   "source": [
    "b"
   ]
  },
  {
   "cell_type": "code",
   "execution_count": 5,
   "metadata": {},
   "outputs": [],
   "source": [
    "a.update(b)"
   ]
  },
  {
   "cell_type": "code",
   "execution_count": 6,
   "metadata": {},
   "outputs": [
    {
     "data": {
      "text/plain": [
       "{1, 2, 3, 4, 5}"
      ]
     },
     "execution_count": 6,
     "metadata": {},
     "output_type": "execute_result"
    }
   ],
   "source": [
    "a"
   ]
  },
  {
   "cell_type": "code",
   "execution_count": 7,
   "metadata": {},
   "outputs": [
    {
     "data": {
      "text/plain": [
       "{1, 2, 3, 4, 5}"
      ]
     },
     "execution_count": 7,
     "metadata": {},
     "output_type": "execute_result"
    }
   ],
   "source": [
    "a"
   ]
  },
  {
   "cell_type": "code",
   "execution_count": 8,
   "metadata": {},
   "outputs": [],
   "source": [
    "a.add(7)"
   ]
  },
  {
   "cell_type": "code",
   "execution_count": 9,
   "metadata": {},
   "outputs": [
    {
     "data": {
      "text/plain": [
       "{1, 2, 3, 4, 5, 7}"
      ]
     },
     "execution_count": 9,
     "metadata": {},
     "output_type": "execute_result"
    }
   ],
   "source": [
    "a"
   ]
  },
  {
   "cell_type": "markdown",
   "metadata": {},
   "source": [
    "### Operazioni che agiscono sul set stesso"
   ]
  },
  {
   "cell_type": "code",
   "execution_count": 19,
   "metadata": {},
   "outputs": [
    {
     "ename": "KeyError",
     "evalue": "10",
     "output_type": "error",
     "traceback": [
      "\u001B[1;31m---------------------------------------------------------------------------\u001B[0m",
      "\u001B[1;31mKeyError\u001B[0m                                  Traceback (most recent call last)",
      "\u001B[1;32m~\\AppData\\Local\\Temp/ipykernel_13540/3281633740.py\u001B[0m in \u001B[0;36m<module>\u001B[1;34m\u001B[0m\n\u001B[1;32m----> 1\u001B[1;33m \u001B[0ma\u001B[0m\u001B[1;33m.\u001B[0m\u001B[0mremove\u001B[0m\u001B[1;33m(\u001B[0m\u001B[1;36m10\u001B[0m\u001B[1;33m)\u001B[0m\u001B[1;33m\u001B[0m\u001B[1;33m\u001B[0m\u001B[0m\n\u001B[0m",
      "\u001B[1;31mKeyError\u001B[0m: 10"
     ]
    }
   ],
   "source": [
    "a.remove(10)"
   ]
  },
  {
   "cell_type": "code",
   "execution_count": 16,
   "metadata": {},
   "outputs": [
    {
     "data": {
      "text/plain": [
       "{3, 4, 7}"
      ]
     },
     "execution_count": 16,
     "metadata": {},
     "output_type": "execute_result"
    }
   ],
   "source": [
    "a"
   ]
  },
  {
   "cell_type": "code",
   "execution_count": 20,
   "metadata": {},
   "outputs": [],
   "source": [
    "a.discard(10)"
   ]
  },
  {
   "cell_type": "code",
   "execution_count": null,
   "metadata": {},
   "outputs": [],
   "source": []
  },
  {
   "cell_type": "code",
   "execution_count": 21,
   "metadata": {},
   "outputs": [
    {
     "data": {
      "text/plain": [
       "{3, 4}"
      ]
     },
     "execution_count": 21,
     "metadata": {},
     "output_type": "execute_result"
    }
   ],
   "source": [
    "a"
   ]
  },
  {
   "cell_type": "code",
   "execution_count": null,
   "metadata": {},
   "outputs": [],
   "source": []
  }
 ],
 "metadata": {
  "kernelspec": {
   "display_name": "Python 3 (ipykernel)",
   "language": "python",
   "name": "python3"
  },
  "language_info": {
   "codemirror_mode": {
    "name": "ipython",
    "version": 3
   },
   "file_extension": ".py",
   "mimetype": "text/x-python",
   "name": "python",
   "nbconvert_exporter": "python",
   "pygments_lexer": "ipython3",
   "version": "3.8.12"
  },
  "toc": {
   "base_numbering": 1,
   "nav_menu": {},
   "number_sections": true,
   "sideBar": true,
   "skip_h1_title": true,
   "title_cell": "Table of Contents",
   "title_sidebar": "Contents",
   "toc_cell": true,
   "toc_position": {
    "height": "calc(100% - 180px)",
    "left": "10px",
    "top": "150px",
    "width": "449.8px"
   },
   "toc_section_display": true,
   "toc_window_display": false
  },
  "varInspector": {
   "cols": {
    "lenName": 16,
    "lenType": 16,
    "lenVar": 40
   },
   "kernels_config": {
    "python": {
     "delete_cmd_postfix": "",
     "delete_cmd_prefix": "del ",
     "library": "var_list.py",
     "varRefreshCmd": "print(var_dic_list())"
    },
    "r": {
     "delete_cmd_postfix": ") ",
     "delete_cmd_prefix": "rm(",
     "library": "var_list.r",
     "varRefreshCmd": "cat(var_dic_list()) "
    }
   },
   "types_to_exclude": [
    "module",
    "function",
    "builtin_function_or_method",
    "instance",
    "_Feature"
   ],
   "window_display": false
  }
 },
 "nbformat": 4,
 "nbformat_minor": 1
}