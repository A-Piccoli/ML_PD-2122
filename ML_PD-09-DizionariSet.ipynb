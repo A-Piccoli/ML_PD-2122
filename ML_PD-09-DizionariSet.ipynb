{
 "cells": [
  {
   "cell_type": "markdown",
   "metadata": {
    "toc": true
   },
   "source": [
    "<h1>Dizionari e Set<span class=\"tocSkip\"></span></h1>\n",
    "<div class=\"toc\"><ul class=\"toc-item\"><li><span><a href=\"#Dizionari\" data-toc-modified-id=\"Dizionari-1\"><span class=\"toc-item-num\">1&nbsp;&nbsp;</span>Dizionari</a></span><ul class=\"toc-item\"><li><span><a href=\"#Creazione-di-un-dizionario\" data-toc-modified-id=\"Creazione-di-un-dizionario-1.1\"><span class=\"toc-item-num\">1.1&nbsp;&nbsp;</span>Creazione di un dizionario</a></span></li><li><span><a href=\"#Iterare-su-un-dizionario\" data-toc-modified-id=\"Iterare-su-un-dizionario-1.2\"><span class=\"toc-item-num\">1.2&nbsp;&nbsp;</span>Iterare su un dizionario</a></span></li><li><span><a href=\"#Operazioni-sui-dizionari\" data-toc-modified-id=\"Operazioni-sui-dizionari-1.3\"><span class=\"toc-item-num\">1.3&nbsp;&nbsp;</span>Operazioni sui dizionari</a></span><ul class=\"toc-item\"><li><span><a href=\"#Accedere-al-valore-associato-ad-una-chiave\" data-toc-modified-id=\"Accedere-al-valore-associato-ad-una-chiave-1.3.1\"><span class=\"toc-item-num\">1.3.1&nbsp;&nbsp;</span>Accedere al valore associato ad una chiave</a></span></li><li><span><a href=\"#Aggiornare-un-valore-associato-ad-una-chiave\" data-toc-modified-id=\"Aggiornare-un-valore-associato-ad-una-chiave-1.3.2\"><span class=\"toc-item-num\">1.3.2&nbsp;&nbsp;</span>Aggiornare un valore associato ad una chiave</a></span></li><li><span><a href=\"#Rimuovere-una-coppia-chiave-valore-(pop)\" data-toc-modified-id=\"Rimuovere-una-coppia-chiave-valore-(pop)-1.3.3\"><span class=\"toc-item-num\">1.3.3&nbsp;&nbsp;</span>Rimuovere una coppia chiave-valore (pop)</a></span></li><li><span><a href=\"#Controllare-se-una-chiave-è-in-un-dizionario\" data-toc-modified-id=\"Controllare-se-una-chiave-è-in-un-dizionario-1.3.4\"><span class=\"toc-item-num\">1.3.4&nbsp;&nbsp;</span>Controllare se una chiave è in un dizionario</a></span></li></ul></li><li><span><a href=\"#keys-e-values\" data-toc-modified-id=\"keys-e-values-1.4\"><span class=\"toc-item-num\">1.4&nbsp;&nbsp;</span><em>keys</em> e <em>values</em></a></span></li><li><span><a href=\"#update\" data-toc-modified-id=\"update-1.5\"><span class=\"toc-item-num\">1.5&nbsp;&nbsp;</span><em>update</em></a></span></li><li><span><a href=\"#Dictionary-comprehension\" data-toc-modified-id=\"Dictionary-comprehension-1.6\"><span class=\"toc-item-num\">1.6&nbsp;&nbsp;</span>Dictionary comprehension</a></span></li></ul></li><li><span><a href=\"#Set-(insiemi)\" data-toc-modified-id=\"Set-(insiemi)-2\"><span class=\"toc-item-num\">2&nbsp;&nbsp;</span>Set (insiemi)</a></span><ul class=\"toc-item\"><li><span><a href=\"#Creazione-di-un-set\" data-toc-modified-id=\"Creazione-di-un-set-2.1\"><span class=\"toc-item-num\">2.1&nbsp;&nbsp;</span>Creazione di un <em>set</em></a></span></li><li><span><a href=\"#Operazioni-sui-set\" data-toc-modified-id=\"Operazioni-sui-set-2.2\"><span class=\"toc-item-num\">2.2&nbsp;&nbsp;</span>Operazioni sui <em>set</em></a></span><ul class=\"toc-item\"><li><span><a href=\"#Lunghezza-di-un-set\" data-toc-modified-id=\"Lunghezza-di-un-set-2.2.1\"><span class=\"toc-item-num\">2.2.1&nbsp;&nbsp;</span>Lunghezza di un set</a></span></li><li><span><a href=\"#Determinare-se-un-elemento-appartiene-a-un-set\" data-toc-modified-id=\"Determinare-se-un-elemento-appartiene-a-un-set-2.2.2\"><span class=\"toc-item-num\">2.2.2&nbsp;&nbsp;</span>Determinare se un elemento appartiene a un set</a></span></li><li><span><a href=\"#Iterare-in-un-set\" data-toc-modified-id=\"Iterare-in-un-set-2.2.3\"><span class=\"toc-item-num\">2.2.3&nbsp;&nbsp;</span>Iterare in un set</a></span></li></ul></li><li><span><a href=\"#Confronto-tra-set\" data-toc-modified-id=\"Confronto-tra-set-2.3\"><span class=\"toc-item-num\">2.3&nbsp;&nbsp;</span>Confronto tra set</a></span><ul class=\"toc-item\"><li><span><a href=\"#Sottoinsieme\" data-toc-modified-id=\"Sottoinsieme-2.3.1\"><span class=\"toc-item-num\">2.3.1&nbsp;&nbsp;</span>Sottoinsieme</a></span><ul class=\"toc-item\"><li><span><a href=\"#<,<=\" data-toc-modified-id=\"<,<=-2.3.1.1\"><span class=\"toc-item-num\">2.3.1.1&nbsp;&nbsp;</span><code>&lt;</code>,<code>&lt;=</code></a></span></li><li><span><a href=\"#issubset()\" data-toc-modified-id=\"issubset()-2.3.1.2\"><span class=\"toc-item-num\">2.3.1.2&nbsp;&nbsp;</span><code>issubset()</code></a></span></li></ul></li><li><span><a href=\"#Sovrainsieme\" data-toc-modified-id=\"Sovrainsieme-2.3.2\"><span class=\"toc-item-num\">2.3.2&nbsp;&nbsp;</span>Sovrainsieme</a></span><ul class=\"toc-item\"><li><span><a href=\"#>-e->=\" data-toc-modified-id=\">-e->=-2.3.2.1\"><span class=\"toc-item-num\">2.3.2.1&nbsp;&nbsp;</span><code>&gt;</code> e <code>&gt;=</code></a></span></li><li><span><a href=\"#set1.issuperset(set2)\" data-toc-modified-id=\"set1.issuperset(set2)-2.3.2.2\"><span class=\"toc-item-num\">2.3.2.2&nbsp;&nbsp;</span><code>set1.issuperset(set2)</code></a></span></li></ul></li><li><span><a href=\"#.isdisjoint()\" data-toc-modified-id=\".isdisjoint()-2.3.3\"><span class=\"toc-item-num\">2.3.3&nbsp;&nbsp;</span><code>.isdisjoint()</code></a></span></li></ul></li><li><span><a href=\"#Operazioni-tra-insiemi\" data-toc-modified-id=\"Operazioni-tra-insiemi-2.4\"><span class=\"toc-item-num\">2.4&nbsp;&nbsp;</span>Operazioni tra insiemi</a></span><ul class=\"toc-item\"><li><span><a href=\"#Unione-|-o-set1.union(set2)\" data-toc-modified-id=\"Unione-|-o-set1.union(set2)-2.4.1\"><span class=\"toc-item-num\">2.4.1&nbsp;&nbsp;</span>Unione <code>|</code> o <code>set1.union(set2)</code></a></span></li><li><span><a href=\"#Intersezione-&amp;-o-set1.intersection(set2)\" data-toc-modified-id=\"Intersezione-&amp;-o-set1.intersection(set2)-2.4.2\"><span class=\"toc-item-num\">2.4.2&nbsp;&nbsp;</span>Intersezione <code>&amp;</code> o <code>set1.intersection(set2)</code></a></span></li><li><span><a href=\"#Differenza-insiemistica---o-set1.difference(set2)\" data-toc-modified-id=\"Differenza-insiemistica---o-set1.difference(set2)-2.4.3\"><span class=\"toc-item-num\">2.4.3&nbsp;&nbsp;</span>Differenza insiemistica <code>-</code> o <code>set1.difference(set2)</code></a></span></li><li><span><a href=\"#Differenza-simmetrica-^-o-set1.symmetric_difference(set2)\" data-toc-modified-id=\"Differenza-simmetrica-^-o-set1.symmetric_difference(set2)-2.4.4\"><span class=\"toc-item-num\">2.4.4&nbsp;&nbsp;</span>Differenza simmetrica <code>^</code> o <code>set1.symmetric_difference(set2)</code></a></span></li></ul></li><li><span><a href=\"#Operazioni-che-modificano-il-set-stesso-su-cui-agiscono\" data-toc-modified-id=\"Operazioni-che-modificano-il-set-stesso-su-cui-agiscono-2.5\"><span class=\"toc-item-num\">2.5&nbsp;&nbsp;</span>Operazioni che modificano il set stesso su cui agiscono</a></span><ul class=\"toc-item\"><li><span><a href=\"#update()\" data-toc-modified-id=\"update()-2.5.1\"><span class=\"toc-item-num\">2.5.1&nbsp;&nbsp;</span><code>update()</code></a></span></li><li><span><a href=\"#remove(),-discard()-e-pop()\" data-toc-modified-id=\"remove(),-discard()-e-pop()-2.5.2\"><span class=\"toc-item-num\">2.5.2&nbsp;&nbsp;</span><code>remove()</code>, <code>discard()</code> e <code>pop()</code></a></span></li><li><span><a href=\"#add()-e-append()\" data-toc-modified-id=\"add()-e-append()-2.5.3\"><span class=\"toc-item-num\">2.5.3&nbsp;&nbsp;</span><code>add()</code> e <del><code>append()</code></del></a></span></li></ul></li><li><span><a href=\"#Copia-di-un-set:-assegnazione-e-metodo-copy()\" data-toc-modified-id=\"Copia-di-un-set:-assegnazione-e-metodo-copy()-2.6\"><span class=\"toc-item-num\">2.6&nbsp;&nbsp;</span>Copia di un set: assegnazione e metodo <code>copy()</code></a></span></li></ul></li></ul></div>"
   ]
  },
  {
   "cell_type": "markdown",
   "metadata": {
    "pycharm": {
     "name": "#%% md\n"
    }
   },
   "source": [
    "## Dizionari\n",
    "\n",
    "E' una collezione **mutabile**, *non oridnata* di oggetti che memorizza **coppie chiave-valore**\n",
    "\n",
    "`my_dict = {chiave1: valore1, chiave2: valore2 ..}`"
   ]
  },
  {
   "cell_type": "markdown",
   "metadata": {
    "pycharm": {
     "name": "#%% md\n"
    }
   },
   "source": [
    "### Creazione di un dizionario"
   ]
  },
  {
   "cell_type": "code",
   "execution_count": 1,
   "metadata": {},
   "outputs": [],
   "source": [
    "mio_dizionario = {\"Simone\" : 43, \"Marco\" : 44, \"Pippo\":60}"
   ]
  },
  {
   "cell_type": "code",
   "execution_count": 2,
   "metadata": {},
   "outputs": [
    {
     "data": {
      "text/plain": [
       "{'Simone': 43, 'Marco': 44, 'Pippo': 60}"
      ]
     },
     "execution_count": 2,
     "metadata": {},
     "output_type": "execute_result"
    }
   ],
   "source": [
    "mio_dizionario"
   ]
  },
  {
   "cell_type": "code",
   "execution_count": 3,
   "metadata": {},
   "outputs": [
    {
     "data": {
      "text/plain": [
       "{'Simone': 50}"
      ]
     },
     "execution_count": 3,
     "metadata": {},
     "output_type": "execute_result"
    }
   ],
   "source": [
    "# La chiave deve essere un elemento immutabile e unico:\n",
    "mio_dizionario = {\"Simone\": 43, \"Simone\": 50}\n",
    "\n",
    "# Se la trovo piu' di una volta solo l'ultima occorrenza e'\n",
    "# l-unica che viene memorizzata\n",
    "mio_dizionario"
   ]
  },
  {
   "cell_type": "code",
   "execution_count": 4,
   "metadata": {},
   "outputs": [
    {
     "data": {
      "text/plain": [
       "{'Simone': 43, 'Marco': 43, 'Pippo': 43}"
      ]
     },
     "execution_count": 4,
     "metadata": {},
     "output_type": "execute_result"
    }
   ],
   "source": [
    "# Nussun limite invece per quanto riguarda i valori:\n",
    "mio_dizionario = {\"Simone\" : 43, \"Marco\" : 43, \"Pippo\":43}\n",
    "mio_dizionario"
   ]
  },
  {
   "cell_type": "code",
   "execution_count": 5,
   "metadata": {},
   "outputs": [
    {
     "data": {
      "text/plain": [
       "{'Simone': 43, 'Marco': 43, 'Pippo': 43, 'Pinco': 48}"
      ]
     },
     "execution_count": 5,
     "metadata": {},
     "output_type": "execute_result"
    }
   ],
   "source": [
    "# Posso aggiungere elemnti al dizionario con un'assegnazione:\n",
    "# my_dict[chiave] = valore\n",
    "mio_dizionario[\"Pinco\"] = 48\n",
    "mio_dizionario"
   ]
  },
  {
   "cell_type": "code",
   "execution_count": 6,
   "metadata": {},
   "outputs": [
    {
     "data": {
      "text/plain": [
       "{'a': 'n', 'b': 'o', 'c': 'p'}"
      ]
     },
     "execution_count": 6,
     "metadata": {},
     "output_type": "execute_result"
    }
   ],
   "source": [
    "cifrario_rot = {\"a\":\"n\", \"b\":\"o\", \"c\": \"p\"}\n",
    "cifrario_rot"
   ]
  },
  {
   "cell_type": "code",
   "execution_count": 7,
   "metadata": {},
   "outputs": [
    {
     "data": {
      "text/plain": [
       "{'a': 'n', 'b': 'o', 'c': 'p', ('a', 'b'): 'ciao'}"
      ]
     },
     "execution_count": 7,
     "metadata": {},
     "output_type": "execute_result"
    }
   ],
   "source": [
    "# cifrario_rot[[\"a\",\"b\"]] = \"ciao\"\n",
    "cifrario_rot = {\"a\":\"n\", \"b\":\"o\", \"c\": \"p\", (\"a\",\"b\"): \"ciao\"}\n",
    "cifrario_rot"
   ]
  },
  {
   "cell_type": "markdown",
   "metadata": {
    "pycharm": {
     "name": "#%%\n"
    }
   },
   "source": [
    "### Iterare su un dizionario"
   ]
  },
  {
   "cell_type": "code",
   "execution_count": 8,
   "metadata": {},
   "outputs": [
    {
     "data": {
      "text/plain": [
       "{'Simone': 43, 'Marco': 43, 'Pippo': 43, 'Pinco': 48}"
      ]
     },
     "execution_count": 8,
     "metadata": {},
     "output_type": "execute_result"
    }
   ],
   "source": [
    "mio_dizionario"
   ]
  },
  {
   "cell_type": "code",
   "execution_count": 9,
   "metadata": {},
   "outputs": [
    {
     "name": "stdout",
     "output_type": "stream",
     "text": [
      "la chiave e': Simone a cui corrisponde 43\n",
      "la chiave e': Marco a cui corrisponde 43\n",
      "la chiave e': Pippo a cui corrisponde 43\n",
      "la chiave e': Pinco a cui corrisponde 48\n"
     ]
    }
   ],
   "source": [
    "for primo, secondo in mio_dizionario.items():\n",
    "    print(f\"la chiave e': {primo} a cui corrisponde {secondo}\")\n",
    "    "
   ]
  },
  {
   "cell_type": "code",
   "execution_count": 10,
   "metadata": {},
   "outputs": [],
   "source": [
    "primo_elemento, secondo_elemento = (\"a\", \"b\")"
   ]
  },
  {
   "cell_type": "markdown",
   "metadata": {
    "pycharm": {
     "name": "#%%\n"
    }
   },
   "source": [
    "\n",
    "### Operazioni sui dizionari"
   ]
  },
  {
   "cell_type": "markdown",
   "metadata": {
    "pycharm": {
     "name": "#%%\n"
    }
   },
   "source": [
    "\n",
    "#### Accedere al valore associato ad una chiave"
   ]
  },
  {
   "cell_type": "code",
   "execution_count": 11,
   "metadata": {},
   "outputs": [
    {
     "data": {
      "text/plain": [
       "43"
      ]
     },
     "execution_count": 11,
     "metadata": {},
     "output_type": "execute_result"
    }
   ],
   "source": [
    "# Accesso al dizionario per chiave:\n",
    "mio_dizionario[\"Simone\"] #restituisce il valore associato alla chiave \"Simone\"\n"
   ]
  },
  {
   "cell_type": "code",
   "execution_count": 12,
   "metadata": {},
   "outputs": [
    {
     "name": "stdout",
     "output_type": "stream",
     "text": [
      "la chiave e': Simone a cui corrisponde 43\n",
      "la chiave e': Marco a cui corrisponde 43\n",
      "la chiave e': Pippo a cui corrisponde 43\n",
      "la chiave e': Pinco a cui corrisponde 48\n"
     ]
    }
   ],
   "source": [
    "for primo, secondo in mio_dizionario.items():\n",
    "    print(f\"la chiave e': {primo} a cui corrisponde {mio_dizionario[primo]}\")\n",
    "    "
   ]
  },
  {
   "cell_type": "code",
   "execution_count": 13,
   "metadata": {},
   "outputs": [
    {
     "data": {
      "text/plain": [
       "{'Simone': 43, 'Marco': 43, 'Pippo': 43, 'Pinco': 48}"
      ]
     },
     "execution_count": 13,
     "metadata": {},
     "output_type": "execute_result"
    }
   ],
   "source": [
    "mio_dizionario"
   ]
  },
  {
   "cell_type": "code",
   "execution_count": 14,
   "metadata": {},
   "outputs": [
    {
     "ename": "KeyError",
     "evalue": "'Ginevra'",
     "output_type": "error",
     "traceback": [
      "\u001B[1;31m---------------------------------------------------------------------------\u001B[0m",
      "\u001B[1;31mKeyError\u001B[0m                                  Traceback (most recent call last)",
      "\u001B[1;32m~\\AppData\\Local\\Temp/ipykernel_6640/1450591434.py\u001B[0m in \u001B[0;36m<module>\u001B[1;34m\u001B[0m\n\u001B[1;32m----> 1\u001B[1;33m \u001B[0mmio_dizionario\u001B[0m\u001B[1;33m[\u001B[0m\u001B[1;34m\"Ginevra\"\u001B[0m\u001B[1;33m]\u001B[0m\u001B[1;33m\u001B[0m\u001B[1;33m\u001B[0m\u001B[0m\n\u001B[0m",
      "\u001B[1;31mKeyError\u001B[0m: 'Ginevra'"
     ]
    }
   ],
   "source": [
    "mio_dizionario[\"Ginevra\"]"
   ]
  },
  {
   "cell_type": "markdown",
   "metadata": {
    "pycharm": {
     "name": "#%%\n"
    }
   },
   "source": [
    "\n",
    "#### Aggiornare un valore associato ad una chiave"
   ]
  },
  {
   "cell_type": "code",
   "execution_count": 15,
   "metadata": {},
   "outputs": [
    {
     "data": {
      "text/plain": [
       "{'Simone': 43, 'Marco': 43, 'Pippo': 43, 'Pinco': 48}"
      ]
     },
     "execution_count": 15,
     "metadata": {},
     "output_type": "execute_result"
    }
   ],
   "source": [
    "mio_dizionario"
   ]
  },
  {
   "cell_type": "code",
   "execution_count": 16,
   "metadata": {},
   "outputs": [
    {
     "data": {
      "text/plain": [
       "{'Simone': 45, 'Marco': 43, 'Pippo': 43, 'Pinco': 48}"
      ]
     },
     "execution_count": 16,
     "metadata": {},
     "output_type": "execute_result"
    }
   ],
   "source": [
    "mio_dizionario[\"Simone\"] = 45\n",
    "mio_dizionario"
   ]
  },
  {
   "cell_type": "markdown",
   "metadata": {
    "pycharm": {
     "name": "#%%\n"
    }
   },
   "source": [
    "\n",
    "#### Rimuovere una coppia chiave-valore (pop)"
   ]
  },
  {
   "cell_type": "code",
   "execution_count": 17,
   "metadata": {},
   "outputs": [
    {
     "name": "stdout",
     "output_type": "stream",
     "text": [
      "{'Simone': 45, 'Marco': 43, 'Pippo': 43, 'Pinco': 48}\n"
     ]
    },
    {
     "data": {
      "text/plain": [
       "45"
      ]
     },
     "execution_count": 17,
     "metadata": {},
     "output_type": "execute_result"
    }
   ],
   "source": [
    "print(mio_dizionario)\n",
    "mio_dizionario.pop(\"Simone\")"
   ]
  },
  {
   "cell_type": "code",
   "execution_count": 18,
   "metadata": {},
   "outputs": [
    {
     "data": {
      "text/plain": [
       "{'Marco': 43, 'Pippo': 43, 'Pinco': 48}"
      ]
     },
     "execution_count": 18,
     "metadata": {},
     "output_type": "execute_result"
    }
   ],
   "source": [
    "mio_dizionario"
   ]
  },
  {
   "cell_type": "code",
   "execution_count": 19,
   "metadata": {},
   "outputs": [
    {
     "ename": "KeyError",
     "evalue": "'Geronimo'",
     "output_type": "error",
     "traceback": [
      "\u001B[1;31m---------------------------------------------------------------------------\u001B[0m",
      "\u001B[1;31mKeyError\u001B[0m                                  Traceback (most recent call last)",
      "\u001B[1;32m~\\AppData\\Local\\Temp/ipykernel_6640/4149056348.py\u001B[0m in \u001B[0;36m<module>\u001B[1;34m\u001B[0m\n\u001B[1;32m----> 1\u001B[1;33m \u001B[0mmio_dizionario\u001B[0m\u001B[1;33m.\u001B[0m\u001B[0mpop\u001B[0m\u001B[1;33m(\u001B[0m\u001B[1;34m\"Geronimo\"\u001B[0m\u001B[1;33m)\u001B[0m\u001B[1;33m\u001B[0m\u001B[1;33m\u001B[0m\u001B[0m\n\u001B[0m",
      "\u001B[1;31mKeyError\u001B[0m: 'Geronimo'"
     ]
    }
   ],
   "source": [
    "mio_dizionario.pop(\"Geronimo\")"
   ]
  },
  {
   "cell_type": "markdown",
   "metadata": {
    "pycharm": {
     "name": "#%%\n"
    }
   },
   "source": [
    "\n",
    "#### Controllare se una chiave è in un dizionario"
   ]
  },
  {
   "cell_type": "code",
   "execution_count": 20,
   "metadata": {},
   "outputs": [
    {
     "data": {
      "text/plain": [
       "{'Marco': 43, 'Pippo': 43, 'Pinco': 48}"
      ]
     },
     "execution_count": 20,
     "metadata": {},
     "output_type": "execute_result"
    }
   ],
   "source": [
    "mio_dizionario"
   ]
  },
  {
   "cell_type": "code",
   "execution_count": 21,
   "metadata": {},
   "outputs": [
    {
     "data": {
      "text/plain": [
       "True"
      ]
     },
     "execution_count": 21,
     "metadata": {},
     "output_type": "execute_result"
    }
   ],
   "source": [
    "\"Marco\" in mio_dizionario"
   ]
  },
  {
   "cell_type": "code",
   "execution_count": 22,
   "metadata": {},
   "outputs": [
    {
     "data": {
      "text/plain": [
       "False"
      ]
     },
     "execution_count": 22,
     "metadata": {},
     "output_type": "execute_result"
    }
   ],
   "source": [
    "\"Geronimo\" in mio_dizionario"
   ]
  },
  {
   "cell_type": "code",
   "execution_count": 23,
   "metadata": {},
   "outputs": [
    {
     "data": {
      "text/plain": [
       "False"
      ]
     },
     "execution_count": 23,
     "metadata": {},
     "output_type": "execute_result"
    }
   ],
   "source": [
    "43 in mio_dizionario"
   ]
  },
  {
   "cell_type": "markdown",
   "metadata": {
    "pycharm": {
     "name": "#%%\n"
    }
   },
   "source": [
    "\n",
    "### _keys_ e _values_"
   ]
  },
  {
   "cell_type": "code",
   "execution_count": 24,
   "metadata": {},
   "outputs": [
    {
     "data": {
      "text/plain": [
       "dict_keys(['Marco', 'Pippo', 'Pinco'])"
      ]
     },
     "execution_count": 24,
     "metadata": {},
     "output_type": "execute_result"
    }
   ],
   "source": [
    "mio_dizionario.keys()"
   ]
  },
  {
   "cell_type": "code",
   "execution_count": 25,
   "metadata": {},
   "outputs": [
    {
     "data": {
      "text/plain": [
       "dict_values([43, 43, 48])"
      ]
     },
     "execution_count": 25,
     "metadata": {},
     "output_type": "execute_result"
    }
   ],
   "source": [
    "mio_dizionario.values()"
   ]
  },
  {
   "cell_type": "code",
   "execution_count": 26,
   "metadata": {},
   "outputs": [
    {
     "data": {
      "text/plain": [
       "True"
      ]
     },
     "execution_count": 26,
     "metadata": {},
     "output_type": "execute_result"
    }
   ],
   "source": [
    "43 in mio_dizionario.values()"
   ]
  },
  {
   "cell_type": "markdown",
   "metadata": {
    "pycharm": {
     "name": "#%%\n"
    }
   },
   "source": [
    "\n",
    "### _update_"
   ]
  },
  {
   "cell_type": "code",
   "execution_count": 27,
   "metadata": {},
   "outputs": [
    {
     "data": {
      "text/plain": [
       "{'Marco': 43, 'Pippo': 43, 'Pinco': 48}"
      ]
     },
     "execution_count": 27,
     "metadata": {},
     "output_type": "execute_result"
    }
   ],
   "source": [
    "mio_dizionario"
   ]
  },
  {
   "cell_type": "code",
   "execution_count": 28,
   "metadata": {},
   "outputs": [],
   "source": [
    "mio_dizionario.update({\"Marco\": 50, 'Pippo': 45, 'Pinco': 55, \"Geronimo\" : 65})"
   ]
  },
  {
   "cell_type": "code",
   "execution_count": 29,
   "metadata": {},
   "outputs": [
    {
     "data": {
      "text/plain": [
       "{'Marco': 50, 'Pippo': 45, 'Pinco': 55, 'Geronimo': 65}"
      ]
     },
     "execution_count": 29,
     "metadata": {},
     "output_type": "execute_result"
    }
   ],
   "source": [
    "mio_dizionario"
   ]
  },
  {
   "cell_type": "code",
   "execution_count": 30,
   "metadata": {},
   "outputs": [],
   "source": [
    "mio_dizionario[\"Marco\"] = 50"
   ]
  },
  {
   "cell_type": "markdown",
   "metadata": {
    "pycharm": {
     "name": "#%%\n"
    }
   },
   "source": [
    "\n",
    "### Dictionary comprehension"
   ]
  },
  {
   "cell_type": "code",
   "execution_count": 31,
   "metadata": {
    "pycharm": {
     "name": "#%%\n"
    }
   },
   "outputs": [
    {
     "data": {
      "text/plain": [
       "'abcdefghijklmnopqrstuvwxyz'"
      ]
     },
     "execution_count": 31,
     "metadata": {},
     "output_type": "execute_result"
    }
   ],
   "source": [
    "import string\n",
    "string.ascii_lowercase\n"
   ]
  },
  {
   "cell_type": "code",
   "execution_count": 32,
   "metadata": {
    "pycharm": {
     "name": "#%%\n"
    }
   },
   "outputs": [
    {
     "data": {
      "text/plain": [
       "{'a': 0,\n",
       " 'b': 1,\n",
       " 'c': 2,\n",
       " 'd': 3,\n",
       " 'e': 4,\n",
       " 'f': 5,\n",
       " 'g': 6,\n",
       " 'h': 7,\n",
       " 'i': 8,\n",
       " 'j': 9,\n",
       " 'k': 10,\n",
       " 'l': 11,\n",
       " 'm': 12,\n",
       " 'n': 13,\n",
       " 'o': 14,\n",
       " 'p': 15,\n",
       " 'q': 16,\n",
       " 'r': 17,\n",
       " 's': 18,\n",
       " 't': 19,\n",
       " 'u': 20,\n",
       " 'v': 21,\n",
       " 'w': 22,\n",
       " 'x': 23,\n",
       " 'y': 24,\n",
       " 'z': 25}"
      ]
     },
     "execution_count": 32,
     "metadata": {},
     "output_type": "execute_result"
    }
   ],
   "source": [
    "{lettera: numero for numero, lettera in enumerate(string.ascii_lowercase)}"
   ]
  },
  {
   "cell_type": "code",
   "execution_count": 33,
   "metadata": {
    "pycharm": {
     "name": "#%%\n"
    }
   },
   "outputs": [
    {
     "name": "stdout",
     "output_type": "stream",
     "text": [
      "(0, 'a')\n",
      "(1, 'b')\n",
      "(2, 'c')\n",
      "(3, 'd')\n",
      "(4, 'e')\n",
      "(5, 'f')\n",
      "(6, 'g')\n",
      "(7, 'h')\n",
      "(8, 'i')\n",
      "(9, 'j')\n",
      "(10, 'k')\n",
      "(11, 'l')\n",
      "(12, 'm')\n",
      "(13, 'n')\n",
      "(14, 'o')\n",
      "(15, 'p')\n",
      "(16, 'q')\n",
      "(17, 'r')\n",
      "(18, 's')\n",
      "(19, 't')\n",
      "(20, 'u')\n",
      "(21, 'v')\n",
      "(22, 'w')\n",
      "(23, 'x')\n",
      "(24, 'y')\n",
      "(25, 'z')\n"
     ]
    }
   ],
   "source": [
    "for elem in enumerate(string.ascii_lowercase):\n",
    "    print(elem)"
   ]
  },
  {
   "cell_type": "code",
   "execution_count": 34,
   "metadata": {},
   "outputs": [],
   "source": [
    "voti_semestre = {\"Marco\": [18, 27,30], \"Paolo\": [24,27,21], \"Geronimo\": [15,12,20]} "
   ]
  },
  {
   "cell_type": "code",
   "execution_count": 35,
   "metadata": {},
   "outputs": [],
   "source": [
    "media = {nome: sum(voti)/len(voti) for nome, voti in voti_semestre.items()}\n",
    "media = {\"Marco\": (18+27+30 / 3)}"
   ]
  },
  {
   "cell_type": "code",
   "execution_count": 36,
   "metadata": {},
   "outputs": [
    {
     "data": {
      "text/plain": [
       "{'Marco': 55.0}"
      ]
     },
     "execution_count": 36,
     "metadata": {},
     "output_type": "execute_result"
    }
   ],
   "source": [
    "media"
   ]
  },
  {
   "cell_type": "code",
   "execution_count": 37,
   "metadata": {},
   "outputs": [
    {
     "data": {
      "text/plain": [
       "75"
      ]
     },
     "execution_count": 37,
     "metadata": {},
     "output_type": "execute_result"
    }
   ],
   "source": [
    "sum([18,27,30])"
   ]
  },
  {
   "cell_type": "code",
   "execution_count": 38,
   "metadata": {},
   "outputs": [
    {
     "data": {
      "text/plain": [
       "3"
      ]
     },
     "execution_count": 38,
     "metadata": {},
     "output_type": "execute_result"
    }
   ],
   "source": [
    "len([18,27,30])"
   ]
  },
  {
   "cell_type": "code",
   "execution_count": 39,
   "metadata": {},
   "outputs": [
    {
     "ename": "SyntaxError",
     "evalue": "cannot assign to dict comprehension (Temp/ipykernel_6640/2223525944.py, line 1)",
     "output_type": "error",
     "traceback": [
      "\u001B[1;36m  File \u001B[1;32m\"C:\\Users\\simon\\AppData\\Local\\Temp/ipykernel_6640/2223525944.py\"\u001B[1;36m, line \u001B[1;32m1\u001B[0m\n\u001B[1;33m    media = {nome: sum(voti)/len(voti) for nome, voti in voti_semestre.items()} = dict()\u001B[0m\n\u001B[1;37m            ^\u001B[0m\n\u001B[1;31mSyntaxError\u001B[0m\u001B[1;31m:\u001B[0m cannot assign to dict comprehension\n"
     ]
    }
   ],
   "source": [
    "media = {nome: sum(voti)/len(voti) for nome, voti in voti_semestre.items()} = dict()"
   ]
  },
  {
   "cell_type": "markdown",
   "metadata": {
    "pycharm": {
     "name": "#%% md\n"
    }
   },
   "source": [
    "## Set (insiemi)\n",
    "\n",
    "E' una collezione **mutabile**, **non ordinata** di elementi **immutabili e unici**"
   ]
  },
  {
   "cell_type": "markdown",
   "metadata": {
    "pycharm": {
     "name": "#%%\n"
    }
   },
   "source": [
    "### Creazione di un *set*\n",
    "La creazione di un set viene fatta:\n",
    "- utilizzando le parentesi graffe\n",
    "- utilizzando il metodo `set()` e utilizzando come argomento un iterabile qualsiasi:"
   ]
  },
  {
   "cell_type": "code",
   "execution_count": 40,
   "metadata": {},
   "outputs": [],
   "source": [
    "mio_set = {3,4,5}"
   ]
  },
  {
   "cell_type": "code",
   "execution_count": 41,
   "metadata": {},
   "outputs": [
    {
     "data": {
      "text/plain": [
       "{3, 4, 5}"
      ]
     },
     "execution_count": 41,
     "metadata": {},
     "output_type": "execute_result"
    }
   ],
   "source": [
    "mio_set"
   ]
  },
  {
   "cell_type": "code",
   "execution_count": 42,
   "metadata": {},
   "outputs": [],
   "source": [
    "mio_set = set([3,4,5])"
   ]
  },
  {
   "cell_type": "code",
   "execution_count": 43,
   "metadata": {},
   "outputs": [],
   "source": [
    "# Per creare un set vuoto:\n",
    "non_cosi = {} # questo crea un dizioanrio\n",
    "set_vuoto = set()"
   ]
  },
  {
   "cell_type": "code",
   "execution_count": 44,
   "metadata": {},
   "outputs": [
    {
     "data": {
      "text/plain": [
       "set"
      ]
     },
     "execution_count": 44,
     "metadata": {},
     "output_type": "execute_result"
    }
   ],
   "source": [
    "type(set_vuoto)"
   ]
  },
  {
   "cell_type": "code",
   "execution_count": 45,
   "metadata": {},
   "outputs": [
    {
     "data": {
      "text/plain": [
       "dict"
      ]
     },
     "execution_count": 45,
     "metadata": {},
     "output_type": "execute_result"
    }
   ],
   "source": [
    "type(non_cosi)"
   ]
  },
  {
   "cell_type": "markdown",
   "metadata": {},
   "source": [
    "Il set contiene solo elementi unici. Se propongo la costruzione di un set con elementi ripetuti questi verranno considerati comunque una volta sola."
   ]
  },
  {
   "cell_type": "code",
   "execution_count": 46,
   "metadata": {},
   "outputs": [],
   "source": [
    "mio_set = {2, 2, 2, 3, 3, 3, 4, 5, 6, 6}"
   ]
  },
  {
   "cell_type": "code",
   "execution_count": 47,
   "metadata": {},
   "outputs": [
    {
     "data": {
      "text/plain": [
       "{2, 3, 4, 5, 6}"
      ]
     },
     "execution_count": 47,
     "metadata": {},
     "output_type": "execute_result"
    }
   ],
   "source": [
    "mio_set # Il set e' fatto di elementi unici"
   ]
  },
  {
   "cell_type": "code",
   "execution_count": 48,
   "metadata": {},
   "outputs": [
    {
     "ename": "TypeError",
     "evalue": "unhashable type: 'list'",
     "output_type": "error",
     "traceback": [
      "\u001B[1;31m---------------------------------------------------------------------------\u001B[0m",
      "\u001B[1;31mTypeError\u001B[0m                                 Traceback (most recent call last)",
      "\u001B[1;32m~\\AppData\\Local\\Temp/ipykernel_6640/2698379670.py\u001B[0m in \u001B[0;36m<module>\u001B[1;34m\u001B[0m\n\u001B[0;32m      1\u001B[0m \u001B[1;31m# Il set non puo' contenere elementi mutabili (liste, dizionari..)\u001B[0m\u001B[1;33m\u001B[0m\u001B[1;33m\u001B[0m\u001B[1;33m\u001B[0m\u001B[0m\n\u001B[0;32m      2\u001B[0m \u001B[1;33m\u001B[0m\u001B[0m\n\u001B[1;32m----> 3\u001B[1;33m \u001B[0mmio_set_che_non_funziona\u001B[0m \u001B[1;33m=\u001B[0m \u001B[1;33m{\u001B[0m\u001B[1;33m[\u001B[0m\u001B[1;36m2\u001B[0m\u001B[1;33m,\u001B[0m\u001B[1;36m3\u001B[0m\u001B[1;33m]\u001B[0m\u001B[1;33m}\u001B[0m\u001B[1;33m\u001B[0m\u001B[1;33m\u001B[0m\u001B[0m\n\u001B[0m",
      "\u001B[1;31mTypeError\u001B[0m: unhashable type: 'list'"
     ]
    }
   ],
   "source": [
    "# Il set non puo' contenere elementi mutabili (liste, dizionari..)\n",
    "\n",
    "mio_set_che_non_funziona = {[2,3]}"
   ]
  },
  {
   "cell_type": "code",
   "execution_count": 49,
   "metadata": {},
   "outputs": [
    {
     "data": {
      "text/plain": [
       "{(3, 4), (9, 5, 6), 2, 5, 'a', 'stringhetta'}"
      ]
     },
     "execution_count": 49,
     "metadata": {},
     "output_type": "execute_result"
    }
   ],
   "source": [
    "mio_set_che_contiene_elementi_immutabili = {(3,4),5, 2,(9, 5,6), \"a\", \"stringhetta\"}\n",
    "mio_set_che_contiene_elementi_immutabili"
   ]
  },
  {
   "cell_type": "markdown",
   "metadata": {},
   "source": [
    "### Operazioni sui *set*"
   ]
  },
  {
   "cell_type": "markdown",
   "metadata": {},
   "source": [
    "#### Lunghezza di un set\n",
    "`len()`"
   ]
  },
  {
   "cell_type": "code",
   "execution_count": 50,
   "metadata": {},
   "outputs": [
    {
     "data": {
      "text/plain": [
       "5"
      ]
     },
     "execution_count": 50,
     "metadata": {},
     "output_type": "execute_result"
    }
   ],
   "source": [
    "len(mio_set)"
   ]
  },
  {
   "cell_type": "code",
   "execution_count": 51,
   "metadata": {},
   "outputs": [
    {
     "data": {
      "text/plain": [
       "6"
      ]
     },
     "execution_count": 51,
     "metadata": {},
     "output_type": "execute_result"
    }
   ],
   "source": [
    "len(mio_set_che_contiene_elementi_immutabili)"
   ]
  },
  {
   "cell_type": "markdown",
   "metadata": {},
   "source": [
    "#### Determinare se un elemento appartiene a un set\n",
    "Si puo' usaere l'operatore `in`"
   ]
  },
  {
   "cell_type": "code",
   "execution_count": 52,
   "metadata": {},
   "outputs": [
    {
     "data": {
      "text/plain": [
       "{2, 3, 4, 5, 6}"
      ]
     },
     "execution_count": 52,
     "metadata": {},
     "output_type": "execute_result"
    }
   ],
   "source": [
    "mio_set"
   ]
  },
  {
   "cell_type": "code",
   "execution_count": 53,
   "metadata": {},
   "outputs": [
    {
     "data": {
      "text/plain": [
       "True"
      ]
     },
     "execution_count": 53,
     "metadata": {},
     "output_type": "execute_result"
    }
   ],
   "source": [
    "2 in mio_set"
   ]
  },
  {
   "cell_type": "code",
   "execution_count": 54,
   "metadata": {},
   "outputs": [
    {
     "data": {
      "text/plain": [
       "False"
      ]
     },
     "execution_count": 54,
     "metadata": {},
     "output_type": "execute_result"
    }
   ],
   "source": [
    "10 in mio_set"
   ]
  },
  {
   "cell_type": "code",
   "execution_count": 55,
   "metadata": {},
   "outputs": [
    {
     "data": {
      "text/plain": [
       "False"
      ]
     },
     "execution_count": 55,
     "metadata": {},
     "output_type": "execute_result"
    }
   ],
   "source": [
    "3 in mio_set_che_contiene_elementi_immutabili"
   ]
  },
  {
   "cell_type": "code",
   "execution_count": 56,
   "metadata": {},
   "outputs": [
    {
     "data": {
      "text/plain": [
       "True"
      ]
     },
     "execution_count": 56,
     "metadata": {},
     "output_type": "execute_result"
    }
   ],
   "source": [
    "(3, 4) in mio_set_che_contiene_elementi_immutabili"
   ]
  },
  {
   "cell_type": "markdown",
   "metadata": {},
   "source": [
    "#### Iterare in un set "
   ]
  },
  {
   "cell_type": "code",
   "execution_count": 57,
   "metadata": {},
   "outputs": [
    {
     "name": "stdout",
     "output_type": "stream",
     "text": [
      "2\n",
      "5\n",
      "(3, 4)\n",
      "(9, 5, 6)\n",
      "stringhetta\n",
      "a\n"
     ]
    }
   ],
   "source": [
    "for elem in mio_set_che_contiene_elementi_immutabili:\n",
    "    print(elem)"
   ]
  },
  {
   "cell_type": "code",
   "execution_count": 58,
   "metadata": {},
   "outputs": [],
   "source": [
    "# Non ha senso parlare di ordine nelle iterazioni di un set"
   ]
  },
  {
   "cell_type": "markdown",
   "metadata": {},
   "source": [
    "### Confronto tra set\n",
    "I set sono propriamente degli insiemi, e come tali possono essere confrontati"
   ]
  },
  {
   "cell_type": "markdown",
   "metadata": {},
   "source": [
    "#### Sottoinsieme"
   ]
  },
  {
   "cell_type": "markdown",
   "metadata": {},
   "source": [
    "{2,3,4} < {2,3,4,5} <br>\n",
    "Il set di sinistra e' sottoinsieme del set di destra"
   ]
  },
  {
   "cell_type": "markdown",
   "metadata": {},
   "source": [
    "##### `<`,`<=`"
   ]
  },
  {
   "cell_type": "code",
   "execution_count": 59,
   "metadata": {},
   "outputs": [],
   "source": [
    "a = {2,3,4}\n",
    "b = {2,3,4,5}\n",
    "c = {2,3,5}"
   ]
  },
  {
   "cell_type": "code",
   "execution_count": 60,
   "metadata": {},
   "outputs": [
    {
     "data": {
      "text/plain": [
       "True"
      ]
     },
     "execution_count": 60,
     "metadata": {},
     "output_type": "execute_result"
    }
   ],
   "source": [
    "a < b"
   ]
  },
  {
   "cell_type": "code",
   "execution_count": 61,
   "metadata": {},
   "outputs": [
    {
     "data": {
      "text/plain": [
       "True"
      ]
     },
     "execution_count": 61,
     "metadata": {},
     "output_type": "execute_result"
    }
   ],
   "source": [
    "a <= b"
   ]
  },
  {
   "cell_type": "code",
   "execution_count": 62,
   "metadata": {},
   "outputs": [
    {
     "data": {
      "text/plain": [
       "False"
      ]
     },
     "execution_count": 62,
     "metadata": {},
     "output_type": "execute_result"
    }
   ],
   "source": [
    "a == b"
   ]
  },
  {
   "cell_type": "code",
   "execution_count": 63,
   "metadata": {},
   "outputs": [
    {
     "data": {
      "text/plain": [
       "False"
      ]
     },
     "execution_count": 63,
     "metadata": {},
     "output_type": "execute_result"
    }
   ],
   "source": [
    "a < c"
   ]
  },
  {
   "cell_type": "code",
   "execution_count": 64,
   "metadata": {},
   "outputs": [
    {
     "data": {
      "text/plain": [
       "True"
      ]
     },
     "execution_count": 64,
     "metadata": {},
     "output_type": "execute_result"
    }
   ],
   "source": [
    "c < b"
   ]
  },
  {
   "cell_type": "markdown",
   "metadata": {},
   "source": [
    "##### `issubset()`"
   ]
  },
  {
   "cell_type": "code",
   "execution_count": 65,
   "metadata": {},
   "outputs": [
    {
     "data": {
      "text/plain": [
       "True"
      ]
     },
     "execution_count": 65,
     "metadata": {},
     "output_type": "execute_result"
    }
   ],
   "source": [
    "a.issubset(b) # a < b "
   ]
  },
  {
   "cell_type": "markdown",
   "metadata": {},
   "source": [
    "####  Sovrainsieme"
   ]
  },
  {
   "cell_type": "markdown",
   "metadata": {},
   "source": [
    "##### `>` e `>=`"
   ]
  },
  {
   "cell_type": "code",
   "execution_count": 66,
   "metadata": {},
   "outputs": [
    {
     "data": {
      "text/plain": [
       "False"
      ]
     },
     "execution_count": 66,
     "metadata": {},
     "output_type": "execute_result"
    }
   ],
   "source": [
    "a > b"
   ]
  },
  {
   "cell_type": "code",
   "execution_count": 67,
   "metadata": {},
   "outputs": [
    {
     "data": {
      "text/plain": [
       "True"
      ]
     },
     "execution_count": 67,
     "metadata": {},
     "output_type": "execute_result"
    }
   ],
   "source": [
    "b > a"
   ]
  },
  {
   "cell_type": "code",
   "execution_count": 68,
   "metadata": {},
   "outputs": [
    {
     "data": {
      "text/plain": [
       "False"
      ]
     },
     "execution_count": 68,
     "metadata": {},
     "output_type": "execute_result"
    }
   ],
   "source": [
    "c > a"
   ]
  },
  {
   "cell_type": "code",
   "execution_count": 69,
   "metadata": {},
   "outputs": [
    {
     "data": {
      "text/plain": [
       "False"
      ]
     },
     "execution_count": 69,
     "metadata": {},
     "output_type": "execute_result"
    }
   ],
   "source": [
    "c > b"
   ]
  },
  {
   "cell_type": "code",
   "execution_count": 70,
   "metadata": {},
   "outputs": [
    {
     "data": {
      "text/plain": [
       "True"
      ]
     },
     "execution_count": 70,
     "metadata": {},
     "output_type": "execute_result"
    }
   ],
   "source": [
    "b > c"
   ]
  },
  {
   "cell_type": "markdown",
   "metadata": {},
   "source": [
    "##### `set1.issuperset(set2)`"
   ]
  },
  {
   "cell_type": "code",
   "execution_count": 71,
   "metadata": {},
   "outputs": [
    {
     "data": {
      "text/plain": [
       "True"
      ]
     },
     "execution_count": 71,
     "metadata": {},
     "output_type": "execute_result"
    }
   ],
   "source": [
    "b.issuperset(a) # b > a"
   ]
  },
  {
   "cell_type": "markdown",
   "metadata": {},
   "source": [
    "#### `.isdisjoint()`\n",
    "Vero se nessun elemento di a e' in b e viceversa"
   ]
  },
  {
   "cell_type": "code",
   "execution_count": 72,
   "metadata": {},
   "outputs": [
    {
     "data": {
      "text/plain": [
       "False"
      ]
     },
     "execution_count": 72,
     "metadata": {},
     "output_type": "execute_result"
    }
   ],
   "source": [
    "a.isdisjoint(b)"
   ]
  },
  {
   "cell_type": "code",
   "execution_count": 73,
   "metadata": {},
   "outputs": [],
   "source": [
    "d = {1,2,3}\n",
    "e = {4,5,6}"
   ]
  },
  {
   "cell_type": "code",
   "execution_count": 74,
   "metadata": {},
   "outputs": [
    {
     "data": {
      "text/plain": [
       "True"
      ]
     },
     "execution_count": 74,
     "metadata": {},
     "output_type": "execute_result"
    }
   ],
   "source": [
    "d.isdisjoint(e)"
   ]
  },
  {
   "cell_type": "markdown",
   "metadata": {},
   "source": [
    "### Operazioni tra insiemi\n",
    "Gli opepratori che seguono restituiscono un nuovo insieme."
   ]
  },
  {
   "cell_type": "markdown",
   "metadata": {},
   "source": [
    "#### Unione `|` o `set1.union(set2)`\n",
    "Insieme contenete tutti gli elementi dei due insiemi"
   ]
  },
  {
   "cell_type": "code",
   "execution_count": 75,
   "metadata": {},
   "outputs": [
    {
     "data": {
      "text/plain": [
       "{2, 3, 4}"
      ]
     },
     "execution_count": 75,
     "metadata": {},
     "output_type": "execute_result"
    }
   ],
   "source": [
    "a"
   ]
  },
  {
   "cell_type": "code",
   "execution_count": 76,
   "metadata": {},
   "outputs": [
    {
     "data": {
      "text/plain": [
       "{2, 3, 4, 5}"
      ]
     },
     "execution_count": 76,
     "metadata": {},
     "output_type": "execute_result"
    }
   ],
   "source": [
    "b"
   ]
  },
  {
   "cell_type": "code",
   "execution_count": 77,
   "metadata": {},
   "outputs": [],
   "source": [
    "a_unito_b = a | b"
   ]
  },
  {
   "cell_type": "code",
   "execution_count": 78,
   "metadata": {},
   "outputs": [
    {
     "data": {
      "text/plain": [
       "{2, 3, 4, 5}"
      ]
     },
     "execution_count": 78,
     "metadata": {},
     "output_type": "execute_result"
    }
   ],
   "source": [
    "a_unito_b"
   ]
  },
  {
   "cell_type": "code",
   "execution_count": 79,
   "metadata": {},
   "outputs": [
    {
     "data": {
      "text/plain": [
       "{2, 3, 4, 5}"
      ]
     },
     "execution_count": 79,
     "metadata": {},
     "output_type": "execute_result"
    }
   ],
   "source": [
    "a.union(b)"
   ]
  },
  {
   "cell_type": "code",
   "execution_count": 80,
   "metadata": {},
   "outputs": [
    {
     "data": {
      "text/plain": [
       "{2, 3, 4, 5}"
      ]
     },
     "execution_count": 80,
     "metadata": {},
     "output_type": "execute_result"
    }
   ],
   "source": [
    "b.union(a)"
   ]
  },
  {
   "cell_type": "markdown",
   "metadata": {},
   "source": [
    "#### Intersezione `&` o `set1.intersection(set2)`\n",
    "Inseme contenenti gli elementi dei che  due insiemi hanno in comune"
   ]
  },
  {
   "cell_type": "code",
   "execution_count": 81,
   "metadata": {},
   "outputs": [
    {
     "data": {
      "text/plain": [
       "{2, 3, 4}"
      ]
     },
     "execution_count": 81,
     "metadata": {},
     "output_type": "execute_result"
    }
   ],
   "source": [
    "a"
   ]
  },
  {
   "cell_type": "code",
   "execution_count": 82,
   "metadata": {},
   "outputs": [
    {
     "data": {
      "text/plain": [
       "{2, 3, 5}"
      ]
     },
     "execution_count": 82,
     "metadata": {},
     "output_type": "execute_result"
    }
   ],
   "source": [
    "c"
   ]
  },
  {
   "cell_type": "code",
   "execution_count": 83,
   "metadata": {},
   "outputs": [
    {
     "data": {
      "text/plain": [
       "{2, 3}"
      ]
     },
     "execution_count": 83,
     "metadata": {},
     "output_type": "execute_result"
    }
   ],
   "source": [
    "a & c"
   ]
  },
  {
   "cell_type": "code",
   "execution_count": 84,
   "metadata": {},
   "outputs": [
    {
     "data": {
      "text/plain": [
       "{2, 3}"
      ]
     },
     "execution_count": 84,
     "metadata": {},
     "output_type": "execute_result"
    }
   ],
   "source": [
    "a.intersection(c)"
   ]
  },
  {
   "cell_type": "markdown",
   "metadata": {},
   "source": [
    "#### Differenza insiemistica `-` o `set1.difference(set2)`\n",
    "Insieme contenente gli elementi dell'insieme di sinistra che **non** sono in quello di destra"
   ]
  },
  {
   "cell_type": "code",
   "execution_count": 85,
   "metadata": {},
   "outputs": [],
   "source": [
    "a = {1,2,3,4}"
   ]
  },
  {
   "cell_type": "code",
   "execution_count": 86,
   "metadata": {},
   "outputs": [],
   "source": [
    "b = {2,3,4,5}"
   ]
  },
  {
   "cell_type": "code",
   "execution_count": 87,
   "metadata": {},
   "outputs": [
    {
     "data": {
      "text/plain": [
       "{1}"
      ]
     },
     "execution_count": 87,
     "metadata": {},
     "output_type": "execute_result"
    }
   ],
   "source": [
    "a - b"
   ]
  },
  {
   "cell_type": "code",
   "execution_count": 88,
   "metadata": {},
   "outputs": [
    {
     "data": {
      "text/plain": [
       "{5}"
      ]
     },
     "execution_count": 88,
     "metadata": {},
     "output_type": "execute_result"
    }
   ],
   "source": [
    "b - a"
   ]
  },
  {
   "cell_type": "code",
   "execution_count": 89,
   "metadata": {},
   "outputs": [
    {
     "data": {
      "text/plain": [
       "{1}"
      ]
     },
     "execution_count": 89,
     "metadata": {},
     "output_type": "execute_result"
    }
   ],
   "source": [
    "a.difference(b)"
   ]
  },
  {
   "cell_type": "markdown",
   "metadata": {},
   "source": [
    "#### Differenza simmetrica `^` o `set1.symmetric_difference(set2)`\n",
    "Insieme contenente gli elementi dell'insieme di sinistra che non sono in quello di destra e viceversa"
   ]
  },
  {
   "cell_type": "code",
   "execution_count": 90,
   "metadata": {},
   "outputs": [
    {
     "data": {
      "text/plain": [
       "{1, 5}"
      ]
     },
     "execution_count": 90,
     "metadata": {},
     "output_type": "execute_result"
    }
   ],
   "source": [
    "a ^ b"
   ]
  },
  {
   "cell_type": "code",
   "execution_count": 91,
   "metadata": {},
   "outputs": [
    {
     "data": {
      "text/plain": [
       "{1, 5}"
      ]
     },
     "execution_count": 91,
     "metadata": {},
     "output_type": "execute_result"
    }
   ],
   "source": [
    "b ^ a"
   ]
  },
  {
   "cell_type": "code",
   "execution_count": 92,
   "metadata": {},
   "outputs": [
    {
     "data": {
      "text/plain": [
       "{1, 5}"
      ]
     },
     "execution_count": 92,
     "metadata": {},
     "output_type": "execute_result"
    }
   ],
   "source": [
    "a.symmetric_difference(b)"
   ]
  },
  {
   "cell_type": "markdown",
   "metadata": {},
   "source": [
    "In tutto cio', `a`, `b` e tutti i set coinvolti, restano invariati: tutte le operazioni viste fin'ora creano un nuovo set:"
   ]
  },
  {
   "cell_type": "code",
   "execution_count": 93,
   "metadata": {},
   "outputs": [
    {
     "data": {
      "text/plain": [
       "{1, 2, 3, 4}"
      ]
     },
     "execution_count": 93,
     "metadata": {},
     "output_type": "execute_result"
    }
   ],
   "source": [
    "a"
   ]
  },
  {
   "cell_type": "code",
   "execution_count": 94,
   "metadata": {},
   "outputs": [
    {
     "data": {
      "text/plain": [
       "{2, 3, 4, 5}"
      ]
     },
     "execution_count": 94,
     "metadata": {},
     "output_type": "execute_result"
    }
   ],
   "source": [
    "b"
   ]
  },
  {
   "cell_type": "markdown",
   "metadata": {},
   "source": [
    "### Operazioni che modificano il set stesso su cui agiscono\n",
    "Il set e' *mutabile*, come le liste e i dizionari. Questo significa che ad un set possiamo aggiungere elementi, togliere elementi, sostituirne ecc...<br>\n",
    "I metodi che seguono agiscono sul set che li esegue."
   ]
  },
  {
   "cell_type": "markdown",
   "metadata": {},
   "source": [
    "#### `update()`\n",
    "La funzione `a.update(b)` esegue l'unione dei due set `a` e `b`, ma il riusltato dell'unione modifica direttamente il set chiamante, cioe' `a`"
   ]
  },
  {
   "cell_type": "code",
   "execution_count": 100,
   "metadata": {},
   "outputs": [],
   "source": [
    "mio_set = {1,2,3,4}\n",
    "altro_set = {9,8,7}"
   ]
  },
  {
   "cell_type": "code",
   "execution_count": 101,
   "metadata": {},
   "outputs": [
    {
     "data": {
      "text/plain": [
       "{1, 2, 3, 4}"
      ]
     },
     "execution_count": 101,
     "metadata": {},
     "output_type": "execute_result"
    }
   ],
   "source": [
    "mio_set"
   ]
  },
  {
   "cell_type": "code",
   "execution_count": 102,
   "metadata": {},
   "outputs": [
    {
     "data": {
      "text/plain": [
       "{7, 8, 9}"
      ]
     },
     "execution_count": 102,
     "metadata": {},
     "output_type": "execute_result"
    }
   ],
   "source": [
    "altro_set"
   ]
  },
  {
   "cell_type": "code",
   "execution_count": 103,
   "metadata": {},
   "outputs": [],
   "source": [
    "mio_set.update(altro_set)"
   ]
  },
  {
   "cell_type": "code",
   "execution_count": 104,
   "metadata": {},
   "outputs": [
    {
     "data": {
      "text/plain": [
       "{1, 2, 3, 4, 7, 8, 9}"
      ]
     },
     "execution_count": 104,
     "metadata": {},
     "output_type": "execute_result"
    }
   ],
   "source": [
    "mio_set"
   ]
  },
  {
   "cell_type": "markdown",
   "metadata": {},
   "source": [
    "#### `remove()`, `discard()` e `pop()`\n",
    "* `remove()` elimina un elemento dal set. L'elemento eleiminato deve appartenere al set, altrimenti verra' generato un `KeyError`\n",
    "* `discard()` rimuove un elemento dal set se questo elemento esiste. In caso contrario non fa niente\n",
    "* `pop()` elimina un elemento casuale dal set e lo restituisce all'editor."
   ]
  },
  {
   "cell_type": "code",
   "execution_count": 105,
   "metadata": {},
   "outputs": [],
   "source": [
    "mio_set = {1,2,3,4}"
   ]
  },
  {
   "cell_type": "code",
   "execution_count": 106,
   "metadata": {},
   "outputs": [],
   "source": [
    "mio_set.remove(4) # rimuovi l'elemento \"4\""
   ]
  },
  {
   "cell_type": "code",
   "execution_count": 107,
   "metadata": {},
   "outputs": [
    {
     "data": {
      "text/plain": [
       "{1, 2, 3}"
      ]
     },
     "execution_count": 107,
     "metadata": {},
     "output_type": "execute_result"
    }
   ],
   "source": [
    "mio_set"
   ]
  },
  {
   "cell_type": "code",
   "execution_count": 108,
   "metadata": {},
   "outputs": [
    {
     "ename": "KeyError",
     "evalue": "10",
     "output_type": "error",
     "traceback": [
      "\u001B[1;31m---------------------------------------------------------------------------\u001B[0m",
      "\u001B[1;31mKeyError\u001B[0m                                  Traceback (most recent call last)",
      "\u001B[1;32m~\\AppData\\Local\\Temp/ipykernel_6640/4038409878.py\u001B[0m in \u001B[0;36m<module>\u001B[1;34m\u001B[0m\n\u001B[1;32m----> 1\u001B[1;33m \u001B[0mmio_set\u001B[0m\u001B[1;33m.\u001B[0m\u001B[0mremove\u001B[0m\u001B[1;33m(\u001B[0m\u001B[1;36m10\u001B[0m\u001B[1;33m)\u001B[0m \u001B[1;31m# non posso rimnuvere elementi che non sono nel set\u001B[0m\u001B[1;33m\u001B[0m\u001B[1;33m\u001B[0m\u001B[0m\n\u001B[0m",
      "\u001B[1;31mKeyError\u001B[0m: 10"
     ]
    }
   ],
   "source": [
    "mio_set.remove(10) # non posso rimnuvere elementi che non sono nel set"
   ]
  },
  {
   "cell_type": "code",
   "execution_count": 109,
   "metadata": {},
   "outputs": [
    {
     "data": {
      "text/plain": [
       "{1, 2, 3}"
      ]
     },
     "execution_count": 109,
     "metadata": {},
     "output_type": "execute_result"
    }
   ],
   "source": [
    "mio_set"
   ]
  },
  {
   "cell_type": "code",
   "execution_count": 110,
   "metadata": {},
   "outputs": [],
   "source": [
    "mio_set.discard(3) # discard rimuove un elemento presente nel set:"
   ]
  },
  {
   "cell_type": "code",
   "execution_count": 111,
   "metadata": {},
   "outputs": [
    {
     "data": {
      "text/plain": [
       "{1, 2}"
      ]
     },
     "execution_count": 111,
     "metadata": {},
     "output_type": "execute_result"
    }
   ],
   "source": [
    "mio_set"
   ]
  },
  {
   "cell_type": "code",
   "execution_count": 112,
   "metadata": {},
   "outputs": [],
   "source": [
    "mio_set.discard(10) # con discard tentare una rimozione di un elemento non \n",
    "                    # esistente non genera alcun problema"
   ]
  },
  {
   "cell_type": "code",
   "execution_count": 113,
   "metadata": {},
   "outputs": [
    {
     "data": {
      "text/plain": [
       "{1, 2}"
      ]
     },
     "execution_count": 113,
     "metadata": {},
     "output_type": "execute_result"
    }
   ],
   "source": [
    "mio_set"
   ]
  },
  {
   "cell_type": "markdown",
   "metadata": {},
   "source": [
    "#### `add()` e ~`append()`~\n",
    "Abbiamo visto che sulle liste per aggiungere un elemento in coda alla stessa potevamo usare il metodo `append()`.\n",
    "Non essendo il set una struttura ordinata non ha senso il concetto di \"appendere in coda\". Append viene quindi sostituito con il piu' generico `add()`"
   ]
  },
  {
   "cell_type": "code",
   "execution_count": 114,
   "metadata": {},
   "outputs": [
    {
     "data": {
      "text/plain": [
       "{1, 2}"
      ]
     },
     "execution_count": 114,
     "metadata": {},
     "output_type": "execute_result"
    }
   ],
   "source": [
    "mio_set"
   ]
  },
  {
   "cell_type": "code",
   "execution_count": 115,
   "metadata": {},
   "outputs": [
    {
     "ename": "AttributeError",
     "evalue": "'set' object has no attribute 'append'",
     "output_type": "error",
     "traceback": [
      "\u001B[1;31m---------------------------------------------------------------------------\u001B[0m",
      "\u001B[1;31mAttributeError\u001B[0m                            Traceback (most recent call last)",
      "\u001B[1;32m~\\AppData\\Local\\Temp/ipykernel_6640/590706751.py\u001B[0m in \u001B[0;36m<module>\u001B[1;34m\u001B[0m\n\u001B[1;32m----> 1\u001B[1;33m \u001B[0mmio_set\u001B[0m\u001B[1;33m.\u001B[0m\u001B[0mappend\u001B[0m\u001B[1;33m(\u001B[0m\u001B[1;36m5\u001B[0m\u001B[1;33m)\u001B[0m \u001B[1;31m# Non posso \"appendere in coda\"\u001B[0m\u001B[1;33m\u001B[0m\u001B[1;33m\u001B[0m\u001B[0m\n\u001B[0m",
      "\u001B[1;31mAttributeError\u001B[0m: 'set' object has no attribute 'append'"
     ]
    }
   ],
   "source": [
    "mio_set.append(5) # Non posso \"appendere in coda\""
   ]
  },
  {
   "cell_type": "code",
   "execution_count": 116,
   "metadata": {},
   "outputs": [],
   "source": [
    "mio_set.add(5) # genericamente aggiungo"
   ]
  },
  {
   "cell_type": "code",
   "execution_count": 117,
   "metadata": {},
   "outputs": [
    {
     "data": {
      "text/plain": [
       "{1, 2, 5}"
      ]
     },
     "execution_count": 117,
     "metadata": {},
     "output_type": "execute_result"
    }
   ],
   "source": [
    "mio_set"
   ]
  },
  {
   "cell_type": "code",
   "execution_count": 118,
   "metadata": {},
   "outputs": [
    {
     "ename": "TypeError",
     "evalue": "add() takes exactly one argument (3 given)",
     "output_type": "error",
     "traceback": [
      "\u001B[1;31m---------------------------------------------------------------------------\u001B[0m",
      "\u001B[1;31mTypeError\u001B[0m                                 Traceback (most recent call last)",
      "\u001B[1;32m~\\AppData\\Local\\Temp/ipykernel_6640/2585708449.py\u001B[0m in \u001B[0;36m<module>\u001B[1;34m\u001B[0m\n\u001B[1;32m----> 1\u001B[1;33m \u001B[0mmio_set\u001B[0m\u001B[1;33m.\u001B[0m\u001B[0madd\u001B[0m\u001B[1;33m(\u001B[0m\u001B[1;36m5\u001B[0m\u001B[1;33m,\u001B[0m\u001B[1;36m6\u001B[0m\u001B[1;33m,\u001B[0m\u001B[1;36m7\u001B[0m\u001B[1;33m)\u001B[0m \u001B[1;31m# add funziona solo con 1 solo argomento.\u001B[0m\u001B[1;33m\u001B[0m\u001B[1;33m\u001B[0m\u001B[0m\n\u001B[0m",
      "\u001B[1;31mTypeError\u001B[0m: add() takes exactly one argument (3 given)"
     ]
    }
   ],
   "source": [
    "mio_set.add(5,6,7) # add funziona solo con 1 solo argomento."
   ]
  },
  {
   "cell_type": "markdown",
   "metadata": {},
   "source": [
    "### Copia di un set: assegnazione e metodo `copy()` \n",
    "Come per le liste, l'assegnazione di un set ad una variaile non crea una copia dell'oggetto ma si limita ad assegnare allo stesso oggetto un secondo nome: modifiche fatte sul primo o sul secondo oggetto si riflettono su entrambi.\n",
    "Il metodo `copy()` crea una **lazy_copy** del set: una copia pigra. La copia e' fatta per riferimento, ma non appena alcuni degli elementi di uno o dell'altro set vengono modificati, se crea una copia profonda;"
   ]
  },
  {
   "cell_type": "code",
   "execution_count": 119,
   "metadata": {},
   "outputs": [],
   "source": [
    "primo_set = {1,2,3,4}"
   ]
  },
  {
   "cell_type": "code",
   "execution_count": 120,
   "metadata": {},
   "outputs": [],
   "source": [
    "secondo_set = primo_set"
   ]
  },
  {
   "cell_type": "code",
   "execution_count": 121,
   "metadata": {},
   "outputs": [
    {
     "data": {
      "text/plain": [
       "{1, 2, 3, 4}"
      ]
     },
     "execution_count": 121,
     "metadata": {},
     "output_type": "execute_result"
    }
   ],
   "source": [
    "secondo_set"
   ]
  },
  {
   "cell_type": "code",
   "execution_count": 122,
   "metadata": {},
   "outputs": [],
   "source": [
    "# se modifico uno dei due set:\n",
    "secondo_set.add(100)"
   ]
  },
  {
   "cell_type": "code",
   "execution_count": 123,
   "metadata": {},
   "outputs": [
    {
     "data": {
      "text/plain": [
       "{1, 2, 3, 4, 100}"
      ]
     },
     "execution_count": 123,
     "metadata": {},
     "output_type": "execute_result"
    }
   ],
   "source": [
    "secondo_set"
   ]
  },
  {
   "cell_type": "code",
   "execution_count": 124,
   "metadata": {},
   "outputs": [
    {
     "data": {
      "text/plain": [
       "{1, 2, 3, 4, 100}"
      ]
     },
     "execution_count": 124,
     "metadata": {},
     "output_type": "execute_result"
    }
   ],
   "source": [
    "primo_set # primo_set e secondo_set sono di fatto due nomi dello stesso oggetto:"
   ]
  },
  {
   "cell_type": "code",
   "execution_count": 125,
   "metadata": {},
   "outputs": [
    {
     "data": {
      "text/plain": [
       "True"
      ]
     },
     "execution_count": 125,
     "metadata": {},
     "output_type": "execute_result"
    }
   ],
   "source": [
    "primo_set is secondo_set"
   ]
  },
  {
   "cell_type": "markdown",
   "metadata": {},
   "source": [
    "Con il comando  copy creo invece una copia per riferimento dei due set:"
   ]
  },
  {
   "cell_type": "code",
   "execution_count": 126,
   "metadata": {},
   "outputs": [
    {
     "data": {
      "text/plain": [
       "{1, 2, 3, 4, 100}"
      ]
     },
     "execution_count": 126,
     "metadata": {},
     "output_type": "execute_result"
    }
   ],
   "source": [
    "primo_set "
   ]
  },
  {
   "cell_type": "code",
   "execution_count": 127,
   "metadata": {},
   "outputs": [],
   "source": [
    "terzo_set = primo_set.copy()"
   ]
  },
  {
   "cell_type": "code",
   "execution_count": 128,
   "metadata": {},
   "outputs": [
    {
     "data": {
      "text/plain": [
       "False"
      ]
     },
     "execution_count": 128,
     "metadata": {},
     "output_type": "execute_result"
    }
   ],
   "source": [
    "primo_set is terzo_set  # possiamo gia' verificare che i due oggetti non vengono \n",
    "                        # riconosciuti come lo stesso oggetto"
   ]
  },
  {
   "cell_type": "code",
   "execution_count": 129,
   "metadata": {},
   "outputs": [
    {
     "name": "stdout",
     "output_type": "stream",
     "text": [
      "{1, 2, 3, 100, 4}\n",
      "{1, 2, 3, 100, 4}\n"
     ]
    }
   ],
   "source": [
    "# Se stampati non vi sono differenze:\n",
    "print(primo_set, terzo_set, sep=\"\\n\")"
   ]
  },
  {
   "cell_type": "code",
   "execution_count": 130,
   "metadata": {},
   "outputs": [],
   "source": [
    "# e ovviamente, agire su uno dei due non ha effetti sull'altro:\n",
    "primo_set.remove(100)"
   ]
  },
  {
   "cell_type": "code",
   "execution_count": 131,
   "metadata": {},
   "outputs": [
    {
     "name": "stdout",
     "output_type": "stream",
     "text": [
      "{1, 2, 3, 4}\n",
      "{1, 2, 3, 100, 4}\n"
     ]
    }
   ],
   "source": [
    "print(primo_set, terzo_set, sep=\"\\n\")"
   ]
  }
 ],
 "metadata": {
  "kernelspec": {
   "display_name": "Python 3 (ipykernel)",
   "language": "python",
   "name": "python3"
  },
  "language_info": {
   "codemirror_mode": {
    "name": "ipython",
    "version": 3
   },
   "file_extension": ".py",
   "mimetype": "text/x-python",
   "name": "python",
   "nbconvert_exporter": "python",
   "pygments_lexer": "ipython3",
   "version": "3.8.12"
  },
  "toc": {
   "base_numbering": 1,
   "nav_menu": {},
   "number_sections": true,
   "sideBar": true,
   "skip_h1_title": true,
   "title_cell": "Dizionari e Set",
   "title_sidebar": "Contents",
   "toc_cell": true,
   "toc_position": {
    "height": "calc(100% - 180px)",
    "left": "10px",
    "top": "150px",
    "width": "449.8px"
   },
   "toc_section_display": true,
   "toc_window_display": false
  },
  "varInspector": {
   "cols": {
    "lenName": 16,
    "lenType": 16,
    "lenVar": 40
   },
   "kernels_config": {
    "python": {
     "delete_cmd_postfix": "",
     "delete_cmd_prefix": "del ",
     "library": "var_list.py",
     "varRefreshCmd": "print(var_dic_list())"
    },
    "r": {
     "delete_cmd_postfix": ") ",
     "delete_cmd_prefix": "rm(",
     "library": "var_list.r",
     "varRefreshCmd": "cat(var_dic_list()) "
    }
   },
   "types_to_exclude": [
    "module",
    "function",
    "builtin_function_or_method",
    "instance",
    "_Feature"
   ],
   "window_display": false
  }
 },
 "nbformat": 4,
 "nbformat_minor": 1
}