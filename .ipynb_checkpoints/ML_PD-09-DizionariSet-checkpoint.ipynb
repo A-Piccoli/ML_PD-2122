{
 "cells": [
  {
   "cell_type": "markdown",
   "metadata": {
    "toc": true
   },
   "source": [
    "<h1>Table of Contents<span class=\"tocSkip\"></span></h1>\n",
    "<div class=\"toc\"><ul class=\"toc-item\"><li><span><a href=\"#Dizionari\" data-toc-modified-id=\"Dizionari-1\"><span class=\"toc-item-num\">1&nbsp;&nbsp;</span>Dizionari</a></span><ul class=\"toc-item\"><li><span><a href=\"#Creazione-di-un-dizionario\" data-toc-modified-id=\"Creazione-di-un-dizionario-1.1\"><span class=\"toc-item-num\">1.1&nbsp;&nbsp;</span>Creazione di un dizionario</a></span></li><li><span><a href=\"#Iterare-su-un-dizionario\" data-toc-modified-id=\"Iterare-su-un-dizionario-1.2\"><span class=\"toc-item-num\">1.2&nbsp;&nbsp;</span>Iterare su un dizionario</a></span></li><li><span><a href=\"#Operazioni-sui-dizionari\" data-toc-modified-id=\"Operazioni-sui-dizionari-1.3\"><span class=\"toc-item-num\">1.3&nbsp;&nbsp;</span>Operazioni sui dizionari</a></span><ul class=\"toc-item\"><li><span><a href=\"#Accedere-al-valore-associato-ad-una-chiave\" data-toc-modified-id=\"Accedere-al-valore-associato-ad-una-chiave-1.3.1\"><span class=\"toc-item-num\">1.3.1&nbsp;&nbsp;</span>Accedere al valore associato ad una chiave</a></span></li><li><span><a href=\"#Aggiornare-un-valore-associato-ad-una-chiave\" data-toc-modified-id=\"Aggiornare-un-valore-associato-ad-una-chiave-1.3.2\"><span class=\"toc-item-num\">1.3.2&nbsp;&nbsp;</span>Aggiornare un valore associato ad una chiave</a></span></li><li><span><a href=\"#Rimuovere-una-coppia-chiave-valore-(pop)\" data-toc-modified-id=\"Rimuovere-una-coppia-chiave-valore-(pop)-1.3.3\"><span class=\"toc-item-num\">1.3.3&nbsp;&nbsp;</span>Rimuovere una coppia chiave-valore (pop)</a></span></li><li><span><a href=\"#Controllare-se-una-chiave-è-in-un-dizionario\" data-toc-modified-id=\"Controllare-se-una-chiave-è-in-un-dizionario-1.3.4\"><span class=\"toc-item-num\">1.3.4&nbsp;&nbsp;</span>Controllare se una chiave è in un dizionario</a></span></li></ul></li><li><span><a href=\"#keys-e-values\" data-toc-modified-id=\"keys-e-values-1.4\"><span class=\"toc-item-num\">1.4&nbsp;&nbsp;</span><em>keys</em> e <em>values</em></a></span></li><li><span><a href=\"#update\" data-toc-modified-id=\"update-1.5\"><span class=\"toc-item-num\">1.5&nbsp;&nbsp;</span><em>update</em></a></span></li><li><span><a href=\"#Dictionary-comprehension\" data-toc-modified-id=\"Dictionary-comprehension-1.6\"><span class=\"toc-item-num\">1.6&nbsp;&nbsp;</span>Dictionary comprehension</a></span></li></ul></li><li><span><a href=\"#Set-(insiemi)\" data-toc-modified-id=\"Set-(insiemi)-2\"><span class=\"toc-item-num\">2&nbsp;&nbsp;</span>Set (insiemi)</a></span><ul class=\"toc-item\"><li><span><a href=\"#Creazione-di-un-set\" data-toc-modified-id=\"Creazione-di-un-set-2.1\"><span class=\"toc-item-num\">2.1&nbsp;&nbsp;</span>Creazione di un <em>set</em></a></span></li><li><span><a href=\"#Operazioni-sui-set\" data-toc-modified-id=\"Operazioni-sui-set-2.2\"><span class=\"toc-item-num\">2.2&nbsp;&nbsp;</span>Operazioni sui <em>set</em></a></span><ul class=\"toc-item\"><li><span><a href=\"#Lunghezza-di-un-set\" data-toc-modified-id=\"Lunghezza-di-un-set-2.2.1\"><span class=\"toc-item-num\">2.2.1&nbsp;&nbsp;</span>Lunghezza di un set</a></span></li><li><span><a href=\"#Determinare-se-un-elemento-appartiene-a-un-set\" data-toc-modified-id=\"Determinare-se-un-elemento-appartiene-a-un-set-2.2.2\"><span class=\"toc-item-num\">2.2.2&nbsp;&nbsp;</span>Determinare se un elemento appartiene a un set</a></span></li><li><span><a href=\"#Iterare-in-un-set\" data-toc-modified-id=\"Iterare-in-un-set-2.2.3\"><span class=\"toc-item-num\">2.2.3&nbsp;&nbsp;</span>Iterare in un set</a></span></li></ul></li><li><span><a href=\"#Confronto-tra-set\" data-toc-modified-id=\"Confronto-tra-set-2.3\"><span class=\"toc-item-num\">2.3&nbsp;&nbsp;</span>Confronto tra set</a></span><ul class=\"toc-item\"><li><span><a href=\"#Sottoinsieme\" data-toc-modified-id=\"Sottoinsieme-2.3.1\"><span class=\"toc-item-num\">2.3.1&nbsp;&nbsp;</span>Sottoinsieme</a></span><ul class=\"toc-item\"><li><span><a href=\"#<,<=\" data-toc-modified-id=\"<,<=-2.3.1.1\"><span class=\"toc-item-num\">2.3.1.1&nbsp;&nbsp;</span><code>&lt;</code>,<code>&lt;=</code></a></span></li><li><span><a href=\"#issubset()\" data-toc-modified-id=\"issubset()-2.3.1.2\"><span class=\"toc-item-num\">2.3.1.2&nbsp;&nbsp;</span><code>issubset()</code></a></span></li></ul></li><li><span><a href=\"#Sovrainsieme\" data-toc-modified-id=\"Sovrainsieme-2.3.2\"><span class=\"toc-item-num\">2.3.2&nbsp;&nbsp;</span>Sovrainsieme</a></span><ul class=\"toc-item\"><li><span><a href=\"#<-e-<=\" data-toc-modified-id=\"<-e-<=-2.3.2.1\"><span class=\"toc-item-num\">2.3.2.1&nbsp;&nbsp;</span><code>&lt;</code> e <code>&lt;=</code></a></span></li><li><span><a href=\"#set1.issuperset(set2)\" data-toc-modified-id=\"set1.issuperset(set2)-2.3.2.2\"><span class=\"toc-item-num\">2.3.2.2&nbsp;&nbsp;</span><code>set1.issuperset(set2)</code></a></span></li></ul></li></ul></li><li><span><a href=\"#Operazioni-tra-insiemi\" data-toc-modified-id=\"Operazioni-tra-insiemi-2.4\"><span class=\"toc-item-num\">2.4&nbsp;&nbsp;</span>Operazioni tra insiemi</a></span><ul class=\"toc-item\"><li><span><a href=\"#Unione-|-o-set1.union(set2)\" data-toc-modified-id=\"Unione-|-o-set1.union(set2)-2.4.1\"><span class=\"toc-item-num\">2.4.1&nbsp;&nbsp;</span>Unione <code>|</code> o <code>set1.union(set2)</code></a></span></li><li><span><a href=\"#Intersezione-&amp;-o-set1.intersection(set2)\" data-toc-modified-id=\"Intersezione-&amp;-o-set1.intersection(set2)-2.4.2\"><span class=\"toc-item-num\">2.4.2&nbsp;&nbsp;</span>Intersezione <code>&amp;</code> o <code>set1.intersection(set2)</code></a></span></li><li><span><a href=\"#Differenza-insiemistica---o-set1.difference(set2)\" data-toc-modified-id=\"Differenza-insiemistica---o-set1.difference(set2)-2.4.3\"><span class=\"toc-item-num\">2.4.3&nbsp;&nbsp;</span>Differenza insiemistica <code>-</code> o <code>set1.difference(set2)</code></a></span></li><li><span><a href=\"#Differenza-simmetrica-^-o-set1.symmetric_difference(set2)\" data-toc-modified-id=\"Differenza-simmetrica-^-o-set1.symmetric_difference(set2)-2.4.4\"><span class=\"toc-item-num\">2.4.4&nbsp;&nbsp;</span>Differenza simmetrica <code>^</code> o <code>set1.symmetric_difference(set2)</code></a></span></li><li><span><a href=\"#Insiemi-disgiunti-set1.isdisjoint(set2)\" data-toc-modified-id=\"Insiemi-disgiunti-set1.isdisjoint(set2)-2.4.5\"><span class=\"toc-item-num\">2.4.5&nbsp;&nbsp;</span>Insiemi disgiunti <code>set1.isdisjoint(set2)</code></a></span></li></ul></li></ul></li></ul></div>"
   ]
  },
  {
   "cell_type": "markdown",
   "metadata": {
    "collapsed": true,
    "pycharm": {
     "name": "#%% md\n"
    }
   },
   "source": [
    "# Dizionari e Set"
   ]
  },
  {
   "cell_type": "markdown",
   "metadata": {
    "pycharm": {
     "name": "#%% md\n"
    }
   },
   "source": [
    "## Dizionari\n",
    "\n",
    "E' una collezione **mutabile**, *non oridnata* di oggetti che memorizza **coppie chiave-valore**\n",
    "\n",
    "`my_dict = {chiave1: valore1, chiave2: valore2 ..}`"
   ]
  },
  {
   "cell_type": "markdown",
   "metadata": {
    "pycharm": {
     "name": "#%% md\n"
    }
   },
   "source": [
    "### Creazione di un dizionario"
   ]
  },
  {
   "cell_type": "code",
   "execution_count": 1,
   "metadata": {},
   "outputs": [],
   "source": [
    "mio_dizionario = {\"Simone\" : 43, \"Marco\" : 44, \"Pippo\":60}"
   ]
  },
  {
   "cell_type": "code",
   "execution_count": 3,
   "metadata": {},
   "outputs": [
    {
     "data": {
      "text/plain": [
       "{'Simone': 43, 'Marco': 44, 'Pippo': 60}"
      ]
     },
     "execution_count": 3,
     "metadata": {},
     "output_type": "execute_result"
    }
   ],
   "source": [
    "mio_dizionario"
   ]
  },
  {
   "cell_type": "code",
   "execution_count": 4,
   "metadata": {},
   "outputs": [
    {
     "data": {
      "text/plain": [
       "{'Simone': 50}"
      ]
     },
     "execution_count": 4,
     "metadata": {},
     "output_type": "execute_result"
    }
   ],
   "source": [
    "# La chiave deve essere un elemento immutabile e unico:\n",
    "mio_dizionario = {\"Simone\": 43, \"Simone\": 50}\n",
    "\n",
    "# Se la trovo piu' di una volta solo l'ultima occorrenza e'\n",
    "# l-unica che viene memorizzata\n",
    "mio_dizionario"
   ]
  },
  {
   "cell_type": "code",
   "execution_count": 5,
   "metadata": {},
   "outputs": [
    {
     "data": {
      "text/plain": [
       "{'Simone': 43, 'Marco': 43, 'Pippo': 43}"
      ]
     },
     "execution_count": 5,
     "metadata": {},
     "output_type": "execute_result"
    }
   ],
   "source": [
    "# Nussun limite invece per quanto riguarda i valori:\n",
    "mio_dizionario = {\"Simone\" : 43, \"Marco\" : 43, \"Pippo\":43}\n",
    "mio_dizionario"
   ]
  },
  {
   "cell_type": "code",
   "execution_count": 6,
   "metadata": {},
   "outputs": [
    {
     "data": {
      "text/plain": [
       "{'Simone': 43, 'Marco': 43, 'Pippo': 43, 'Pinco': 48}"
      ]
     },
     "execution_count": 6,
     "metadata": {},
     "output_type": "execute_result"
    }
   ],
   "source": [
    "# Posso aggiungere elemnti al dizionario con un'assegnazione:\n",
    "# my_dict[chiave] = valore\n",
    "mio_dizionario[\"Pinco\"] = 48\n",
    "mio_dizionario"
   ]
  },
  {
   "cell_type": "code",
   "execution_count": 7,
   "metadata": {},
   "outputs": [
    {
     "data": {
      "text/plain": [
       "{'a': 'n', 'b': 'o', 'c': 'p'}"
      ]
     },
     "execution_count": 7,
     "metadata": {},
     "output_type": "execute_result"
    }
   ],
   "source": [
    "cifrario_rot = {\"a\":\"n\", \"b\":\"o\", \"c\": \"p\"}\n",
    "cifrario_rot"
   ]
  },
  {
   "cell_type": "code",
   "execution_count": 8,
   "metadata": {},
   "outputs": [
    {
     "data": {
      "text/plain": [
       "{'a': 'n', 'b': 'o', 'c': 'p', ('a', 'b'): 'ciao'}"
      ]
     },
     "execution_count": 8,
     "metadata": {},
     "output_type": "execute_result"
    }
   ],
   "source": [
    "# cifrario_rot[[\"a\",\"b\"]] = \"ciao\"\n",
    "cifrario_rot = {\"a\":\"n\", \"b\":\"o\", \"c\": \"p\", (\"a\",\"b\"): \"ciao\"}\n",
    "cifrario_rot"
   ]
  },
  {
   "cell_type": "markdown",
   "metadata": {
    "pycharm": {
     "name": "#%%\n"
    }
   },
   "source": [
    "### Iterare su un dizionario"
   ]
  },
  {
   "cell_type": "code",
   "execution_count": 9,
   "metadata": {},
   "outputs": [
    {
     "data": {
      "text/plain": [
       "{'Simone': 43, 'Marco': 43, 'Pippo': 43, 'Pinco': 48}"
      ]
     },
     "execution_count": 9,
     "metadata": {},
     "output_type": "execute_result"
    }
   ],
   "source": [
    "mio_dizionario"
   ]
  },
  {
   "cell_type": "code",
   "execution_count": 10,
   "metadata": {},
   "outputs": [
    {
     "name": "stdout",
     "output_type": "stream",
     "text": [
      "la chiave e': Simone a cui corrisponde 43\n",
      "la chiave e': Marco a cui corrisponde 43\n",
      "la chiave e': Pippo a cui corrisponde 43\n",
      "la chiave e': Pinco a cui corrisponde 48\n"
     ]
    }
   ],
   "source": [
    "for primo, secondo in mio_dizionario.items():\n",
    "    print(f\"la chiave e': {primo} a cui corrisponde {secondo}\")\n",
    "    "
   ]
  },
  {
   "cell_type": "code",
   "execution_count": 11,
   "metadata": {},
   "outputs": [],
   "source": [
    "primo_elemento, secondo_elemento = (\"a\", \"b\")"
   ]
  },
  {
   "cell_type": "markdown",
   "metadata": {
    "pycharm": {
     "name": "#%%\n"
    }
   },
   "source": [
    "\n",
    "### Operazioni sui dizionari"
   ]
  },
  {
   "cell_type": "markdown",
   "metadata": {
    "pycharm": {
     "name": "#%%\n"
    }
   },
   "source": [
    "\n",
    "#### Accedere al valore associato ad una chiave"
   ]
  },
  {
   "cell_type": "code",
   "execution_count": 12,
   "metadata": {},
   "outputs": [
    {
     "data": {
      "text/plain": [
       "43"
      ]
     },
     "execution_count": 12,
     "metadata": {},
     "output_type": "execute_result"
    }
   ],
   "source": [
    "# Accesso al dizionario per chiave:\n",
    "mio_dizionario[\"Simone\"] #restituisce il valore associato alla chiave \"Simone\"\n"
   ]
  },
  {
   "cell_type": "code",
   "execution_count": 13,
   "metadata": {},
   "outputs": [
    {
     "name": "stdout",
     "output_type": "stream",
     "text": [
      "la chiave e': Simone a cui corrisponde 43\n",
      "la chiave e': Marco a cui corrisponde 43\n",
      "la chiave e': Pippo a cui corrisponde 43\n",
      "la chiave e': Pinco a cui corrisponde 48\n"
     ]
    }
   ],
   "source": [
    "for primo, secondo in mio_dizionario.items():\n",
    "    print(f\"la chiave e': {primo} a cui corrisponde {mio_dizionario[primo]}\")\n",
    "    "
   ]
  },
  {
   "cell_type": "code",
   "execution_count": 14,
   "metadata": {},
   "outputs": [
    {
     "data": {
      "text/plain": [
       "{'Simone': 43, 'Marco': 43, 'Pippo': 43, 'Pinco': 48}"
      ]
     },
     "execution_count": 14,
     "metadata": {},
     "output_type": "execute_result"
    }
   ],
   "source": [
    "mio_dizionario"
   ]
  },
  {
   "cell_type": "code",
   "execution_count": 15,
   "metadata": {},
   "outputs": [
    {
     "ename": "KeyError",
     "evalue": "'Ginevra'",
     "output_type": "error",
     "traceback": [
      "\u001b[1;31m---------------------------------------------------------------------------\u001b[0m",
      "\u001b[1;31mKeyError\u001b[0m                                  Traceback (most recent call last)",
      "\u001b[1;32m~\\AppData\\Local\\Temp/ipykernel_18624/1450591434.py\u001b[0m in \u001b[0;36m<module>\u001b[1;34m\u001b[0m\n\u001b[1;32m----> 1\u001b[1;33m \u001b[0mmio_dizionario\u001b[0m\u001b[1;33m[\u001b[0m\u001b[1;34m\"Ginevra\"\u001b[0m\u001b[1;33m]\u001b[0m\u001b[1;33m\u001b[0m\u001b[1;33m\u001b[0m\u001b[0m\n\u001b[0m",
      "\u001b[1;31mKeyError\u001b[0m: 'Ginevra'"
     ]
    }
   ],
   "source": [
    "mio_dizionario[\"Ginevra\"]"
   ]
  },
  {
   "cell_type": "markdown",
   "metadata": {
    "pycharm": {
     "name": "#%%\n"
    }
   },
   "source": [
    "\n",
    "#### Aggiornare un valore associato ad una chiave"
   ]
  },
  {
   "cell_type": "code",
   "execution_count": 16,
   "metadata": {},
   "outputs": [
    {
     "data": {
      "text/plain": [
       "{'Simone': 43, 'Marco': 43, 'Pippo': 43, 'Pinco': 48}"
      ]
     },
     "execution_count": 16,
     "metadata": {},
     "output_type": "execute_result"
    }
   ],
   "source": [
    "mio_dizionario"
   ]
  },
  {
   "cell_type": "code",
   "execution_count": 17,
   "metadata": {},
   "outputs": [
    {
     "data": {
      "text/plain": [
       "{'Simone': 45, 'Marco': 43, 'Pippo': 43, 'Pinco': 48}"
      ]
     },
     "execution_count": 17,
     "metadata": {},
     "output_type": "execute_result"
    }
   ],
   "source": [
    "mio_dizionario[\"Simone\"] = 45\n",
    "mio_dizionario"
   ]
  },
  {
   "cell_type": "markdown",
   "metadata": {
    "pycharm": {
     "name": "#%%\n"
    }
   },
   "source": [
    "\n",
    "#### Rimuovere una coppia chiave-valore (pop)"
   ]
  },
  {
   "cell_type": "code",
   "execution_count": 18,
   "metadata": {},
   "outputs": [
    {
     "name": "stdout",
     "output_type": "stream",
     "text": [
      "{'Simone': 45, 'Marco': 43, 'Pippo': 43, 'Pinco': 48}\n"
     ]
    },
    {
     "data": {
      "text/plain": [
       "45"
      ]
     },
     "execution_count": 18,
     "metadata": {},
     "output_type": "execute_result"
    }
   ],
   "source": [
    "print(mio_dizionario)\n",
    "mio_dizionario.pop(\"Simone\")"
   ]
  },
  {
   "cell_type": "code",
   "execution_count": 19,
   "metadata": {},
   "outputs": [
    {
     "data": {
      "text/plain": [
       "{'Marco': 43, 'Pippo': 43, 'Pinco': 48}"
      ]
     },
     "execution_count": 19,
     "metadata": {},
     "output_type": "execute_result"
    }
   ],
   "source": [
    "mio_dizionario"
   ]
  },
  {
   "cell_type": "code",
   "execution_count": 20,
   "metadata": {},
   "outputs": [
    {
     "ename": "KeyError",
     "evalue": "'Geronimo'",
     "output_type": "error",
     "traceback": [
      "\u001b[1;31m---------------------------------------------------------------------------\u001b[0m",
      "\u001b[1;31mKeyError\u001b[0m                                  Traceback (most recent call last)",
      "\u001b[1;32m~\\AppData\\Local\\Temp/ipykernel_18624/4149056348.py\u001b[0m in \u001b[0;36m<module>\u001b[1;34m\u001b[0m\n\u001b[1;32m----> 1\u001b[1;33m \u001b[0mmio_dizionario\u001b[0m\u001b[1;33m.\u001b[0m\u001b[0mpop\u001b[0m\u001b[1;33m(\u001b[0m\u001b[1;34m\"Geronimo\"\u001b[0m\u001b[1;33m)\u001b[0m\u001b[1;33m\u001b[0m\u001b[1;33m\u001b[0m\u001b[0m\n\u001b[0m",
      "\u001b[1;31mKeyError\u001b[0m: 'Geronimo'"
     ]
    }
   ],
   "source": [
    "mio_dizionario.pop(\"Geronimo\")"
   ]
  },
  {
   "cell_type": "markdown",
   "metadata": {
    "pycharm": {
     "name": "#%%\n"
    }
   },
   "source": [
    "\n",
    "#### Controllare se una chiave è in un dizionario"
   ]
  },
  {
   "cell_type": "code",
   "execution_count": 21,
   "metadata": {},
   "outputs": [
    {
     "data": {
      "text/plain": [
       "{'Marco': 43, 'Pippo': 43, 'Pinco': 48}"
      ]
     },
     "execution_count": 21,
     "metadata": {},
     "output_type": "execute_result"
    }
   ],
   "source": [
    "mio_dizionario"
   ]
  },
  {
   "cell_type": "code",
   "execution_count": 22,
   "metadata": {},
   "outputs": [
    {
     "data": {
      "text/plain": [
       "True"
      ]
     },
     "execution_count": 22,
     "metadata": {},
     "output_type": "execute_result"
    }
   ],
   "source": [
    "\"Marco\" in mio_dizionario"
   ]
  },
  {
   "cell_type": "code",
   "execution_count": 23,
   "metadata": {},
   "outputs": [
    {
     "data": {
      "text/plain": [
       "False"
      ]
     },
     "execution_count": 23,
     "metadata": {},
     "output_type": "execute_result"
    }
   ],
   "source": [
    "\"Geronimo\" in mio_dizionario"
   ]
  },
  {
   "cell_type": "code",
   "execution_count": 24,
   "metadata": {},
   "outputs": [
    {
     "data": {
      "text/plain": [
       "False"
      ]
     },
     "execution_count": 24,
     "metadata": {},
     "output_type": "execute_result"
    }
   ],
   "source": [
    "43 in mio_dizionario"
   ]
  },
  {
   "cell_type": "markdown",
   "metadata": {
    "pycharm": {
     "name": "#%%\n"
    }
   },
   "source": [
    "\n",
    "### _keys_ e _values_"
   ]
  },
  {
   "cell_type": "code",
   "execution_count": 25,
   "metadata": {},
   "outputs": [
    {
     "data": {
      "text/plain": [
       "dict_keys(['Marco', 'Pippo', 'Pinco'])"
      ]
     },
     "execution_count": 25,
     "metadata": {},
     "output_type": "execute_result"
    }
   ],
   "source": [
    "mio_dizionario.keys()"
   ]
  },
  {
   "cell_type": "code",
   "execution_count": 26,
   "metadata": {},
   "outputs": [
    {
     "data": {
      "text/plain": [
       "dict_values([43, 43, 48])"
      ]
     },
     "execution_count": 26,
     "metadata": {},
     "output_type": "execute_result"
    }
   ],
   "source": [
    "mio_dizionario.values()"
   ]
  },
  {
   "cell_type": "code",
   "execution_count": 27,
   "metadata": {},
   "outputs": [
    {
     "data": {
      "text/plain": [
       "True"
      ]
     },
     "execution_count": 27,
     "metadata": {},
     "output_type": "execute_result"
    }
   ],
   "source": [
    "43 in mio_dizionario.values()"
   ]
  },
  {
   "cell_type": "markdown",
   "metadata": {
    "pycharm": {
     "name": "#%%\n"
    }
   },
   "source": [
    "\n",
    "### _update_"
   ]
  },
  {
   "cell_type": "code",
   "execution_count": 28,
   "metadata": {},
   "outputs": [
    {
     "data": {
      "text/plain": [
       "{'Marco': 43, 'Pippo': 43, 'Pinco': 48}"
      ]
     },
     "execution_count": 28,
     "metadata": {},
     "output_type": "execute_result"
    }
   ],
   "source": [
    "mio_dizionario"
   ]
  },
  {
   "cell_type": "code",
   "execution_count": 29,
   "metadata": {},
   "outputs": [],
   "source": [
    "mio_dizionario.update({\"Marco\": 50, 'Pippo': 45, 'Pinco': 55, \"Geronimo\" : 65})"
   ]
  },
  {
   "cell_type": "code",
   "execution_count": 30,
   "metadata": {},
   "outputs": [
    {
     "data": {
      "text/plain": [
       "{'Marco': 50, 'Pippo': 45, 'Pinco': 55, 'Geronimo': 65}"
      ]
     },
     "execution_count": 30,
     "metadata": {},
     "output_type": "execute_result"
    }
   ],
   "source": [
    "mio_dizionario"
   ]
  },
  {
   "cell_type": "code",
   "execution_count": 31,
   "metadata": {},
   "outputs": [],
   "source": [
    "mio_dizionario[\"Marco\"] = 50"
   ]
  },
  {
   "cell_type": "markdown",
   "metadata": {
    "pycharm": {
     "name": "#%%\n"
    }
   },
   "source": [
    "\n",
    "### Dictionary comprehension"
   ]
  },
  {
   "cell_type": "code",
   "execution_count": 32,
   "metadata": {
    "pycharm": {
     "name": "#%%\n"
    }
   },
   "outputs": [
    {
     "data": {
      "text/plain": [
       "'abcdefghijklmnopqrstuvwxyz'"
      ]
     },
     "execution_count": 32,
     "metadata": {},
     "output_type": "execute_result"
    }
   ],
   "source": [
    "import string\n",
    "string.ascii_lowercase\n"
   ]
  },
  {
   "cell_type": "code",
   "execution_count": 33,
   "metadata": {
    "pycharm": {
     "name": "#%%\n"
    }
   },
   "outputs": [
    {
     "data": {
      "text/plain": [
       "{'a': 0,\n",
       " 'b': 1,\n",
       " 'c': 2,\n",
       " 'd': 3,\n",
       " 'e': 4,\n",
       " 'f': 5,\n",
       " 'g': 6,\n",
       " 'h': 7,\n",
       " 'i': 8,\n",
       " 'j': 9,\n",
       " 'k': 10,\n",
       " 'l': 11,\n",
       " 'm': 12,\n",
       " 'n': 13,\n",
       " 'o': 14,\n",
       " 'p': 15,\n",
       " 'q': 16,\n",
       " 'r': 17,\n",
       " 's': 18,\n",
       " 't': 19,\n",
       " 'u': 20,\n",
       " 'v': 21,\n",
       " 'w': 22,\n",
       " 'x': 23,\n",
       " 'y': 24,\n",
       " 'z': 25}"
      ]
     },
     "execution_count": 33,
     "metadata": {},
     "output_type": "execute_result"
    }
   ],
   "source": [
    "{lettera: numero for numero, lettera in enumerate(string.ascii_lowercase)}"
   ]
  },
  {
   "cell_type": "code",
   "execution_count": 34,
   "metadata": {
    "pycharm": {
     "name": "#%%\n"
    }
   },
   "outputs": [
    {
     "name": "stdout",
     "output_type": "stream",
     "text": [
      "(0, 'a')\n",
      "(1, 'b')\n",
      "(2, 'c')\n",
      "(3, 'd')\n",
      "(4, 'e')\n",
      "(5, 'f')\n",
      "(6, 'g')\n",
      "(7, 'h')\n",
      "(8, 'i')\n",
      "(9, 'j')\n",
      "(10, 'k')\n",
      "(11, 'l')\n",
      "(12, 'm')\n",
      "(13, 'n')\n",
      "(14, 'o')\n",
      "(15, 'p')\n",
      "(16, 'q')\n",
      "(17, 'r')\n",
      "(18, 's')\n",
      "(19, 't')\n",
      "(20, 'u')\n",
      "(21, 'v')\n",
      "(22, 'w')\n",
      "(23, 'x')\n",
      "(24, 'y')\n",
      "(25, 'z')\n"
     ]
    }
   ],
   "source": [
    "for elem in enumerate(string.ascii_lowercase):\n",
    "    print(elem)"
   ]
  },
  {
   "cell_type": "code",
   "execution_count": 35,
   "metadata": {},
   "outputs": [],
   "source": [
    "voti_semestre = {\"Marco\": [18, 27,30], \"Paolo\": [24,27,21], \"Geronimo\": [15,12,20]} "
   ]
  },
  {
   "cell_type": "code",
   "execution_count": 36,
   "metadata": {},
   "outputs": [],
   "source": [
    "media = {nome: sum(voti)/len(voti) for nome, voti in voti_semestre.items()}\n",
    "media = {\"Marco\": (18+27+30 / 3)}"
   ]
  },
  {
   "cell_type": "code",
   "execution_count": 37,
   "metadata": {},
   "outputs": [
    {
     "data": {
      "text/plain": [
       "{'Marco': 55.0}"
      ]
     },
     "execution_count": 37,
     "metadata": {},
     "output_type": "execute_result"
    }
   ],
   "source": [
    "media"
   ]
  },
  {
   "cell_type": "code",
   "execution_count": 38,
   "metadata": {},
   "outputs": [
    {
     "data": {
      "text/plain": [
       "75"
      ]
     },
     "execution_count": 38,
     "metadata": {},
     "output_type": "execute_result"
    }
   ],
   "source": [
    "sum([18,27,30])"
   ]
  },
  {
   "cell_type": "code",
   "execution_count": 39,
   "metadata": {},
   "outputs": [
    {
     "data": {
      "text/plain": [
       "3"
      ]
     },
     "execution_count": 39,
     "metadata": {},
     "output_type": "execute_result"
    }
   ],
   "source": [
    "len([18,27,30])"
   ]
  },
  {
   "cell_type": "code",
   "execution_count": 40,
   "metadata": {},
   "outputs": [
    {
     "ename": "SyntaxError",
     "evalue": "cannot assign to dict comprehension (Temp/ipykernel_18624/2223525944.py, line 1)",
     "output_type": "error",
     "traceback": [
      "\u001b[1;36m  File \u001b[1;32m\"C:\\Users\\simon\\AppData\\Local\\Temp/ipykernel_18624/2223525944.py\"\u001b[1;36m, line \u001b[1;32m1\u001b[0m\n\u001b[1;33m    media = {nome: sum(voti)/len(voti) for nome, voti in voti_semestre.items()} = dict()\u001b[0m\n\u001b[1;37m            ^\u001b[0m\n\u001b[1;31mSyntaxError\u001b[0m\u001b[1;31m:\u001b[0m cannot assign to dict comprehension\n"
     ]
    }
   ],
   "source": [
    "media = {nome: sum(voti)/len(voti) for nome, voti in voti_semestre.items()} = dict()"
   ]
  },
  {
   "cell_type": "markdown",
   "metadata": {
    "pycharm": {
     "name": "#%% md\n"
    }
   },
   "source": [
    "## Set (insiemi)\n",
    "\n",
    "E' una collezione **mutabile**, **non ordinata** di elementi **immutabili e unici**"
   ]
  },
  {
   "cell_type": "markdown",
   "metadata": {
    "pycharm": {
     "name": "#%%\n"
    }
   },
   "source": [
    "### Creazione di un *set*"
   ]
  },
  {
   "cell_type": "code",
   "execution_count": 2,
   "metadata": {},
   "outputs": [],
   "source": [
    "mio_set = {3,4,5}"
   ]
  },
  {
   "cell_type": "code",
   "execution_count": 3,
   "metadata": {},
   "outputs": [
    {
     "data": {
      "text/plain": [
       "{3, 4, 5}"
      ]
     },
     "execution_count": 3,
     "metadata": {},
     "output_type": "execute_result"
    }
   ],
   "source": [
    "mio_set"
   ]
  },
  {
   "cell_type": "code",
   "execution_count": 4,
   "metadata": {},
   "outputs": [],
   "source": [
    "# Per creare un set vuoto:\n",
    "non_cosi = {} # questo crea un dizioanrio\n",
    "set_vuoto = set()"
   ]
  },
  {
   "cell_type": "code",
   "execution_count": null,
   "metadata": {},
   "outputs": [],
   "source": []
  },
  {
   "cell_type": "code",
   "execution_count": null,
   "metadata": {},
   "outputs": [],
   "source": []
  },
  {
   "cell_type": "code",
   "execution_count": null,
   "metadata": {},
   "outputs": [],
   "source": []
  },
  {
   "cell_type": "code",
   "execution_count": null,
   "metadata": {},
   "outputs": [],
   "source": []
  },
  {
   "cell_type": "markdown",
   "metadata": {},
   "source": [
    "### Operazioni sui *set*"
   ]
  },
  {
   "cell_type": "markdown",
   "metadata": {},
   "source": [
    "#### Lunghezza di un set"
   ]
  },
  {
   "cell_type": "markdown",
   "metadata": {},
   "source": [
    "#### Determinare se un elemento appartiene a un set"
   ]
  },
  {
   "cell_type": "markdown",
   "metadata": {},
   "source": [
    "#### Iterare in un set "
   ]
  },
  {
   "cell_type": "markdown",
   "metadata": {},
   "source": [
    "### Confronto tra set"
   ]
  },
  {
   "cell_type": "markdown",
   "metadata": {},
   "source": [
    "#### Sottoinsieme"
   ]
  },
  {
   "cell_type": "markdown",
   "metadata": {},
   "source": [
    "##### `<`,`<=`"
   ]
  },
  {
   "cell_type": "markdown",
   "metadata": {},
   "source": [
    "##### `issubset()`"
   ]
  },
  {
   "cell_type": "markdown",
   "metadata": {},
   "source": [
    "####  Sovrainsieme"
   ]
  },
  {
   "cell_type": "markdown",
   "metadata": {},
   "source": [
    "##### `<` e `<=`"
   ]
  },
  {
   "cell_type": "markdown",
   "metadata": {},
   "source": [
    "##### `set1.issuperset(set2)`"
   ]
  },
  {
   "cell_type": "markdown",
   "metadata": {},
   "source": [
    "### Operazioni tra insiemi\n",
    "Gli oepratori che seguono restituiscono un nuovo insieme."
   ]
  },
  {
   "cell_type": "markdown",
   "metadata": {},
   "source": [
    "#### Unione `|` o `set1.union(set2)`\n",
    "Insieme contenete tutti gli elementi dei due insiemi"
   ]
  },
  {
   "cell_type": "markdown",
   "metadata": {},
   "source": [
    "#### Intersezione `&` o `set1.intersection(set2)`\n",
    "Inseme contenenti gli elementi dei che  due insiemi hanno in comune"
   ]
  },
  {
   "cell_type": "markdown",
   "metadata": {},
   "source": [
    "#### Differenza insiemistica `-` o `set1.difference(set2)`\n",
    "Insieme contenente gli elementi dell'insieme di sinistra che **non** sono in quello di destra"
   ]
  },
  {
   "cell_type": "markdown",
   "metadata": {},
   "source": [
    "#### Differenza simmetrica `^` o `set1.symmetric_difference(set2)`\n",
    "Insieme contenente gli elementi dell'insieme di sinistra che non sono in quello di destra e viceversa"
   ]
  },
  {
   "cell_type": "markdown",
   "metadata": {},
   "source": [
    "#### Insiemi disgiunti `set1.isdisjoint(set2)`\n",
    "Funzione che restituisce `True` se i due insiemi non contengono elementi in comune, `False` se almeno un elemento e' presente sia nel primo che nel secondo"
   ]
  }
 ],
 "metadata": {
  "kernelspec": {
   "display_name": "Python 3 (ipykernel)",
   "language": "python",
   "name": "python3"
  },
  "language_info": {
   "codemirror_mode": {
    "name": "ipython",
    "version": 3
   },
   "file_extension": ".py",
   "mimetype": "text/x-python",
   "name": "python",
   "nbconvert_exporter": "python",
   "pygments_lexer": "ipython3",
   "version": "3.8.12"
  },
  "toc": {
   "base_numbering": 1,
   "nav_menu": {},
   "number_sections": true,
   "sideBar": true,
   "skip_h1_title": true,
   "title_cell": "Table of Contents",
   "title_sidebar": "Contents",
   "toc_cell": true,
   "toc_position": {
    "height": "calc(100% - 180px)",
    "left": "10px",
    "top": "150px",
    "width": "449.8px"
   },
   "toc_section_display": true,
   "toc_window_display": false
  },
  "varInspector": {
   "cols": {
    "lenName": 16,
    "lenType": 16,
    "lenVar": 40
   },
   "kernels_config": {
    "python": {
     "delete_cmd_postfix": "",
     "delete_cmd_prefix": "del ",
     "library": "var_list.py",
     "varRefreshCmd": "print(var_dic_list())"
    },
    "r": {
     "delete_cmd_postfix": ") ",
     "delete_cmd_prefix": "rm(",
     "library": "var_list.r",
     "varRefreshCmd": "cat(var_dic_list()) "
    }
   },
   "types_to_exclude": [
    "module",
    "function",
    "builtin_function_or_method",
    "instance",
    "_Feature"
   ],
   "window_display": false
  }
 },
 "nbformat": 4,
 "nbformat_minor": 1
}
