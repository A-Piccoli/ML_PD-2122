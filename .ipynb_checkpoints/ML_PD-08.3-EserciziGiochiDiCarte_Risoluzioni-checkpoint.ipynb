{
 "cells": [
  {
   "cell_type": "markdown",
   "metadata": {
    "collapsed": true,
    "pycharm": {
     "name": "#%% md\n"
    }
   },
   "source": [
    "## Mischiare le carte\n",
    "Costruire una lista di tuple contenente tutte le carte di un mazzo da 40 (carte da scopa).\n",
    "Ogni tupla rappresenta una carta del mazzo e contiene un valore ('Asso', 'Due', 'Tre'..., 'Fante', 'Cavallo', 'Re')\n",
    "e una seme ('Denari', 'Spade', 'Bastoni', 'Coppe').<br>\n",
    "Creare una funzione inzialize_deck per inizializzare il mazzo con tuple da 'Asso' a 'Re' per ogni seme:\n",
    "```\n",
    "deck = [('Asso', 'Denari'), ('Due', 'Denari'), ...., ('Re','Denari'),\n",
    "        ('Asso', 'Spade'), ('Due', 'Spade'), ...., ('Re','Spade'),\n",
    "        ('Asso', 'Bastoni'), ('Due', 'Bastoni'), ...., ('Re','Bastoni'),\n",
    "        ('Asso', 'Coppe'), ('Due', 'Coppe'), ...., ('Re','Coppe')]\n",
    "```\n",
    "Prima di ritornare la lista, usate la funzione `shuffle` del modulo *random* per mischiare il mazzo.\n",
    "Prima di restituire il mazzo, stamparlo a monitor nel segunete formato a 4 colonne:\n",
    "```\n",
    "Fante di Bastoni    Asso di Bastoni     Cavallo di Spade    Due di Denari\n",
    "Sei di Coppe        Re di Spade         Fante di Denari     Cinque di Denari\n",
    "Cinque di Spade     Asso di Coppe       Sette di Coppe      Cavallo di Coppe\n",
    "Due di Spade        Quattro di Coppe    Sei di Bastoni      Cavallo di Bastoni\n",
    "Sette di Spade      Quattro di Spade    Sette di Bastoni    Re di Denari\n",
    "Sei di Denari       Cavallo di Denari   Asso di Denari      Re di Coppe\n",
    "Due di Coppe        Quattro di Bastoni  Asso di Spade       Tre di Spade\n",
    "Re di Bastoni       Cinque di Bastoni   Tre di Denari       Quattro di Denari\n",
    "Tre di Coppe        Tre di Bastoni      Cinque di Coppe     Sette di Denari\n",
    "Fante di Coppe      Fante di Spade      Sei di Spade        Due di Bastoni\n",
    "```"
   ]
  },
  {
   "cell_type": "code",
   "execution_count": 2,
   "metadata": {
    "pycharm": {
     "name": "#%%\n"
    }
   },
   "outputs": [
    {
     "name": "stdout",
     "output_type": "stream",
     "text": [
      "Re di Denari        Fante di Bastoni    Cinque di Bastoni   Cavallo di Coppe    \n",
      "Cinque di Denari    Fante di Coppe      Cinque di Spade     Quattro di Denari   \n",
      "Tre di Coppe        Tre di Bastoni      Quattro di Coppe    Sei di Spade        \n",
      "Re di Bastoni       Re di Coppe         Sette di Coppe      Asso di Spade       \n",
      "Due di Denari       Cavallo di Bastoni  Cavallo di Denari   Due di Coppe        \n",
      "Due di Spade        Quattro di Bastoni  Tre di Denari       Sette di Spade      \n",
      "Quattro di Spade    Re di Spade         Cinque di Coppe     Asso di Denari      \n",
      "Asso di Coppe       Asso di Bastoni     Fante di Spade      Sette di Denari     \n",
      "Sei di Coppe        Sei di Denari       Tre di Spade        Due di Bastoni      \n",
      "Sette di Bastoni    Fante di Denari     Cavallo di Spade    Sei di Bastoni      \n"
     ]
    },
    {
     "data": {
      "text/plain": [
       "[('Re', 'Denari'),\n",
       " ('Fante', 'Bastoni'),\n",
       " ('Cinque', 'Bastoni'),\n",
       " ('Cavallo', 'Coppe'),\n",
       " ('Cinque', 'Denari'),\n",
       " ('Fante', 'Coppe'),\n",
       " ('Cinque', 'Spade'),\n",
       " ('Quattro', 'Denari'),\n",
       " ('Tre', 'Coppe'),\n",
       " ('Tre', 'Bastoni'),\n",
       " ('Quattro', 'Coppe'),\n",
       " ('Sei', 'Spade'),\n",
       " ('Re', 'Bastoni'),\n",
       " ('Re', 'Coppe'),\n",
       " ('Sette', 'Coppe'),\n",
       " ('Asso', 'Spade'),\n",
       " ('Due', 'Denari'),\n",
       " ('Cavallo', 'Bastoni'),\n",
       " ('Cavallo', 'Denari'),\n",
       " ('Due', 'Coppe'),\n",
       " ('Due', 'Spade'),\n",
       " ('Quattro', 'Bastoni'),\n",
       " ('Tre', 'Denari'),\n",
       " ('Sette', 'Spade'),\n",
       " ('Quattro', 'Spade'),\n",
       " ('Re', 'Spade'),\n",
       " ('Cinque', 'Coppe'),\n",
       " ('Asso', 'Denari'),\n",
       " ('Asso', 'Coppe'),\n",
       " ('Asso', 'Bastoni'),\n",
       " ('Fante', 'Spade'),\n",
       " ('Sette', 'Denari'),\n",
       " ('Sei', 'Coppe'),\n",
       " ('Sei', 'Denari'),\n",
       " ('Tre', 'Spade'),\n",
       " ('Due', 'Bastoni'),\n",
       " ('Sette', 'Bastoni'),\n",
       " ('Fante', 'Denari'),\n",
       " ('Cavallo', 'Spade'),\n",
       " ('Sei', 'Bastoni')]"
      ]
     },
     "execution_count": 2,
     "metadata": {},
     "output_type": "execute_result"
    }
   ],
   "source": [
    "import random\n",
    "\n",
    "def scopa_deck():\n",
    "    \"\"\"Funzione che forma un mazzo di carte da scopa e lo mischia\"\"\"\n",
    "\n",
    "    # Creo due liste, una con i numeri, la seconda con i semi\n",
    "    carte = [\"Asso\", \"Due\", \"Tre\", \"Quattro\", \"Cinque\", \"Sei\", \"Sette\", \"Fante\", \"Cavallo\", \"Re\"]\n",
    "    semi = [\"Denari\", \"Bastoni\", \"Coppe\", \"Spade\"]\n",
    "\n",
    "    # Creo una lista vuota dove costruiro' il mazzo\n",
    "    deck = []\n",
    "\n",
    "    for carta in carte:\n",
    "        for seme in semi:\n",
    "            deck.append((carta, seme))\n",
    "\n",
    "    #Mischio il mazzo con la funzione shuffle di Random\n",
    "    random.shuffle(deck)\n",
    "\n",
    "    # organizzo la stampa creando prima una lista di liste di 4 elementi\n",
    "    # stringa nel formato \"Asso di Bastoni\"\n",
    "    # e poi stampando ciascuna sublista su una riga con allineamenti a sinistra\n",
    "    # :<20 a 20 caratteri\n",
    "    for j in range(0, len(deck), 4):\n",
    "        cards = [f\"{deck[k][0]} di {deck[k][1]}\" for k in range(j, j + 4)]\n",
    "        print(f\"{cards[0]:<20}{cards[1]:<20}{cards[2]:<20}{cards[3]:<20}\")\n",
    "    # restituisco il mazzo\n",
    "    return deck\n",
    "\n",
    "\n",
    "scopa_deck()"
   ]
  },
  {
   "cell_type": "markdown",
   "metadata": {
    "pycharm": {
     "name": "#%% md\n"
    }
   },
   "source": [
    "## Valutare una mano di poker\n",
    "\n",
    "Modificare la funzione precedente per generare un mazzo di carte da poker mischiate (scrivere la funzione\n",
    "`pocker_deck()`) e una nuova funzione che riceve come argometo questo mazzo e restituisce le prime 5 carte\n",
    "(`serve_player(deck)`)\n",
    "<br>\n",
    "Fare in modo che una volta generate le 5 carte (tuple), le stesse carte vengano rimosse dal mazzo.<br>\n",
    "Se le carte nel mazzo non sono sufficienti a generare una mano il mazzo viene rigenerato e rimischiato. <br>\n",
    "Scrivere una serie di funzioni che valutino se la mano contiene i seguenti gruppi di carte:\n",
    "* una coppia `is_one_pair`\n",
    "* una doppia coppia `is_two_pairs`\n",
    "* un tris `is_three_of_a_kind`\n",
    "* una scala (5 carte di valore consecutivo) `is_straight`\n",
    "* colore (5 carte dello stesso seme) `is_flush`\n",
    "* un full (2 uguali + 3 uguali) `is_full_house`\n",
    "* un poker (4 uguali) `is_four_of_a_kind`\n",
    "* una scala reale (5 carte consecutive dello stesso seme) `is_straight_flush`\n",
    "\n",
    "Ulteriori dettagli su: [Regole del Poker](https://it.wikipedia.org/wiki/Punti_del_poker)"
   ]
  },
  {
   "cell_type": "code",
   "execution_count": 3,
   "metadata": {
    "pycharm": {
     "name": "#%%\n"
    }
   },
   "outputs": [],
   "source": [
    "import random\n",
    "\n",
    "# Rispetto all'analoga scopa_dek() cambia ivviamente il nome dei semi e il numero delle\n",
    "# carte, e viene eliminata la stampa in colonna\n",
    "\n",
    "def poker_deck(lower_card_value = 2):\n",
    "    \"\"\"Funzione che forma un mazzo di carte da poker da 52 e lo mischia\n",
    "\n",
    "    :param lower_card_value: a volte il mazzo da poker non e' a 52 carte ma esclude\n",
    "    ad esempio le carte dal 2 al 6. QUesta e' il valore della carta piu' bassa da includere nel\n",
    "    mazzo escluso l'asso.\n",
    "    \"\"\"\n",
    "\n",
    "    num = [\"Asso\", \"Due\", \"Tre\", \"Quattro\", \"Cinque\",\n",
    "           \"Sei\", \"Sette\", \"Otto\", \"Nove\", \"Dieci\",\n",
    "           \"Jack\", \"Donna\", \"Re\"]\n",
    "    num = [num[0]] + num[(lower_card_value-1):]\n",
    "    semi = [\"Cuori\", \"Quadri\", \"Fiori\", \"Picche\"]\n",
    "    deck = []\n",
    "    for carta in num:\n",
    "        for seme in semi:\n",
    "            deck += [(carta, seme)]\n",
    "\n",
    "    random.shuffle(deck)\n",
    "\n",
    "    # for j in range(0, len(deck), 4):\n",
    "    #     cards = [f\"{deck[k][0]} di {deck[k][1]}\" for k in range(j, j + 4)]\n",
    "    #     print(\"{:<20}{:<20}{:<20}{:<20}\".format(cards[0], cards[1], cards[2], cards[3]))\n",
    "    return deck\n",
    "\n",
    "\n",
    "def serve_player(deck, number_of_cards = 5):\n",
    "    \"\"\"\n",
    "    Funzione per restituire (distribuire) 5 carte ad un ipotetico giocatore.\n",
    "    Il parametro deck, una lsita, passata come argomento della funzione viene modificata\n",
    "    da questa funzione, poiche' le carte che escono dal mazzo non saranno piu' nel mazzo stesso\n",
    "    nel caso di partita a piu' giocatori.\n",
    "\n",
    "    :param deck: Un mazzo di carte formato da tuple (\"Numero\", \"Seme\")\n",
    "    :param number_of_cards: Numero di carte da distribuire ai giocatori, default = 5.\n",
    "    :return: le prime 5 carte del mazzo che verranno rimosse dal mazzo stesso\n",
    "    \"\"\"\n",
    "\n",
    "    # Se non ho abbastanza carte nel mazzo, significa che ho troppi giocatori:\n",
    "    if len(deck) < 5:\n",
    "        raise ValueError(\"Too many players\")\n",
    "\n",
    "    five_card_hand = []\n",
    "    for card in deck[0:number_of_cards]:\n",
    "        five_card_hand.append(card)\n",
    "        deck.remove(card)\n",
    "    return five_card_hand"
   ]
  },
  {
   "cell_type": "code",
   "execution_count": 4,
   "metadata": {
    "pycharm": {
     "name": "#%%\n"
    }
   },
   "outputs": [],
   "source": [
    "import collections\n",
    "\n",
    "\n",
    "def cards_name_number(name):\n",
    "    num = [\"Asso\", \"Due\", \"Tre\", \"Quattro\", \"Cinque\",\n",
    "           \"Sei\", \"Sette\", \"Otto\", \"Nove\", \"Dieci\",\n",
    "           \"Jack\", \"Donna\", \"Re\"]\n",
    "    return num.index(name) + 1\n",
    "\n",
    "\n",
    "def is_one_pair(five_card_hand):\n",
    "    nums = []\n",
    "    sems = []\n",
    "    for num, sem in five_card_hand:\n",
    "        nums.append(num)\n",
    "    freq = collections.Counter(nums)\n",
    "    if max(freq.values()) == 2:\n",
    "        # print(\"Poker:\", five_card_hand)\n",
    "        return True\n",
    "    return False\n",
    "\n",
    "\n",
    "def is_two_pairs(five_card_hand):\n",
    "    nums = []\n",
    "    sems = []\n",
    "    for num, sem in five_card_hand:\n",
    "        nums.append(num)\n",
    "    freq = collections.Counter(nums)\n",
    "    if sorted(freq.values()) == [1, 2, 2]:\n",
    "        # print(\"Poker:\", five_card_hand)\n",
    "        return True\n",
    "    return False\n",
    "    pass\n",
    "\n",
    "\n",
    "def is_three_of_a_kind(five_card_hand):\n",
    "    nums = []\n",
    "    sems = []\n",
    "    for num, sem in five_card_hand:\n",
    "        nums.append(num)\n",
    "    freq = collections.Counter(nums)\n",
    "    if max(freq.values()) == 3:\n",
    "        # print(\"Poker:\", five_card_hand)\n",
    "        return True\n",
    "    return False\n",
    "\n",
    "\n",
    "def is_straight(five_card_hand):\n",
    "    nums = []\n",
    "    # sems = []\n",
    "\n",
    "\n",
    "    for num, sem in five_card_hand:\n",
    "        nums.append(cards_name_number(num))\n",
    "        # sems.append(sem)\n",
    "    freq = collections.Counter(nums)\n",
    "    if max(freq.values()) > 1:\n",
    "        return False\n",
    "    # print(nums)\n",
    "    if max(nums) - min(nums) == 4:\n",
    "        return True\n",
    "    if sorted(nums) == [1, 10, 11, 12, 13]:\n",
    "        return True\n",
    "    return False\n",
    "\n",
    "\n",
    "def is_flush(five_card_hand):\n",
    "    # nums = []\n",
    "    sems = []\n",
    "    for num, sem in five_card_hand:\n",
    "        # nums.append(cards_name_number(num))\n",
    "        sems.append(sem)\n",
    "    # print(sems)\n",
    "    if sems[0] == sems[1] == sems[2] == sems[3] == sems[4]:\n",
    "        return True\n",
    "    return False\n",
    "\n",
    "\n",
    "def is_full_house(five_card_hand):\n",
    "    nums = []\n",
    "    sems = []\n",
    "    for num, sem in five_card_hand:\n",
    "        nums.append(num)\n",
    "    freq = collections.Counter(nums)\n",
    "    if sorted(freq.values()) == [2, 3]:\n",
    "        # print(\"Poker:\", five_card_hand)\n",
    "        return True\n",
    "    return False\n",
    "\n",
    "\n",
    "def is_four_of_a_kind(five_card_hand):\n",
    "    nums = []\n",
    "    sems = []\n",
    "    for num, sem in five_card_hand:\n",
    "        nums.append(num)\n",
    "    freq = collections.Counter(nums)\n",
    "    if max(freq.values()) == 4:\n",
    "        # print(\"Poker:\", five_card_hand)\n",
    "        return True\n",
    "\n",
    "\n",
    "def is_straight_flush(five_card_hand):\n",
    "    nums = []\n",
    "    sems = []\n",
    "    for num, sem in five_card_hand:\n",
    "        nums.append(cards_name_number(num))\n",
    "        sems.append(sem)\n",
    "    # print(sems)\n",
    "    if not sems[0] == sems[1] == sems[2] == sems[3] == sems[4]:\n",
    "        return False\n",
    "    # print(nums)\n",
    "    if max(nums) - min(nums) == 4:\n",
    "        print(\"Straight_flush: \", five_card_hand)\n",
    "        return True\n",
    "    if sorted(nums) == [1, 10, 11, 12, 13]:\n",
    "        print(\"Straight_flush: \", five_card_hand)\n",
    "        return True\n",
    "    return False"
   ]
  },
  {
   "cell_type": "code",
   "execution_count": 8,
   "metadata": {
    "pycharm": {
     "name": "#%%\n"
    }
   },
   "outputs": [
    {
     "name": "stdout",
     "output_type": "stream",
     "text": [
      "straight_flush 0\n",
      "poker 4\n",
      "full_house 11\n",
      "flush 19\n",
      "straight  243\n",
      "three_of_a_kind 190\n",
      "two_pairs  439\n",
      "one_pair  3966\n"
     ]
    }
   ],
   "source": []
  },
  {
   "cell_type": "markdown",
   "metadata": {
    "pycharm": {
     "name": "#%% md\n"
    }
   },
   "source": [
    "## Giocare a poker\n",
    "Scrivere uno script che utilizzi i metodi di cui sopra per confrontare due mani di poker (due liste di 5 tuple)\n",
    "Per ogni game, lo script dora' generare due liste di 5 tuple (le due mani) e determinare quale delle due e' vincente.<br>\n",
    "Il gioco continua sino a che non sono esaurite le carte del mazzo ma offre la possibilita' di continuare con un altro mazzo<br>\n",
    "Salvare il numero di mani vinte da ciascun player su una variabile e stamapre a monitor il risultato."
   ]
  },
  {
   "cell_type": "markdown",
   "metadata": {
    "pycharm": {
     "name": "#%% md\n"
    }
   },
   "source": [
    "## Statistiche di gioco\n",
    "Ripetere una sessione di gioco per 100, 1 000, 10 000, 100 000 e 1 000 000 di volte. <br>\n",
    "Calcolare per ciascuna sessione quante volte si verifica ciascuna combinazione di punteggi.<br>\n",
    "Stampare a monitor i risultati in valore assoluto e in percentuale in un formato del tipo:\n",
    "```\n",
    "Su 100 mani ci sono state:\n",
    "33 coppie\n",
    "10 doppie coppie\n",
    "1 tris\n",
    "1 poker\n",
    "```"
   ]
  },
  {
   "cell_type": "code",
   "execution_count": 9,
   "metadata": {
    "pycharm": {
     "name": "#%%\n"
    }
   },
   "outputs": [
    {
     "name": "stdout",
     "output_type": "stream",
     "text": [
      "Straight_flush:  [('Jack', 'Picche'), ('Donna', 'Picche'), ('Dieci', 'Picche'), ('Otto', 'Picche'), ('Nove', 'Picche')]\n",
      "Straight_flush:  [('Tre', 'Picche'), ('Quattro', 'Picche'), ('Cinque', 'Picche'), ('Sei', 'Picche'), ('Sette', 'Picche')]\n",
      "straight_flush 2\n",
      "poker 28\n",
      "full_house 126\n",
      "flush 196\n",
      "straight  409\n",
      "three_of_a_kind 2019\n",
      "two_pairs  4784\n",
      "one_pair  42524\n",
      "Wall time: 5.02 s\n"
     ]
    }
   ],
   "source": [
    "%%time\n",
    "\n",
    "straight_flush = 0\n",
    "poker = 0\n",
    "full_house = 0\n",
    "flush = 0\n",
    "straight = 0\n",
    "three_of_a_kind = 0\n",
    "two_pairs = 0\n",
    "one_pair = 0\n",
    "\n",
    "number_of_games = 100000\n",
    "for j in range(number_of_games):\n",
    "    deck = poker_deck()\n",
    "    hand = serve_player(deck)\n",
    "\n",
    "    if is_straight_flush(hand):\n",
    "\n",
    "        straight_flush += 1\n",
    "    elif is_four_of_a_kind(hand):\n",
    "        poker += 1\n",
    "\n",
    "    elif is_full_house(hand):\n",
    "        full_house += 1\n",
    "\n",
    "    elif is_flush(hand):\n",
    "        flush += 1\n",
    "    elif is_straight(hand):\n",
    "        straight += 1\n",
    "        # print(hand)\n",
    "    elif is_three_of_a_kind(hand):\n",
    "        three_of_a_kind += 1\n",
    "    elif is_two_pairs(hand):\n",
    "        two_pairs += 1\n",
    "    elif is_one_pair(hand):\n",
    "        one_pair += 1\n",
    "\n",
    "print(\"straight_flush\", straight_flush)\n",
    "print(\"poker\", poker)\n",
    "print(\"full_house\", full_house)\n",
    "print(\"flush\", flush)\n",
    "print(\"straight \", straight)\n",
    "print(\"three_of_a_kind\", three_of_a_kind)\n",
    "print(\"two_pairs \", two_pairs)\n",
    "print(\"one_pair \", one_pair)\n",
    "\n",
    "\n"
   ]
  },
  {
   "cell_type": "code",
   "execution_count": null,
   "metadata": {
    "pycharm": {
     "name": "#%%\n"
    }
   },
   "outputs": [],
   "source": []
  }
 ],
 "metadata": {
  "kernelspec": {
   "display_name": "Python 3 (ipykernel)",
   "language": "python",
   "name": "python3"
  },
  "language_info": {
   "codemirror_mode": {
    "name": "ipython",
    "version": 3
   },
   "file_extension": ".py",
   "mimetype": "text/x-python",
   "name": "python",
   "nbconvert_exporter": "python",
   "pygments_lexer": "ipython3",
   "version": "3.8.12"
  },
  "toc": {
   "base_numbering": 1,
   "nav_menu": {},
   "number_sections": true,
   "sideBar": true,
   "skip_h1_title": false,
   "title_cell": "Table of Contents",
   "title_sidebar": "Contents",
   "toc_cell": false,
   "toc_position": {},
   "toc_section_display": true,
   "toc_window_display": false
  },
  "varInspector": {
   "cols": {
    "lenName": 16,
    "lenType": 16,
    "lenVar": 40
   },
   "kernels_config": {
    "python": {
     "delete_cmd_postfix": "",
     "delete_cmd_prefix": "del ",
     "library": "var_list.py",
     "varRefreshCmd": "print(var_dic_list())"
    },
    "r": {
     "delete_cmd_postfix": ") ",
     "delete_cmd_prefix": "rm(",
     "library": "var_list.r",
     "varRefreshCmd": "cat(var_dic_list()) "
    }
   },
   "types_to_exclude": [
    "module",
    "function",
    "builtin_function_or_method",
    "instance",
    "_Feature"
   ],
   "window_display": false
  }
 },
 "nbformat": 4,
 "nbformat_minor": 1
}
