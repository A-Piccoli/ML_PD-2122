{
 "cells": [
  {
   "cell_type": "markdown",
   "metadata": {
    "collapsed": true,
    "pycharm": {
     "name": "#%% md\n"
    }
   },
   "source": [
    "\n",
    "# Esercizi su Stringhe e Liste"
   ]
  },
  {
   "cell_type": "markdown",
   "metadata": {},
   "source": [
    "## Reverser\n",
    "Scrivi una funzione a cui passerai come parametro una stringa, e che manderà in print una versione inversa (al contrario)\n",
    "della stessa stringa (ad esempio \"abcd\" diventerà \"dcba\")"
   ]
  },
  {
   "cell_type": "code",
   "execution_count": 1,
   "metadata": {},
   "outputs": [],
   "source": [
    "def reverser(stringa):\n",
    "    return(stringa[::-1])"
   ]
  },
  {
   "cell_type": "code",
   "execution_count": 2,
   "metadata": {},
   "outputs": [
    {
     "data": {
      "text/plain": [
       "'asac'"
      ]
     },
     "execution_count": 2,
     "metadata": {},
     "output_type": "execute_result"
    }
   ],
   "source": [
    "reverser(\"casa\")"
   ]
  },
  {
   "cell_type": "code",
   "execution_count": 3,
   "metadata": {},
   "outputs": [
    {
     "data": {
      "text/plain": [
       "'orodomop'"
      ]
     },
     "execution_count": 3,
     "metadata": {},
     "output_type": "execute_result"
    }
   ],
   "source": [
    "reverser(\"pomodoro\")"
   ]
  },
  {
   "cell_type": "markdown",
   "metadata": {},
   "source": [
    "## Palindromi\n",
    "Scrivi una funzione a cui viene passata una parola e riconosce se si tratta di un palindromo (parole che si leggono\n",
    "uguali anche al contrario) oppure meno."
   ]
  },
  {
   "cell_type": "code",
   "execution_count": 6,
   "metadata": {},
   "outputs": [
    {
     "name": "stdout",
     "output_type": "stream",
     "text": [
      "Ailatid'italia\n",
      "Ailatid'italia\n",
      "Ailatid'italia\n",
      "Ailatid'italia\n",
      "Ailatid'italia\n",
      "Ailatid'italia\n",
      "Ailatid'italia\n",
      "Ailatid'italia\n",
      "Ailatiditalia\n",
      "Ailatiditalia\n",
      "Ailatiditalia\n",
      "Ailatiditalia\n",
      "Ailatiditalia\n",
      "Ailatiditalia\n",
      "Ailatiditalia\n",
      "Ailatiditalia\n",
      "Ailatiditalia\n",
      "Ailatiditalia\n",
      "Ailatiditalia\n",
      "Ailatiditalia\n",
      "Ailatiditalia\n",
      "Ailatiditalia\n",
      "Ailatiditalia\n",
      "Ailatiditalia\n",
      "Ailatiditalia\n",
      "Ailatiditalia\n",
      "Ailatiditalia\n",
      "Ailatiditalia\n",
      "Ailatiditalia\n",
      "Ailatiditalia\n",
      "Ailatiditalia\n",
      "Ailatiditalia\n",
      "Ailatiditalia\n"
     ]
    },
    {
     "data": {
      "text/plain": [
       "True"
      ]
     },
     "execution_count": 6,
     "metadata": {},
     "output_type": "execute_result"
    }
   ],
   "source": [
    "def is_palindromo(stringa):\n",
    "    # elimino gli spazi e tutti i caratteri di interpunzione\n",
    "    for symbol in \" `!\\\"#$%&\\'()*+,-./:;<=>?@[\\\\]^_{|}~\":\n",
    "        stringa = stringa.replace(symbol, \"\")\n",
    "    # print(stringa) # inserisco una print di debug\n",
    "    stringa = stringa.lower() # rendo tutto minuscolo\n",
    "    return stringa == stringa[::-1]\n",
    "\n",
    "is_palindromo(\"Ai lati d'italia\")"
   ]
  },
  {
   "cell_type": "markdown",
   "metadata": {},
   "source": [
    "```\n",
    "is_palindromo(\"anna\") --> True\n",
    "is_palindromo(\"Anna\") --> True\n",
    "is_palindromo(\"  anna\") --> True\n",
    "is_palindromo(\"Ai lati d'italia\") --> True\n",
    "```"
   ]
  },
  {
   "cell_type": "markdown",
   "metadata": {},
   "source": [
    "## Semplice Istogramma\n",
    "Scrivi una funzione che, data una lista di numeri, fornisce in output un istogramma basato su questi numeri, usando\n",
    "asterischi per disegnarlo.\n",
    "Data ad esempio la lista [3, 7, 9, 5], la funzione dovrà produrre questa sequenza:\n",
    "```\n",
    "***\n",
    "*******\n",
    "*********\n",
    "*****\n",
    "```"
   ]
  },
  {
   "cell_type": "code",
   "execution_count": 5,
   "metadata": {},
   "outputs": [
    {
     "name": "stdout",
     "output_type": "stream",
     "text": [
      "***\n",
      "*******\n",
      "*********\n",
      "*****\n"
     ]
    }
   ],
   "source": [
    "def simpe_isto(lista):\n",
    "    for elem in lista:\n",
    "        print(f\"{elem*'*'}\")\n",
    "    pass\n",
    "\n",
    "simpe_isto([3, 7, 9, 5])"
   ]
  },
  {
   "cell_type": "markdown",
   "metadata": {
    "pycharm": {
     "name": "#%% md\n"
    }
   },
   "source": [
    "## Generatore di Liste\n",
    "Scrivi una funzione che generi una lista di numeri interi casuali dati in ingresso il numero di elementi della lista (default = 4), il\n",
    "minimo e il massimo di ciascun valore (default = -100, +100)\n",
    "```\n",
    "list_generator() --> [70, 80, 22, 34]\n",
    "list_generator(3,5,50)\n",
    "list_generator(100, -10, 10)\n",
    "list_generator(10, 30, 20) --> errore\n",
    "```"
   ]
  },
  {
   "cell_type": "code",
   "execution_count": 10,
   "metadata": {},
   "outputs": [
    {
     "data": {
      "text/plain": [
       "[71, 0, -85, 93, 49, -13, 66, 73]"
      ]
     },
     "execution_count": 10,
     "metadata": {},
     "output_type": "execute_result"
    }
   ],
   "source": [
    "import random\n",
    "\n",
    "def list_generator(lung = 4, minimo = -100, massimo = 100):\n",
    "    return [random.randrange(minimo,massimo) for j in range(lung)]\n",
    "\n",
    "list_generator(8)"
   ]
  },
  {
   "cell_type": "markdown",
   "metadata": {},
   "source": [
    "## Istogramma avanzato\n",
    "Modificare il codice della funzione dell'esercizio precedente facendo in modo che la stampa avvenga come percentuale sul totale della somma, come percentuale e su un massimo di 70 asterischi per il 100%\n",
    "Data ad esempio la lista [90, 100, 600, 500]. <br> \n",
    "Stampare il valore e la percentuale.<br> \n",
    "90+100+600+500 = 1290 --> 70 asterischi <br> \n",
    "90 --> 4.88 asterizchi che diventano 5 <br> \n",
    "100 -->7 asterischi <br> \n",
    "600 -->41 asterischi <br> \n",
    "500 -->35 asterischi <br> \n",
    "La funzione dovrà produrre quindi questa sequenza:\n",
    "```\n",
    "90:  ***** 6.79 % \n",
    "100: ******* 7.75 %\n",
    "600: ***************************************** 46.51 %\n",
    "500: *********************************** 38.75 %\n",
    "```"
   ]
  },
  {
   "cell_type": "code",
   "execution_count": 1,
   "metadata": {},
   "outputs": [
    {
     "ename": "NameError",
     "evalue": "name 'list_generator' is not defined",
     "output_type": "error",
     "traceback": [
      "\u001b[1;31m---------------------------------------------------------------------------\u001b[0m",
      "\u001b[1;31mNameError\u001b[0m                                 Traceback (most recent call last)",
      "\u001b[1;32m~\\AppData\\Local\\Temp/ipykernel_20460/1749966946.py\u001b[0m in \u001b[0;36m<module>\u001b[1;34m\u001b[0m\n\u001b[0;32m     12\u001b[0m         \u001b[0mprint\u001b[0m\u001b[1;33m(\u001b[0m\u001b[1;34mf\"{elem:>8} {round(70 * perc) * '*'} {100*perc:.2f} %\"\u001b[0m\u001b[1;33m)\u001b[0m\u001b[1;33m\u001b[0m\u001b[1;33m\u001b[0m\u001b[0m\n\u001b[0;32m     13\u001b[0m \u001b[1;33m\u001b[0m\u001b[0m\n\u001b[1;32m---> 14\u001b[1;33m \u001b[0madv_isto\u001b[0m\u001b[1;33m(\u001b[0m\u001b[0mlist_generator\u001b[0m\u001b[1;33m(\u001b[0m\u001b[1;36m4\u001b[0m\u001b[1;33m,\u001b[0m \u001b[1;36m0\u001b[0m\u001b[1;33m,\u001b[0m \u001b[1;36m100\u001b[0m\u001b[1;33m)\u001b[0m\u001b[1;33m)\u001b[0m\u001b[1;33m\u001b[0m\u001b[1;33m\u001b[0m\u001b[0m\n\u001b[0m\u001b[0;32m     15\u001b[0m \u001b[1;33m\u001b[0m\u001b[0m\n",
      "\u001b[1;31mNameError\u001b[0m: name 'list_generator' is not defined"
     ]
    }
   ],
   "source": [
    "def adv_isto(lista):\n",
    "    # per ciascun elemento nell lista:\n",
    "    for elem in lista:\n",
    "        # la percentuale e' uguale al valore dell'elemento diviso\n",
    "        # la soma di tutti gli elementi\n",
    "        perc = elem/sum(lista)\n",
    "        # Stampa a monitor nell'ordine:\n",
    "        # Il valore dell'elemento\n",
    "        # La percentuale moltiplicata per 70 arrotondata e moltiplicata per il char \"*\"\n",
    "        # che forma l'istogramma\n",
    "        # e la percentuale moltiplicata per 100 a due cifre decimali\n",
    "        print(f\"{elem:>8} {round(70 * perc) * '*'} {100*perc:.2f} %\")\n",
    "\n",
    "adv_isto(list_generator(4, 0, 100))"
   ]
  },
  {
   "cell_type": "markdown",
   "metadata": {},
   "source": [
    "## Pwd generator\n",
    "Scrivi una funzione generatrice di password. <br>\n",
    "La funzione deve generare una stringa alfanumerica di n (default = 8) caratteri qualora l'utente voglia una password.\n",
    "Fare in modo che la password contenga almeno una lettera minuscola, almeno una maiuscola, almeno un numero e almeno un carattere tra: <br>\n",
    "`! \" # $ % & ' ( ) * + , - . / : ; < = > ? @ [ \\ ] ^ _ { | } ~`"
   ]
  },
  {
   "cell_type": "code",
   "execution_count": 2,
   "metadata": {
    "pycharm": {
     "name": "#%%\n"
    }
   },
   "outputs": [],
   "source": [
    "import random\n",
    "import string\n",
    "def generate_vocabular():\n",
    "    #genero il vocabolario di simboli da usare per creare al password:\n",
    "    l_case = string.ascii_lowercase # lettere minuscole\n",
    "    u_case = string.ascii_uppercase # lettere maiuscole\n",
    "    dig = string.digits # cifre\n",
    "    punct = string.punctuation # punteggiatura\n",
    "    vocabular = [] # creo una lista unica con tutto dentro\n",
    "    vocabular += l_case\n",
    "    vocabular += u_case\n",
    "    vocabular += dig\n",
    "    vocabular += punct\n",
    "    return vocabular"
   ]
  },
  {
   "cell_type": "code",
   "execution_count": 36,
   "metadata": {
    "pycharm": {
     "name": "#%%\n"
    }
   },
   "outputs": [
    {
     "ename": "AttributeError",
     "evalue": "'list' object has no attribute 'intersection'",
     "output_type": "error",
     "traceback": [
      "\u001b[1;31m---------------------------------------------------------------------------\u001b[0m",
      "\u001b[1;31mAttributeError\u001b[0m                            Traceback (most recent call last)",
      "\u001b[1;32m~\\AppData\\Local\\Temp/ipykernel_5752/2386337124.py\u001b[0m in \u001b[0;36m<module>\u001b[1;34m\u001b[0m\n\u001b[0;32m      1\u001b[0m \u001b[0mc\u001b[0m \u001b[1;33m=\u001b[0m \u001b[1;33m[\u001b[0m\u001b[1;34m\"a\"\u001b[0m\u001b[1;33m,\u001b[0m \u001b[1;34m\"b\"\u001b[0m\u001b[1;33m]\u001b[0m\u001b[1;33m\u001b[0m\u001b[1;33m\u001b[0m\u001b[0m\n\u001b[0;32m      2\u001b[0m \u001b[0md\u001b[0m \u001b[1;33m=\u001b[0m \u001b[1;33m[\u001b[0m\u001b[1;34m\"a\"\u001b[0m\u001b[1;33m]\u001b[0m\u001b[1;33m\u001b[0m\u001b[1;33m\u001b[0m\u001b[0m\n\u001b[1;32m----> 3\u001b[1;33m \u001b[0mc\u001b[0m\u001b[1;33m.\u001b[0m\u001b[0mintersection\u001b[0m\u001b[1;33m(\u001b[0m\u001b[0md\u001b[0m\u001b[1;33m)\u001b[0m\u001b[1;33m\u001b[0m\u001b[1;33m\u001b[0m\u001b[0m\n\u001b[0m",
      "\u001b[1;31mAttributeError\u001b[0m: 'list' object has no attribute 'intersection'"
     ]
    }
   ],
   "source": [
    "c = [\"a\", \"b\"]\n",
    "d = [\"a\"]\n",
    "c.intersection(d)"
   ]
  },
  {
   "cell_type": "code",
   "execution_count": 86,
   "metadata": {
    "pycharm": {
     "name": "#%%\n"
    }
   },
   "outputs": [
    {
     "data": {
      "text/plain": [
       "'SNTBsVL\"'"
      ]
     },
     "execution_count": 86,
     "metadata": {},
     "output_type": "execute_result"
    }
   ],
   "source": [
    "def is_valid(my_string):\n",
    "    found = False\n",
    "\n",
    "    for elem in my_string:\n",
    "        if elem in string.digits:\n",
    "            found = True\n",
    "            print(\"found: \",elem)\n",
    "            break\n",
    "\n",
    "    if not found:\n",
    "        return False\n",
    "\n",
    "    for elem in my_string:\n",
    "        if elem in string.ascii_lowercase:\n",
    "            found = True\n",
    "            print(\"found: \",elem)\n",
    "            break\n",
    "\n",
    "    if not found:\n",
    "        return False\n",
    "    found = False\n",
    "\n",
    "    for elem in my_string:\n",
    "        if elem in string.ascii_uppercase:\n",
    "            found = True\n",
    "            print(\"found: \",elem)\n",
    "            break\n",
    "\n",
    "    if not found:\n",
    "        return False\n",
    "    found = False\n",
    "\n",
    "    found = False\n",
    "    for elem in my_string:\n",
    "        if elem in string.punctuation:\n",
    "            print(\"found: \",elem)\n",
    "            return True\n",
    "\n",
    "    return False\n",
    "\n",
    "def generate_string(lenght = 8):\n",
    "\n",
    "    vocabular = generate_vocabular()\n",
    "    # inizializzo la mia password:\n",
    "    my_str = \"\"\n",
    "    while len(my_str) < lenght:\n",
    "        my_str += random.choice(vocabular)\n",
    "    return my_str\n",
    "\n",
    "generate_string()"
   ]
  },
  {
   "cell_type": "code",
   "execution_count": 87,
   "metadata": {
    "pycharm": {
     "name": "#%%\n"
    }
   },
   "outputs": [
    {
     "name": "stderr",
     "output_type": "stream",
     "text": [
      "UsageError: Line magic function `%~%time` not found.\n"
     ]
    }
   ],
   "source": [
    "%~%time\n",
    "def pwd_gen(lenght):\n",
    "\n",
    "    my_pasw = generate_string(lenght)\n",
    "\n",
    "    while not is_valid(my_pasw):\n",
    "        print(\"Checking\", my_pasw)\n",
    "        my_pasw = generate_string(lenght)\n",
    "\n",
    "    return my_pasw\n",
    "\n",
    "pwd_gen(4)"
   ]
  },
  {
   "cell_type": "markdown",
   "metadata": {},
   "source": [
    "## Cifratore Semplice\n",
    "Il ROT-13 è un semplice cifrario monoalfabetico, in cui ogni lettera del messaggio da cifrare viene sostituita con\n",
    "quella posta 13 posizioni più avanti nell'alfabeto.<br>\n",
    "Scrivere una funzione che data una stringa in ingresso, restituisca la stringa cifrata.\n",
    "Scrivere una seconda funzione che faccia la decrittazione di una stringa cifrata."
   ]
  },
  {
   "cell_type": "code",
   "execution_count": 25,
   "metadata": {},
   "outputs": [
    {
     "name": "stdout",
     "output_type": "stream",
     "text": [
      "dhrfgbrhapbqvprfrtergb\n",
      "nopqrstuvwxyzabcdefghijklm\n",
      "nopqrstuvwxyzabcdefghijklm\n",
      "abcz\n",
      "abcdefghijklmnopqrstuvwxyz\n"
     ]
    }
   ],
   "source": [
    "def simple_cyph(my_string, rot = 13):\n",
    "    alphabet = string.ascii_lowercase\n",
    "    new_string = \"\"\n",
    "    # lavoro con sole elttere minuscole\n",
    "    # elimino tutti i caratteri in terpunzione e gli spazi\n",
    "    my_string = my_string.lower()\n",
    "    for symbol in \" `!\\\"#$%&\\'()*+,-./:;<=>?@[\\\\]^_{|}~\":\n",
    "        my_string = my_string.replace(symbol, \"\")\n",
    "\n",
    "    for letter in my_string:\n",
    "        # print(letter)\n",
    "        # posizione nell'alfabeto della lettera:\n",
    "        alfa_index = alphabet.find(letter)\n",
    "        # nuova poszione:\n",
    "        new_index = alfa_index + rot\n",
    "        # se supero la posizione della z, ricomincio da 0:\n",
    "        # print(new_index)\n",
    "        if new_index > (len(alphabet)-1):\n",
    "            new_index -= len(alphabet)\n",
    "        # print(new_index)\n",
    "        new_string += alphabet[new_index]\n",
    "\n",
    "    return new_string\n",
    "\n",
    "def simple_de_cyph(my_string, rot = 13):\n",
    "    alphabet = string.ascii_lowercase\n",
    "    new_string = \"\"\n",
    "    for letter in my_string:\n",
    "        # print(letter)\n",
    "        # posizione nell'alfabeto della lettera:\n",
    "        alfa_index = alphabet.find(letter)\n",
    "        # nuova poszione:\n",
    "        new_index = alfa_index - rot\n",
    "        # se supero la posizione della z, ricomincio da 0:\n",
    "        if new_index < 0:\n",
    "            new_index += len(alphabet)\n",
    "        new_string += alphabet[new_index]\n",
    "\n",
    "    return new_string\n",
    "\n",
    "print(simple_cyph(\"Questo e un codice segreto:\", rot = 13))\n",
    "print(simple_cyph(string.ascii_lowercase, rot = 13))\n",
    "print(simple_cyph(string.ascii_uppercase, rot = 13))\n",
    "print(simple_de_cyph(\"nopm\", rot = 13))\n",
    "print(simple_de_cyph(\"nopqrstuvwxyzabcdefghijklm\", rot = 13))"
   ]
  },
  {
   "cell_type": "markdown",
   "metadata": {},
   "source": [
    "## Cifratore semplice v.2\n",
    "Modifica il codice della precedente funzione facendo in modo di poter lavorare con un ROT-1 o un ROT-25 a scelta dell'utente (default 13)."
   ]
  },
  {
   "cell_type": "code",
   "execution_count": 9,
   "metadata": {},
   "outputs": [],
   "source": [
    "import string\n",
    "def simple_cyph_2(my_string, rot = 13):\n",
    "    # identico al `simple_cyph`, integro solo un controlo sul toc:\n",
    "    if toc < 1 or toc > 25:\n",
    "        raise ValueError(\"ROT must be beetween 1 and 26\")\n",
    "    alphabet = string.ascii_lowercase\n",
    "    new_string = \"\"\n",
    "    # lavoro con sole elttere minuscole\n",
    "    # elimino tutti i caratteri in terpunzione e gli spazi\n",
    "    my_string = my_string.lower()\n",
    "    for symbol in \" `!\\\"#$%&\\'()*+,-./:;<=>?@[\\\\]^_{|}~\":\n",
    "        my_string = my_string.replace(symbol, \"\")\n",
    "\n",
    "    for letter in my_string:\n",
    "        # posizione nell'alfabeto della lettera:\n",
    "        alfa_index = alphabet.find(letter)\n",
    "        # nuova poszione:\n",
    "        new_index = alfa_index + rot\n",
    "        # se supero la posizione della z, ricomincio da 0:\n",
    "        if new_index > len(alphabet):\n",
    "            new_index -= len(alphabet)\n",
    "        new_string += alphabet[new_index]\n",
    "\n",
    "    return new_string"
   ]
  },
  {
   "cell_type": "code",
   "execution_count": 11,
   "metadata": {},
   "outputs": [
    {
     "data": {
      "text/plain": [
       "'bzrz'"
      ]
     },
     "execution_count": 11,
     "metadata": {},
     "output_type": "execute_result"
    }
   ],
   "source": [
    "simple_cyph_2(\"casa\", rot = 25)"
   ]
  },
  {
   "cell_type": "code",
   "execution_count": null,
   "metadata": {
    "pycharm": {
     "name": "#%%\n"
    }
   },
   "outputs": [],
   "source": []
  }
 ],
 "metadata": {
  "kernelspec": {
   "display_name": "Python 3 (ipykernel)",
   "language": "python",
   "name": "python3"
  },
  "language_info": {
   "codemirror_mode": {
    "name": "ipython",
    "version": 3
   },
   "file_extension": ".py",
   "mimetype": "text/x-python",
   "name": "python",
   "nbconvert_exporter": "python",
   "pygments_lexer": "ipython3",
   "version": "3.8.12"
  },
  "toc": {
   "base_numbering": 1,
   "nav_menu": {},
   "number_sections": true,
   "sideBar": true,
   "skip_h1_title": true,
   "title_cell": "Indice",
   "title_sidebar": "Contents",
   "toc_cell": false,
   "toc_position": {},
   "toc_section_display": true,
   "toc_window_display": false
  },
  "varInspector": {
   "cols": {
    "lenName": 16,
    "lenType": 16,
    "lenVar": 40
   },
   "kernels_config": {
    "python": {
     "delete_cmd_postfix": "",
     "delete_cmd_prefix": "del ",
     "library": "var_list.py",
     "varRefreshCmd": "print(var_dic_list())"
    },
    "r": {
     "delete_cmd_postfix": ") ",
     "delete_cmd_prefix": "rm(",
     "library": "var_list.r",
     "varRefreshCmd": "cat(var_dic_list()) "
    }
   },
   "types_to_exclude": [
    "module",
    "function",
    "builtin_function_or_method",
    "instance",
    "_Feature"
   ],
   "window_display": false
  }
 },
 "nbformat": 4,
 "nbformat_minor": 1
}
