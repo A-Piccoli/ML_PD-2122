{
 "cells": [
  {
   "cell_type": "markdown",
   "metadata": {
    "collapsed": true,
    "pycharm": {
     "name": "#%% md\n"
    }
   },
   "source": [
    "# Esercizi su Stringhe e Liste"
   ]
  },
  {
   "cell_type": "markdown",
   "metadata": {},
   "source": [
    "## Es. 1: Reverser\n",
    "Scrivi una funzione a cui passerai come parametro una stringa, e che manderà in print una versione inversa (al contrario)\n",
    "della stessa stringa (ad esempio \"abcd\" diventerà \"dcba\")"
   ]
  },
  {
   "cell_type": "markdown",
   "metadata": {},
   "source": [
    "## Es. 2: Palindromi\n",
    "Scrivi una funzione a cui viene passata una parola e riconosce se si tratta di un palindromo (parole che si leggono\n",
    "uguali anche al contrario) oppure meno."
   ]
  },
  {
   "cell_type": "markdown",
   "metadata": {},
   "source": [
    "## Es. 3: Semplice Istogramma\n",
    "Scrivi una funzione che, data una lista di numeri, fornisce in output un istogramma basato su questi numeri, usando\n",
    "asterischi per disegnarlo.\n",
    "Data ad esempio la lista [3, 7, 9, 5], la funzione dovrà produrre questa sequenza:\n",
    "```\n",
    "***\n",
    "*******\n",
    "*********\n",
    "*****\n",
    "```"
   ]
  },
  {
   "cell_type": "markdown",
   "metadata": {
    "pycharm": {
     "name": "#%% md\n"
    }
   },
   "source": [
    "## Es. 4: Generatore di Liste\n",
    "Scrivi una funzione che generi una lista di numeri casuali dati il numero di elementi della lista (default = 4), il\n",
    "minimo e il massimo di ciascun valore (default = -100, +100)"
   ]
  },
  {
   "cell_type": "markdown",
   "metadata": {},
   "source": [
    "## Es. 5: Istogramma avanzato\n",
    "Modificare il codice della funzione dell'esercizio tre facendoin modo che la stampa avvenga come percentuale sul totale della somma, come percentuale e su un massimo di 70 asterischi per il 100%\n",
    "Data ad esempio la lista [90, 100, 600, 500]. <br> \n",
    "Stampare il valore e la percentuale.<br> \n",
    "90+100+600+500 = 1290 --> 70 asterischi <br> \n",
    "90 --> 4.88 asterizchi che diventano 5 <br> \n",
    "100 -->7 asterischi <br> \n",
    "600 -->41 asterischi <br> \n",
    "500 -->35 asterischi <br> \n",
    "La funzione dovrà produrre quindi questa sequenza:\n",
    "```\n",
    "90:  ***** 6.79 % \n",
    "100: ******* 7.75 %\n",
    "600: ***************************************** 46.51 %\n",
    "500: *********************************** 38.75 %\n",
    "```"
   ]
  },
  {
   "cell_type": "markdown",
   "metadata": {},
   "source": [
    "## Es. 6: Pwd generator\n",
    "Scrivi una funzione generatrice di password. <br>\n",
    "La funzione deve generare una stringa alfanumerica di n (default = 8) caratteri qualora l'utente voglia una password.\n",
    "Fare in modo che la password contenga almeno una lettera minuscola, almeno una maiuscola, almeno un numero e almeno un carattere tra: <br>\n",
    "`! \" # $ % & ' ( ) * + , - . / : ; < = > ? @ [ \\ ] ^ _ { | } ~`"
   ]
  },
  {
   "cell_type": "markdown",
   "metadata": {},
   "source": [
    "## Es. 7: Cifratore Semplice\n",
    "Il ROT-13 è un semplice cifrario monoalfabetico, in cui ogni lettera del messaggio da cifrare viene sostituita con\n",
    "quella posta 13 posizioni più avanti nell'alfabeto.<br>\n",
    "Scrivere una funzione che data una stringa in ingresso, restituisca la stringa cifrata.\n",
    "Scrivere una seconda funzione che faccia la decrittazione di una stringa cifrata."
   ]
  },
  {
   "cell_type": "markdown",
   "metadata": {},
   "source": [
    "## Es. 8: Cifratore semplice v.2\n",
    "Modifica il codice della precedente funzione facendo in modo di poter lavorare con un ROT-1 o un ROT-26 a scelta dell'utente (default 13)."
   ]
  },
  {
   "cell_type": "code",
   "execution_count": null,
   "metadata": {},
   "outputs": [],
   "source": []
  }
 ],
 "metadata": {
  "kernelspec": {
   "display_name": "Python 3 (ipykernel)",
   "language": "python",
   "name": "python3"
  },
  "language_info": {
   "codemirror_mode": {
    "name": "ipython",
    "version": 3
   },
   "file_extension": ".py",
   "mimetype": "text/x-python",
   "name": "python",
   "nbconvert_exporter": "python",
   "pygments_lexer": "ipython3",
   "version": "3.8.12"
  },
  "toc": {
   "base_numbering": 1,
   "nav_menu": {},
   "number_sections": true,
   "sideBar": true,
   "skip_h1_title": true,
   "title_cell": "Indice",
   "title_sidebar": "Contents",
   "toc_cell": false,
   "toc_position": {},
   "toc_section_display": true,
   "toc_window_display": true
  },
  "varInspector": {
   "cols": {
    "lenName": 16,
    "lenType": 16,
    "lenVar": 40
   },
   "kernels_config": {
    "python": {
     "delete_cmd_postfix": "",
     "delete_cmd_prefix": "del ",
     "library": "var_list.py",
     "varRefreshCmd": "print(var_dic_list())"
    },
    "r": {
     "delete_cmd_postfix": ") ",
     "delete_cmd_prefix": "rm(",
     "library": "var_list.r",
     "varRefreshCmd": "cat(var_dic_list()) "
    }
   },
   "types_to_exclude": [
    "module",
    "function",
    "builtin_function_or_method",
    "instance",
    "_Feature"
   ],
   "window_display": false
  }
 },
 "nbformat": 4,
 "nbformat_minor": 1
}
