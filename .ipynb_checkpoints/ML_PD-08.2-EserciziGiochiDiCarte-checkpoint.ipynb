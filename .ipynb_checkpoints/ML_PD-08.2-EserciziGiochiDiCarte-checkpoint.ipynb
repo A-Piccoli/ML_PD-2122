{
 "cells": [
  {
   "cell_type": "markdown",
   "metadata": {
    "collapsed": true,
    "pycharm": {
     "name": "#%% md\n"
    }
   },
   "source": [
    "## Mischiare le carte\n",
    "Costruire una lista di tuple contenente tutte le carte di un mazzo da 40 (carte da scopa).\n",
    "Ogni tupla rappresenta una carta del mazzo e contiene un valore ('Asso', 'Due', 'Tre'..., 'Fante', 'Cavallo', 'Re')\n",
    "e una seme ('Denari', 'Spade', 'Bastoni', 'Coppe').<br>\n",
    "Creare una funzione inzialize_deck per inizializzare il mazzo con tuple da 'Asso' a 'Re' per ogni seme:\n",
    "```\n",
    "deck = [('Asso', 'Denari'), ('Due', 'Denari'), ...., ('Re','Denari'),\n",
    "        ('Asso', 'Spade'), ('Due', 'Spade'), ...., ('Re','Spade'),\n",
    "        ('Asso', 'Bastoni'), ('Due', 'Bastoni'), ...., ('Re','Bastoni'),\n",
    "        ('Asso', 'Coppe'), ('Due', 'Coppe'), ...., ('Re','Coppe')]\n",
    "```\n",
    "Prima di ritornare la lista, usate la funzione `shuffle` del modulo *random* per mischiare il mazzo.\n",
    "Prima di restituire il mazzo, stamparlo a monitor nel segunete formato a 4 colonne:\n",
    "```\n",
    "Fante di Bastoni    Asso di Bastoni     Cavallo di Spade    Due di Denari\n",
    "Sei di Coppe        Re di Spade         Fante di Denari     Cinque di Denari\n",
    "Cinque di Spade     Asso di Coppe       Sette di Coppe      Cavallo di Coppe\n",
    "Due di Spade        Quattro di Coppe    Sei di Bastoni      Cavallo di Bastoni\n",
    "Sette di Spade      Quattro di Spade    Sette di Bastoni    Re di Denari\n",
    "Sei di Denari       Cavallo di Denari   Asso di Denari      Re di Coppe\n",
    "Due di Coppe        Quattro di Bastoni  Asso di Spade       Tre di Spade\n",
    "Re di Bastoni       Cinque di Bastoni   Tre di Denari       Quattro di Denari\n",
    "Tre di Coppe        Tre di Bastoni      Cinque di Coppe     Sette di Denari\n",
    "Fante di Coppe      Fante di Spade      Sei di Spade        Due di Bastoni\n",
    "```"
   ]
  },
  {
   "cell_type": "code",
   "execution_count": 14,
   "metadata": {
    "pycharm": {
     "name": "#%%\n"
    }
   },
   "outputs": [],
   "source": [
    "def scopa_deck():\n",
    "    deck = []\n",
    "\n",
    "    return deck"
   ]
  },
  {
   "cell_type": "markdown",
   "metadata": {
    "pycharm": {
     "name": "#%% md\n"
    }
   },
   "source": [
    "## Valutare una mano di poker"
   ]
  },
  {
   "cell_type": "markdown",
   "metadata": {
    "pycharm": {
     "name": "#%% md\n"
    }
   },
   "source": [
    "## Valutare una mano di poker\n",
    "\n",
    "Modificare la funzione precedente per generare un mazzo di carte da poker mischiate (scrivere la funzione\n",
    "`pocker_deck()`) e una nuova funzione che riceve come argometo questo mazzo e restituisce le prime 5 carte\n",
    "(`serve_player(deck)`)\n",
    "<br>\n",
    "Fare in modo che una volta generate le 5 carte (tuple), le stesse carte vengano rimosse dal mazzo.<br>\n",
    "Se le carte nel mazzo non sono sufficienti a generare una mano il mazzo viene rigenerato e rimischiato. <br>\n",
    "Scrivere una serie di funzioni che valutino se la mano contiene i seguenti gruppi di carte:\n",
    "* una coppia `is_one_pair`\n",
    "* una doppia coppia `is_two_pairs`\n",
    "* un tris `is_three_of_a_kind`\n",
    "* una scala (5 carte di valore consecutivo) `is_straight`\n",
    "* colore (5 carte dello stesso seme) `is_flush`\n",
    "* un full (2 uguali + 3 uguali) `is_full_house`\n",
    "* un poker (4 uguali) `is_four_of_a_kind`\n",
    "* una scala reale (5 carte consecutive dello stesso seme) `is_straight_flush`\n",
    "\n",
    "Ulteriori dettagli su: [Regole del Poker](https://it.wikipedia.org/wiki/Punti_del_poker)"
   ]
  },
  {
   "cell_type": "code",
   "execution_count": null,
   "metadata": {
    "pycharm": {
     "name": "#%%\n"
    }
   },
   "outputs": [],
   "source": [
    "\n",
    "\n",
    "def poker_deck():\n",
    "    deck = []\n",
    "    return deck\n",
    "\n",
    "\n",
    "def serve_player(deck):\n",
    "    five_card_hand = []\n",
    "    return five_card_hand\n",
    "\n",
    "\n",
    "def is_one_pair(five_card_hand):\n",
    "    pass\n",
    "\n",
    "\n",
    "def is_two_pairs(five_card_hand):\n",
    "    pass\n",
    "\n",
    "\n",
    "def is_three_of_a_kind(five_card_hand):\n",
    "    pass\n",
    "\n",
    "\n",
    "def is_straight(five_card_hand):\n",
    "    pass\n",
    "\n",
    "\n",
    "def is_flush(five_card_hand):\n",
    "    pass\n",
    "\n",
    "\n",
    "def is_full_house(five_card_hand):\n",
    "    pass\n",
    "\n",
    "\n",
    "def is_four_of_a_kind(five_card_hand):\n",
    "    pass\n",
    "\n",
    "\n",
    "def is_straight_flush(five_card_hand):\n",
    "    pass"
   ]
  },
  {
   "cell_type": "markdown",
   "metadata": {
    "pycharm": {
     "name": "#%% md\n"
    }
   },
   "source": [
    "## Giocare a poker\n",
    "Scrivere uno script che utilizzi i metodi di cui sopra per confrontare due mani di poker (due liste di 5 tuple)\n",
    "Per ogni game, lo script dora' generare due liste di 5 tuple (le due mani) e determinare quale delle due e' vincente.<br>\n",
    "Il gioco continua sino a che non sono esaurite le carte del mazzo.<br>\n",
    "Salvare il numero di mani vinte da ciascun player su una variabile e stamapre a monitor il risultato."
   ]
  },
  {
   "cell_type": "markdown",
   "metadata": {
    "pycharm": {
     "name": "#%% md\n"
    }
   },
   "source": [
    "## Statistiche di gioco\n",
    "Ripetere una sessione di gioco per 100, 1 000, 10 000, 100 000 e 1 000 000 di volte. <br>\n",
    "Calcolare per ciascuna sessione quante volte si verifica ciascuna combinazione di punteggi.<br>\n",
    "Stampare a monitor i risultati in valore assoluto e in percentuale in un formato del tipo:\n",
    "```\n",
    "Su 100 mani ci sono state:\n",
    "33 coppie\n",
    "10 doppie coppie\n",
    "1 tris\n",
    "1 poker\n",
    "```\n",
    "\n",
    "\n",
    "\n"
   ]
  }
 ],
 "metadata": {
  "kernelspec": {
   "display_name": "Python 3 (ipykernel)",
   "language": "python",
   "name": "python3"
  },
  "language_info": {
   "codemirror_mode": {
    "name": "ipython",
    "version": 3
   },
   "file_extension": ".py",
   "mimetype": "text/x-python",
   "name": "python",
   "nbconvert_exporter": "python",
   "pygments_lexer": "ipython3",
   "version": "3.8.12"
  },
  "toc": {
   "base_numbering": 1,
   "nav_menu": {},
   "number_sections": true,
   "sideBar": true,
   "skip_h1_title": false,
   "title_cell": "Table of Contents",
   "title_sidebar": "Contents",
   "toc_cell": false,
   "toc_position": {},
   "toc_section_display": true,
   "toc_window_display": false
  },
  "varInspector": {
   "cols": {
    "lenName": 16,
    "lenType": 16,
    "lenVar": 40
   },
   "kernels_config": {
    "python": {
     "delete_cmd_postfix": "",
     "delete_cmd_prefix": "del ",
     "library": "var_list.py",
     "varRefreshCmd": "print(var_dic_list())"
    },
    "r": {
     "delete_cmd_postfix": ") ",
     "delete_cmd_prefix": "rm(",
     "library": "var_list.r",
     "varRefreshCmd": "cat(var_dic_list()) "
    }
   },
   "types_to_exclude": [
    "module",
    "function",
    "builtin_function_or_method",
    "instance",
    "_Feature"
   ],
   "window_display": false
  }
 },
 "nbformat": 4,
 "nbformat_minor": 1
}
