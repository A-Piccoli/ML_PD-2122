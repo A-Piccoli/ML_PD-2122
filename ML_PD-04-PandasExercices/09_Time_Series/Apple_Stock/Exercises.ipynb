{
 "cells": [
  {
   "cell_type": "markdown",
   "metadata": {},
   "source": [
    "# Apple Stock"
   ]
  },
  {
   "cell_type": "markdown",
   "metadata": {},
   "source": [
    "### Introduction:\n",
    "\n",
    "We are going to use Apple's stock price.\n",
    "\n",
    "\n",
    "### Step 1. Import the necessary libraries"
   ]
  },
  {
   "cell_type": "code",
   "execution_count": 1,
   "metadata": {
    "collapsed": false
   },
   "outputs": [],
   "source": [
    "import pandas as pd\n",
    "import numpy as np\n",
    "from matplotlib import pyplot as plt"
   ]
  },
  {
   "cell_type": "markdown",
   "metadata": {},
   "source": [
    "### Step 2. Import the dataset from this [address](https://raw.githubusercontent.com/guipsamora/pandas_exercises/master/09_Time_Series/Apple_Stock/appl_1980_2014.csv)"
   ]
  },
  {
   "cell_type": "code",
   "execution_count": 2,
   "metadata": {
    "collapsed": true
   },
   "outputs": [],
   "source": [
    "url = \"https://raw.githubusercontent.com/guipsamora/pandas_exercises/master/09_Time_Series/Apple_Stock/appl_1980_2014.csv\""
   ]
  },
  {
   "cell_type": "markdown",
   "metadata": {},
   "source": [
    "### Step 3. Assign it to a variable apple"
   ]
  },
  {
   "cell_type": "code",
   "execution_count": 47,
   "metadata": {
    "collapsed": false
   },
   "outputs": [
    {
     "data": {
      "text/plain": "            Date   Open   High    Low  Close     Volume  Adj Close\n0     2014-07-08  96.27  96.80  93.92  95.35   65130000      95.35\n1     2014-07-07  94.14  95.99  94.10  95.97   56305400      95.97\n2     2014-07-03  93.67  94.10  93.20  94.03   22891800      94.03\n3     2014-07-02  93.87  94.06  93.09  93.48   28420900      93.48\n4     2014-07-01  93.52  94.07  93.13  93.52   38170200      93.52\n...          ...    ...    ...    ...    ...        ...        ...\n8460  1980-12-18  26.63  26.75  26.63  26.63   18362400       0.41\n8461  1980-12-17  25.87  26.00  25.87  25.87   21610400       0.40\n8462  1980-12-16  25.37  25.37  25.25  25.25   26432000       0.39\n8463  1980-12-15  27.38  27.38  27.25  27.25   43971200       0.42\n8464  1980-12-12  28.75  28.87  28.75  28.75  117258400       0.45\n\n[8465 rows x 7 columns]",
      "text/html": "<div>\n<style scoped>\n    .dataframe tbody tr th:only-of-type {\n        vertical-align: middle;\n    }\n\n    .dataframe tbody tr th {\n        vertical-align: top;\n    }\n\n    .dataframe thead th {\n        text-align: right;\n    }\n</style>\n<table border=\"1\" class=\"dataframe\">\n  <thead>\n    <tr style=\"text-align: right;\">\n      <th></th>\n      <th>Date</th>\n      <th>Open</th>\n      <th>High</th>\n      <th>Low</th>\n      <th>Close</th>\n      <th>Volume</th>\n      <th>Adj Close</th>\n    </tr>\n  </thead>\n  <tbody>\n    <tr>\n      <th>0</th>\n      <td>2014-07-08</td>\n      <td>96.27</td>\n      <td>96.80</td>\n      <td>93.92</td>\n      <td>95.35</td>\n      <td>65130000</td>\n      <td>95.35</td>\n    </tr>\n    <tr>\n      <th>1</th>\n      <td>2014-07-07</td>\n      <td>94.14</td>\n      <td>95.99</td>\n      <td>94.10</td>\n      <td>95.97</td>\n      <td>56305400</td>\n      <td>95.97</td>\n    </tr>\n    <tr>\n      <th>2</th>\n      <td>2014-07-03</td>\n      <td>93.67</td>\n      <td>94.10</td>\n      <td>93.20</td>\n      <td>94.03</td>\n      <td>22891800</td>\n      <td>94.03</td>\n    </tr>\n    <tr>\n      <th>3</th>\n      <td>2014-07-02</td>\n      <td>93.87</td>\n      <td>94.06</td>\n      <td>93.09</td>\n      <td>93.48</td>\n      <td>28420900</td>\n      <td>93.48</td>\n    </tr>\n    <tr>\n      <th>4</th>\n      <td>2014-07-01</td>\n      <td>93.52</td>\n      <td>94.07</td>\n      <td>93.13</td>\n      <td>93.52</td>\n      <td>38170200</td>\n      <td>93.52</td>\n    </tr>\n    <tr>\n      <th>...</th>\n      <td>...</td>\n      <td>...</td>\n      <td>...</td>\n      <td>...</td>\n      <td>...</td>\n      <td>...</td>\n      <td>...</td>\n    </tr>\n    <tr>\n      <th>8460</th>\n      <td>1980-12-18</td>\n      <td>26.63</td>\n      <td>26.75</td>\n      <td>26.63</td>\n      <td>26.63</td>\n      <td>18362400</td>\n      <td>0.41</td>\n    </tr>\n    <tr>\n      <th>8461</th>\n      <td>1980-12-17</td>\n      <td>25.87</td>\n      <td>26.00</td>\n      <td>25.87</td>\n      <td>25.87</td>\n      <td>21610400</td>\n      <td>0.40</td>\n    </tr>\n    <tr>\n      <th>8462</th>\n      <td>1980-12-16</td>\n      <td>25.37</td>\n      <td>25.37</td>\n      <td>25.25</td>\n      <td>25.25</td>\n      <td>26432000</td>\n      <td>0.39</td>\n    </tr>\n    <tr>\n      <th>8463</th>\n      <td>1980-12-15</td>\n      <td>27.38</td>\n      <td>27.38</td>\n      <td>27.25</td>\n      <td>27.25</td>\n      <td>43971200</td>\n      <td>0.42</td>\n    </tr>\n    <tr>\n      <th>8464</th>\n      <td>1980-12-12</td>\n      <td>28.75</td>\n      <td>28.87</td>\n      <td>28.75</td>\n      <td>28.75</td>\n      <td>117258400</td>\n      <td>0.45</td>\n    </tr>\n  </tbody>\n</table>\n<p>8465 rows × 7 columns</p>\n</div>"
     },
     "execution_count": 47,
     "metadata": {},
     "output_type": "execute_result"
    }
   ],
   "source": [
    "apple = pd.read_csv(url)\n",
    "apple"
   ]
  },
  {
   "cell_type": "markdown",
   "metadata": {},
   "source": [
    "### Step 4.  Check out the type of the columns"
   ]
  },
  {
   "cell_type": "code",
   "execution_count": 48,
   "metadata": {
    "collapsed": false
   },
   "outputs": [
    {
     "data": {
      "text/plain": "Date          object\nOpen         float64\nHigh         float64\nLow          float64\nClose        float64\nVolume         int64\nAdj Close    float64\ndtype: object"
     },
     "execution_count": 48,
     "metadata": {},
     "output_type": "execute_result"
    }
   ],
   "source": [
    "apple.dtypes"
   ]
  },
  {
   "cell_type": "markdown",
   "metadata": {},
   "source": [
    "### Step 5. Transform the Date column as a datetime type"
   ]
  },
  {
   "cell_type": "code",
   "execution_count": 49,
   "metadata": {
    "collapsed": false
   },
   "outputs": [],
   "source": [
    "# https://docs.python.org/3/library/datetime.html#strftime-and-strptime-behavior\n",
    "apple.Date = pd.to_datetime(apple.Date, format=\"%Y-%m-%d\")\n",
    "\n"
   ]
  },
  {
   "cell_type": "code",
   "execution_count": 50,
   "outputs": [
    {
     "data": {
      "text/plain": "Date         datetime64[ns]\nOpen                float64\nHigh                float64\nLow                 float64\nClose               float64\nVolume                int64\nAdj Close           float64\ndtype: object"
     },
     "execution_count": 50,
     "metadata": {},
     "output_type": "execute_result"
    }
   ],
   "source": [
    "apple.dtypes"
   ],
   "metadata": {
    "collapsed": false,
    "pycharm": {
     "name": "#%%\n"
    }
   }
  },
  {
   "cell_type": "markdown",
   "metadata": {},
   "source": [
    "### Step 6.  Set the date as the index"
   ]
  },
  {
   "cell_type": "code",
   "execution_count": 51,
   "metadata": {
    "collapsed": false
   },
   "outputs": [],
   "source": [
    "apple = apple.set_index(\"Date\")"
   ]
  },
  {
   "cell_type": "markdown",
   "metadata": {},
   "source": [
    "### Step 7.  Is there any duplicate dates?"
   ]
  },
  {
   "cell_type": "code",
   "execution_count": 54,
   "outputs": [
    {
     "data": {
      "text/plain": "True"
     },
     "execution_count": 54,
     "metadata": {},
     "output_type": "execute_result"
    }
   ],
   "source": [
    "apple.index.is_unique"
   ],
   "metadata": {
    "collapsed": false,
    "pycharm": {
     "name": "#%%\n"
    }
   }
  },
  {
   "cell_type": "code",
   "execution_count": null,
   "metadata": {
    "collapsed": false
   },
   "outputs": [],
   "source": []
  },
  {
   "cell_type": "markdown",
   "metadata": {},
   "source": [
    "### Step 8.  Ops...it seems the index is from the most recent date. Make the first entry the oldest date."
   ]
  },
  {
   "cell_type": "code",
   "execution_count": 30,
   "metadata": {
    "collapsed": false
   },
   "outputs": [],
   "source": [
    "apple = apple.sort_index()"
   ]
  },
  {
   "cell_type": "markdown",
   "metadata": {},
   "source": [
    "### Step 9. Get the last business day of each month"
   ]
  },
  {
   "cell_type": "code",
   "execution_count": null,
   "outputs": [],
   "source": [
    "# datetime index vs datetime column"
   ],
   "metadata": {
    "collapsed": false,
    "pycharm": {
     "name": "#%%\n"
    }
   }
  },
  {
   "cell_type": "code",
   "execution_count": 56,
   "outputs": [
    {
     "data": {
      "text/plain": "Index(['Tuesday', 'Monday', 'Thursday', 'Wednesday', 'Tuesday', 'Monday',\n       'Friday', 'Thursday', 'Wednesday', 'Tuesday',\n       ...\n       'Friday', 'Wednesday', 'Tuesday', 'Monday', 'Friday', 'Thursday',\n       'Wednesday', 'Tuesday', 'Monday', 'Friday'],\n      dtype='object', name='Date', length=8465)"
     },
     "execution_count": 56,
     "metadata": {},
     "output_type": "execute_result"
    }
   ],
   "source": [
    "apple.index.day_name()"
   ],
   "metadata": {
    "collapsed": false,
    "pycharm": {
     "name": "#%%\n"
    }
   }
  },
  {
   "cell_type": "code",
   "execution_count": 58,
   "metadata": {
    "collapsed": false
   },
   "outputs": [
    {
     "data": {
      "text/plain": "              Open    High     Low   Close     Volume  Adj Close\nDate                                                            \n1980-12-31   36.00   36.13   36.00   36.00  117258400       0.56\n1981-01-30   34.50   34.75   34.50   34.50   13921600       0.54\n1981-02-27   28.75   28.87   28.75   28.75    6966400       0.45\n1981-03-31   26.75   27.00   26.75   26.75   57825600       0.42\n1981-04-30   29.25   29.37   29.25   29.25   14504000       0.46\n...            ...     ...     ...     ...        ...        ...\n2014-03-31  546.52  549.00  539.59  544.99   93511600      77.42\n2014-04-30  593.74  599.43  589.80  594.09  189977900      84.40\n2014-05-30  637.98  644.17  628.90  635.38  141005200      90.77\n2014-06-30  649.90  651.26  644.47  647.35  100813200      94.25\n2014-07-31   96.27   96.80   94.10   95.97   65130000      95.97\n\n[404 rows x 6 columns]",
      "text/html": "<div>\n<style scoped>\n    .dataframe tbody tr th:only-of-type {\n        vertical-align: middle;\n    }\n\n    .dataframe tbody tr th {\n        vertical-align: top;\n    }\n\n    .dataframe thead th {\n        text-align: right;\n    }\n</style>\n<table border=\"1\" class=\"dataframe\">\n  <thead>\n    <tr style=\"text-align: right;\">\n      <th></th>\n      <th>Open</th>\n      <th>High</th>\n      <th>Low</th>\n      <th>Close</th>\n      <th>Volume</th>\n      <th>Adj Close</th>\n    </tr>\n    <tr>\n      <th>Date</th>\n      <th></th>\n      <th></th>\n      <th></th>\n      <th></th>\n      <th></th>\n      <th></th>\n    </tr>\n  </thead>\n  <tbody>\n    <tr>\n      <th>1980-12-31</th>\n      <td>36.00</td>\n      <td>36.13</td>\n      <td>36.00</td>\n      <td>36.00</td>\n      <td>117258400</td>\n      <td>0.56</td>\n    </tr>\n    <tr>\n      <th>1981-01-30</th>\n      <td>34.50</td>\n      <td>34.75</td>\n      <td>34.50</td>\n      <td>34.50</td>\n      <td>13921600</td>\n      <td>0.54</td>\n    </tr>\n    <tr>\n      <th>1981-02-27</th>\n      <td>28.75</td>\n      <td>28.87</td>\n      <td>28.75</td>\n      <td>28.75</td>\n      <td>6966400</td>\n      <td>0.45</td>\n    </tr>\n    <tr>\n      <th>1981-03-31</th>\n      <td>26.75</td>\n      <td>27.00</td>\n      <td>26.75</td>\n      <td>26.75</td>\n      <td>57825600</td>\n      <td>0.42</td>\n    </tr>\n    <tr>\n      <th>1981-04-30</th>\n      <td>29.25</td>\n      <td>29.37</td>\n      <td>29.25</td>\n      <td>29.25</td>\n      <td>14504000</td>\n      <td>0.46</td>\n    </tr>\n    <tr>\n      <th>...</th>\n      <td>...</td>\n      <td>...</td>\n      <td>...</td>\n      <td>...</td>\n      <td>...</td>\n      <td>...</td>\n    </tr>\n    <tr>\n      <th>2014-03-31</th>\n      <td>546.52</td>\n      <td>549.00</td>\n      <td>539.59</td>\n      <td>544.99</td>\n      <td>93511600</td>\n      <td>77.42</td>\n    </tr>\n    <tr>\n      <th>2014-04-30</th>\n      <td>593.74</td>\n      <td>599.43</td>\n      <td>589.80</td>\n      <td>594.09</td>\n      <td>189977900</td>\n      <td>84.40</td>\n    </tr>\n    <tr>\n      <th>2014-05-30</th>\n      <td>637.98</td>\n      <td>644.17</td>\n      <td>628.90</td>\n      <td>635.38</td>\n      <td>141005200</td>\n      <td>90.77</td>\n    </tr>\n    <tr>\n      <th>2014-06-30</th>\n      <td>649.90</td>\n      <td>651.26</td>\n      <td>644.47</td>\n      <td>647.35</td>\n      <td>100813200</td>\n      <td>94.25</td>\n    </tr>\n    <tr>\n      <th>2014-07-31</th>\n      <td>96.27</td>\n      <td>96.80</td>\n      <td>94.10</td>\n      <td>95.97</td>\n      <td>65130000</td>\n      <td>95.97</td>\n    </tr>\n  </tbody>\n</table>\n<p>404 rows × 6 columns</p>\n</div>"
     },
     "execution_count": 58,
     "metadata": {},
     "output_type": "execute_result"
    }
   ],
   "source": [
    "# https://pandas.pydata.org/pandas-docs/stable/user_guide/timeseries.html#dateoffset-objects\n",
    "\n",
    "apple.resample(\"BM\").max()"
   ]
  },
  {
   "cell_type": "code",
   "execution_count": 61,
   "outputs": [
    {
     "name": "stderr",
     "output_type": "stream",
     "text": [
      "C:\\Users\\simon\\AppData\\Local\\Temp/ipykernel_19736/3068770499.py:1: FutureWarning: Value based partial slicing on non-monotonic DatetimeIndexes with non-existing keys is deprecated and will raise a KeyError in a future Version.\n",
      "  apple.loc[\"2010\":\"2014\"]\n"
     ]
    },
    {
     "data": {
      "text/plain": "              Open    High     Low   Close     Volume  Adj Close\nDate                                                            \n2013-12-31  554.17  561.28  554.00  561.02   55771100      79.23\n2013-12-30  557.46  560.09  552.32  554.52   63407400      78.31\n2013-12-27  563.82  564.41  559.50  560.09   56471100      79.10\n2013-12-26  568.10  569.50  563.38  563.90   51002000      79.63\n2013-12-24  569.89  571.88  566.03  567.67   41888700      80.17\n...            ...     ...     ...     ...        ...        ...\n2011-01-07  333.99  336.35  331.90  336.12   77982800      45.90\n2011-01-06  334.72  335.25  332.90  333.73   75107200      45.57\n2011-01-05  329.55  334.34  329.50  334.00   63879900      45.61\n2011-01-04  332.44  332.50  328.15  331.29   77270200      45.24\n2011-01-03  325.64  330.26  324.84  329.57  111284600      45.00\n\n[754 rows x 6 columns]",
      "text/html": "<div>\n<style scoped>\n    .dataframe tbody tr th:only-of-type {\n        vertical-align: middle;\n    }\n\n    .dataframe tbody tr th {\n        vertical-align: top;\n    }\n\n    .dataframe thead th {\n        text-align: right;\n    }\n</style>\n<table border=\"1\" class=\"dataframe\">\n  <thead>\n    <tr style=\"text-align: right;\">\n      <th></th>\n      <th>Open</th>\n      <th>High</th>\n      <th>Low</th>\n      <th>Close</th>\n      <th>Volume</th>\n      <th>Adj Close</th>\n    </tr>\n    <tr>\n      <th>Date</th>\n      <th></th>\n      <th></th>\n      <th></th>\n      <th></th>\n      <th></th>\n      <th></th>\n    </tr>\n  </thead>\n  <tbody>\n    <tr>\n      <th>2013-12-31</th>\n      <td>554.17</td>\n      <td>561.28</td>\n      <td>554.00</td>\n      <td>561.02</td>\n      <td>55771100</td>\n      <td>79.23</td>\n    </tr>\n    <tr>\n      <th>2013-12-30</th>\n      <td>557.46</td>\n      <td>560.09</td>\n      <td>552.32</td>\n      <td>554.52</td>\n      <td>63407400</td>\n      <td>78.31</td>\n    </tr>\n    <tr>\n      <th>2013-12-27</th>\n      <td>563.82</td>\n      <td>564.41</td>\n      <td>559.50</td>\n      <td>560.09</td>\n      <td>56471100</td>\n      <td>79.10</td>\n    </tr>\n    <tr>\n      <th>2013-12-26</th>\n      <td>568.10</td>\n      <td>569.50</td>\n      <td>563.38</td>\n      <td>563.90</td>\n      <td>51002000</td>\n      <td>79.63</td>\n    </tr>\n    <tr>\n      <th>2013-12-24</th>\n      <td>569.89</td>\n      <td>571.88</td>\n      <td>566.03</td>\n      <td>567.67</td>\n      <td>41888700</td>\n      <td>80.17</td>\n    </tr>\n    <tr>\n      <th>...</th>\n      <td>...</td>\n      <td>...</td>\n      <td>...</td>\n      <td>...</td>\n      <td>...</td>\n      <td>...</td>\n    </tr>\n    <tr>\n      <th>2011-01-07</th>\n      <td>333.99</td>\n      <td>336.35</td>\n      <td>331.90</td>\n      <td>336.12</td>\n      <td>77982800</td>\n      <td>45.90</td>\n    </tr>\n    <tr>\n      <th>2011-01-06</th>\n      <td>334.72</td>\n      <td>335.25</td>\n      <td>332.90</td>\n      <td>333.73</td>\n      <td>75107200</td>\n      <td>45.57</td>\n    </tr>\n    <tr>\n      <th>2011-01-05</th>\n      <td>329.55</td>\n      <td>334.34</td>\n      <td>329.50</td>\n      <td>334.00</td>\n      <td>63879900</td>\n      <td>45.61</td>\n    </tr>\n    <tr>\n      <th>2011-01-04</th>\n      <td>332.44</td>\n      <td>332.50</td>\n      <td>328.15</td>\n      <td>331.29</td>\n      <td>77270200</td>\n      <td>45.24</td>\n    </tr>\n    <tr>\n      <th>2011-01-03</th>\n      <td>325.64</td>\n      <td>330.26</td>\n      <td>324.84</td>\n      <td>329.57</td>\n      <td>111284600</td>\n      <td>45.00</td>\n    </tr>\n  </tbody>\n</table>\n<p>754 rows × 6 columns</p>\n</div>"
     },
     "execution_count": 61,
     "metadata": {},
     "output_type": "execute_result"
    }
   ],
   "source": [
    "apple.loc[\"2010\":\"2014\"]"
   ],
   "metadata": {
    "collapsed": false,
    "pycharm": {
     "name": "#%%\n"
    }
   }
  },
  {
   "cell_type": "code",
   "execution_count": null,
   "outputs": [],
   "source": [],
   "metadata": {
    "collapsed": false,
    "pycharm": {
     "name": "#%%\n"
    }
   }
  },
  {
   "cell_type": "markdown",
   "metadata": {},
   "source": [
    "### Step 10.  What is the difference in days between the first day and the oldest"
   ]
  },
  {
   "cell_type": "code",
   "execution_count": 63,
   "metadata": {
    "collapsed": false
   },
   "outputs": [
    {
     "data": {
      "text/plain": "Timedelta('12261 days 00:00:00')"
     },
     "execution_count": 63,
     "metadata": {},
     "output_type": "execute_result"
    }
   ],
   "source": [
    "apple.index.max() - apple.index.min()"
   ]
  },
  {
   "cell_type": "markdown",
   "metadata": {},
   "source": [
    "### Step 11.  How many months in the data we have?"
   ]
  },
  {
   "cell_type": "code",
   "execution_count": null,
   "metadata": {
    "collapsed": false
   },
   "outputs": [],
   "source": []
  },
  {
   "cell_type": "markdown",
   "metadata": {},
   "source": [
    "### Step 12. Plot the 'Adj Close' value. Set the size of the figure to 13.5 x 9 inches"
   ]
  },
  {
   "cell_type": "code",
   "execution_count": null,
   "metadata": {
    "collapsed": false
   },
   "outputs": [],
   "source": []
  },
  {
   "cell_type": "markdown",
   "metadata": {},
   "source": [
    "### BONUS: Create your own question and answer it."
   ]
  },
  {
   "cell_type": "code",
   "execution_count": null,
   "metadata": {
    "collapsed": true
   },
   "outputs": [],
   "source": []
  }
 ],
 "metadata": {
  "anaconda-cloud": {},
  "kernelspec": {
   "name": "python3",
   "language": "python",
   "display_name": "Python 3 (ipykernel)"
  },
  "language_info": {
   "codemirror_mode": {
    "name": "ipython",
    "version": 2
   },
   "file_extension": ".py",
   "mimetype": "text/x-python",
   "name": "python",
   "nbconvert_exporter": "python",
   "pygments_lexer": "ipython2",
   "version": "2.7.12"
  }
 },
 "nbformat": 4,
 "nbformat_minor": 0
}