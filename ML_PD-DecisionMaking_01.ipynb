{
 "cells": [
  {
   "cell_type": "markdown",
   "metadata": {},
   "source": [
    "# Decision Making: La struttura *if*"
   ]
  },
  {
   "cell_type": "markdown",
   "metadata": {},
   "source": [
    "## Operatori di confronto: \n",
    "* \\>\n",
    "* \\<\n",
    "* \\>=\n",
    "* \\<=\n",
    "* \\==\n",
    "* \\!= \n",
    "\n",
    "** Attenzione non confondere l'operatore di confronto \"==\" con l'operatore di assegnazione \"=\"."
   ]
  },
  {
   "cell_type": "code",
   "execution_count": 1,
   "metadata": {},
   "outputs": [
    {
     "data": {
      "text/plain": [
       "False"
      ]
     },
     "execution_count": 1,
     "metadata": {},
     "output_type": "execute_result"
    }
   ],
   "source": [
    "5 > 6"
   ]
  },
  {
   "cell_type": "code",
   "execution_count": 2,
   "metadata": {},
   "outputs": [
    {
     "data": {
      "text/plain": [
       "True"
      ]
     },
     "execution_count": 2,
     "metadata": {},
     "output_type": "execute_result"
    }
   ],
   "source": [
    "5 < 6"
   ]
  },
  {
   "cell_type": "code",
   "execution_count": 3,
   "metadata": {},
   "outputs": [
    {
     "data": {
      "text/plain": [
       "False"
      ]
     },
     "execution_count": 3,
     "metadata": {},
     "output_type": "execute_result"
    }
   ],
   "source": [
    "5 < 5"
   ]
  },
  {
   "cell_type": "code",
   "execution_count": 4,
   "metadata": {},
   "outputs": [
    {
     "data": {
      "text/plain": [
       "True"
      ]
     },
     "execution_count": 4,
     "metadata": {},
     "output_type": "execute_result"
    }
   ],
   "source": [
    "5 <= 5"
   ]
  },
  {
   "cell_type": "code",
   "execution_count": 5,
   "metadata": {},
   "outputs": [
    {
     "data": {
      "text/plain": [
       "True"
      ]
     },
     "execution_count": 5,
     "metadata": {},
     "output_type": "execute_result"
    }
   ],
   "source": [
    "5 >= 5"
   ]
  },
  {
   "cell_type": "code",
   "execution_count": 6,
   "metadata": {},
   "outputs": [
    {
     "data": {
      "text/plain": [
       "True"
      ]
     },
     "execution_count": 6,
     "metadata": {},
     "output_type": "execute_result"
    }
   ],
   "source": [
    "5 == 5"
   ]
  },
  {
   "cell_type": "code",
   "execution_count": 7,
   "metadata": {},
   "outputs": [
    {
     "ename": "SyntaxError",
     "evalue": "cannot assign to literal (<ipython-input-7-fd606e25f666>, line 1)",
     "output_type": "error",
     "traceback": [
      "\u001b[1;36m  File \u001b[1;32m\"<ipython-input-7-fd606e25f666>\"\u001b[1;36m, line \u001b[1;32m1\u001b[0m\n\u001b[1;33m    5 = 5\u001b[0m\n\u001b[1;37m    ^\u001b[0m\n\u001b[1;31mSyntaxError\u001b[0m\u001b[1;31m:\u001b[0m cannot assign to literal\n"
     ]
    }
   ],
   "source": [
    "5 = 5"
   ]
  },
  {
   "cell_type": "code",
   "execution_count": 8,
   "metadata": {},
   "outputs": [
    {
     "data": {
      "text/plain": [
       "True"
      ]
     },
     "execution_count": 8,
     "metadata": {},
     "output_type": "execute_result"
    }
   ],
   "source": [
    "5 != 6"
   ]
  },
  {
   "cell_type": "code",
   "execution_count": 13,
   "metadata": {},
   "outputs": [
    {
     "data": {
      "text/plain": [
       "False"
      ]
     },
     "execution_count": 13,
     "metadata": {},
     "output_type": "execute_result"
    }
   ],
   "source": [
    "4 < 5 < 6"
   ]
  },
  {
   "cell_type": "markdown",
   "metadata": {},
   "source": [
    "## Struttura *if*:\n",
    "\n",
    "if \\<condizione\\>: <br>\n",
    "\\<tab\\> *se vero*\n",
    "else:\n"
   ]
  },
  {
   "cell_type": "code",
   "execution_count": 18,
   "metadata": {},
   "outputs": [
    {
     "name": "stdout",
     "output_type": "stream",
     "text": [
      "Questa riga viene stampata sempre\n"
     ]
    }
   ],
   "source": [
    "a = 7\n",
    "\n",
    "if a==5:\n",
    "    print(\"a e' uguale a 5\")\n",
    "    print(\"lo stampo solo se a e' uguale a 5\")\n",
    "    \n",
    "print(\"Questa riga viene stampata sempre\")"
   ]
  },
  {
   "cell_type": "code",
   "execution_count": 19,
   "metadata": {},
   "outputs": [
    {
     "name": "stdout",
     "output_type": "stream",
     "text": [
      "a non e' uguale a 5, ma a = 7\n",
      "Questa riga viene stampata sempre\n"
     ]
    }
   ],
   "source": [
    "\n",
    "if a==5:\n",
    "    print(\"a e' uguale a 5\")\n",
    "    print(\"lo stampo solo se a e' uguale a 5\")\n",
    "else:\n",
    "    print(\"a non e' uguale a 5, ma a =\", a)\n",
    "    \n",
    "print(\"Questa riga viene stampata sempre\")"
   ]
  },
  {
   "cell_type": "code",
   "execution_count": 31,
   "metadata": {},
   "outputs": [
    {
     "name": "stdout",
     "output_type": "stream",
     "text": [
      "Questo script esegue il confronto tra due numeri a e b.\n",
      "Ora inseriamo i valori di a e b:\n",
      "Inserisci il valore di a: 5\n",
      "Insersci il valore di b: 7\n",
      "a e' minore di b\n",
      "a e' minore o uguale a b\n",
      "a e' diverso a b\n"
     ]
    }
   ],
   "source": [
    "run confrontoValori.py"
   ]
  },
  {
   "cell_type": "code",
   "execution_count": null,
   "metadata": {},
   "outputs": [],
   "source": [
    "if a > b:\n",
    "    print(\"a e' maggiore di b\")\n",
    "else:\n",
    "    if a == b:\n",
    "        print(\"a e' uguale a b\")\n",
    "    else:\n",
    "        if a < b:\n",
    "            print(\"a e' minore  a b\")\n",
    "        else:\n",
    "            if a == b:\n",
    "                print(\"a e' maggiore o uguale a b\")"
   ]
  },
  {
   "cell_type": "code",
   "execution_count": null,
   "metadata": {},
   "outputs": [],
   "source": [
    "if a > b:\n",
    "    print(\"a e' maggiore di b\")\n",
    "if a == b:\n",
    "    print(\"a e' uguale a b\")\n",
    "if a < b:\n",
    "    print(\"a e' minore  a b\")\n",
    "elif a == b:\n",
    "    print(\"a e' maggiore o uguale a b\")"
   ]
  },
  {
   "cell_type": "code",
   "execution_count": 36,
   "metadata": {},
   "outputs": [],
   "source": [
    "# Scrivere uno scriptino che calcoli la media, il valore minimo e \n",
    "# il valore massimo, di tre valori di tipo float chiesti in input"
   ]
  },
  {
   "cell_type": "code",
   "execution_count": 37,
   "metadata": {},
   "outputs": [
    {
     "data": {
      "text/plain": [
       "3"
      ]
     },
     "execution_count": 37,
     "metadata": {},
     "output_type": "execute_result"
    }
   ],
   "source": [
    "min(3,4,6)"
   ]
  },
  {
   "cell_type": "code",
   "execution_count": 39,
   "metadata": {},
   "outputs": [],
   "source": [
    "a = 123.45"
   ]
  },
  {
   "cell_type": "code",
   "execution_count": 41,
   "metadata": {},
   "outputs": [
    {
     "name": "stdout",
     "output_type": "stream",
     "text": [
      "123.45000000000000284217\n"
     ]
    }
   ],
   "source": [
    "print(f\"{a:.20f}\")"
   ]
  },
  {
   "cell_type": "code",
   "execution_count": 42,
   "metadata": {},
   "outputs": [],
   "source": [
    "a = b = 7"
   ]
  },
  {
   "cell_type": "code",
   "execution_count": 43,
   "metadata": {},
   "outputs": [
    {
     "data": {
      "text/plain": [
       "7"
      ]
     },
     "execution_count": 43,
     "metadata": {},
     "output_type": "execute_result"
    }
   ],
   "source": [
    "a"
   ]
  },
  {
   "cell_type": "code",
   "execution_count": 44,
   "metadata": {},
   "outputs": [
    {
     "data": {
      "text/plain": [
       "7"
      ]
     },
     "execution_count": 44,
     "metadata": {},
     "output_type": "execute_result"
    }
   ],
   "source": [
    "b"
   ]
  },
  {
   "cell_type": "markdown",
   "metadata": {},
   "source": [
    "## Confronto tra litterals"
   ]
  },
  {
   "cell_type": "code",
   "execution_count": 52,
   "metadata": {},
   "outputs": [
    {
     "data": {
      "text/plain": [
       "False"
      ]
     },
     "execution_count": 52,
     "metadata": {},
     "output_type": "execute_result"
    }
   ],
   "source": [
    "\"a\" == \"A\" "
   ]
  },
  {
   "cell_type": "code",
   "execution_count": 58,
   "metadata": {},
   "outputs": [
    {
     "data": {
      "text/plain": [
       "True"
      ]
     },
     "execution_count": 58,
     "metadata": {},
     "output_type": "execute_result"
    }
   ],
   "source": [
    "\"a\" > \"A\""
   ]
  },
  {
   "cell_type": "code",
   "execution_count": 62,
   "metadata": {},
   "outputs": [
    {
     "data": {
      "text/plain": [
       "True"
      ]
     },
     "execution_count": 62,
     "metadata": {},
     "output_type": "execute_result"
    }
   ],
   "source": [
    "\"albero\" > \"Cane\""
   ]
  },
  {
   "cell_type": "code",
   "execution_count": 60,
   "metadata": {},
   "outputs": [
    {
     "data": {
      "text/plain": [
       "False"
      ]
     },
     "execution_count": 60,
     "metadata": {},
     "output_type": "execute_result"
    }
   ],
   "source": [
    "\"cane\" > \"dado\""
   ]
  },
  {
   "cell_type": "code",
   "execution_count": 61,
   "metadata": {},
   "outputs": [
    {
     "data": {
      "text/plain": [
       "True"
      ]
     },
     "execution_count": 61,
     "metadata": {},
     "output_type": "execute_result"
    }
   ],
   "source": [
    "\"cane\" > \"ca\""
   ]
  },
  {
   "cell_type": "code",
   "execution_count": 63,
   "metadata": {},
   "outputs": [
    {
     "data": {
      "text/plain": [
       "True"
      ]
     },
     "execution_count": 63,
     "metadata": {},
     "output_type": "execute_result"
    }
   ],
   "source": [
    "\"57\" < \"6\""
   ]
  },
  {
   "cell_type": "code",
   "execution_count": 91,
   "metadata": {},
   "outputs": [
    {
     "data": {
      "text/plain": [
       "2097152"
      ]
     },
     "execution_count": 91,
     "metadata": {},
     "output_type": "execute_result"
    }
   ],
   "source": [
    "2**21"
   ]
  },
  {
   "cell_type": "code",
   "execution_count": 67,
   "metadata": {},
   "outputs": [],
   "source": [
    "ർ = 45\n"
   ]
  },
  {
   "cell_type": "code",
   "execution_count": 75,
   "metadata": {},
   "outputs": [
    {
     "data": {
      "text/plain": [
       "3452"
      ]
     },
     "execution_count": 75,
     "metadata": {},
     "output_type": "execute_result"
    }
   ],
   "source": [
    "ord(\"ർ\")"
   ]
  },
  {
   "cell_type": "code",
   "execution_count": 73,
   "metadata": {},
   "outputs": [
    {
     "data": {
      "text/plain": [
       "50"
      ]
     },
     "execution_count": 73,
     "metadata": {},
     "output_type": "execute_result"
    }
   ],
   "source": [
    "ord(\"2\")"
   ]
  },
  {
   "cell_type": "markdown",
   "metadata": {},
   "source": [
    "## Operatori Booleani"
   ]
  },
  {
   "cell_type": "markdown",
   "metadata": {},
   "source": [
    "* and --> Restituisce True se entrambi gli ingressi sono *True*\n",
    "    - True and True = True\n",
    "    - True and False = False\n",
    "    - False and True = False\n",
    "    - False and False = False\n",
    "* or --> Restituisce True se almeno uno degli ingressi e' *True*\n",
    "    - True or True = True\n",
    "    - True or False = True\n",
    "    - False or True = True\n",
    "    - False or False = False\n",
    "* not --> Restituisce True se l'ingresso e' False e vicersa\n",
    "    - not True = False\n",
    "    - not False = True\n",
    "\n"
   ]
  },
  {
   "cell_type": "code",
   "execution_count": 94,
   "metadata": {},
   "outputs": [
    {
     "data": {
      "text/plain": [
       "True"
      ]
     },
     "execution_count": 94,
     "metadata": {},
     "output_type": "execute_result"
    }
   ],
   "source": [
    "True and True"
   ]
  },
  {
   "cell_type": "code",
   "execution_count": 95,
   "metadata": {},
   "outputs": [
    {
     "data": {
      "text/plain": [
       "False"
      ]
     },
     "execution_count": 95,
     "metadata": {},
     "output_type": "execute_result"
    }
   ],
   "source": [
    "True and False"
   ]
  },
  {
   "cell_type": "code",
   "execution_count": 96,
   "metadata": {},
   "outputs": [
    {
     "data": {
      "text/plain": [
       "True"
      ]
     },
     "execution_count": 96,
     "metadata": {},
     "output_type": "execute_result"
    }
   ],
   "source": [
    "True or True"
   ]
  },
  {
   "cell_type": "code",
   "execution_count": 97,
   "metadata": {},
   "outputs": [
    {
     "data": {
      "text/plain": [
       "True"
      ]
     },
     "execution_count": 97,
     "metadata": {},
     "output_type": "execute_result"
    }
   ],
   "source": [
    "True or False"
   ]
  },
  {
   "cell_type": "code",
   "execution_count": 98,
   "metadata": {},
   "outputs": [
    {
     "data": {
      "text/plain": [
       "1"
      ]
     },
     "execution_count": 98,
     "metadata": {},
     "output_type": "execute_result"
    }
   ],
   "source": [
    "1 and 1"
   ]
  },
  {
   "cell_type": "code",
   "execution_count": 99,
   "metadata": {},
   "outputs": [
    {
     "data": {
      "text/plain": [
       "0"
      ]
     },
     "execution_count": 99,
     "metadata": {},
     "output_type": "execute_result"
    }
   ],
   "source": [
    "1 and 0"
   ]
  },
  {
   "cell_type": "code",
   "execution_count": 100,
   "metadata": {},
   "outputs": [
    {
     "data": {
      "text/plain": [
       "True"
      ]
     },
     "execution_count": 100,
     "metadata": {},
     "output_type": "execute_result"
    }
   ],
   "source": [
    "True == 1"
   ]
  },
  {
   "cell_type": "code",
   "execution_count": 105,
   "metadata": {},
   "outputs": [
    {
     "data": {
      "text/plain": [
       "False"
      ]
     },
     "execution_count": 105,
     "metadata": {},
     "output_type": "execute_result"
    }
   ],
   "source": [
    "(4 < 3) and 5 "
   ]
  },
  {
   "cell_type": "code",
   "execution_count": 106,
   "metadata": {},
   "outputs": [
    {
     "data": {
      "text/plain": [
       "True"
      ]
     },
     "execution_count": 106,
     "metadata": {},
     "output_type": "execute_result"
    }
   ],
   "source": [
    "not ( 4 < 3 )"
   ]
  },
  {
   "cell_type": "markdown",
   "metadata": {},
   "source": [
    "## Ciclo While: <br>\n",
    "Ciclo iterativo che viene svolto sintantoche' la condizione risulta verificata: <br>\n",
    "\n",
    "while \\<condizione\\>: <br>\n",
    "\\<tab\\> finche vero fai:\n",
    "    \n",
    "\n",
    "\n",
    "\n"
   ]
  },
  {
   "cell_type": "code",
   "execution_count": 117,
   "metadata": {},
   "outputs": [
    {
     "name": "stdout",
     "output_type": "stream",
     "text": [
      "0\n",
      "1\n",
      "2\n",
      "3\n",
      "4\n",
      "5\n",
      "6\n",
      "7\n",
      "8\n",
      "9\n",
      "Fine ciclo\n"
     ]
    }
   ],
   "source": [
    "# inizializzo la variabile di controllo\n",
    "x = 0\n",
    "\n",
    "# inizio il ciclo while\n",
    "while x < 10:\n",
    "    print(x)\n",
    "    # assegna a x il valore che ha x stesso piu' 1\n",
    "    # x = x + 1 \n",
    "    x += 1\n",
    "\n",
    "print(\"Fine ciclo\")\n",
    "    "
   ]
  },
  {
   "cell_type": "markdown",
   "metadata": {},
   "source": [
    "### continue e break"
   ]
  },
  {
   "cell_type": "code",
   "execution_count": 116,
   "metadata": {},
   "outputs": [
    {
     "name": "stdout",
     "output_type": "stream",
     "text": [
      "0\n",
      "1\n",
      "2\n",
      "3\n",
      "4\n",
      "Fine ciclo\n"
     ]
    }
   ],
   "source": [
    "# inizializzo la variabile di controllo\n",
    "x = 0\n",
    "\n",
    "# inizio il ciclo while\n",
    "while x < 10:\n",
    "    if x == 5:\n",
    "        break\n",
    "    print(x)\n",
    "    # assegna a x il valore che ha x stesso piu' 1\n",
    "    # x = x + 1 \n",
    "    x += 1\n",
    "    \n",
    "print(\"Fine ciclo\")"
   ]
  },
  {
   "cell_type": "code",
   "execution_count": 121,
   "metadata": {},
   "outputs": [
    {
     "name": "stdout",
     "output_type": "stream",
     "text": [
      "0\n",
      "1\n",
      "2\n",
      "3\n",
      "4\n",
      "7\n",
      "8\n",
      "9\n",
      "Fine ciclo\n"
     ]
    }
   ],
   "source": [
    "# inizializzo la variabile di controllo\n",
    "x = 0\n",
    "\n",
    "# inizio il ciclo while\n",
    "while x < 10:\n",
    "    if x == 5:\n",
    "        x = 7\n",
    "        continue\n",
    "    print(x)\n",
    "    # assegna a x il valore che ha x stesso piu' 1\n",
    "    # x = x + 1 \n",
    "    x += 1\n",
    "    \n",
    "print(\"Fine ciclo\")"
   ]
  },
  {
   "cell_type": "markdown",
   "metadata": {},
   "source": [
    "## Ciclo *for*"
   ]
  },
  {
   "cell_type": "code",
   "execution_count": 122,
   "metadata": {},
   "outputs": [
    {
     "name": "stdout",
     "output_type": "stream",
     "text": [
      "1\n",
      "2\n",
      "3\n",
      "4\n",
      "5\n"
     ]
    }
   ],
   "source": [
    "for j in [1,2,3,4,5]:\n",
    "    print(j)"
   ]
  },
  {
   "cell_type": "code",
   "execution_count": 124,
   "metadata": {},
   "outputs": [
    {
     "name": "stdout",
     "output_type": "stream",
     "text": [
      "1\n",
      "2\n",
      "3.2134\n",
      "casa\n",
      "51\n",
      "13\n"
     ]
    }
   ],
   "source": [
    "for j in [1,\"2\",3.2134,\"casa\",ord(\"3\"), x+3]:\n",
    "    print(j)"
   ]
  },
  {
   "cell_type": "code",
   "execution_count": 155,
   "metadata": {},
   "outputs": [
    {
     "name": "stdout",
     "output_type": "stream",
     "text": [
      "0\t1\t2\t3\t4\t"
     ]
    }
   ],
   "source": [
    "for j in range(5):\n",
    "    print(j, end=\"\\t\")"
   ]
  },
  {
   "cell_type": "code",
   "execution_count": 129,
   "metadata": {},
   "outputs": [
    {
     "name": "stdout",
     "output_type": "stream",
     "text": [
      "5\n",
      "6\n",
      "7\n",
      "8\n",
      "9\n"
     ]
    }
   ],
   "source": [
    "for j in range(5, 10):\n",
    "    print(j)"
   ]
  },
  {
   "cell_type": "code",
   "execution_count": 140,
   "metadata": {},
   "outputs": [
    {
     "name": "stdout",
     "output_type": "stream",
     "text": [
      "1\n",
      "2\n"
     ]
    }
   ],
   "source": [
    "for j in range(1,10):\n",
    "    if j == 3:\n",
    "        break\n",
    "    print(j)"
   ]
  },
  {
   "cell_type": "code",
   "execution_count": 141,
   "metadata": {},
   "outputs": [
    {
     "name": "stdout",
     "output_type": "stream",
     "text": [
      "1\n",
      "2\n",
      "4\n",
      "5\n",
      "6\n",
      "7\n",
      "8\n",
      "9\n"
     ]
    }
   ],
   "source": [
    "for j in range(1,10):\n",
    "    if j == 3:\n",
    "        continue\n",
    "    print(j)"
   ]
  },
  {
   "cell_type": "markdown",
   "metadata": {},
   "source": [
    "### Esercizio:\n",
    "Costriuire la tavola pitagorica da 1 a 10\n",
    "\n",
    "* Costruire la tabellina del 2 e stamparla su una riga ocn separatore: \\t"
   ]
  },
  {
   "cell_type": "code",
   "execution_count": 149,
   "metadata": {},
   "outputs": [
    {
     "name": "stdout",
     "output_type": "stream",
     "text": [
      "123\n",
      "4\n"
     ]
    }
   ],
   "source": [
    "print(1,2,3, sep=\"\")\n",
    "print(4)"
   ]
  },
  {
   "cell_type": "code",
   "execution_count": 189,
   "metadata": {},
   "outputs": [
    {
     "name": "stdout",
     "output_type": "stream",
     "text": [
      "1.0\t2.0\t3.0\t4.0\t5.0\t6.0\t7.0\t8.0\t9.0\t10.0\t11.0\t12.0\t13.0\t\n",
      "2.0\t4.0\t6.0\t8.0\t10.0\t12.0\t14.0\t16.0\t18.0\t20.0\t22.0\t24.0\t26.0\t\n",
      "3.0\t6.0\t9.0\t12.0\t15.0\t18.0\t21.0\t24.0\t27.0\t30.0\t33.0\t36.0\t39.0\t\n",
      "4.0\t8.0\t12.0\t16.0\t20.0\t24.0\t28.0\t32.0\t36.0\t40.0\t44.0\t48.0\t52.0\t\n",
      "5.0\t10.0\t15.0\t20.0\t25.0\t30.0\t35.0\t40.0\t45.0\t50.0\t55.0\t60.0\t65.0\t\n",
      "6.0\t12.0\t18.0\t24.0\t30.0\t36.0\t42.0\t48.0\t54.0\t60.0\t66.0\t72.0\t78.0\t\n",
      "7.0\t14.0\t21.0\t28.0\t35.0\t42.0\t49.0\t56.0\t63.0\t70.0\t77.0\t84.0\t91.0\t\n",
      "8.0\t16.0\t24.0\t32.0\t40.0\t48.0\t56.0\t64.0\t72.0\t80.0\t88.0\t96.0\t104.0\t\n",
      "9.0\t18.0\t27.0\t36.0\t45.0\t54.0\t63.0\t72.0\t81.0\t90.0\t99.0\t108.0\t117.0\t\n",
      "10.0\t20.0\t30.0\t40.0\t50.0\t60.0\t70.0\t80.0\t90.0\t100.0\t110.0\t120.0\t130.0\t\n",
      "11.0\t22.0\t33.0\t44.0\t55.0\t66.0\t77.0\t88.0\t99.0\t110.0\t121.0\t132.0\t143.0\t\n",
      "12.0\t24.0\t36.0\t48.0\t60.0\t72.0\t84.0\t96.0\t108.0\t120.0\t132.0\t144.0\t156.0\t\n",
      "13.0\t26.0\t39.0\t52.0\t65.0\t78.0\t91.0\t104.0\t117.0\t130.0\t143.0\t156.0\t169.0\t\n"
     ]
    }
   ],
   "source": [
    "for k in range(1, 14):\n",
    "    for j in range(1, 14):\n",
    "        print(f\"{j * k:.1f}\", end = \"\\t\")\n",
    "#     if j * k == 100:\n",
    "#         break\n",
    "    print(\"\")"
   ]
  },
  {
   "cell_type": "markdown",
   "metadata": {},
   "source": [
    "### Formatted Strings"
   ]
  },
  {
   "cell_type": "code",
   "execution_count": 171,
   "metadata": {},
   "outputs": [
    {
     "name": "stdout",
     "output_type": "stream",
     "text": [
      "j =  13 ,k =  13\n"
     ]
    }
   ],
   "source": [
    "print(\"j = \", j,\",k = \", k)"
   ]
  },
  {
   "cell_type": "code",
   "execution_count": 174,
   "metadata": {},
   "outputs": [
    {
     "name": "stdout",
     "output_type": "stream",
     "text": [
      "j = 13, k = 169\n"
     ]
    }
   ],
   "source": [
    "print(f\"j = {j}, k = {k**2}\")"
   ]
  },
  {
   "cell_type": "code",
   "execution_count": 187,
   "metadata": {},
   "outputs": [
    {
     "name": "stdout",
     "output_type": "stream",
     "text": [
      "j = 169.0000\n"
     ]
    }
   ],
   "source": [
    "print(f\"j = {(j*k):.4f}\")"
   ]
  },
  {
   "cell_type": "code",
   "execution_count": null,
   "metadata": {},
   "outputs": [],
   "source": []
  },
  {
   "cell_type": "code",
   "execution_count": null,
   "metadata": {},
   "outputs": [],
   "source": []
  },
  {
   "cell_type": "code",
   "execution_count": null,
   "metadata": {},
   "outputs": [],
   "source": []
  }
 ],
 "metadata": {
  "kernelspec": {
   "display_name": "Python 3",
   "language": "python",
   "name": "python3"
  },
  "language_info": {
   "codemirror_mode": {
    "name": "ipython",
    "version": 3
   },
   "file_extension": ".py",
   "mimetype": "text/x-python",
   "name": "python",
   "nbconvert_exporter": "python",
   "pygments_lexer": "ipython3",
   "version": "3.8.5"
  }
 },
 "nbformat": 4,
 "nbformat_minor": 4
}
