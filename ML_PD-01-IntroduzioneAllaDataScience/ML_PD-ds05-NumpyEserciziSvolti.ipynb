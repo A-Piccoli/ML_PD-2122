{
 "cells": [
  {
   "cell_type": "markdown",
   "metadata": {
    "toc": true
   },
   "source": [
    "<h1>Numpy: Esercizi risolti<span class=\"tocSkip\"></span></h1>\n",
    "<div class=\"toc\"><ul class=\"toc-item\"><li><span><a href=\"#Importa-Numpy-e-visualizza-la-verisone\" data-toc-modified-id=\"Importa-Numpy-e-visualizza-la-verisone-1\"><span class=\"toc-item-num\">1&nbsp;&nbsp;</span>Importa Numpy e visualizza la verisone</a></span></li><li><span><a href=\"#Crea-un-arrai-1D-di-numeri-da-0-a-9\" data-toc-modified-id=\"Crea-un-arrai-1D-di-numeri-da-0-a-9-2\"><span class=\"toc-item-num\">2&nbsp;&nbsp;</span>Crea un arrai 1D di numeri da 0 a 9</a></span></li><li><span><a href=\"#Crea-un-array-5x5-di-valori-booleani-di-tutti-False\" data-toc-modified-id=\"Crea-un-array-5x5-di-valori-booleani-di-tutti-False-3\"><span class=\"toc-item-num\">3&nbsp;&nbsp;</span>Crea un array 5x5 di valori booleani di tutti False</a></span></li><li><span><a href=\"#Dall'array-definito-in-&quot;arr&quot;-estrai-tutti-i-numeri-pari:\" data-toc-modified-id=\"Dall'array-definito-in-&quot;arr&quot;-estrai-tutti-i-numeri-pari:-4\"><span class=\"toc-item-num\">4&nbsp;&nbsp;</span>Dall'array definito in \"arr\" estrai tutti i numeri pari:</a></span></li><li><span><a href=\"#Sostituisci-i-valori-di-arr-con-il-valore-100-senza-modificare-arr\" data-toc-modified-id=\"Sostituisci-i-valori-di-arr-con-il-valore-100-senza-modificare-arr-5\"><span class=\"toc-item-num\">5&nbsp;&nbsp;</span>Sostituisci i valori di <code>arr</code> con il valore <code>100</code> senza modificare <code>arr</code></a></span></li><li><span><a href=\"#Trasforma-un-array-1D-da-10-elementi-in-un-array-2D-5x2-elementi.-Utilizza-la-funzione-reshape.\" data-toc-modified-id=\"Trasforma-un-array-1D-da-10-elementi-in-un-array-2D-5x2-elementi.-Utilizza-la-funzione-reshape.-6\"><span class=\"toc-item-num\">6&nbsp;&nbsp;</span>Trasforma un array 1D da 10 elementi in un array 2D 5x2 elementi. Utilizza la funzione <code>reshape</code>.<br></a></span></li><li><span><a href=\"#Dati-due-array,-a-e-b:-eseguire-uno-stacking-verticale.\" data-toc-modified-id=\"Dati-due-array,-a-e-b:-eseguire-uno-stacking-verticale.-7\"><span class=\"toc-item-num\">7&nbsp;&nbsp;</span>Dati due array, a e b: eseguire uno stacking verticale.<br></a></span></li><li><span><a href=\"#Dati-due-array,-a-e-b:-eseguire-uno-stacking-orizzontale.\" data-toc-modified-id=\"Dati-due-array,-a-e-b:-eseguire-uno-stacking-orizzontale.-8\"><span class=\"toc-item-num\">8&nbsp;&nbsp;</span>Dati due array, a e b: eseguire uno stacking orizzontale.<br></a></span></li><li><span><a href=\"#Verifica-la-posizione-in-cui-due-array-sono-uguali\" data-toc-modified-id=\"Verifica-la-posizione-in-cui-due-array-sono-uguali-9\"><span class=\"toc-item-num\">9&nbsp;&nbsp;</span>Verifica la posizione in cui due array sono uguali</a></span></li><li><span><a href=\"#Estrai-da-un-array-tutti-gli-elementi-che-verificano-una-condizione.\" data-toc-modified-id=\"Estrai-da-un-array-tutti-gli-elementi-che-verificano-una-condizione.-10\"><span class=\"toc-item-num\">10&nbsp;&nbsp;</span>Estrai da un array tutti gli elementi che verificano una condizione.</a></span></li><li><span><a href=\"#Convertire-una-funzione-che-restituisce-il-minimo-di-due-numeri-e-opera-normalmente-tra-due-scalari,-affinche-funzioni-con-array:\" data-toc-modified-id=\"Convertire-una-funzione-che-restituisce-il-minimo-di-due-numeri-e-opera-normalmente-tra-due-scalari,-affinche-funzioni-con-array:-11\"><span class=\"toc-item-num\">11&nbsp;&nbsp;</span>Convertire una funzione che restituisce il minimo di due numeri e opera normalmente tra due scalari, affinche funzioni con array:</a></span></li><li><span><a href=\"#Come-scambiare-due-colonne-o-due-righe-in-un-array-2D\" data-toc-modified-id=\"Come-scambiare-due-colonne-o-due-righe-in-un-array-2D-12\"><span class=\"toc-item-num\">12&nbsp;&nbsp;</span>Come scambiare due colonne o due righe in un array 2D</a></span></li><li><span><a href=\"#Come-creare-una-matrice-3-x-4-di-numeri-decimali-randomici-compresi-tra-7-e-12\" data-toc-modified-id=\"Come-creare-una-matrice-3-x-4-di-numeri-decimali-randomici-compresi-tra-7-e-12-13\"><span class=\"toc-item-num\">13&nbsp;&nbsp;</span>Come creare una matrice 3 x 4 di numeri decimali randomici compresi tra 7 e 12</a></span></li><li><span><a href=\"#Stampare-a-monitor-solo-un-array-con-visualizzazione-di-solo-3-cifre-decimali\" data-toc-modified-id=\"Stampare-a-monitor-solo-un-array-con-visualizzazione-di-solo-3-cifre-decimali-14\"><span class=\"toc-item-num\">14&nbsp;&nbsp;</span>Stampare a monitor solo un array con visualizzazione di solo 3 cifre decimali</a></span></li><li><span><a href=\"#Stamapare-a-monitor-solo-un-certo-numero-di-elementi-di-un-array\" data-toc-modified-id=\"Stamapare-a-monitor-solo-un-certo-numero-di-elementi-di-un-array-15\"><span class=\"toc-item-num\">15&nbsp;&nbsp;</span>Stamapare a monitor solo un certo numero di elementi di un array</a></span></li><li><span><a href=\"#Sostituisci-tutti-valori-superiori-o-inferiori-ad-una-soglia-di-cut-off\" data-toc-modified-id=\"Sostituisci-tutti-valori-superiori-o-inferiori-ad-una-soglia-di-cut-off-16\"><span class=\"toc-item-num\">16&nbsp;&nbsp;</span>Sostituisci tutti valori superiori o inferiori ad una soglia di cut-off</a></span></li><li><span><a href=\"#Individua-la-posizione-degli-n-valori-piu'-piccoli-di-un-array\" data-toc-modified-id=\"Individua-la-posizione-degli-n-valori-piu'-piccoli-di-un-array-17\"><span class=\"toc-item-num\">17&nbsp;&nbsp;</span>Individua la posizione degli <code>n</code> valori piu' piccoli di un array</a></span></li><li><span><a href=\"#In-una-struttura-matriciale-trova-la-posizione-e-il-valore-del-massimo-di-ciascuna-riga-e-di-ciascuna-colonna\" data-toc-modified-id=\"In-una-struttura-matriciale-trova-la-posizione-e-il-valore-del-massimo-di-ciascuna-riga-e-di-ciascuna-colonna-18\"><span class=\"toc-item-num\">18&nbsp;&nbsp;</span>In una struttura matriciale trova la posizione e il valore del massimo di ciascuna riga e di ciascuna colonna</a></span></li><li><span><a href=\"#Troviamo-elementi-duplicati-all-interno-di-un-array\" data-toc-modified-id=\"Troviamo-elementi-duplicati-all-interno-di-un-array-19\"><span class=\"toc-item-num\">19&nbsp;&nbsp;</span>Troviamo elementi duplicati all-interno di un array</a></span></li><li><span><a href=\"#Eseguire-il-drop-dei-valori-non-disponibili-(drop-na-values):\" data-toc-modified-id=\"Eseguire-il-drop-dei-valori-non-disponibili-(drop-na-values):-20\"><span class=\"toc-item-num\">20&nbsp;&nbsp;</span>Eseguire il <code>drop</code> dei valori non disponibili (drop na values):</a></span></li></ul></div>"
   ]
  },
  {
   "cell_type": "markdown",
   "metadata": {
    "pycharm": {
     "name": "#%% md\n"
    }
   },
   "source": [
    "## Importa Numpy e visualizza la verisone"
   ]
  },
  {
   "cell_type": "code",
   "execution_count": 1,
   "metadata": {
    "pycharm": {
     "name": "#%%\n"
    }
   },
   "outputs": [],
   "source": [
    "import numpy as np\n",
    "import sys"
   ]
  },
  {
   "cell_type": "code",
   "execution_count": 2,
   "metadata": {
    "pycharm": {
     "name": "#%%\n"
    }
   },
   "outputs": [
    {
     "data": {
      "text/plain": [
       "'1.21.4'"
      ]
     },
     "execution_count": 2,
     "metadata": {},
     "output_type": "execute_result"
    }
   ],
   "source": [
    "np.__version__"
   ]
  },
  {
   "cell_type": "markdown",
   "metadata": {
    "collapsed": true,
    "pycharm": {
     "name": "#%% md\n"
    }
   },
   "source": [
    "## Crea un arrai 1D di numeri da 0 a 9"
   ]
  },
  {
   "cell_type": "code",
   "execution_count": 3,
   "metadata": {
    "pycharm": {
     "name": "#%%\n"
    }
   },
   "outputs": [
    {
     "data": {
      "text/plain": [
       "array([0, 1, 2, 3, 4, 5, 6, 7, 8, 9])"
      ]
     },
     "execution_count": 3,
     "metadata": {},
     "output_type": "execute_result"
    }
   ],
   "source": [
    "np.arange(10)"
   ]
  },
  {
   "cell_type": "markdown",
   "metadata": {
    "pycharm": {
     "name": "#%% md\n"
    }
   },
   "source": [
    "## Crea un array 5x5 di valori booleani di tutti False"
   ]
  },
  {
   "cell_type": "code",
   "execution_count": 4,
   "metadata": {
    "pycharm": {
     "name": "#%%\n"
    }
   },
   "outputs": [
    {
     "data": {
      "text/plain": [
       "array([[False, False, False, False, False],\n",
       "       [False, False, False, False, False],\n",
       "       [False, False, False, False, False],\n",
       "       [False, False, False, False, False],\n",
       "       [False, False, False, False, False]])"
      ]
     },
     "execution_count": 4,
     "metadata": {},
     "output_type": "execute_result"
    }
   ],
   "source": [
    "np.full((5,5), False, dtype=bool)"
   ]
  },
  {
   "cell_type": "markdown",
   "metadata": {
    "pycharm": {
     "name": "#%% md\n"
    }
   },
   "source": [
    "## Dall'array definito in \"arr\" estrai tutti i numeri pari:\n",
    "`arr = np.array([1,2,3,4,5,6,7,8,9])`<br>\n",
    "Output desiderato:<br>\n",
    "`array([2,4,6,8])`"
   ]
  },
  {
   "cell_type": "code",
   "execution_count": 5,
   "metadata": {
    "pycharm": {
     "name": "#%%\n"
    }
   },
   "outputs": [],
   "source": [
    "arr = np.array([1,2,3,4,5,6,7,8,9])"
   ]
  },
  {
   "cell_type": "code",
   "execution_count": 6,
   "metadata": {
    "pycharm": {
     "name": "#%%\n"
    }
   },
   "outputs": [
    {
     "data": {
      "text/plain": [
       "array([2, 4, 6, 8])"
      ]
     },
     "execution_count": 6,
     "metadata": {},
     "output_type": "execute_result"
    }
   ],
   "source": [
    "arr[arr%2==0]"
   ]
  },
  {
   "cell_type": "markdown",
   "metadata": {
    "pycharm": {
     "name": "#%% md\n"
    }
   },
   "source": []
  },
  {
   "cell_type": "code",
   "execution_count": null,
   "metadata": {
    "pycharm": {
     "name": "#%%\n"
    }
   },
   "outputs": [],
   "source": []
  },
  {
   "cell_type": "markdown",
   "metadata": {
    "pycharm": {
     "name": "#%% md\n"
    }
   },
   "source": [
    "## Sostituisci i valori di `arr` con il valore `100` senza modificare `arr`"
   ]
  },
  {
   "cell_type": "code",
   "execution_count": 7,
   "metadata": {
    "pycharm": {
     "name": "#%%\n"
    }
   },
   "outputs": [],
   "source": [
    "arr = np.array([1,2,3,4,5,6,7,8,9])"
   ]
  },
  {
   "cell_type": "code",
   "execution_count": null,
   "metadata": {
    "pycharm": {
     "name": "#%%\n"
    }
   },
   "outputs": [],
   "source": []
  },
  {
   "cell_type": "markdown",
   "metadata": {
    "pycharm": {
     "name": "#%% md\n"
    }
   },
   "source": [
    "## Trasforma un array 1D da 10 elementi in un array 2D 5x2 elementi. Utilizza la funzione `reshape`.<br>\n",
    "`arr = np.array([0, 1, 2, 3, 4, 5, 6, 7, 8, 9])`<br><br>\n",
    "Output desiderato:<br>\n",
    "`array([[0, 1],\n",
    "       [2, 3],\n",
    "       [4, 5],\n",
    "       [6, 7],\n",
    "       [8, 9]])`"
   ]
  },
  {
   "cell_type": "code",
   "execution_count": 8,
   "metadata": {
    "pycharm": {
     "name": "#%%\n"
    }
   },
   "outputs": [],
   "source": [
    "arr = np.array([0, 1, 2, 3, 4, 5, 6, 7, 8, 9])"
   ]
  },
  {
   "cell_type": "code",
   "execution_count": 9,
   "metadata": {},
   "outputs": [
    {
     "data": {
      "text/plain": [
       "array([[0, 1],\n",
       "       [2, 3],\n",
       "       [4, 5],\n",
       "       [6, 7],\n",
       "       [8, 9]])"
      ]
     },
     "execution_count": 9,
     "metadata": {},
     "output_type": "execute_result"
    }
   ],
   "source": [
    "arr.reshape(5,2)"
   ]
  },
  {
   "cell_type": "markdown",
   "metadata": {
    "pycharm": {
     "name": "#%% md\n"
    }
   },
   "source": [
    "## Dati due array, a e b: eseguire uno stacking verticale.<br>\n",
    "Dati:<br>\n",
    "```a = array([[ 0,  1,  2,  3,  4,  5],\n",
    "       [ 6,  7,  8,  9, 10, 11]])\n",
    "b = array([[100, 100, 100, 100, 100, 100],\n",
    "       [100, 100, 100, 100, 100, 100]])\n",
    "```\n",
    "Otuput Desiderato:<br><br>\n",
    "```\n",
    "array([[  0,   1,   2,   3,   4,   5],\n",
    "       [  6,   7,   8,   9,  10,  11],\n",
    "       [100, 100, 100, 100, 100, 100],\n",
    "       [100, 100, 100, 100, 100, 100]])\n",
    "```"
   ]
  },
  {
   "cell_type": "code",
   "execution_count": 10,
   "metadata": {
    "pycharm": {
     "name": "#%%\n"
    }
   },
   "outputs": [],
   "source": [
    "a = np.arange(12).reshape(2,-1)"
   ]
  },
  {
   "cell_type": "code",
   "execution_count": 11,
   "metadata": {
    "pycharm": {
     "name": "#%%\n"
    }
   },
   "outputs": [
    {
     "data": {
      "text/plain": [
       "array([[ 0,  1,  2,  3,  4,  5],\n",
       "       [ 6,  7,  8,  9, 10, 11]])"
      ]
     },
     "execution_count": 11,
     "metadata": {},
     "output_type": "execute_result"
    }
   ],
   "source": [
    "a"
   ]
  },
  {
   "cell_type": "code",
   "execution_count": 12,
   "metadata": {
    "pycharm": {
     "name": "#%%\n"
    }
   },
   "outputs": [],
   "source": [
    "b = np.full((2,6),100)"
   ]
  },
  {
   "cell_type": "code",
   "execution_count": 13,
   "metadata": {
    "pycharm": {
     "name": "#%%\n"
    }
   },
   "outputs": [
    {
     "data": {
      "text/plain": [
       "array([[100, 100, 100, 100, 100, 100],\n",
       "       [100, 100, 100, 100, 100, 100]])"
      ]
     },
     "execution_count": 13,
     "metadata": {},
     "output_type": "execute_result"
    }
   ],
   "source": [
    "b"
   ]
  },
  {
   "cell_type": "code",
   "execution_count": 14,
   "metadata": {},
   "outputs": [
    {
     "data": {
      "text/plain": [
       "array([[  0,   1,   2,   3,   4,   5],\n",
       "       [  6,   7,   8,   9,  10,  11],\n",
       "       [100, 100, 100, 100, 100, 100],\n",
       "       [100, 100, 100, 100, 100, 100]])"
      ]
     },
     "execution_count": 14,
     "metadata": {},
     "output_type": "execute_result"
    }
   ],
   "source": [
    "np.concatenate((a,b), axis = 0)"
   ]
  },
  {
   "cell_type": "code",
   "execution_count": 15,
   "metadata": {},
   "outputs": [
    {
     "data": {
      "text/plain": [
       "array([[  0,   1,   2,   3,   4,   5],\n",
       "       [  6,   7,   8,   9,  10,  11],\n",
       "       [100, 100, 100, 100, 100, 100],\n",
       "       [100, 100, 100, 100, 100, 100]])"
      ]
     },
     "execution_count": 15,
     "metadata": {},
     "output_type": "execute_result"
    }
   ],
   "source": [
    "np.r_[(a,b)]"
   ]
  },
  {
   "cell_type": "markdown",
   "metadata": {},
   "source": [
    "## Dati due array, a e b: eseguire uno stacking orizzontale.<br>\n",
    "Dati:<br>\n",
    "```\n",
    "a = array([[ 0,  1,  2,  3,  4,  5],\n",
    "       [ 6,  7,  8,  9, 10, 11]])\n",
    "b = array([[100, 100, 100, 100, 100, 100],\n",
    "       [100, 100, 100, 100, 100, 100]])\n",
    "```\n",
    "Otuput Desiderato:\n",
    "```\n",
    "array([[  0,   1,   2,   3,   4,   5, 100, 100, 100, 100, 100, 100],\n",
    "       [  6,   7,   8,   9,  10,  11, 100, 100, 100, 100, 100, 100]])\n",
    "```"
   ]
  },
  {
   "cell_type": "code",
   "execution_count": 16,
   "metadata": {
    "pycharm": {
     "name": "#%%\n"
    }
   },
   "outputs": [
    {
     "data": {
      "text/plain": [
       "array([[  0,   1,   2,   3,   4,   5, 100, 100, 100, 100, 100, 100],\n",
       "       [  6,   7,   8,   9,  10,  11, 100, 100, 100, 100, 100, 100]])"
      ]
     },
     "execution_count": 16,
     "metadata": {},
     "output_type": "execute_result"
    }
   ],
   "source": [
    "np.concatenate((a,b), axis = 1)"
   ]
  },
  {
   "cell_type": "code",
   "execution_count": 17,
   "metadata": {},
   "outputs": [
    {
     "data": {
      "text/plain": [
       "array([[  0,   1,   2,   3,   4,   5, 100, 100, 100, 100, 100, 100],\n",
       "       [  6,   7,   8,   9,  10,  11, 100, 100, 100, 100, 100, 100]])"
      ]
     },
     "execution_count": 17,
     "metadata": {},
     "output_type": "execute_result"
    }
   ],
   "source": [
    "np.c_[(a,b)]"
   ]
  },
  {
   "cell_type": "markdown",
   "metadata": {},
   "source": [
    "## Verifica la posizione in cui due array sono uguali\n",
    "\n",
    "Dati due array della stessa dimensione `a`  `b`, restituire un terzo array contentente la posizione degli elementi di \"a\" che sono uguali e nello steso posto di analoghi elementi di \"b\" \n",
    "Dati ad esempio:\n",
    "```\n",
    "a = np.array([0, 1, 0, 0, 4, 0, 1, 1, 4, 4])\n",
    "b = np.array([4, 1, 1, 3, 4, 1, 0, 0, 0, 4])\n",
    "```\n",
    "\n",
    "Output Desiderato:\n",
    "`array([1, 4, 9]`"
   ]
  },
  {
   "cell_type": "code",
   "execution_count": 18,
   "metadata": {},
   "outputs": [],
   "source": [
    "a = np.array([0, 1, 0, 0, 4, 0, 1, 1, 4, 4])"
   ]
  },
  {
   "cell_type": "code",
   "execution_count": 19,
   "metadata": {},
   "outputs": [],
   "source": [
    "b = np.array([4, 1, 1, 3, 4, 1, 0, 0, 0, 4])"
   ]
  },
  {
   "cell_type": "code",
   "execution_count": 20,
   "metadata": {},
   "outputs": [
    {
     "data": {
      "text/plain": [
       "(array([1, 4, 9], dtype=int64),)"
      ]
     },
     "execution_count": 20,
     "metadata": {},
     "output_type": "execute_result"
    }
   ],
   "source": [
    "np.where(a == b)"
   ]
  },
  {
   "cell_type": "markdown",
   "metadata": {},
   "source": [
    "## Estrai da un array tutti gli elementi che verificano una condizione.\n",
    "Estrarre dall'array `a` tutti gli elementi minori o uguali a 5: <br>\n",
    "Input:<br>\n",
    "`a = np.array([0,1,2,3,4,5,6,7,8,9])`\n",
    "<br><br>\n",
    "Output Desiderato:<br>\n",
    "`\n",
    "array([0,1,2,3,4,5])`"
   ]
  },
  {
   "cell_type": "code",
   "execution_count": 21,
   "metadata": {},
   "outputs": [],
   "source": [
    "a = np.array([0,1,2,3,4,5,6,7,8,9])"
   ]
  },
  {
   "cell_type": "code",
   "execution_count": 22,
   "metadata": {},
   "outputs": [
    {
     "data": {
      "text/plain": [
       "array([0, 1, 2, 3, 4, 5])"
      ]
     },
     "execution_count": 22,
     "metadata": {},
     "output_type": "execute_result"
    }
   ],
   "source": [
    "a[a<=5]"
   ]
  },
  {
   "cell_type": "markdown",
   "metadata": {},
   "source": [
    "## Convertire una funzione che restituisce il minimo di due numeri e opera normalmente tra due scalari, affinche funzioni con array:\n",
    "\n",
    "```\n",
    "def minn(x, y):\n",
    "    \"\"\"Get the minimum of two items\"\"\"\n",
    "    if x >= y:\n",
    "        return y\n",
    "    else:\n",
    "        return x\n",
    "```\n",
    "\n",
    "Input: <br>\n",
    "```\n",
    "a = np.array([4, 0, 1, 5, 1, 8, 5, 2, 9, 4, 2, 5, 2, 7, 4, 0, 5, 9, 6, 7])\n",
    "b = np.array([1, 5, 1, 5, 6, 7, 3, 4, 3, 8, 9, 8, 6, 4, 5, 3, 9, 2, 3, 9])\n",
    "```\n",
    "Output desiderato:<br>\n",
    "```\n",
    "array([1, 0, 1, 5, 1, 7, 3, 2, 3, 4, 2, 5, 2, 4, 4, 0, 5, 2, 3, 7])\n",
    "```"
   ]
  },
  {
   "cell_type": "code",
   "execution_count": 23,
   "metadata": {},
   "outputs": [],
   "source": [
    "a = np.random.randint(10, size = 20)"
   ]
  },
  {
   "cell_type": "code",
   "execution_count": 24,
   "metadata": {},
   "outputs": [],
   "source": [
    "b = np.random.randint(10, size = 20)"
   ]
  },
  {
   "cell_type": "code",
   "execution_count": 25,
   "metadata": {},
   "outputs": [],
   "source": [
    "def minn(x, y):\n",
    "    \"\"\"Get the minimum of two items\"\"\"\n",
    "    if x >= y:\n",
    "        return y\n",
    "    else:\n",
    "        return x"
   ]
  },
  {
   "cell_type": "code",
   "execution_count": 26,
   "metadata": {},
   "outputs": [
    {
     "data": {
      "text/plain": [
       "3"
      ]
     },
     "execution_count": 26,
     "metadata": {},
     "output_type": "execute_result"
    }
   ],
   "source": [
    "minn(10,3)"
   ]
  },
  {
   "cell_type": "code",
   "execution_count": 27,
   "metadata": {},
   "outputs": [],
   "source": [
    "vect_min = np.vectorize(minn)"
   ]
  },
  {
   "cell_type": "code",
   "execution_count": 28,
   "metadata": {},
   "outputs": [
    {
     "data": {
      "text/plain": [
       "array([6, 3, 2, 2, 4, 0, 3, 0, 4, 4, 1, 3, 6, 0, 6, 2, 0, 7, 6, 4])"
      ]
     },
     "execution_count": 28,
     "metadata": {},
     "output_type": "execute_result"
    }
   ],
   "source": [
    "vect_min(a,b)"
   ]
  },
  {
   "cell_type": "markdown",
   "metadata": {},
   "source": [
    "## Come scambiare due colonne o due righe in un array 2D"
   ]
  },
  {
   "cell_type": "code",
   "execution_count": 29,
   "metadata": {},
   "outputs": [],
   "source": [
    "arr = np.random.randint(10, size=(3,3))"
   ]
  },
  {
   "cell_type": "code",
   "execution_count": 30,
   "metadata": {},
   "outputs": [
    {
     "data": {
      "text/plain": [
       "array([[8, 8, 9],\n",
       "       [8, 3, 8],\n",
       "       [2, 4, 6]])"
      ]
     },
     "execution_count": 30,
     "metadata": {},
     "output_type": "execute_result"
    }
   ],
   "source": [
    "arr"
   ]
  },
  {
   "cell_type": "code",
   "execution_count": 31,
   "metadata": {},
   "outputs": [
    {
     "data": {
      "text/plain": [
       "array([[8, 8, 9],\n",
       "       [3, 8, 8],\n",
       "       [4, 2, 6]])"
      ]
     },
     "execution_count": 31,
     "metadata": {},
     "output_type": "execute_result"
    }
   ],
   "source": [
    "arr[:,[1,0,2]]"
   ]
  },
  {
   "cell_type": "code",
   "execution_count": 32,
   "metadata": {},
   "outputs": [
    {
     "data": {
      "text/plain": [
       "array([[2, 4, 6],\n",
       "       [8, 3, 8],\n",
       "       [8, 8, 9]])"
      ]
     },
     "execution_count": 32,
     "metadata": {},
     "output_type": "execute_result"
    }
   ],
   "source": [
    "arr[[2,1,0],:]"
   ]
  },
  {
   "cell_type": "markdown",
   "metadata": {},
   "source": [
    "## Come creare una matrice 3 x 4 di numeri decimali randomici compresi tra 7 e 12"
   ]
  },
  {
   "cell_type": "code",
   "execution_count": 33,
   "metadata": {},
   "outputs": [
    {
     "data": {
      "text/plain": [
       "array([[10.88483768,  9.13409871,  9.30991133, 10.704291  ],\n",
       "       [ 7.34363417,  8.30182106,  8.64423533,  8.68618747],\n",
       "       [ 7.9778401 ,  7.68256075, 10.29612838, 11.85474094]])"
      ]
     },
     "execution_count": 33,
     "metadata": {},
     "output_type": "execute_result"
    }
   ],
   "source": [
    "np.set_printoptions(precision=2)\n",
    "np.random.seed(42)\n",
    "rand_array = np.random.random(size=(3,4))*(12-7)+7\n",
    "rand_array"
   ]
  },
  {
   "cell_type": "code",
   "execution_count": 34,
   "metadata": {},
   "outputs": [
    {
     "data": {
      "text/plain": [
       "array([[10.88483768,  9.13409871,  9.30991133, 10.704291  ],\n",
       "       [ 7.34363417,  8.30182106,  8.64423533,  8.68618747],\n",
       "       [ 7.9778401 ,  7.68256075, 10.29612838, 11.85474094]])"
      ]
     },
     "execution_count": 34,
     "metadata": {},
     "output_type": "execute_result"
    }
   ],
   "source": [
    "np.set_printoptions(precision=2)\n",
    "np.random.seed(42)\n",
    "random_array = np.random.uniform(7,12,size=(3,4))\n",
    "rand_array"
   ]
  },
  {
   "cell_type": "markdown",
   "metadata": {},
   "source": [
    "## Stampare a monitor solo un array con visualizzazione di solo 3 cifre decimali"
   ]
  },
  {
   "cell_type": "code",
   "execution_count": 35,
   "metadata": {},
   "outputs": [
    {
     "data": {
      "text/plain": [
       "array([[0.09231631, 0.62186154, 0.29994255, 0.27039599],\n",
       "       [0.25565499, 0.16270456, 0.31246321, 0.77012892],\n",
       "       [0.6752309 , 0.33922217, 0.89510758, 0.62630339],\n",
       "       [0.38734683, 0.01840571, 0.93380251, 0.4326235 ]])"
      ]
     },
     "execution_count": 35,
     "metadata": {},
     "output_type": "execute_result"
    }
   ],
   "source": [
    "a = np.random.random((4,4))\n",
    "a"
   ]
  },
  {
   "cell_type": "code",
   "execution_count": 36,
   "metadata": {
    "pycharm": {
     "name": "#%%\n"
    }
   },
   "outputs": [
    {
     "data": {
      "text/plain": [
       "array([[0.092, 0.622, 0.3  , 0.27 ],\n",
       "       [0.256, 0.163, 0.312, 0.77 ],\n",
       "       [0.675, 0.339, 0.895, 0.626],\n",
       "       [0.387, 0.018, 0.934, 0.433]])"
      ]
     },
     "execution_count": 36,
     "metadata": {},
     "output_type": "execute_result"
    }
   ],
   "source": [
    "np.set_printoptions(precision=3)\n",
    "a"
   ]
  },
  {
   "cell_type": "markdown",
   "metadata": {},
   "source": [
    "## Stamapare a monitor solo un certo numero di elementi di un array "
   ]
  },
  {
   "cell_type": "code",
   "execution_count": 37,
   "metadata": {},
   "outputs": [
    {
     "data": {
      "text/plain": [
       "array([ 0,  1,  2,  3,  4,  5,  6,  7,  8,  9, 10, 11, 12, 13, 14, 15, 16,\n",
       "       17, 18, 19, 20, 21, 22, 23, 24, 25, 26, 27, 28, 29, 30, 31, 32, 33,\n",
       "       34, 35, 36, 37, 38, 39, 40, 41, 42, 43, 44, 45, 46, 47, 48, 49, 50,\n",
       "       51, 52, 53, 54, 55, 56, 57, 58, 59, 60, 61, 62, 63, 64, 65, 66, 67,\n",
       "       68, 69, 70, 71, 72, 73, 74, 75, 76, 77, 78, 79, 80, 81, 82, 83, 84,\n",
       "       85, 86, 87, 88, 89, 90, 91, 92, 93, 94, 95, 96, 97, 98, 99])"
      ]
     },
     "execution_count": 37,
     "metadata": {},
     "output_type": "execute_result"
    }
   ],
   "source": [
    "long_array = np.arange(100)\n",
    "long_array"
   ]
  },
  {
   "cell_type": "code",
   "execution_count": 38,
   "metadata": {},
   "outputs": [],
   "source": [
    "np.set_printoptions(threshold=6)"
   ]
  },
  {
   "cell_type": "code",
   "execution_count": 39,
   "metadata": {},
   "outputs": [
    {
     "data": {
      "text/plain": [
       "array([ 0,  1,  2, ..., 97, 98, 99])"
      ]
     },
     "execution_count": 39,
     "metadata": {},
     "output_type": "execute_result"
    }
   ],
   "source": [
    "long_array"
   ]
  },
  {
   "cell_type": "markdown",
   "metadata": {},
   "source": [
    "Per tornare alla visualizzazione non troncata impostare:\n",
    "`threshold = sys.maxsize`"
   ]
  },
  {
   "cell_type": "code",
   "execution_count": 40,
   "metadata": {},
   "outputs": [],
   "source": [
    "np.set_printoptions(threshold=sys.maxsize)"
   ]
  },
  {
   "cell_type": "code",
   "execution_count": 41,
   "metadata": {},
   "outputs": [
    {
     "data": {
      "text/plain": [
       "array([ 0,  1,  2,  3,  4,  5,  6,  7,  8,  9, 10, 11, 12, 13, 14, 15, 16,\n",
       "       17, 18, 19, 20, 21, 22, 23, 24, 25, 26, 27, 28, 29, 30, 31, 32, 33,\n",
       "       34, 35, 36, 37, 38, 39, 40, 41, 42, 43, 44, 45, 46, 47, 48, 49, 50,\n",
       "       51, 52, 53, 54, 55, 56, 57, 58, 59, 60, 61, 62, 63, 64, 65, 66, 67,\n",
       "       68, 69, 70, 71, 72, 73, 74, 75, 76, 77, 78, 79, 80, 81, 82, 83, 84,\n",
       "       85, 86, 87, 88, 89, 90, 91, 92, 93, 94, 95, 96, 97, 98, 99])"
      ]
     },
     "execution_count": 41,
     "metadata": {},
     "output_type": "execute_result"
    }
   ],
   "source": [
    "long_array"
   ]
  },
  {
   "cell_type": "markdown",
   "metadata": {},
   "source": [
    "## Sostituisci tutti valori superiori o inferiori ad una soglia di cut-off\n",
    "Dato l'array `a`, sostituire tutti i valori inferiori o uguali a 0 con 0, e superiori o uguali a 100 con 100:\n"
   ]
  },
  {
   "cell_type": "code",
   "execution_count": 42,
   "metadata": {},
   "outputs": [
    {
     "data": {
      "text/plain": [
       "array([ 12.36, 185.21, 119.6 ,  79.6 , -53.19, -53.2 , -82.57, 159.85,\n",
       "        80.33, 112.42, -93.82, 190.97, 149.73, -36.3 , -45.45, -44.98,\n",
       "        -8.73,  57.43,  29.58, -12.63])"
      ]
     },
     "execution_count": 42,
     "metadata": {},
     "output_type": "execute_result"
    }
   ],
   "source": [
    "np.set_printoptions(precision=2)\n",
    "np.random.seed(42)\n",
    "a = np.random.uniform(-100,200,size = (20))\n",
    "a"
   ]
  },
  {
   "cell_type": "code",
   "execution_count": 43,
   "metadata": {},
   "outputs": [
    {
     "data": {
      "text/plain": [
       "array([ 12.36, 100.  , 100.  ,  79.6 ,   0.  ,   0.  ,   0.  , 100.  ,\n",
       "        80.33, 100.  ,   0.  , 100.  , 100.  ,   0.  ,   0.  ,   0.  ,\n",
       "         0.  ,  57.43,  29.58,   0.  ])"
      ]
     },
     "execution_count": 43,
     "metadata": {},
     "output_type": "execute_result"
    }
   ],
   "source": [
    "a[a>=100] = 100\n",
    "a[a<=0] = 0\n",
    "a"
   ]
  },
  {
   "cell_type": "code",
   "execution_count": 44,
   "metadata": {},
   "outputs": [
    {
     "data": {
      "text/plain": [
       "array([ 12.36, 185.21, 119.6 ,  79.6 , -53.19, -53.2 , -82.57, 159.85,\n",
       "        80.33, 112.42, -93.82, 190.97, 149.73, -36.3 , -45.45, -44.98,\n",
       "        -8.73,  57.43,  29.58, -12.63])"
      ]
     },
     "execution_count": 44,
     "metadata": {},
     "output_type": "execute_result"
    }
   ],
   "source": [
    "np.random.seed(42)\n",
    "a = np.random.uniform(-100,200,size = (20))\n",
    "a"
   ]
  },
  {
   "cell_type": "code",
   "execution_count": 45,
   "metadata": {},
   "outputs": [
    {
     "data": {
      "text/plain": [
       "array([ 12.36, 100.  , 100.  ,  79.6 ,   0.  ,   0.  ,   0.  , 100.  ,\n",
       "        80.33, 100.  ,   0.  , 100.  , 100.  ,   0.  ,   0.  ,   0.  ,\n",
       "         0.  ,  57.43,  29.58,   0.  ])"
      ]
     },
     "execution_count": 45,
     "metadata": {},
     "output_type": "execute_result"
    }
   ],
   "source": [
    "a.clip(0,100)"
   ]
  },
  {
   "cell_type": "markdown",
   "metadata": {},
   "source": [
    "## Individua la posizione degli `n` valori piu' piccoli di un array \n",
    "Individua la posizione dei 5 valori piu' piccoli dell'array `a`"
   ]
  },
  {
   "cell_type": "code",
   "execution_count": 46,
   "metadata": {},
   "outputs": [
    {
     "data": {
      "text/plain": [
       "array([51, 92, 14, 71, 60, 20, 82, 86, 74, 74])"
      ]
     },
     "execution_count": 46,
     "metadata": {},
     "output_type": "execute_result"
    }
   ],
   "source": [
    "np.random.seed(42)\n",
    "a = np.random.randint(0,100,size = (10), dtype=int)\n",
    "a"
   ]
  },
  {
   "cell_type": "code",
   "execution_count": 47,
   "metadata": {},
   "outputs": [
    {
     "data": {
      "text/plain": [
       "array([2, 5, 0, 4, 3], dtype=int64)"
      ]
     },
     "execution_count": 47,
     "metadata": {},
     "output_type": "execute_result"
    }
   ],
   "source": [
    "np.argsort(a)[:5]"
   ]
  },
  {
   "cell_type": "code",
   "execution_count": 48,
   "metadata": {},
   "outputs": [
    {
     "data": {
      "text/plain": [
       "2"
      ]
     },
     "execution_count": 48,
     "metadata": {},
     "output_type": "execute_result"
    }
   ],
   "source": [
    "np.argmin(a)"
   ]
  },
  {
   "cell_type": "markdown",
   "metadata": {},
   "source": [
    "## In una struttura matriciale trova la posizione e il valore del massimo di ciascuna riga e di ciascuna colonna "
   ]
  },
  {
   "cell_type": "code",
   "execution_count": 9,
   "metadata": {},
   "outputs": [
    {
     "data": {
      "text/plain": "array([[51, 92, 14, 71],\n       [60, 20, 82, 86],\n       [74, 74, 87, 99]])"
     },
     "execution_count": 9,
     "metadata": {},
     "output_type": "execute_result"
    }
   ],
   "source": [
    "np.random.seed(42)\n",
    "matr = np.random.randint(100, size = (3,4))\n",
    "matr"
   ]
  },
  {
   "cell_type": "code",
   "execution_count": 10,
   "metadata": {},
   "outputs": [
    {
     "data": {
      "text/plain": "array([74, 92, 87, 99])"
     },
     "execution_count": 10,
     "metadata": {},
     "output_type": "execute_result"
    }
   ],
   "source": [
    "matr.max(axis=0)"
   ]
  },
  {
   "cell_type": "code",
   "execution_count": 11,
   "metadata": {},
   "outputs": [
    {
     "data": {
      "text/plain": "array([92, 86, 99])"
     },
     "execution_count": 11,
     "metadata": {},
     "output_type": "execute_result"
    }
   ],
   "source": [
    "matr.max(axis=1)"
   ]
  },
  {
   "cell_type": "code",
   "execution_count": 21,
   "outputs": [
    {
     "data": {
      "text/plain": "(array([0, 2, 2, 2], dtype=int64), array([1, 0, 2, 3], dtype=int64))"
     },
     "execution_count": 21,
     "metadata": {},
     "output_type": "execute_result"
    }
   ],
   "source": [
    "np.where(matr == matr.max(axis=0))"
   ],
   "metadata": {
    "collapsed": false,
    "pycharm": {
     "name": "#%%\n"
    }
   }
  },
  {
   "cell_type": "code",
   "execution_count": 15,
   "metadata": {},
   "outputs": [
    {
     "data": {
      "text/plain": "array([[0, 1, 0, 0],\n       [1, 2, 1, 1],\n       [2, 0, 2, 2]], dtype=int64)"
     },
     "execution_count": 15,
     "metadata": {},
     "output_type": "execute_result"
    }
   ],
   "source": [
    "np.argsort(matr, axis=0)"
   ]
  },
  {
   "cell_type": "code",
   "execution_count": 32,
   "outputs": [
    {
     "data": {
      "text/plain": "array([[51, 92, 14, 71],\n       [60, 20, 82, 86],\n       [74, 74, 87, 99]])"
     },
     "execution_count": 32,
     "metadata": {},
     "output_type": "execute_result"
    }
   ],
   "source": [
    "matr"
   ],
   "metadata": {
    "collapsed": false,
    "pycharm": {
     "name": "#%%\n"
    }
   }
  },
  {
   "cell_type": "code",
   "execution_count": 31,
   "outputs": [
    {
     "data": {
      "text/plain": "array([2, 0, 2, 2], dtype=int64)"
     },
     "execution_count": 31,
     "metadata": {},
     "output_type": "execute_result"
    }
   ],
   "source": [
    "# indici dei valori massimi di ciascuna colonna\n",
    "np.argmax(matr, axis = 0)"
   ],
   "metadata": {
    "collapsed": false,
    "pycharm": {
     "name": "#%%\n"
    }
   }
  },
  {
   "cell_type": "code",
   "execution_count": 33,
   "outputs": [
    {
     "data": {
      "text/plain": "array([1, 3, 3], dtype=int64)"
     },
     "execution_count": 33,
     "metadata": {},
     "output_type": "execute_result"
    }
   ],
   "source": [
    "# indici dei valori massimi di ciascuna riga\n",
    "np.argmax(matr, axis = 1)"
   ],
   "metadata": {
    "collapsed": false,
    "pycharm": {
     "name": "#%%\n"
    }
   }
  },
  {
   "cell_type": "code",
   "execution_count": 34,
   "metadata": {},
   "outputs": [
    {
     "data": {
      "text/plain": "array([[2, 0, 3, 1],\n       [1, 0, 2, 3],\n       [0, 1, 2, 3]], dtype=int64)"
     },
     "execution_count": 34,
     "metadata": {},
     "output_type": "execute_result"
    }
   ],
   "source": [
    "np.argsort(matr)\n"
   ]
  },
  {
   "cell_type": "markdown",
   "metadata": {},
   "source": [
    "## Troviamo elementi duplicati all-interno di un array\n",
    "Trovare gli elemenri presenti almento 2 volte in un array:"
   ]
  },
  {
   "cell_type": "code",
   "execution_count": 2,
   "metadata": {},
   "outputs": [
    {
     "data": {
      "text/plain": "array([3, 4, 2, 4, 4, 1, 2, 2, 2, 4])"
     },
     "execution_count": 2,
     "metadata": {},
     "output_type": "execute_result"
    }
   ],
   "source": [
    "np.random.seed(42)\n",
    "a = np.random.randint(5,size = 10)\n",
    "a"
   ]
  },
  {
   "cell_type": "code",
   "execution_count": 4,
   "metadata": {},
   "outputs": [],
   "source": [
    "unique_el, counts = np.unique(a, return_counts=True)"
   ]
  },
  {
   "cell_type": "code",
   "execution_count": 5,
   "metadata": {},
   "outputs": [
    {
     "data": {
      "text/plain": "array([1, 2, 3, 4])"
     },
     "execution_count": 5,
     "metadata": {},
     "output_type": "execute_result"
    }
   ],
   "source": [
    "unique_el"
   ]
  },
  {
   "cell_type": "code",
   "execution_count": 6,
   "metadata": {},
   "outputs": [
    {
     "data": {
      "text/plain": "array([1, 4, 1, 4], dtype=int64)"
     },
     "execution_count": 6,
     "metadata": {},
     "output_type": "execute_result"
    }
   ],
   "source": [
    "counts"
   ]
  },
  {
   "cell_type": "code",
   "execution_count": 7,
   "metadata": {},
   "outputs": [
    {
     "data": {
      "text/plain": "array([2, 4])"
     },
     "execution_count": 7,
     "metadata": {},
     "output_type": "execute_result"
    }
   ],
   "source": [
    "multiple_el = unique_el[counts>1]\n",
    "multiple_el"
   ]
  },
  {
   "cell_type": "code",
   "execution_count": 8,
   "metadata": {},
   "outputs": [
    {
     "data": {
      "text/plain": "array([False,  True,  True,  True,  True, False,  True,  True,  True,\n        True])"
     },
     "execution_count": 8,
     "metadata": {},
     "output_type": "execute_result"
    }
   ],
   "source": [
    "np.isin(a, multiple_el)"
   ]
  },
  {
   "cell_type": "markdown",
   "metadata": {},
   "source": [
    "## Eseguire il `drop` dei valori non disponibili (drop na values): "
   ]
  },
  {
   "cell_type": "code",
   "execution_count": 60,
   "metadata": {},
   "outputs": [
    {
     "data": {
      "text/plain": [
       "array([ 1.,  2.,  3., nan,  5.,  6.,  7., nan])"
      ]
     },
     "execution_count": 60,
     "metadata": {},
     "output_type": "execute_result"
    }
   ],
   "source": [
    "np.random.seed(42)\n",
    "a = np.array([1,2,3,np.nan,5,6,7,np.nan])\n",
    "a"
   ]
  },
  {
   "cell_type": "code",
   "execution_count": 61,
   "metadata": {},
   "outputs": [
    {
     "data": {
      "text/plain": [
       "array([1., 2., 3., 5., 6., 7.])"
      ]
     },
     "execution_count": 61,
     "metadata": {},
     "output_type": "execute_result"
    }
   ],
   "source": [
    "a[~np.isnan(a)]"
   ]
  },
  {
   "cell_type": "code",
   "execution_count": null,
   "metadata": {},
   "outputs": [],
   "source": []
  }
 ],
 "metadata": {
  "kernelspec": {
   "display_name": "Python 3 (ipykernel)",
   "language": "python",
   "name": "python3"
  },
  "language_info": {
   "codemirror_mode": {
    "name": "ipython",
    "version": 3
   },
   "file_extension": ".py",
   "mimetype": "text/x-python",
   "name": "python",
   "nbconvert_exporter": "python",
   "pygments_lexer": "ipython3",
   "version": "3.8.12"
  },
  "toc": {
   "base_numbering": 1,
   "nav_menu": {},
   "number_sections": true,
   "sideBar": true,
   "skip_h1_title": true,
   "title_cell": "Numpy: Esercizi risolti",
   "title_sidebar": "Contents",
   "toc_cell": true,
   "toc_position": {},
   "toc_section_display": true,
   "toc_window_display": false
  },
  "varInspector": {
   "cols": {
    "lenName": 16,
    "lenType": 16,
    "lenVar": 40
   },
   "kernels_config": {
    "python": {
     "delete_cmd_postfix": "",
     "delete_cmd_prefix": "del ",
     "library": "var_list.py",
     "varRefreshCmd": "print(var_dic_list())"
    },
    "r": {
     "delete_cmd_postfix": ") ",
     "delete_cmd_prefix": "rm(",
     "library": "var_list.r",
     "varRefreshCmd": "cat(var_dic_list()) "
    }
   },
   "types_to_exclude": [
    "module",
    "function",
    "builtin_function_or_method",
    "instance",
    "_Feature"
   ],
   "window_display": false
  }
 },
 "nbformat": 4,
 "nbformat_minor": 1
}