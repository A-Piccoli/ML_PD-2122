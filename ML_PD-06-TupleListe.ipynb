{
 "cells": [
  {
   "cell_type": "markdown",
   "metadata": {
    "collapsed": true,
    "pycharm": {
     "name": "#%% md\n"
    }
   },
   "source": [
    "# Liste e Tuple"
   ]
  },
  {
   "cell_type": "markdown",
   "source": [
    "## Liste\n"
   ],
   "metadata": {
    "collapsed": false,
    "pycharm": {
     "name": "#%% md\n"
    }
   }
  },
  {
   "cell_type": "markdown",
   "source": [
    "## Tuple"
   ],
   "metadata": {
    "collapsed": false
   }
  },
  {
   "cell_type": "markdown",
   "source": [
    "## Slicing"
   ],
   "metadata": {
    "collapsed": false
   }
  },
  {
   "cell_type": "markdown",
   "source": [
    "## Liste come argomento di funzioni"
   ],
   "metadata": {
    "collapsed": false
   }
  },
  {
   "cell_type": "markdown",
   "source": [
    "## Ordinamento"
   ],
   "metadata": {
    "collapsed": false
   }
  },
  {
   "cell_type": "markdown",
   "source": [
    "## List comprehension"
   ],
   "metadata": {
    "collapsed": false
   }
  },
  {
   "cell_type": "markdown",
   "source": [
    "## Generator Expressions"
   ],
   "metadata": {
    "collapsed": false
   }
  },
  {
   "cell_type": "markdown",
   "source": [
    "## _lambda_ expressions\n",
    "```\n",
    "def nome_funzione (lista_parametri):\n",
    "    return espressione\n",
    "\n",
    "lambda lista_parametri: espressione\n",
    "```"
   ],
   "metadata": {
    "collapsed": false,
    "pycharm": {
     "name": "#%% md\n"
    }
   }
  },
  {
   "cell_type": "markdown",
   "source": [
    "## Liste bidimensionali\n",
    "\n",
    "a = [[34,45,11],[45,76,22],[12,65,33]]\n",
    "\n",
    "|<t>|Colonna 0| Colonna 1| Colonna 2|\n",
    "|---|:---:|:---:|:---:|\n",
    "|Riga 0| 34 | 45 | 11 |\n",
    "|Riga 1| 45 | 76 | 22 |\n",
    "|Riga 2| 12 | 65 | 33 |\n",
    "\n",
    "|<t>|Colonna 0| Colonna 1| Colonna 2|\n",
    "|---|:---:|:---:|:---:|\n",
    "|Riga 0| a[0][0] | a[0][1] | a[0][2]|\n",
    "|Riga 1| a[1][0] | a[1][1] | a[1][2]|\n",
    "|Riga 2| a[2][0] | a[2][1] | a[2][2]|\n",
    "\n",
    "```\n",
    "Riga     0          1          2\n",
    "Col   0  1  2    0  1  2    0  1  2\n",
    "a = [[34,45,11],[45,76,22],[12,65,33]]\n",
    "```"
   ],
   "metadata": {
    "collapsed": false,
    "pycharm": {
     "name": "#%% md\n"
    }
   }
  },
  {
   "cell_type": "code",
   "execution_count": null,
   "outputs": [],
   "source": [],
   "metadata": {
    "collapsed": false,
    "pycharm": {
     "name": "#%%\n"
    }
   }
  }
 ],
 "metadata": {
  "kernelspec": {
   "display_name": "Python 3",
   "language": "python",
   "name": "python3"
  },
  "language_info": {
   "codemirror_mode": {
    "name": "ipython",
    "version": 2
   },
   "file_extension": ".py",
   "mimetype": "text/x-python",
   "name": "python",
   "nbconvert_exporter": "python",
   "pygments_lexer": "ipython2",
   "version": "2.7.6"
  }
 },
 "nbformat": 4,
 "nbformat_minor": 0
}